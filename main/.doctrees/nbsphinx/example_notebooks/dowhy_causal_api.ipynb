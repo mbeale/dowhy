{
 "cells": [
  {
   "cell_type": "markdown",
   "metadata": {},
   "source": [
    "# Demo for the DoWhy causal API\n",
    "We show a simple example of adding a causal extension to any dataframe. "
   ]
  },
  {
   "cell_type": "code",
   "execution_count": 1,
   "metadata": {
    "execution": {
     "iopub.execute_input": "2024-10-29T15:46:52.557596Z",
     "iopub.status.busy": "2024-10-29T15:46:52.557418Z",
     "iopub.status.idle": "2024-10-29T15:46:54.226180Z",
     "shell.execute_reply": "2024-10-29T15:46:54.225511Z"
    }
   },
   "outputs": [],
   "source": [
    "import dowhy.datasets\n",
    "import dowhy.api\n",
    "from dowhy.graph import build_graph_from_str\n",
    "\n",
    "import numpy as np\n",
    "import pandas as pd\n",
    "\n",
    "from statsmodels.api import OLS"
   ]
  },
  {
   "cell_type": "code",
   "execution_count": 2,
   "metadata": {
    "execution": {
     "iopub.execute_input": "2024-10-29T15:46:54.229124Z",
     "iopub.status.busy": "2024-10-29T15:46:54.228596Z",
     "iopub.status.idle": "2024-10-29T15:46:54.267294Z",
     "shell.execute_reply": "2024-10-29T15:46:54.266799Z"
    }
   },
   "outputs": [
    {
     "data": {
      "text/html": [
       "<div>\n",
       "<style scoped>\n",
       "    .dataframe tbody tr th:only-of-type {\n",
       "        vertical-align: middle;\n",
       "    }\n",
       "\n",
       "    .dataframe tbody tr th {\n",
       "        vertical-align: top;\n",
       "    }\n",
       "\n",
       "    .dataframe thead th {\n",
       "        text-align: right;\n",
       "    }\n",
       "</style>\n",
       "<table border=\"1\" class=\"dataframe\">\n",
       "  <thead>\n",
       "    <tr style=\"text-align: right;\">\n",
       "      <th></th>\n",
       "      <th>W0</th>\n",
       "      <th>v0</th>\n",
       "      <th>y</th>\n",
       "    </tr>\n",
       "  </thead>\n",
       "  <tbody>\n",
       "    <tr>\n",
       "      <th>0</th>\n",
       "      <td>0.754725</td>\n",
       "      <td>True</td>\n",
       "      <td>8.082784</td>\n",
       "    </tr>\n",
       "    <tr>\n",
       "      <th>1</th>\n",
       "      <td>-1.004774</td>\n",
       "      <td>True</td>\n",
       "      <td>1.928275</td>\n",
       "    </tr>\n",
       "    <tr>\n",
       "      <th>2</th>\n",
       "      <td>0.163193</td>\n",
       "      <td>True</td>\n",
       "      <td>5.643386</td>\n",
       "    </tr>\n",
       "    <tr>\n",
       "      <th>3</th>\n",
       "      <td>-0.123047</td>\n",
       "      <td>True</td>\n",
       "      <td>5.097834</td>\n",
       "    </tr>\n",
       "    <tr>\n",
       "      <th>4</th>\n",
       "      <td>-2.038349</td>\n",
       "      <td>True</td>\n",
       "      <td>0.213173</td>\n",
       "    </tr>\n",
       "    <tr>\n",
       "      <th>...</th>\n",
       "      <td>...</td>\n",
       "      <td>...</td>\n",
       "      <td>...</td>\n",
       "    </tr>\n",
       "    <tr>\n",
       "      <th>995</th>\n",
       "      <td>-1.671781</td>\n",
       "      <td>False</td>\n",
       "      <td>-1.791110</td>\n",
       "    </tr>\n",
       "    <tr>\n",
       "      <th>996</th>\n",
       "      <td>-1.599372</td>\n",
       "      <td>True</td>\n",
       "      <td>1.008945</td>\n",
       "    </tr>\n",
       "    <tr>\n",
       "      <th>997</th>\n",
       "      <td>0.049237</td>\n",
       "      <td>False</td>\n",
       "      <td>0.264254</td>\n",
       "    </tr>\n",
       "    <tr>\n",
       "      <th>998</th>\n",
       "      <td>-0.828187</td>\n",
       "      <td>False</td>\n",
       "      <td>-2.585414</td>\n",
       "    </tr>\n",
       "    <tr>\n",
       "      <th>999</th>\n",
       "      <td>-0.115751</td>\n",
       "      <td>False</td>\n",
       "      <td>-1.519079</td>\n",
       "    </tr>\n",
       "  </tbody>\n",
       "</table>\n",
       "<p>1000 rows × 3 columns</p>\n",
       "</div>"
      ],
      "text/plain": [
       "           W0     v0         y\n",
       "0    0.754725   True  8.082784\n",
       "1   -1.004774   True  1.928275\n",
       "2    0.163193   True  5.643386\n",
       "3   -0.123047   True  5.097834\n",
       "4   -2.038349   True  0.213173\n",
       "..        ...    ...       ...\n",
       "995 -1.671781  False -1.791110\n",
       "996 -1.599372   True  1.008945\n",
       "997  0.049237  False  0.264254\n",
       "998 -0.828187  False -2.585414\n",
       "999 -0.115751  False -1.519079\n",
       "\n",
       "[1000 rows x 3 columns]"
      ]
     },
     "execution_count": 2,
     "metadata": {},
     "output_type": "execute_result"
    }
   ],
   "source": [
    "data = dowhy.datasets.linear_dataset(beta=5,\n",
    "        num_common_causes=1,\n",
    "        num_instruments = 0,\n",
    "        num_samples=1000,\n",
    "        treatment_is_binary=True)\n",
    "df = data['df']\n",
    "df['y'] = df['y'] + np.random.normal(size=len(df)) # Adding noise to data. Without noise, the variance in Y|X, Z is zero, and mcmc fails.\n",
    "nx_graph = build_graph_from_str(data[\"dot_graph\"])\n",
    "\n",
    "treatment= data[\"treatment_name\"][0]\n",
    "outcome = data[\"outcome_name\"][0]\n",
    "common_cause = data[\"common_causes_names\"][0]\n",
    "df"
   ]
  },
  {
   "cell_type": "code",
   "execution_count": 3,
   "metadata": {
    "execution": {
     "iopub.execute_input": "2024-10-29T15:46:54.269215Z",
     "iopub.status.busy": "2024-10-29T15:46:54.268859Z",
     "iopub.status.idle": "2024-10-29T15:46:54.458542Z",
     "shell.execute_reply": "2024-10-29T15:46:54.457832Z"
    },
    "scrolled": true
   },
   "outputs": [
    {
     "data": {
      "text/plain": [
       "<Axes: xlabel='v0'>"
      ]
     },
     "execution_count": 3,
     "metadata": {},
     "output_type": "execute_result"
    },
    {
     "data": {
      "image/png": "[encoded data removed]",
      "text/plain": [
       "<Figure size 640x480 with 1 Axes>"
      ]
     },
     "metadata": {},
     "output_type": "display_data"
    }
   ],
   "source": [
    "# data['df'] is just a regular pandas.DataFrame\n",
    "df.causal.do(x=treatment,\n",
    "             variable_types={treatment: 'b', outcome: 'c', common_cause: 'c'},\n",
    "             outcome=outcome,\n",
    "             common_causes=[common_cause],\n",
    "            ).groupby(treatment).mean().plot(y=outcome, kind='bar')"
   ]
  },
  {
   "cell_type": "code",
   "execution_count": 4,
   "metadata": {
    "execution": {
     "iopub.execute_input": "2024-10-29T15:46:54.460613Z",
     "iopub.status.busy": "2024-10-29T15:46:54.460405Z",
     "iopub.status.idle": "2024-10-29T15:46:54.603415Z",
     "shell.execute_reply": "2024-10-29T15:46:54.602800Z"
    }
   },
   "outputs": [
    {
     "data": {
      "text/plain": [
       "<Axes: xlabel='v0'>"
      ]
     },
     "execution_count": 4,
     "metadata": {},
     "output_type": "execute_result"
    },
    {
     "data": {
      "image/png": "[encoded data removed]",
      "text/plain": [
       "<Figure size 640x480 with 1 Axes>"
      ]
     },
     "metadata": {},
     "output_type": "display_data"
    }
   ],
   "source": [
    "df.causal.do(x={treatment: 1}, \n",
    "              variable_types={treatment:'b', outcome: 'c', common_cause: 'c'}, \n",
    "              outcome=outcome,\n",
    "              method='weighting', \n",
    "              common_causes=[common_cause]\n",
    "              ).groupby(treatment).mean().plot(y=outcome, kind='bar')"
   ]
  },
  {
   "cell_type": "code",
   "execution_count": 5,
   "metadata": {
    "execution": {
     "iopub.execute_input": "2024-10-29T15:46:54.605859Z",
     "iopub.status.busy": "2024-10-29T15:46:54.605326Z",
     "iopub.status.idle": "2024-10-29T15:46:54.627833Z",
     "shell.execute_reply": "2024-10-29T15:46:54.627201Z"
    }
   },
   "outputs": [],
   "source": [
    "cdf_1 = df.causal.do(x={treatment: 1}, \n",
    "              variable_types={treatment: 'b', outcome: 'c', common_cause: 'c'}, \n",
    "              outcome=outcome, \n",
    "              graph=nx_graph\n",
    "              )\n",
    "\n",
    "cdf_0 = df.causal.do(x={treatment: 0}, \n",
    "              variable_types={treatment: 'b', outcome: 'c', common_cause: 'c'}, \n",
    "              outcome=outcome, \n",
    "              graph=nx_graph\n",
    "              )\n"
   ]
  },
  {
   "cell_type": "code",
   "execution_count": 6,
   "metadata": {
    "execution": {
     "iopub.execute_input": "2024-10-29T15:46:54.630119Z",
     "iopub.status.busy": "2024-10-29T15:46:54.629538Z",
     "iopub.status.idle": "2024-10-29T15:46:54.638793Z",
     "shell.execute_reply": "2024-10-29T15:46:54.638308Z"
    },
    "scrolled": true
   },
   "outputs": [
    {
     "data": {
      "text/html": [
       "<div>\n",
       "<style scoped>\n",
       "    .dataframe tbody tr th:only-of-type {\n",
       "        vertical-align: middle;\n",
       "    }\n",
       "\n",
       "    .dataframe tbody tr th {\n",
       "        vertical-align: top;\n",
       "    }\n",
       "\n",
       "    .dataframe thead th {\n",
       "        text-align: right;\n",
       "    }\n",
       "</style>\n",
       "<table border=\"1\" class=\"dataframe\">\n",
       "  <thead>\n",
       "    <tr style=\"text-align: right;\">\n",
       "      <th></th>\n",
       "      <th>W0</th>\n",
       "      <th>v0</th>\n",
       "      <th>y</th>\n",
       "      <th>propensity_score</th>\n",
       "      <th>weight</th>\n",
       "    </tr>\n",
       "  </thead>\n",
       "  <tbody>\n",
       "    <tr>\n",
       "      <th>0</th>\n",
       "      <td>-0.235865</td>\n",
       "      <td>False</td>\n",
       "      <td>-0.101573</td>\n",
       "      <td>0.550174</td>\n",
       "      <td>1.817606</td>\n",
       "    </tr>\n",
       "    <tr>\n",
       "      <th>1</th>\n",
       "      <td>0.266964</td>\n",
       "      <td>False</td>\n",
       "      <td>0.823559</td>\n",
       "      <td>0.472063</td>\n",
       "      <td>2.118362</td>\n",
       "    </tr>\n",
       "    <tr>\n",
       "      <th>2</th>\n",
       "      <td>-0.040952</td>\n",
       "      <td>False</td>\n",
       "      <td>0.337947</td>\n",
       "      <td>0.519977</td>\n",
       "      <td>1.923160</td>\n",
       "    </tr>\n",
       "    <tr>\n",
       "      <th>3</th>\n",
       "      <td>0.699670</td>\n",
       "      <td>False</td>\n",
       "      <td>2.353977</td>\n",
       "      <td>0.405784</td>\n",
       "      <td>2.464364</td>\n",
       "    </tr>\n",
       "    <tr>\n",
       "      <th>4</th>\n",
       "      <td>-0.733240</td>\n",
       "      <td>False</td>\n",
       "      <td>-1.592384</td>\n",
       "      <td>0.625092</td>\n",
       "      <td>1.599765</td>\n",
       "    </tr>\n",
       "    <tr>\n",
       "      <th>...</th>\n",
       "      <td>...</td>\n",
       "      <td>...</td>\n",
       "      <td>...</td>\n",
       "      <td>...</td>\n",
       "      <td>...</td>\n",
       "    </tr>\n",
       "    <tr>\n",
       "      <th>995</th>\n",
       "      <td>0.006529</td>\n",
       "      <td>False</td>\n",
       "      <td>1.742234</td>\n",
       "      <td>0.512591</td>\n",
       "      <td>1.950874</td>\n",
       "    </tr>\n",
       "    <tr>\n",
       "      <th>996</th>\n",
       "      <td>-1.923872</td>\n",
       "      <td>False</td>\n",
       "      <td>-4.314782</td>\n",
       "      <td>0.777806</td>\n",
       "      <td>1.285667</td>\n",
       "    </tr>\n",
       "    <tr>\n",
       "      <th>997</th>\n",
       "      <td>-1.250148</td>\n",
       "      <td>False</td>\n",
       "      <td>-1.280582</td>\n",
       "      <td>0.697037</td>\n",
       "      <td>1.434644</td>\n",
       "    </tr>\n",
       "    <tr>\n",
       "      <th>998</th>\n",
       "      <td>1.276534</td>\n",
       "      <td>False</td>\n",
       "      <td>2.578257</td>\n",
       "      <td>0.322833</td>\n",
       "      <td>3.097575</td>\n",
       "    </tr>\n",
       "    <tr>\n",
       "      <th>999</th>\n",
       "      <td>0.480163</td>\n",
       "      <td>False</td>\n",
       "      <td>0.661780</td>\n",
       "      <td>0.439134</td>\n",
       "      <td>2.277211</td>\n",
       "    </tr>\n",
       "  </tbody>\n",
       "</table>\n",
       "<p>1000 rows × 5 columns</p>\n",
       "</div>"
      ],
      "text/plain": [
       "           W0     v0         y  propensity_score    weight\n",
       "0   -0.235865  False -0.101573          0.550174  1.817606\n",
       "1    0.266964  False  0.823559          0.472063  2.118362\n",
       "2   -0.040952  False  0.337947          0.519977  1.923160\n",
       "3    0.699670  False  2.353977          0.405784  2.464364\n",
       "4   -0.733240  False -1.592384          0.625092  1.599765\n",
       "..        ...    ...       ...               ...       ...\n",
       "995  0.006529  False  1.742234          0.512591  1.950874\n",
       "996 -1.923872  False -4.314782          0.777806  1.285667\n",
       "997 -1.250148  False -1.280582          0.697037  1.434644\n",
       "998  1.276534  False  2.578257          0.322833  3.097575\n",
       "999  0.480163  False  0.661780          0.439134  2.277211\n",
       "\n",
       "[1000 rows x 5 columns]"
      ]
     },
     "execution_count": 6,
     "metadata": {},
     "output_type": "execute_result"
    }
   ],
   "source": [
    "cdf_0"
   ]
  },
  {
   "cell_type": "code",
   "execution_count": 7,
   "metadata": {
    "execution": {
     "iopub.execute_input": "2024-10-29T15:46:54.640706Z",
     "iopub.status.busy": "2024-10-29T15:46:54.640354Z",
     "iopub.status.idle": "2024-10-29T15:46:54.648823Z",
     "shell.execute_reply": "2024-10-29T15:46:54.648227Z"
    }
   },
   "outputs": [
    {
     "data": {
      "text/html": [
       "<div>\n",
       "<style scoped>\n",
       "    .dataframe tbody tr th:only-of-type {\n",
       "        vertical-align: middle;\n",
       "    }\n",
       "\n",
       "    .dataframe tbody tr th {\n",
       "        vertical-align: top;\n",
       "    }\n",
       "\n",
       "    .dataframe thead th {\n",
       "        text-align: right;\n",
       "    }\n",
       "</style>\n",
       "<table border=\"1\" class=\"dataframe\">\n",
       "  <thead>\n",
       "    <tr style=\"text-align: right;\">\n",
       "      <th></th>\n",
       "      <th>W0</th>\n",
       "      <th>v0</th>\n",
       "      <th>y</th>\n",
       "      <th>propensity_score</th>\n",
       "      <th>weight</th>\n",
       "    </tr>\n",
       "  </thead>\n",
       "  <tbody>\n",
       "    <tr>\n",
       "      <th>0</th>\n",
       "      <td>-1.003893</td>\n",
       "      <td>True</td>\n",
       "      <td>3.103019</td>\n",
       "      <td>0.336301</td>\n",
       "      <td>2.973525</td>\n",
       "    </tr>\n",
       "    <tr>\n",
       "      <th>1</th>\n",
       "      <td>-1.117666</td>\n",
       "      <td>True</td>\n",
       "      <td>3.619669</td>\n",
       "      <td>0.320669</td>\n",
       "      <td>3.118476</td>\n",
       "    </tr>\n",
       "    <tr>\n",
       "      <th>2</th>\n",
       "      <td>0.254470</td>\n",
       "      <td>True</td>\n",
       "      <td>3.437587</td>\n",
       "      <td>0.525997</td>\n",
       "      <td>1.901151</td>\n",
       "    </tr>\n",
       "    <tr>\n",
       "      <th>3</th>\n",
       "      <td>-0.403438</td>\n",
       "      <td>True</td>\n",
       "      <td>4.627105</td>\n",
       "      <td>0.424149</td>\n",
       "      <td>2.357664</td>\n",
       "    </tr>\n",
       "    <tr>\n",
       "      <th>4</th>\n",
       "      <td>-0.161309</td>\n",
       "      <td>True</td>\n",
       "      <td>4.409625</td>\n",
       "      <td>0.461345</td>\n",
       "      <td>2.167576</td>\n",
       "    </tr>\n",
       "    <tr>\n",
       "      <th>...</th>\n",
       "      <td>...</td>\n",
       "      <td>...</td>\n",
       "      <td>...</td>\n",
       "      <td>...</td>\n",
       "      <td>...</td>\n",
       "    </tr>\n",
       "    <tr>\n",
       "      <th>995</th>\n",
       "      <td>-0.789662</td>\n",
       "      <td>True</td>\n",
       "      <td>1.436541</td>\n",
       "      <td>0.366708</td>\n",
       "      <td>2.726965</td>\n",
       "    </tr>\n",
       "    <tr>\n",
       "      <th>996</th>\n",
       "      <td>0.017474</td>\n",
       "      <td>True</td>\n",
       "      <td>5.773238</td>\n",
       "      <td>0.489113</td>\n",
       "      <td>2.044518</td>\n",
       "    </tr>\n",
       "    <tr>\n",
       "      <th>997</th>\n",
       "      <td>-1.194508</td>\n",
       "      <td>True</td>\n",
       "      <td>3.276359</td>\n",
       "      <td>0.310332</td>\n",
       "      <td>3.222353</td>\n",
       "    </tr>\n",
       "    <tr>\n",
       "      <th>998</th>\n",
       "      <td>-0.571955</td>\n",
       "      <td>True</td>\n",
       "      <td>3.923321</td>\n",
       "      <td>0.398734</td>\n",
       "      <td>2.507939</td>\n",
       "    </tr>\n",
       "    <tr>\n",
       "      <th>999</th>\n",
       "      <td>-0.687834</td>\n",
       "      <td>True</td>\n",
       "      <td>4.242032</td>\n",
       "      <td>0.381560</td>\n",
       "      <td>2.620818</td>\n",
       "    </tr>\n",
       "  </tbody>\n",
       "</table>\n",
       "<p>1000 rows × 5 columns</p>\n",
       "</div>"
      ],
      "text/plain": [
       "           W0    v0         y  propensity_score    weight\n",
       "0   -1.003893  True  3.103019          0.336301  2.973525\n",
       "1   -1.117666  True  3.619669          0.320669  3.118476\n",
       "2    0.254470  True  3.437587          0.525997  1.901151\n",
       "3   -0.403438  True  4.627105          0.424149  2.357664\n",
       "4   -0.161309  True  4.409625          0.461345  2.167576\n",
       "..        ...   ...       ...               ...       ...\n",
       "995 -0.789662  True  1.436541          0.366708  2.726965\n",
       "996  0.017474  True  5.773238          0.489113  2.044518\n",
       "997 -1.194508  True  3.276359          0.310332  3.222353\n",
       "998 -0.571955  True  3.923321          0.398734  2.507939\n",
       "999 -0.687834  True  4.242032          0.381560  2.620818\n",
       "\n",
       "[1000 rows x 5 columns]"
      ]
     },
     "execution_count": 7,
     "metadata": {},
     "output_type": "execute_result"
    }
   ],
   "source": [
    "cdf_1"
   ]
  },
  {
   "cell_type": "markdown",
   "metadata": {},
   "source": [
    "## Comparing the estimate to Linear Regression\n",
    "First, estimating the effect using the causal data frame, and the 95% confidence interval."
   ]
  },
  {
   "cell_type": "code",
   "execution_count": 8,
   "metadata": {
    "execution": {
     "iopub.execute_input": "2024-10-29T15:46:54.650764Z",
     "iopub.status.busy": "2024-10-29T15:46:54.650425Z",
     "iopub.status.idle": "2024-10-29T15:46:54.700290Z",
     "shell.execute_reply": "2024-10-29T15:46:54.699643Z"
    }
   },
   "outputs": [
    {
     "data": {
      "image/png": "[encoded data removed]",
      "text/latex": [
       "$\\displaystyle 4.81815802061801$"
      ],
      "text/plain": [
       "4.818158020618012"
      ]
     },
     "execution_count": 8,
     "metadata": {},
     "output_type": "execute_result"
    }
   ],
   "source": [
    "(cdf_1['y'] - cdf_0['y']).mean()"
   ]
  },
  {
   "cell_type": "code",
   "execution_count": 9,
   "metadata": {
    "execution": {
     "iopub.execute_input": "2024-10-29T15:46:54.702534Z",
     "iopub.status.busy": "2024-10-29T15:46:54.702155Z",
     "iopub.status.idle": "2024-10-29T15:46:54.719212Z",
     "shell.execute_reply": "2024-10-29T15:46:54.718607Z"
    }
   },
   "outputs": [
    {
     "data": {
      "image/png": "[encoded data removed]",
      "text/latex": [
       "$\\displaystyle 0.209768005682004$"
      ],
      "text/plain": [
       "0.20976800568200393"
      ]
     },
     "execution_count": 9,
     "metadata": {},
     "output_type": "execute_result"
    }
   ],
   "source": [
    "1.96*(cdf_1['y'] - cdf_0['y']).std() / np.sqrt(len(df))"
   ]
  },
  {
   "cell_type": "markdown",
   "metadata": {},
   "source": [
    "Comparing to the estimate from OLS."
   ]
  },
  {
   "cell_type": "code",
   "execution_count": 10,
   "metadata": {
    "execution": {
     "iopub.execute_input": "2024-10-29T15:46:54.721406Z",
     "iopub.status.busy": "2024-10-29T15:46:54.721023Z",
     "iopub.status.idle": "2024-10-29T15:46:54.739463Z",
     "shell.execute_reply": "2024-10-29T15:46:54.738950Z"
    }
   },
   "outputs": [
    {
     "data": {
      "text/html": [
       "<table class=\"simpletable\">\n",
       "<caption>OLS Regression Results</caption>\n",
       "<tr>\n",
       "  <th>Dep. Variable:</th>            <td>y</td>        <th>  R-squared (uncentered):</th>      <td>   0.928</td>\n",
       "</tr>\n",
       "<tr>\n",
       "  <th>Model:</th>                   <td>OLS</td>       <th>  Adj. R-squared (uncentered):</th> <td>   0.928</td>\n",
       "</tr>\n",
       "<tr>\n",
       "  <th>Method:</th>             <td>Least Squares</td>  <th>  F-statistic:       </th>          <td>   6433.</td>\n",
       "</tr>\n",
       "<tr>\n",
       "  <th>Date:</th>             <td>Tue, 29 Oct 2024</td> <th>  Prob (F-statistic):</th>           <td>  0.00</td> \n",
       "</tr>\n",
       "<tr>\n",
       "  <th>Time:</th>                 <td>15:46:54</td>     <th>  Log-Likelihood:    </th>          <td> -1435.5</td>\n",
       "</tr>\n",
       "<tr>\n",
       "  <th>No. Observations:</th>      <td>  1000</td>      <th>  AIC:               </th>          <td>   2875.</td>\n",
       "</tr>\n",
       "<tr>\n",
       "  <th>Df Residuals:</th>          <td>   998</td>      <th>  BIC:               </th>          <td>   2885.</td>\n",
       "</tr>\n",
       "<tr>\n",
       "  <th>Df Model:</th>              <td>     2</td>      <th>                     </th>              <td> </td>   \n",
       "</tr>\n",
       "<tr>\n",
       "  <th>Covariance Type:</th>      <td>nonrobust</td>    <th>                     </th>              <td> </td>   \n",
       "</tr>\n",
       "</table>\n",
       "<table class=\"simpletable\">\n",
       "<tr>\n",
       "   <td></td>     <th>coef</th>     <th>std err</th>      <th>t</th>      <th>P>|t|</th>  <th>[0.025</th>    <th>0.975]</th>  \n",
       "</tr>\n",
       "<tr>\n",
       "  <th>x1</th> <td>    2.2771</td> <td>    0.027</td> <td>   82.851</td> <td> 0.000</td> <td>    2.223</td> <td>    2.331</td>\n",
       "</tr>\n",
       "<tr>\n",
       "  <th>x2</th> <td>    4.8984</td> <td>    0.053</td> <td>   92.617</td> <td> 0.000</td> <td>    4.795</td> <td>    5.002</td>\n",
       "</tr>\n",
       "</table>\n",
       "<table class=\"simpletable\">\n",
       "<tr>\n",
       "  <th>Omnibus:</th>       <td> 0.395</td> <th>  Durbin-Watson:     </th> <td>   1.935</td>\n",
       "</tr>\n",
       "<tr>\n",
       "  <th>Prob(Omnibus):</th> <td> 0.821</td> <th>  Jarque-Bera (JB):  </th> <td>   0.481</td>\n",
       "</tr>\n",
       "<tr>\n",
       "  <th>Skew:</th>          <td>-0.029</td> <th>  Prob(JB):          </th> <td>   0.786</td>\n",
       "</tr>\n",
       "<tr>\n",
       "  <th>Kurtosis:</th>      <td> 2.910</td> <th>  Cond. No.          </th> <td>    1.99</td>\n",
       "</tr>\n",
       "</table><br/><br/>Notes:<br/>[1] R² is computed without centering (uncentered) since the model does not contain a constant.<br/>[2] Standard Errors assume that the covariance matrix of the errors is correctly specified."
      ],
      "text/latex": [
       "\\begin{center}\n",
       "\\begin{tabular}{lclc}\n",
       "\\toprule\n",
       "\\textbf{Dep. Variable:}    &        y         & \\textbf{  R-squared (uncentered):}      &     0.928   \\\\\n",
       "\\textbf{Model:}            &       OLS        & \\textbf{  Adj. R-squared (uncentered):} &     0.928   \\\\\n",
       "\\textbf{Method:}           &  Least Squares   & \\textbf{  F-statistic:       }          &     6433.   \\\\\n",
       "\\textbf{Date:}             & Tue, 29 Oct 2024 & \\textbf{  Prob (F-statistic):}          &     0.00    \\\\\n",
       "\\textbf{Time:}             &     15:46:54     & \\textbf{  Log-Likelihood:    }          &   -1435.5   \\\\\n",
       "\\textbf{No. Observations:} &        1000      & \\textbf{  AIC:               }          &     2875.   \\\\\n",
       "\\textbf{Df Residuals:}     &         998      & \\textbf{  BIC:               }          &     2885.   \\\\\n",
       "\\textbf{Df Model:}         &           2      & \\textbf{                     }          &             \\\\\n",
       "\\textbf{Covariance Type:}  &    nonrobust     & \\textbf{                     }          &             \\\\\n",
       "\\bottomrule\n",
       "\\end{tabular}\n",
       "\\begin{tabular}{lcccccc}\n",
       "            & \\textbf{coef} & \\textbf{std err} & \\textbf{t} & \\textbf{P$> |$t$|$} & \\textbf{[0.025} & \\textbf{0.975]}  \\\\\n",
       "\\midrule\n",
       "\\textbf{x1} &       2.2771  &        0.027     &    82.851  &         0.000        &        2.223    &        2.331     \\\\\n",
       "\\textbf{x2} &       4.8984  &        0.053     &    92.617  &         0.000        &        4.795    &        5.002     \\\\\n",
       "\\bottomrule\n",
       "\\end{tabular}\n",
       "\\begin{tabular}{lclc}\n",
       "\\textbf{Omnibus:}       &  0.395 & \\textbf{  Durbin-Watson:     } &    1.935  \\\\\n",
       "\\textbf{Prob(Omnibus):} &  0.821 & \\textbf{  Jarque-Bera (JB):  } &    0.481  \\\\\n",
       "\\textbf{Skew:}          & -0.029 & \\textbf{  Prob(JB):          } &    0.786  \\\\\n",
       "\\textbf{Kurtosis:}      &  2.910 & \\textbf{  Cond. No.          } &     1.99  \\\\\n",
       "\\bottomrule\n",
       "\\end{tabular}\n",
       "%\\caption{OLS Regression Results}\n",
       "\\end{center}\n",
       "\n",
       "Notes: \\newline\n",
       " [1] R² is computed without centering (uncentered) since the model does not contain a constant. \\newline\n",
       " [2] Standard Errors assume that the covariance matrix of the errors is correctly specified."
      ],
      "text/plain": [
       "<class 'statsmodels.iolib.summary.Summary'>\n",
       "\"\"\"\n",
       "                                 OLS Regression Results                                \n",
       "=======================================================================================\n",
       "Dep. Variable:                      y   R-squared (uncentered):                   0.928\n",
       "Model:                            OLS   Adj. R-squared (uncentered):              0.928\n",
       "Method:                 Least Squares   F-statistic:                              6433.\n",
       "Date:                Tue, 29 Oct 2024   Prob (F-statistic):                        0.00\n",
       "Time:                        15:46:54   Log-Likelihood:                         -1435.5\n",
       "No. Observations:                1000   AIC:                                      2875.\n",
       "Df Residuals:                     998   BIC:                                      2885.\n",
       "Df Model:                           2                                                  \n",
       "Covariance Type:            nonrobust                                                  \n",
       "==============================================================================\n",
       "                 coef    std err          t      P>|t|      [0.025      0.975]\n",
       "------------------------------------------------------------------------------\n",
       "x1             2.2771      0.027     82.851      0.000       2.223       2.331\n",
       "x2             4.8984      0.053     92.617      0.000       4.795       5.002\n",
       "==============================================================================\n",
       "Omnibus:                        0.395   Durbin-Watson:                   1.935\n",
       "Prob(Omnibus):                  0.821   Jarque-Bera (JB):                0.481\n",
       "Skew:                          -0.029   Prob(JB):                        0.786\n",
       "Kurtosis:                       2.910   Cond. No.                         1.99\n",
       "==============================================================================\n",
       "\n",
       "Notes:\n",
       "[1] R² is computed without centering (uncentered) since the model does not contain a constant.\n",
       "[2] Standard Errors assume that the covariance matrix of the errors is correctly specified.\n",
       "\"\"\""
      ]
     },
     "execution_count": 10,
     "metadata": {},
     "output_type": "execute_result"
    }
   ],
   "source": [
    "model = OLS(np.asarray(df[outcome]), np.asarray(df[[common_cause, treatment]], dtype=np.float64))\n",
    "result = model.fit()\n",
    "result.summary()"
   ]
  }
 ],
 "metadata": {
  "kernelspec": {
   "display_name": "Python 3 (ipykernel)",
   "language": "python",
   "name": "python3"
  },
  "language_info": {
   "codemirror_mode": {
    "name": "ipython",
    "version": 3
   },
   "file_extension": ".py",
   "mimetype": "text/x-python",
   "name": "python",
   "nbconvert_exporter": "python",
   "pygments_lexer": "ipython3",
   "version": "3.8.10"
  },
  "toc": {
   "base_numbering": 1,
   "nav_menu": {},
   "number_sections": false,
   "sideBar": true,
   "skip_h1_title": true,
   "title_cell": "Table of Contents",
   "title_sidebar": "Contents",
   "toc_cell": false,
   "toc_position": {},
   "toc_section_display": true,
   "toc_window_display": false
  }
 },
 "nbformat": 4,
 "nbformat_minor": 4
}
