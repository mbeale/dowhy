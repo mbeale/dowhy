{
 "cells": [
  {
   "cell_type": "markdown",
   "metadata": {},
   "source": [
    "# Demo for the DoWhy causal API\n",
    "We show a simple example of adding a causal extension to any dataframe. "
   ]
  },
  {
   "cell_type": "code",
   "execution_count": 1,
   "metadata": {
    "execution": {
     "iopub.execute_input": "2024-11-20T16:22:43.438597Z",
     "iopub.status.busy": "2024-11-20T16:22:43.438166Z",
     "iopub.status.idle": "2024-11-20T16:22:44.892750Z",
     "shell.execute_reply": "2024-11-20T16:22:44.892179Z"
    }
   },
   "outputs": [],
   "source": [
    "import dowhy.datasets\n",
    "import dowhy.api\n",
    "from dowhy.graph import build_graph_from_str\n",
    "\n",
    "import numpy as np\n",
    "import pandas as pd\n",
    "\n",
    "from statsmodels.api import OLS"
   ]
  },
  {
   "cell_type": "code",
   "execution_count": 2,
   "metadata": {
    "execution": {
     "iopub.execute_input": "2024-11-20T16:22:44.895198Z",
     "iopub.status.busy": "2024-11-20T16:22:44.894700Z",
     "iopub.status.idle": "2024-11-20T16:22:44.955334Z",
     "shell.execute_reply": "2024-11-20T16:22:44.954765Z"
    }
   },
   "outputs": [
    {
     "data": {
      "text/html": [
       "<div>\n",
       "<style scoped>\n",
       "    .dataframe tbody tr th:only-of-type {\n",
       "        vertical-align: middle;\n",
       "    }\n",
       "\n",
       "    .dataframe tbody tr th {\n",
       "        vertical-align: top;\n",
       "    }\n",
       "\n",
       "    .dataframe thead th {\n",
       "        text-align: right;\n",
       "    }\n",
       "</style>\n",
       "<table border=\"1\" class=\"dataframe\">\n",
       "  <thead>\n",
       "    <tr style=\"text-align: right;\">\n",
       "      <th></th>\n",
       "      <th>W0</th>\n",
       "      <th>v0</th>\n",
       "      <th>y</th>\n",
       "    </tr>\n",
       "  </thead>\n",
       "  <tbody>\n",
       "    <tr>\n",
       "      <th>0</th>\n",
       "      <td>0.619345</td>\n",
       "      <td>True</td>\n",
       "      <td>5.370257</td>\n",
       "    </tr>\n",
       "    <tr>\n",
       "      <th>1</th>\n",
       "      <td>-0.523912</td>\n",
       "      <td>False</td>\n",
       "      <td>-0.064443</td>\n",
       "    </tr>\n",
       "    <tr>\n",
       "      <th>2</th>\n",
       "      <td>1.120075</td>\n",
       "      <td>True</td>\n",
       "      <td>5.100066</td>\n",
       "    </tr>\n",
       "    <tr>\n",
       "      <th>3</th>\n",
       "      <td>-0.204319</td>\n",
       "      <td>False</td>\n",
       "      <td>0.832837</td>\n",
       "    </tr>\n",
       "    <tr>\n",
       "      <th>4</th>\n",
       "      <td>0.567008</td>\n",
       "      <td>True</td>\n",
       "      <td>5.308252</td>\n",
       "    </tr>\n",
       "    <tr>\n",
       "      <th>...</th>\n",
       "      <td>...</td>\n",
       "      <td>...</td>\n",
       "      <td>...</td>\n",
       "    </tr>\n",
       "    <tr>\n",
       "      <th>995</th>\n",
       "      <td>2.675270</td>\n",
       "      <td>True</td>\n",
       "      <td>6.344446</td>\n",
       "    </tr>\n",
       "    <tr>\n",
       "      <th>996</th>\n",
       "      <td>-0.296710</td>\n",
       "      <td>False</td>\n",
       "      <td>0.918979</td>\n",
       "    </tr>\n",
       "    <tr>\n",
       "      <th>997</th>\n",
       "      <td>-0.978745</td>\n",
       "      <td>False</td>\n",
       "      <td>0.549463</td>\n",
       "    </tr>\n",
       "    <tr>\n",
       "      <th>998</th>\n",
       "      <td>1.102167</td>\n",
       "      <td>True</td>\n",
       "      <td>7.399635</td>\n",
       "    </tr>\n",
       "    <tr>\n",
       "      <th>999</th>\n",
       "      <td>-1.510389</td>\n",
       "      <td>False</td>\n",
       "      <td>-0.695110</td>\n",
       "    </tr>\n",
       "  </tbody>\n",
       "</table>\n",
       "<p>1000 rows × 3 columns</p>\n",
       "</div>"
      ],
      "text/plain": [
       "           W0     v0         y\n",
       "0    0.619345   True  5.370257\n",
       "1   -0.523912  False -0.064443\n",
       "2    1.120075   True  5.100066\n",
       "3   -0.204319  False  0.832837\n",
       "4    0.567008   True  5.308252\n",
       "..        ...    ...       ...\n",
       "995  2.675270   True  6.344446\n",
       "996 -0.296710  False  0.918979\n",
       "997 -0.978745  False  0.549463\n",
       "998  1.102167   True  7.399635\n",
       "999 -1.510389  False -0.695110\n",
       "\n",
       "[1000 rows x 3 columns]"
      ]
     },
     "execution_count": 2,
     "metadata": {},
     "output_type": "execute_result"
    }
   ],
   "source": [
    "data = dowhy.datasets.linear_dataset(beta=5,\n",
    "        num_common_causes=1,\n",
    "        num_instruments = 0,\n",
    "        num_samples=1000,\n",
    "        treatment_is_binary=True)\n",
    "df = data['df']\n",
    "df['y'] = df['y'] + np.random.normal(size=len(df)) # Adding noise to data. Without noise, the variance in Y|X, Z is zero, and mcmc fails.\n",
    "nx_graph = build_graph_from_str(data[\"dot_graph\"])\n",
    "\n",
    "treatment= data[\"treatment_name\"][0]\n",
    "outcome = data[\"outcome_name\"][0]\n",
    "common_cause = data[\"common_causes_names\"][0]\n",
    "df"
   ]
  },
  {
   "cell_type": "code",
   "execution_count": 3,
   "metadata": {
    "execution": {
     "iopub.execute_input": "2024-11-20T16:22:44.957188Z",
     "iopub.status.busy": "2024-11-20T16:22:44.956853Z",
     "iopub.status.idle": "2024-11-20T16:22:45.115235Z",
     "shell.execute_reply": "2024-11-20T16:22:45.114549Z"
    },
    "scrolled": true
   },
   "outputs": [
    {
     "data": {
      "text/plain": [
       "<Axes: xlabel='v0'>"
      ]
     },
     "execution_count": 3,
     "metadata": {},
     "output_type": "execute_result"
    },
    {
     "data": {
      "image/png": "[encoded data removed]",
      "text/plain": [
       "<Figure size 640x480 with 1 Axes>"
      ]
     },
     "metadata": {},
     "output_type": "display_data"
    }
   ],
   "source": [
    "# data['df'] is just a regular pandas.DataFrame\n",
    "df.causal.do(x=treatment,\n",
    "             variable_types={treatment: 'b', outcome: 'c', common_cause: 'c'},\n",
    "             outcome=outcome,\n",
    "             common_causes=[common_cause],\n",
    "            ).groupby(treatment).mean().plot(y=outcome, kind='bar')"
   ]
  },
  {
   "cell_type": "code",
   "execution_count": 4,
   "metadata": {
    "execution": {
     "iopub.execute_input": "2024-11-20T16:22:45.117249Z",
     "iopub.status.busy": "2024-11-20T16:22:45.117057Z",
     "iopub.status.idle": "2024-11-20T16:22:45.229273Z",
     "shell.execute_reply": "2024-11-20T16:22:45.228658Z"
    }
   },
   "outputs": [
    {
     "data": {
      "text/plain": [
       "<Axes: xlabel='v0'>"
      ]
     },
     "execution_count": 4,
     "metadata": {},
     "output_type": "execute_result"
    },
    {
     "data": {
      "image/png": "[encoded data removed]",
      "text/plain": [
       "<Figure size 640x480 with 1 Axes>"
      ]
     },
     "metadata": {},
     "output_type": "display_data"
    }
   ],
   "source": [
    "df.causal.do(x={treatment: 1}, \n",
    "              variable_types={treatment:'b', outcome: 'c', common_cause: 'c'}, \n",
    "              outcome=outcome,\n",
    "              method='weighting', \n",
    "              common_causes=[common_cause]\n",
    "              ).groupby(treatment).mean().plot(y=outcome, kind='bar')"
   ]
  },
  {
   "cell_type": "code",
   "execution_count": 5,
   "metadata": {
    "execution": {
     "iopub.execute_input": "2024-11-20T16:22:45.231222Z",
     "iopub.status.busy": "2024-11-20T16:22:45.231033Z",
     "iopub.status.idle": "2024-11-20T16:22:45.251732Z",
     "shell.execute_reply": "2024-11-20T16:22:45.251128Z"
    }
   },
   "outputs": [],
   "source": [
    "cdf_1 = df.causal.do(x={treatment: 1}, \n",
    "              variable_types={treatment: 'b', outcome: 'c', common_cause: 'c'}, \n",
    "              outcome=outcome, \n",
    "              graph=nx_graph\n",
    "              )\n",
    "\n",
    "cdf_0 = df.causal.do(x={treatment: 0}, \n",
    "              variable_types={treatment: 'b', outcome: 'c', common_cause: 'c'}, \n",
    "              outcome=outcome, \n",
    "              graph=nx_graph\n",
    "              )\n"
   ]
  },
  {
   "cell_type": "code",
   "execution_count": 6,
   "metadata": {
    "execution": {
     "iopub.execute_input": "2024-11-20T16:22:45.253568Z",
     "iopub.status.busy": "2024-11-20T16:22:45.253365Z",
     "iopub.status.idle": "2024-11-20T16:22:45.262345Z",
     "shell.execute_reply": "2024-11-20T16:22:45.261873Z"
    },
    "scrolled": true
   },
   "outputs": [
    {
     "data": {
      "text/html": [
       "<div>\n",
       "<style scoped>\n",
       "    .dataframe tbody tr th:only-of-type {\n",
       "        vertical-align: middle;\n",
       "    }\n",
       "\n",
       "    .dataframe tbody tr th {\n",
       "        vertical-align: top;\n",
       "    }\n",
       "\n",
       "    .dataframe thead th {\n",
       "        text-align: right;\n",
       "    }\n",
       "</style>\n",
       "<table border=\"1\" class=\"dataframe\">\n",
       "  <thead>\n",
       "    <tr style=\"text-align: right;\">\n",
       "      <th></th>\n",
       "      <th>W0</th>\n",
       "      <th>v0</th>\n",
       "      <th>y</th>\n",
       "      <th>propensity_score</th>\n",
       "      <th>weight</th>\n",
       "    </tr>\n",
       "  </thead>\n",
       "  <tbody>\n",
       "    <tr>\n",
       "      <th>0</th>\n",
       "      <td>-1.217250</td>\n",
       "      <td>False</td>\n",
       "      <td>-2.421533</td>\n",
       "      <td>0.907937</td>\n",
       "      <td>1.101398</td>\n",
       "    </tr>\n",
       "    <tr>\n",
       "      <th>1</th>\n",
       "      <td>1.529014</td>\n",
       "      <td>False</td>\n",
       "      <td>1.573238</td>\n",
       "      <td>0.043180</td>\n",
       "      <td>23.158978</td>\n",
       "    </tr>\n",
       "    <tr>\n",
       "      <th>2</th>\n",
       "      <td>0.146420</td>\n",
       "      <td>False</td>\n",
       "      <td>0.174800</td>\n",
       "      <td>0.404630</td>\n",
       "      <td>2.471396</td>\n",
       "    </tr>\n",
       "    <tr>\n",
       "      <th>3</th>\n",
       "      <td>-0.699930</td>\n",
       "      <td>False</td>\n",
       "      <td>0.012482</td>\n",
       "      <td>0.781418</td>\n",
       "      <td>1.279724</td>\n",
       "    </tr>\n",
       "    <tr>\n",
       "      <th>4</th>\n",
       "      <td>-1.006241</td>\n",
       "      <td>False</td>\n",
       "      <td>-1.301921</td>\n",
       "      <td>0.867012</td>\n",
       "      <td>1.153386</td>\n",
       "    </tr>\n",
       "    <tr>\n",
       "      <th>...</th>\n",
       "      <td>...</td>\n",
       "      <td>...</td>\n",
       "      <td>...</td>\n",
       "      <td>...</td>\n",
       "      <td>...</td>\n",
       "    </tr>\n",
       "    <tr>\n",
       "      <th>995</th>\n",
       "      <td>0.556357</td>\n",
       "      <td>False</td>\n",
       "      <td>1.330355</td>\n",
       "      <td>0.233201</td>\n",
       "      <td>4.288150</td>\n",
       "    </tr>\n",
       "    <tr>\n",
       "      <th>996</th>\n",
       "      <td>1.195496</td>\n",
       "      <td>False</td>\n",
       "      <td>0.261648</td>\n",
       "      <td>0.079876</td>\n",
       "      <td>12.519372</td>\n",
       "    </tr>\n",
       "    <tr>\n",
       "      <th>997</th>\n",
       "      <td>-0.029290</td>\n",
       "      <td>False</td>\n",
       "      <td>-0.612274</td>\n",
       "      <td>0.489615</td>\n",
       "      <td>2.042422</td>\n",
       "    </tr>\n",
       "    <tr>\n",
       "      <th>998</th>\n",
       "      <td>0.259649</td>\n",
       "      <td>False</td>\n",
       "      <td>0.601349</td>\n",
       "      <td>0.352443</td>\n",
       "      <td>2.837335</td>\n",
       "    </tr>\n",
       "    <tr>\n",
       "      <th>999</th>\n",
       "      <td>0.527898</td>\n",
       "      <td>False</td>\n",
       "      <td>0.508374</td>\n",
       "      <td>0.243331</td>\n",
       "      <td>4.109623</td>\n",
       "    </tr>\n",
       "  </tbody>\n",
       "</table>\n",
       "<p>1000 rows × 5 columns</p>\n",
       "</div>"
      ],
      "text/plain": [
       "           W0     v0         y  propensity_score     weight\n",
       "0   -1.217250  False -2.421533          0.907937   1.101398\n",
       "1    1.529014  False  1.573238          0.043180  23.158978\n",
       "2    0.146420  False  0.174800          0.404630   2.471396\n",
       "3   -0.699930  False  0.012482          0.781418   1.279724\n",
       "4   -1.006241  False -1.301921          0.867012   1.153386\n",
       "..        ...    ...       ...               ...        ...\n",
       "995  0.556357  False  1.330355          0.233201   4.288150\n",
       "996  1.195496  False  0.261648          0.079876  12.519372\n",
       "997 -0.029290  False -0.612274          0.489615   2.042422\n",
       "998  0.259649  False  0.601349          0.352443   2.837335\n",
       "999  0.527898  False  0.508374          0.243331   4.109623\n",
       "\n",
       "[1000 rows x 5 columns]"
      ]
     },
     "execution_count": 6,
     "metadata": {},
     "output_type": "execute_result"
    }
   ],
   "source": [
    "cdf_0"
   ]
  },
  {
   "cell_type": "code",
   "execution_count": 7,
   "metadata": {
    "execution": {
     "iopub.execute_input": "2024-11-20T16:22:45.263911Z",
     "iopub.status.busy": "2024-11-20T16:22:45.263728Z",
     "iopub.status.idle": "2024-11-20T16:22:45.272207Z",
     "shell.execute_reply": "2024-11-20T16:22:45.271732Z"
    }
   },
   "outputs": [
    {
     "data": {
      "text/html": [
       "<div>\n",
       "<style scoped>\n",
       "    .dataframe tbody tr th:only-of-type {\n",
       "        vertical-align: middle;\n",
       "    }\n",
       "\n",
       "    .dataframe tbody tr th {\n",
       "        vertical-align: top;\n",
       "    }\n",
       "\n",
       "    .dataframe thead th {\n",
       "        text-align: right;\n",
       "    }\n",
       "</style>\n",
       "<table border=\"1\" class=\"dataframe\">\n",
       "  <thead>\n",
       "    <tr style=\"text-align: right;\">\n",
       "      <th></th>\n",
       "      <th>W0</th>\n",
       "      <th>v0</th>\n",
       "      <th>y</th>\n",
       "      <th>propensity_score</th>\n",
       "      <th>weight</th>\n",
       "    </tr>\n",
       "  </thead>\n",
       "  <tbody>\n",
       "    <tr>\n",
       "      <th>0</th>\n",
       "      <td>2.005422</td>\n",
       "      <td>True</td>\n",
       "      <td>5.644082</td>\n",
       "      <td>0.982583</td>\n",
       "      <td>1.017726</td>\n",
       "    </tr>\n",
       "    <tr>\n",
       "      <th>1</th>\n",
       "      <td>1.345647</td>\n",
       "      <td>True</td>\n",
       "      <td>7.151836</td>\n",
       "      <td>0.939264</td>\n",
       "      <td>1.064663</td>\n",
       "    </tr>\n",
       "    <tr>\n",
       "      <th>2</th>\n",
       "      <td>1.221417</td>\n",
       "      <td>True</td>\n",
       "      <td>6.062322</td>\n",
       "      <td>0.923782</td>\n",
       "      <td>1.082507</td>\n",
       "    </tr>\n",
       "    <tr>\n",
       "      <th>3</th>\n",
       "      <td>2.519772</td>\n",
       "      <td>True</td>\n",
       "      <td>8.882521</td>\n",
       "      <td>0.993579</td>\n",
       "      <td>1.006463</td>\n",
       "    </tr>\n",
       "    <tr>\n",
       "      <th>4</th>\n",
       "      <td>0.960653</td>\n",
       "      <td>True</td>\n",
       "      <td>6.012738</td>\n",
       "      <td>0.879040</td>\n",
       "      <td>1.137604</td>\n",
       "    </tr>\n",
       "    <tr>\n",
       "      <th>...</th>\n",
       "      <td>...</td>\n",
       "      <td>...</td>\n",
       "      <td>...</td>\n",
       "      <td>...</td>\n",
       "      <td>...</td>\n",
       "    </tr>\n",
       "    <tr>\n",
       "      <th>995</th>\n",
       "      <td>1.283447</td>\n",
       "      <td>True</td>\n",
       "      <td>6.546651</td>\n",
       "      <td>0.931919</td>\n",
       "      <td>1.073054</td>\n",
       "    </tr>\n",
       "    <tr>\n",
       "      <th>996</th>\n",
       "      <td>0.026533</td>\n",
       "      <td>True</td>\n",
       "      <td>5.030140</td>\n",
       "      <td>0.537690</td>\n",
       "      <td>1.859808</td>\n",
       "    </tr>\n",
       "    <tr>\n",
       "      <th>997</th>\n",
       "      <td>-1.472100</td>\n",
       "      <td>True</td>\n",
       "      <td>2.916581</td>\n",
       "      <td>0.057943</td>\n",
       "      <td>17.258287</td>\n",
       "    </tr>\n",
       "    <tr>\n",
       "      <th>998</th>\n",
       "      <td>0.286407</td>\n",
       "      <td>True</td>\n",
       "      <td>6.243102</td>\n",
       "      <td>0.659441</td>\n",
       "      <td>1.516437</td>\n",
       "    </tr>\n",
       "    <tr>\n",
       "      <th>999</th>\n",
       "      <td>0.369185</td>\n",
       "      <td>True</td>\n",
       "      <td>6.519633</td>\n",
       "      <td>0.694910</td>\n",
       "      <td>1.439034</td>\n",
       "    </tr>\n",
       "  </tbody>\n",
       "</table>\n",
       "<p>1000 rows × 5 columns</p>\n",
       "</div>"
      ],
      "text/plain": [
       "           W0    v0         y  propensity_score     weight\n",
       "0    2.005422  True  5.644082          0.982583   1.017726\n",
       "1    1.345647  True  7.151836          0.939264   1.064663\n",
       "2    1.221417  True  6.062322          0.923782   1.082507\n",
       "3    2.519772  True  8.882521          0.993579   1.006463\n",
       "4    0.960653  True  6.012738          0.879040   1.137604\n",
       "..        ...   ...       ...               ...        ...\n",
       "995  1.283447  True  6.546651          0.931919   1.073054\n",
       "996  0.026533  True  5.030140          0.537690   1.859808\n",
       "997 -1.472100  True  2.916581          0.057943  17.258287\n",
       "998  0.286407  True  6.243102          0.659441   1.516437\n",
       "999  0.369185  True  6.519633          0.694910   1.439034\n",
       "\n",
       "[1000 rows x 5 columns]"
      ]
     },
     "execution_count": 7,
     "metadata": {},
     "output_type": "execute_result"
    }
   ],
   "source": [
    "cdf_1"
   ]
  },
  {
   "cell_type": "markdown",
   "metadata": {},
   "source": [
    "## Comparing the estimate to Linear Regression\n",
    "First, estimating the effect using the causal data frame, and the 95% confidence interval."
   ]
  },
  {
   "cell_type": "code",
   "execution_count": 8,
   "metadata": {
    "execution": {
     "iopub.execute_input": "2024-11-20T16:22:45.273858Z",
     "iopub.status.busy": "2024-11-20T16:22:45.273678Z",
     "iopub.status.idle": "2024-11-20T16:22:45.319709Z",
     "shell.execute_reply": "2024-11-20T16:22:45.319181Z"
    }
   },
   "outputs": [
    {
     "data": {
      "image/png": "[encoded data removed]",
      "text/latex": [
       "$\\displaystyle 5.53602778306171$"
      ],
      "text/plain": [
       "5.536027783061709"
      ]
     },
     "execution_count": 8,
     "metadata": {},
     "output_type": "execute_result"
    }
   ],
   "source": [
    "(cdf_1['y'] - cdf_0['y']).mean()"
   ]
  },
  {
   "cell_type": "code",
   "execution_count": 9,
   "metadata": {
    "execution": {
     "iopub.execute_input": "2024-11-20T16:22:45.321374Z",
     "iopub.status.busy": "2024-11-20T16:22:45.321092Z",
     "iopub.status.idle": "2024-11-20T16:22:45.336312Z",
     "shell.execute_reply": "2024-11-20T16:22:45.335734Z"
    }
   },
   "outputs": [
    {
     "data": {
      "image/png": "[encoded data removed]",
      "text/latex": [
       "$\\displaystyle 0.118133222376131$"
      ],
      "text/plain": [
       "0.118133222376131"
      ]
     },
     "execution_count": 9,
     "metadata": {},
     "output_type": "execute_result"
    }
   ],
   "source": [
    "1.96*(cdf_1['y'] - cdf_0['y']).std() / np.sqrt(len(df))"
   ]
  },
  {
   "cell_type": "markdown",
   "metadata": {},
   "source": [
    "Comparing to the estimate from OLS."
   ]
  },
  {
   "cell_type": "code",
   "execution_count": 10,
   "metadata": {
    "execution": {
     "iopub.execute_input": "2024-11-20T16:22:45.338158Z",
     "iopub.status.busy": "2024-11-20T16:22:45.337831Z",
     "iopub.status.idle": "2024-11-20T16:22:45.354532Z",
     "shell.execute_reply": "2024-11-20T16:22:45.353939Z"
    }
   },
   "outputs": [
    {
     "data": {
      "text/html": [
       "<table class=\"simpletable\">\n",
       "<caption>OLS Regression Results</caption>\n",
       "<tr>\n",
       "  <th>Dep. Variable:</th>            <td>y</td>        <th>  R-squared (uncentered):</th>      <td>   0.969</td> \n",
       "</tr>\n",
       "<tr>\n",
       "  <th>Model:</th>                   <td>OLS</td>       <th>  Adj. R-squared (uncentered):</th> <td>   0.969</td> \n",
       "</tr>\n",
       "<tr>\n",
       "  <th>Method:</th>             <td>Least Squares</td>  <th>  F-statistic:       </th>          <td>1.563e+04</td>\n",
       "</tr>\n",
       "<tr>\n",
       "  <th>Date:</th>             <td>Wed, 20 Nov 2024</td> <th>  Prob (F-statistic):</th>           <td>  0.00</td>  \n",
       "</tr>\n",
       "<tr>\n",
       "  <th>Time:</th>                 <td>16:22:45</td>     <th>  Log-Likelihood:    </th>          <td> -1390.6</td> \n",
       "</tr>\n",
       "<tr>\n",
       "  <th>No. Observations:</th>      <td>  1000</td>      <th>  AIC:               </th>          <td>   2785.</td> \n",
       "</tr>\n",
       "<tr>\n",
       "  <th>Df Residuals:</th>          <td>   998</td>      <th>  BIC:               </th>          <td>   2795.</td> \n",
       "</tr>\n",
       "<tr>\n",
       "  <th>Df Model:</th>              <td>     2</td>      <th>                     </th>              <td> </td>    \n",
       "</tr>\n",
       "<tr>\n",
       "  <th>Covariance Type:</th>      <td>nonrobust</td>    <th>                     </th>              <td> </td>    \n",
       "</tr>\n",
       "</table>\n",
       "<table class=\"simpletable\">\n",
       "<tr>\n",
       "   <td></td>     <th>coef</th>     <th>std err</th>      <th>t</th>      <th>P>|t|</th>  <th>[0.025</th>    <th>0.975]</th>  \n",
       "</tr>\n",
       "<tr>\n",
       "  <th>x1</th> <td>    0.8712</td> <td>    0.036</td> <td>   23.876</td> <td> 0.000</td> <td>    0.800</td> <td>    0.943</td>\n",
       "</tr>\n",
       "<tr>\n",
       "  <th>x2</th> <td>    5.1237</td> <td>    0.057</td> <td>   90.324</td> <td> 0.000</td> <td>    5.012</td> <td>    5.235</td>\n",
       "</tr>\n",
       "</table>\n",
       "<table class=\"simpletable\">\n",
       "<tr>\n",
       "  <th>Omnibus:</th>       <td> 3.130</td> <th>  Durbin-Watson:     </th> <td>   1.942</td>\n",
       "</tr>\n",
       "<tr>\n",
       "  <th>Prob(Omnibus):</th> <td> 0.209</td> <th>  Jarque-Bera (JB):  </th> <td>   3.032</td>\n",
       "</tr>\n",
       "<tr>\n",
       "  <th>Skew:</th>          <td>-0.133</td> <th>  Prob(JB):          </th> <td>   0.220</td>\n",
       "</tr>\n",
       "<tr>\n",
       "  <th>Kurtosis:</th>      <td> 3.047</td> <th>  Cond. No.          </th> <td>    3.22</td>\n",
       "</tr>\n",
       "</table><br/><br/>Notes:<br/>[1] R² is computed without centering (uncentered) since the model does not contain a constant.<br/>[2] Standard Errors assume that the covariance matrix of the errors is correctly specified."
      ],
      "text/latex": [
       "\\begin{center}\n",
       "\\begin{tabular}{lclc}\n",
       "\\toprule\n",
       "\\textbf{Dep. Variable:}    &        y         & \\textbf{  R-squared (uncentered):}      &     0.969   \\\\\n",
       "\\textbf{Model:}            &       OLS        & \\textbf{  Adj. R-squared (uncentered):} &     0.969   \\\\\n",
       "\\textbf{Method:}           &  Least Squares   & \\textbf{  F-statistic:       }          & 1.563e+04   \\\\\n",
       "\\textbf{Date:}             & Wed, 20 Nov 2024 & \\textbf{  Prob (F-statistic):}          &     0.00    \\\\\n",
       "\\textbf{Time:}             &     16:22:45     & \\textbf{  Log-Likelihood:    }          &   -1390.6   \\\\\n",
       "\\textbf{No. Observations:} &        1000      & \\textbf{  AIC:               }          &     2785.   \\\\\n",
       "\\textbf{Df Residuals:}     &         998      & \\textbf{  BIC:               }          &     2795.   \\\\\n",
       "\\textbf{Df Model:}         &           2      & \\textbf{                     }          &             \\\\\n",
       "\\textbf{Covariance Type:}  &    nonrobust     & \\textbf{                     }          &             \\\\\n",
       "\\bottomrule\n",
       "\\end{tabular}\n",
       "\\begin{tabular}{lcccccc}\n",
       "            & \\textbf{coef} & \\textbf{std err} & \\textbf{t} & \\textbf{P$> |$t$|$} & \\textbf{[0.025} & \\textbf{0.975]}  \\\\\n",
       "\\midrule\n",
       "\\textbf{x1} &       0.8712  &        0.036     &    23.876  &         0.000        &        0.800    &        0.943     \\\\\n",
       "\\textbf{x2} &       5.1237  &        0.057     &    90.324  &         0.000        &        5.012    &        5.235     \\\\\n",
       "\\bottomrule\n",
       "\\end{tabular}\n",
       "\\begin{tabular}{lclc}\n",
       "\\textbf{Omnibus:}       &  3.130 & \\textbf{  Durbin-Watson:     } &    1.942  \\\\\n",
       "\\textbf{Prob(Omnibus):} &  0.209 & \\textbf{  Jarque-Bera (JB):  } &    3.032  \\\\\n",
       "\\textbf{Skew:}          & -0.133 & \\textbf{  Prob(JB):          } &    0.220  \\\\\n",
       "\\textbf{Kurtosis:}      &  3.047 & \\textbf{  Cond. No.          } &     3.22  \\\\\n",
       "\\bottomrule\n",
       "\\end{tabular}\n",
       "%\\caption{OLS Regression Results}\n",
       "\\end{center}\n",
       "\n",
       "Notes: \\newline\n",
       " [1] R² is computed without centering (uncentered) since the model does not contain a constant. \\newline\n",
       " [2] Standard Errors assume that the covariance matrix of the errors is correctly specified."
      ],
      "text/plain": [
       "<class 'statsmodels.iolib.summary.Summary'>\n",
       "\"\"\"\n",
       "                                 OLS Regression Results                                \n",
       "=======================================================================================\n",
       "Dep. Variable:                      y   R-squared (uncentered):                   0.969\n",
       "Model:                            OLS   Adj. R-squared (uncentered):              0.969\n",
       "Method:                 Least Squares   F-statistic:                          1.563e+04\n",
       "Date:                Wed, 20 Nov 2024   Prob (F-statistic):                        0.00\n",
       "Time:                        16:22:45   Log-Likelihood:                         -1390.6\n",
       "No. Observations:                1000   AIC:                                      2785.\n",
       "Df Residuals:                     998   BIC:                                      2795.\n",
       "Df Model:                           2                                                  \n",
       "Covariance Type:            nonrobust                                                  \n",
       "==============================================================================\n",
       "                 coef    std err          t      P>|t|      [0.025      0.975]\n",
       "------------------------------------------------------------------------------\n",
       "x1             0.8712      0.036     23.876      0.000       0.800       0.943\n",
       "x2             5.1237      0.057     90.324      0.000       5.012       5.235\n",
       "==============================================================================\n",
       "Omnibus:                        3.130   Durbin-Watson:                   1.942\n",
       "Prob(Omnibus):                  0.209   Jarque-Bera (JB):                3.032\n",
       "Skew:                          -0.133   Prob(JB):                        0.220\n",
       "Kurtosis:                       3.047   Cond. No.                         3.22\n",
       "==============================================================================\n",
       "\n",
       "Notes:\n",
       "[1] R² is computed without centering (uncentered) since the model does not contain a constant.\n",
       "[2] Standard Errors assume that the covariance matrix of the errors is correctly specified.\n",
       "\"\"\""
      ]
     },
     "execution_count": 10,
     "metadata": {},
     "output_type": "execute_result"
    }
   ],
   "source": [
    "model = OLS(np.asarray(df[outcome]), np.asarray(df[[common_cause, treatment]], dtype=np.float64))\n",
    "result = model.fit()\n",
    "result.summary()"
   ]
  }
 ],
 "metadata": {
  "kernelspec": {
   "display_name": "Python 3 (ipykernel)",
   "language": "python",
   "name": "python3"
  },
  "language_info": {
   "codemirror_mode": {
    "name": "ipython",
    "version": 3
   },
   "file_extension": ".py",
   "mimetype": "text/x-python",
   "name": "python",
   "nbconvert_exporter": "python",
   "pygments_lexer": "ipython3",
   "version": "3.8.10"
  },
  "toc": {
   "base_numbering": 1,
   "nav_menu": {},
   "number_sections": false,
   "sideBar": true,
   "skip_h1_title": true,
   "title_cell": "Table of Contents",
   "title_sidebar": "Contents",
   "toc_cell": false,
   "toc_position": {},
   "toc_section_display": true,
   "toc_window_display": false
  }
 },
 "nbformat": 4,
 "nbformat_minor": 4
}
