{
 "cells": [
  {
   "cell_type": "markdown",
   "metadata": {},
   "source": [
    "# Demo for the DoWhy causal API\n",
    "We show a simple example of adding a causal extension to any dataframe. "
   ]
  },
  {
   "cell_type": "code",
   "execution_count": 1,
   "metadata": {
    "execution": {
     "iopub.execute_input": "2024-10-25T14:43:28.420037Z",
     "iopub.status.busy": "2024-10-25T14:43:28.419847Z",
     "iopub.status.idle": "2024-10-25T14:43:29.830914Z",
     "shell.execute_reply": "2024-10-25T14:43:29.830311Z"
    }
   },
   "outputs": [],
   "source": [
    "import dowhy.datasets\n",
    "import dowhy.api\n",
    "from dowhy.graph import build_graph_from_str\n",
    "\n",
    "import numpy as np\n",
    "import pandas as pd\n",
    "\n",
    "from statsmodels.api import OLS"
   ]
  },
  {
   "cell_type": "code",
   "execution_count": 2,
   "metadata": {
    "execution": {
     "iopub.execute_input": "2024-10-25T14:43:29.833247Z",
     "iopub.status.busy": "2024-10-25T14:43:29.832855Z",
     "iopub.status.idle": "2024-10-25T14:43:29.887255Z",
     "shell.execute_reply": "2024-10-25T14:43:29.886670Z"
    }
   },
   "outputs": [
    {
     "data": {
      "text/html": [
       "<div>\n",
       "<style scoped>\n",
       "    .dataframe tbody tr th:only-of-type {\n",
       "        vertical-align: middle;\n",
       "    }\n",
       "\n",
       "    .dataframe tbody tr th {\n",
       "        vertical-align: top;\n",
       "    }\n",
       "\n",
       "    .dataframe thead th {\n",
       "        text-align: right;\n",
       "    }\n",
       "</style>\n",
       "<table border=\"1\" class=\"dataframe\">\n",
       "  <thead>\n",
       "    <tr style=\"text-align: right;\">\n",
       "      <th></th>\n",
       "      <th>W0</th>\n",
       "      <th>v0</th>\n",
       "      <th>y</th>\n",
       "    </tr>\n",
       "  </thead>\n",
       "  <tbody>\n",
       "    <tr>\n",
       "      <th>0</th>\n",
       "      <td>0.301186</td>\n",
       "      <td>False</td>\n",
       "      <td>1.042313</td>\n",
       "    </tr>\n",
       "    <tr>\n",
       "      <th>1</th>\n",
       "      <td>0.811655</td>\n",
       "      <td>True</td>\n",
       "      <td>6.596058</td>\n",
       "    </tr>\n",
       "    <tr>\n",
       "      <th>2</th>\n",
       "      <td>0.766516</td>\n",
       "      <td>True</td>\n",
       "      <td>7.338039</td>\n",
       "    </tr>\n",
       "    <tr>\n",
       "      <th>3</th>\n",
       "      <td>0.661593</td>\n",
       "      <td>True</td>\n",
       "      <td>6.659962</td>\n",
       "    </tr>\n",
       "    <tr>\n",
       "      <th>4</th>\n",
       "      <td>2.343496</td>\n",
       "      <td>True</td>\n",
       "      <td>11.734157</td>\n",
       "    </tr>\n",
       "    <tr>\n",
       "      <th>...</th>\n",
       "      <td>...</td>\n",
       "      <td>...</td>\n",
       "      <td>...</td>\n",
       "    </tr>\n",
       "    <tr>\n",
       "      <th>995</th>\n",
       "      <td>1.519674</td>\n",
       "      <td>True</td>\n",
       "      <td>9.643222</td>\n",
       "    </tr>\n",
       "    <tr>\n",
       "      <th>996</th>\n",
       "      <td>2.292310</td>\n",
       "      <td>True</td>\n",
       "      <td>11.775713</td>\n",
       "    </tr>\n",
       "    <tr>\n",
       "      <th>997</th>\n",
       "      <td>1.160542</td>\n",
       "      <td>True</td>\n",
       "      <td>7.793988</td>\n",
       "    </tr>\n",
       "    <tr>\n",
       "      <th>998</th>\n",
       "      <td>1.425328</td>\n",
       "      <td>True</td>\n",
       "      <td>7.713643</td>\n",
       "    </tr>\n",
       "    <tr>\n",
       "      <th>999</th>\n",
       "      <td>1.438840</td>\n",
       "      <td>True</td>\n",
       "      <td>8.366888</td>\n",
       "    </tr>\n",
       "  </tbody>\n",
       "</table>\n",
       "<p>1000 rows × 3 columns</p>\n",
       "</div>"
      ],
      "text/plain": [
       "           W0     v0          y\n",
       "0    0.301186  False   1.042313\n",
       "1    0.811655   True   6.596058\n",
       "2    0.766516   True   7.338039\n",
       "3    0.661593   True   6.659962\n",
       "4    2.343496   True  11.734157\n",
       "..        ...    ...        ...\n",
       "995  1.519674   True   9.643222\n",
       "996  2.292310   True  11.775713\n",
       "997  1.160542   True   7.793988\n",
       "998  1.425328   True   7.713643\n",
       "999  1.438840   True   8.366888\n",
       "\n",
       "[1000 rows x 3 columns]"
      ]
     },
     "execution_count": 2,
     "metadata": {},
     "output_type": "execute_result"
    }
   ],
   "source": [
    "data = dowhy.datasets.linear_dataset(beta=5,\n",
    "        num_common_causes=1,\n",
    "        num_instruments = 0,\n",
    "        num_samples=1000,\n",
    "        treatment_is_binary=True)\n",
    "df = data['df']\n",
    "df['y'] = df['y'] + np.random.normal(size=len(df)) # Adding noise to data. Without noise, the variance in Y|X, Z is zero, and mcmc fails.\n",
    "nx_graph = build_graph_from_str(data[\"dot_graph\"])\n",
    "\n",
    "treatment= data[\"treatment_name\"][0]\n",
    "outcome = data[\"outcome_name\"][0]\n",
    "common_cause = data[\"common_causes_names\"][0]\n",
    "df"
   ]
  },
  {
   "cell_type": "code",
   "execution_count": 3,
   "metadata": {
    "execution": {
     "iopub.execute_input": "2024-10-25T14:43:29.889220Z",
     "iopub.status.busy": "2024-10-25T14:43:29.888861Z",
     "iopub.status.idle": "2024-10-25T14:43:30.053081Z",
     "shell.execute_reply": "2024-10-25T14:43:30.052362Z"
    },
    "scrolled": true
   },
   "outputs": [
    {
     "data": {
      "text/plain": [
       "<Axes: xlabel='v0'>"
      ]
     },
     "execution_count": 3,
     "metadata": {},
     "output_type": "execute_result"
    },
    {
     "data": {
      "image/png": "[encoded data removed]",
      "text/plain": [
       "<Figure size 640x480 with 1 Axes>"
      ]
     },
     "metadata": {},
     "output_type": "display_data"
    }
   ],
   "source": [
    "# data['df'] is just a regular pandas.DataFrame\n",
    "df.causal.do(x=treatment,\n",
    "             variable_types={treatment: 'b', outcome: 'c', common_cause: 'c'},\n",
    "             outcome=outcome,\n",
    "             common_causes=[common_cause],\n",
    "            ).groupby(treatment).mean().plot(y=outcome, kind='bar')"
   ]
  },
  {
   "cell_type": "code",
   "execution_count": 4,
   "metadata": {
    "execution": {
     "iopub.execute_input": "2024-10-25T14:43:30.055102Z",
     "iopub.status.busy": "2024-10-25T14:43:30.054905Z",
     "iopub.status.idle": "2024-10-25T14:43:30.171620Z",
     "shell.execute_reply": "2024-10-25T14:43:30.170896Z"
    }
   },
   "outputs": [
    {
     "data": {
      "text/plain": [
       "<Axes: xlabel='v0'>"
      ]
     },
     "execution_count": 4,
     "metadata": {},
     "output_type": "execute_result"
    },
    {
     "data": {
      "image/png": "[encoded data removed]",
      "text/plain": [
       "<Figure size 640x480 with 1 Axes>"
      ]
     },
     "metadata": {},
     "output_type": "display_data"
    }
   ],
   "source": [
    "df.causal.do(x={treatment: 1}, \n",
    "              variable_types={treatment:'b', outcome: 'c', common_cause: 'c'}, \n",
    "              outcome=outcome,\n",
    "              method='weighting', \n",
    "              common_causes=[common_cause]\n",
    "              ).groupby(treatment).mean().plot(y=outcome, kind='bar')"
   ]
  },
  {
   "cell_type": "code",
   "execution_count": 5,
   "metadata": {
    "execution": {
     "iopub.execute_input": "2024-10-25T14:43:30.173708Z",
     "iopub.status.busy": "2024-10-25T14:43:30.173497Z",
     "iopub.status.idle": "2024-10-25T14:43:30.195174Z",
     "shell.execute_reply": "2024-10-25T14:43:30.194575Z"
    }
   },
   "outputs": [],
   "source": [
    "cdf_1 = df.causal.do(x={treatment: 1}, \n",
    "              variable_types={treatment: 'b', outcome: 'c', common_cause: 'c'}, \n",
    "              outcome=outcome, \n",
    "              graph=nx_graph\n",
    "              )\n",
    "\n",
    "cdf_0 = df.causal.do(x={treatment: 0}, \n",
    "              variable_types={treatment: 'b', outcome: 'c', common_cause: 'c'}, \n",
    "              outcome=outcome, \n",
    "              graph=nx_graph\n",
    "              )\n"
   ]
  },
  {
   "cell_type": "code",
   "execution_count": 6,
   "metadata": {
    "execution": {
     "iopub.execute_input": "2024-10-25T14:43:30.197054Z",
     "iopub.status.busy": "2024-10-25T14:43:30.196869Z",
     "iopub.status.idle": "2024-10-25T14:43:30.206063Z",
     "shell.execute_reply": "2024-10-25T14:43:30.205471Z"
    },
    "scrolled": true
   },
   "outputs": [
    {
     "data": {
      "text/html": [
       "<div>\n",
       "<style scoped>\n",
       "    .dataframe tbody tr th:only-of-type {\n",
       "        vertical-align: middle;\n",
       "    }\n",
       "\n",
       "    .dataframe tbody tr th {\n",
       "        vertical-align: top;\n",
       "    }\n",
       "\n",
       "    .dataframe thead th {\n",
       "        text-align: right;\n",
       "    }\n",
       "</style>\n",
       "<table border=\"1\" class=\"dataframe\">\n",
       "  <thead>\n",
       "    <tr style=\"text-align: right;\">\n",
       "      <th></th>\n",
       "      <th>W0</th>\n",
       "      <th>v0</th>\n",
       "      <th>y</th>\n",
       "      <th>propensity_score</th>\n",
       "      <th>weight</th>\n",
       "    </tr>\n",
       "  </thead>\n",
       "  <tbody>\n",
       "    <tr>\n",
       "      <th>0</th>\n",
       "      <td>1.334809</td>\n",
       "      <td>False</td>\n",
       "      <td>2.523580</td>\n",
       "      <td>0.070441</td>\n",
       "      <td>14.196215</td>\n",
       "    </tr>\n",
       "    <tr>\n",
       "      <th>1</th>\n",
       "      <td>-1.356694</td>\n",
       "      <td>False</td>\n",
       "      <td>-2.405052</td>\n",
       "      <td>0.945274</td>\n",
       "      <td>1.057894</td>\n",
       "    </tr>\n",
       "    <tr>\n",
       "      <th>2</th>\n",
       "      <td>0.751573</td>\n",
       "      <td>False</td>\n",
       "      <td>2.686315</td>\n",
       "      <td>0.197265</td>\n",
       "      <td>5.069321</td>\n",
       "    </tr>\n",
       "    <tr>\n",
       "      <th>3</th>\n",
       "      <td>0.645999</td>\n",
       "      <td>False</td>\n",
       "      <td>0.176300</td>\n",
       "      <td>0.233166</td>\n",
       "      <td>4.288799</td>\n",
       "    </tr>\n",
       "    <tr>\n",
       "      <th>4</th>\n",
       "      <td>0.560783</td>\n",
       "      <td>False</td>\n",
       "      <td>1.851092</td>\n",
       "      <td>0.265294</td>\n",
       "      <td>3.769405</td>\n",
       "    </tr>\n",
       "    <tr>\n",
       "      <th>...</th>\n",
       "      <td>...</td>\n",
       "      <td>...</td>\n",
       "      <td>...</td>\n",
       "      <td>...</td>\n",
       "      <td>...</td>\n",
       "    </tr>\n",
       "    <tr>\n",
       "      <th>995</th>\n",
       "      <td>1.299631</td>\n",
       "      <td>False</td>\n",
       "      <td>4.398113</td>\n",
       "      <td>0.075232</td>\n",
       "      <td>13.292265</td>\n",
       "    </tr>\n",
       "    <tr>\n",
       "      <th>996</th>\n",
       "      <td>1.232811</td>\n",
       "      <td>False</td>\n",
       "      <td>3.883010</td>\n",
       "      <td>0.085162</td>\n",
       "      <td>11.742291</td>\n",
       "    </tr>\n",
       "    <tr>\n",
       "      <th>997</th>\n",
       "      <td>1.060851</td>\n",
       "      <td>False</td>\n",
       "      <td>3.086283</td>\n",
       "      <td>0.116364</td>\n",
       "      <td>8.593744</td>\n",
       "    </tr>\n",
       "    <tr>\n",
       "      <th>998</th>\n",
       "      <td>1.754843</td>\n",
       "      <td>False</td>\n",
       "      <td>5.241172</td>\n",
       "      <td>0.031457</td>\n",
       "      <td>31.789811</td>\n",
       "    </tr>\n",
       "    <tr>\n",
       "      <th>999</th>\n",
       "      <td>1.704140</td>\n",
       "      <td>False</td>\n",
       "      <td>3.767435</td>\n",
       "      <td>0.034726</td>\n",
       "      <td>28.796507</td>\n",
       "    </tr>\n",
       "  </tbody>\n",
       "</table>\n",
       "<p>1000 rows × 5 columns</p>\n",
       "</div>"
      ],
      "text/plain": [
       "           W0     v0         y  propensity_score     weight\n",
       "0    1.334809  False  2.523580          0.070441  14.196215\n",
       "1   -1.356694  False -2.405052          0.945274   1.057894\n",
       "2    0.751573  False  2.686315          0.197265   5.069321\n",
       "3    0.645999  False  0.176300          0.233166   4.288799\n",
       "4    0.560783  False  1.851092          0.265294   3.769405\n",
       "..        ...    ...       ...               ...        ...\n",
       "995  1.299631  False  4.398113          0.075232  13.292265\n",
       "996  1.232811  False  3.883010          0.085162  11.742291\n",
       "997  1.060851  False  3.086283          0.116364   8.593744\n",
       "998  1.754843  False  5.241172          0.031457  31.789811\n",
       "999  1.704140  False  3.767435          0.034726  28.796507\n",
       "\n",
       "[1000 rows x 5 columns]"
      ]
     },
     "execution_count": 6,
     "metadata": {},
     "output_type": "execute_result"
    }
   ],
   "source": [
    "cdf_0"
   ]
  },
  {
   "cell_type": "code",
   "execution_count": 7,
   "metadata": {
    "execution": {
     "iopub.execute_input": "2024-10-25T14:43:30.207751Z",
     "iopub.status.busy": "2024-10-25T14:43:30.207545Z",
     "iopub.status.idle": "2024-10-25T14:43:30.216194Z",
     "shell.execute_reply": "2024-10-25T14:43:30.215722Z"
    }
   },
   "outputs": [
    {
     "data": {
      "text/html": [
       "<div>\n",
       "<style scoped>\n",
       "    .dataframe tbody tr th:only-of-type {\n",
       "        vertical-align: middle;\n",
       "    }\n",
       "\n",
       "    .dataframe tbody tr th {\n",
       "        vertical-align: top;\n",
       "    }\n",
       "\n",
       "    .dataframe thead th {\n",
       "        text-align: right;\n",
       "    }\n",
       "</style>\n",
       "<table border=\"1\" class=\"dataframe\">\n",
       "  <thead>\n",
       "    <tr style=\"text-align: right;\">\n",
       "      <th></th>\n",
       "      <th>W0</th>\n",
       "      <th>v0</th>\n",
       "      <th>y</th>\n",
       "      <th>propensity_score</th>\n",
       "      <th>weight</th>\n",
       "    </tr>\n",
       "  </thead>\n",
       "  <tbody>\n",
       "    <tr>\n",
       "      <th>0</th>\n",
       "      <td>1.580815</td>\n",
       "      <td>True</td>\n",
       "      <td>7.397887</td>\n",
       "      <td>0.955898</td>\n",
       "      <td>1.046136</td>\n",
       "    </tr>\n",
       "    <tr>\n",
       "      <th>1</th>\n",
       "      <td>1.360499</td>\n",
       "      <td>True</td>\n",
       "      <td>9.336263</td>\n",
       "      <td>0.932877</td>\n",
       "      <td>1.071952</td>\n",
       "    </tr>\n",
       "    <tr>\n",
       "      <th>2</th>\n",
       "      <td>0.626459</td>\n",
       "      <td>True</td>\n",
       "      <td>4.675073</td>\n",
       "      <td>0.759713</td>\n",
       "      <td>1.316286</td>\n",
       "    </tr>\n",
       "    <tr>\n",
       "      <th>3</th>\n",
       "      <td>2.343496</td>\n",
       "      <td>True</td>\n",
       "      <td>11.734157</td>\n",
       "      <td>0.990191</td>\n",
       "      <td>1.009907</td>\n",
       "    </tr>\n",
       "    <tr>\n",
       "      <th>4</th>\n",
       "      <td>-0.436224</td>\n",
       "      <td>True</td>\n",
       "      <td>4.542532</td>\n",
       "      <td>0.270430</td>\n",
       "      <td>3.697812</td>\n",
       "    </tr>\n",
       "    <tr>\n",
       "      <th>...</th>\n",
       "      <td>...</td>\n",
       "      <td>...</td>\n",
       "      <td>...</td>\n",
       "      <td>...</td>\n",
       "      <td>...</td>\n",
       "    </tr>\n",
       "    <tr>\n",
       "      <th>995</th>\n",
       "      <td>1.936492</td>\n",
       "      <td>True</td>\n",
       "      <td>9.103130</td>\n",
       "      <td>0.977981</td>\n",
       "      <td>1.022515</td>\n",
       "    </tr>\n",
       "    <tr>\n",
       "      <th>996</th>\n",
       "      <td>0.479328</td>\n",
       "      <td>True</td>\n",
       "      <td>7.944845</td>\n",
       "      <td>0.701475</td>\n",
       "      <td>1.425568</td>\n",
       "    </tr>\n",
       "    <tr>\n",
       "      <th>997</th>\n",
       "      <td>2.136369</td>\n",
       "      <td>True</td>\n",
       "      <td>9.453021</td>\n",
       "      <td>0.985179</td>\n",
       "      <td>1.015044</td>\n",
       "    </tr>\n",
       "    <tr>\n",
       "      <th>998</th>\n",
       "      <td>1.868190</td>\n",
       "      <td>True</td>\n",
       "      <td>8.101663</td>\n",
       "      <td>0.974811</td>\n",
       "      <td>1.025840</td>\n",
       "    </tr>\n",
       "    <tr>\n",
       "      <th>999</th>\n",
       "      <td>0.537524</td>\n",
       "      <td>True</td>\n",
       "      <td>6.396701</td>\n",
       "      <td>0.725461</td>\n",
       "      <td>1.378433</td>\n",
       "    </tr>\n",
       "  </tbody>\n",
       "</table>\n",
       "<p>1000 rows × 5 columns</p>\n",
       "</div>"
      ],
      "text/plain": [
       "           W0    v0          y  propensity_score    weight\n",
       "0    1.580815  True   7.397887          0.955898  1.046136\n",
       "1    1.360499  True   9.336263          0.932877  1.071952\n",
       "2    0.626459  True   4.675073          0.759713  1.316286\n",
       "3    2.343496  True  11.734157          0.990191  1.009907\n",
       "4   -0.436224  True   4.542532          0.270430  3.697812\n",
       "..        ...   ...        ...               ...       ...\n",
       "995  1.936492  True   9.103130          0.977981  1.022515\n",
       "996  0.479328  True   7.944845          0.701475  1.425568\n",
       "997  2.136369  True   9.453021          0.985179  1.015044\n",
       "998  1.868190  True   8.101663          0.974811  1.025840\n",
       "999  0.537524  True   6.396701          0.725461  1.378433\n",
       "\n",
       "[1000 rows x 5 columns]"
      ]
     },
     "execution_count": 7,
     "metadata": {},
     "output_type": "execute_result"
    }
   ],
   "source": [
    "cdf_1"
   ]
  },
  {
   "cell_type": "markdown",
   "metadata": {},
   "source": [
    "## Comparing the estimate to Linear Regression\n",
    "First, estimating the effect using the causal data frame, and the 95% confidence interval."
   ]
  },
  {
   "cell_type": "code",
   "execution_count": 8,
   "metadata": {
    "execution": {
     "iopub.execute_input": "2024-10-25T14:43:30.217993Z",
     "iopub.status.busy": "2024-10-25T14:43:30.217645Z",
     "iopub.status.idle": "2024-10-25T14:43:30.264148Z",
     "shell.execute_reply": "2024-10-25T14:43:30.263636Z"
    }
   },
   "outputs": [
    {
     "data": {
      "image/png": "[encoded data removed]",
      "text/latex": [
       "$\\displaystyle 5.22322409908235$"
      ],
      "text/plain": [
       "5.223224099082352"
      ]
     },
     "execution_count": 8,
     "metadata": {},
     "output_type": "execute_result"
    }
   ],
   "source": [
    "(cdf_1['y'] - cdf_0['y']).mean()"
   ]
  },
  {
   "cell_type": "code",
   "execution_count": 9,
   "metadata": {
    "execution": {
     "iopub.execute_input": "2024-10-25T14:43:30.266121Z",
     "iopub.status.busy": "2024-10-25T14:43:30.265760Z",
     "iopub.status.idle": "2024-10-25T14:43:30.282025Z",
     "shell.execute_reply": "2024-10-25T14:43:30.281395Z"
    }
   },
   "outputs": [
    {
     "data": {
      "image/png": "[encoded data removed]",
      "text/latex": [
       "$\\displaystyle 0.24237321967821$"
      ],
      "text/plain": [
       "0.2423732196782096"
      ]
     },
     "execution_count": 9,
     "metadata": {},
     "output_type": "execute_result"
    }
   ],
   "source": [
    "1.96*(cdf_1['y'] - cdf_0['y']).std() / np.sqrt(len(df))"
   ]
  },
  {
   "cell_type": "markdown",
   "metadata": {},
   "source": [
    "Comparing to the estimate from OLS."
   ]
  },
  {
   "cell_type": "code",
   "execution_count": 10,
   "metadata": {
    "execution": {
     "iopub.execute_input": "2024-10-25T14:43:30.283965Z",
     "iopub.status.busy": "2024-10-25T14:43:30.283677Z",
     "iopub.status.idle": "2024-10-25T14:43:30.390023Z",
     "shell.execute_reply": "2024-10-25T14:43:30.389357Z"
    }
   },
   "outputs": [
    {
     "data": {
      "text/html": [
       "<table class=\"simpletable\">\n",
       "<caption>OLS Regression Results</caption>\n",
       "<tr>\n",
       "  <th>Dep. Variable:</th>            <td>y</td>        <th>  R-squared (uncentered):</th>      <td>   0.983</td> \n",
       "</tr>\n",
       "<tr>\n",
       "  <th>Model:</th>                   <td>OLS</td>       <th>  Adj. R-squared (uncentered):</th> <td>   0.983</td> \n",
       "</tr>\n",
       "<tr>\n",
       "  <th>Method:</th>             <td>Least Squares</td>  <th>  F-statistic:       </th>          <td>2.872e+04</td>\n",
       "</tr>\n",
       "<tr>\n",
       "  <th>Date:</th>             <td>Fri, 25 Oct 2024</td> <th>  Prob (F-statistic):</th>           <td>  0.00</td>  \n",
       "</tr>\n",
       "<tr>\n",
       "  <th>Time:</th>                 <td>14:43:30</td>     <th>  Log-Likelihood:    </th>          <td> -1423.4</td> \n",
       "</tr>\n",
       "<tr>\n",
       "  <th>No. Observations:</th>      <td>  1000</td>      <th>  AIC:               </th>          <td>   2851.</td> \n",
       "</tr>\n",
       "<tr>\n",
       "  <th>Df Residuals:</th>          <td>   998</td>      <th>  BIC:               </th>          <td>   2861.</td> \n",
       "</tr>\n",
       "<tr>\n",
       "  <th>Df Model:</th>              <td>     2</td>      <th>                     </th>              <td> </td>    \n",
       "</tr>\n",
       "<tr>\n",
       "  <th>Covariance Type:</th>      <td>nonrobust</td>    <th>                     </th>              <td> </td>    \n",
       "</tr>\n",
       "</table>\n",
       "<table class=\"simpletable\">\n",
       "<tr>\n",
       "   <td></td>     <th>coef</th>     <th>std err</th>      <th>t</th>      <th>P>|t|</th>  <th>[0.025</th>    <th>0.975]</th>  \n",
       "</tr>\n",
       "<tr>\n",
       "  <th>x1</th> <td>    2.6696</td> <td>    0.038</td> <td>   70.632</td> <td> 0.000</td> <td>    2.595</td> <td>    2.744</td>\n",
       "</tr>\n",
       "<tr>\n",
       "  <th>x2</th> <td>    5.0716</td> <td>    0.060</td> <td>   84.656</td> <td> 0.000</td> <td>    4.954</td> <td>    5.189</td>\n",
       "</tr>\n",
       "</table>\n",
       "<table class=\"simpletable\">\n",
       "<tr>\n",
       "  <th>Omnibus:</th>       <td> 1.123</td> <th>  Durbin-Watson:     </th> <td>   2.013</td>\n",
       "</tr>\n",
       "<tr>\n",
       "  <th>Prob(Omnibus):</th> <td> 0.570</td> <th>  Jarque-Bera (JB):  </th> <td>   1.034</td>\n",
       "</tr>\n",
       "<tr>\n",
       "  <th>Skew:</th>          <td> 0.075</td> <th>  Prob(JB):          </th> <td>   0.596</td>\n",
       "</tr>\n",
       "<tr>\n",
       "  <th>Kurtosis:</th>      <td> 3.046</td> <th>  Cond. No.          </th> <td>    3.31</td>\n",
       "</tr>\n",
       "</table><br/><br/>Notes:<br/>[1] R² is computed without centering (uncentered) since the model does not contain a constant.<br/>[2] Standard Errors assume that the covariance matrix of the errors is correctly specified."
      ],
      "text/latex": [
       "\\begin{center}\n",
       "\\begin{tabular}{lclc}\n",
       "\\toprule\n",
       "\\textbf{Dep. Variable:}    &        y         & \\textbf{  R-squared (uncentered):}      &     0.983   \\\\\n",
       "\\textbf{Model:}            &       OLS        & \\textbf{  Adj. R-squared (uncentered):} &     0.983   \\\\\n",
       "\\textbf{Method:}           &  Least Squares   & \\textbf{  F-statistic:       }          & 2.872e+04   \\\\\n",
       "\\textbf{Date:}             & Fri, 25 Oct 2024 & \\textbf{  Prob (F-statistic):}          &     0.00    \\\\\n",
       "\\textbf{Time:}             &     14:43:30     & \\textbf{  Log-Likelihood:    }          &   -1423.4   \\\\\n",
       "\\textbf{No. Observations:} &        1000      & \\textbf{  AIC:               }          &     2851.   \\\\\n",
       "\\textbf{Df Residuals:}     &         998      & \\textbf{  BIC:               }          &     2861.   \\\\\n",
       "\\textbf{Df Model:}         &           2      & \\textbf{                     }          &             \\\\\n",
       "\\textbf{Covariance Type:}  &    nonrobust     & \\textbf{                     }          &             \\\\\n",
       "\\bottomrule\n",
       "\\end{tabular}\n",
       "\\begin{tabular}{lcccccc}\n",
       "            & \\textbf{coef} & \\textbf{std err} & \\textbf{t} & \\textbf{P$> |$t$|$} & \\textbf{[0.025} & \\textbf{0.975]}  \\\\\n",
       "\\midrule\n",
       "\\textbf{x1} &       2.6696  &        0.038     &    70.632  &         0.000        &        2.595    &        2.744     \\\\\n",
       "\\textbf{x2} &       5.0716  &        0.060     &    84.656  &         0.000        &        4.954    &        5.189     \\\\\n",
       "\\bottomrule\n",
       "\\end{tabular}\n",
       "\\begin{tabular}{lclc}\n",
       "\\textbf{Omnibus:}       &  1.123 & \\textbf{  Durbin-Watson:     } &    2.013  \\\\\n",
       "\\textbf{Prob(Omnibus):} &  0.570 & \\textbf{  Jarque-Bera (JB):  } &    1.034  \\\\\n",
       "\\textbf{Skew:}          &  0.075 & \\textbf{  Prob(JB):          } &    0.596  \\\\\n",
       "\\textbf{Kurtosis:}      &  3.046 & \\textbf{  Cond. No.          } &     3.31  \\\\\n",
       "\\bottomrule\n",
       "\\end{tabular}\n",
       "%\\caption{OLS Regression Results}\n",
       "\\end{center}\n",
       "\n",
       "Notes: \\newline\n",
       " [1] R² is computed without centering (uncentered) since the model does not contain a constant. \\newline\n",
       " [2] Standard Errors assume that the covariance matrix of the errors is correctly specified."
      ],
      "text/plain": [
       "<class 'statsmodels.iolib.summary.Summary'>\n",
       "\"\"\"\n",
       "                                 OLS Regression Results                                \n",
       "=======================================================================================\n",
       "Dep. Variable:                      y   R-squared (uncentered):                   0.983\n",
       "Model:                            OLS   Adj. R-squared (uncentered):              0.983\n",
       "Method:                 Least Squares   F-statistic:                          2.872e+04\n",
       "Date:                Fri, 25 Oct 2024   Prob (F-statistic):                        0.00\n",
       "Time:                        14:43:30   Log-Likelihood:                         -1423.4\n",
       "No. Observations:                1000   AIC:                                      2851.\n",
       "Df Residuals:                     998   BIC:                                      2861.\n",
       "Df Model:                           2                                                  \n",
       "Covariance Type:            nonrobust                                                  \n",
       "==============================================================================\n",
       "                 coef    std err          t      P>|t|      [0.025      0.975]\n",
       "------------------------------------------------------------------------------\n",
       "x1             2.6696      0.038     70.632      0.000       2.595       2.744\n",
       "x2             5.0716      0.060     84.656      0.000       4.954       5.189\n",
       "==============================================================================\n",
       "Omnibus:                        1.123   Durbin-Watson:                   2.013\n",
       "Prob(Omnibus):                  0.570   Jarque-Bera (JB):                1.034\n",
       "Skew:                           0.075   Prob(JB):                        0.596\n",
       "Kurtosis:                       3.046   Cond. No.                         3.31\n",
       "==============================================================================\n",
       "\n",
       "Notes:\n",
       "[1] R² is computed without centering (uncentered) since the model does not contain a constant.\n",
       "[2] Standard Errors assume that the covariance matrix of the errors is correctly specified.\n",
       "\"\"\""
      ]
     },
     "execution_count": 10,
     "metadata": {},
     "output_type": "execute_result"
    }
   ],
   "source": [
    "model = OLS(np.asarray(df[outcome]), np.asarray(df[[common_cause, treatment]], dtype=np.float64))\n",
    "result = model.fit()\n",
    "result.summary()"
   ]
  }
 ],
 "metadata": {
  "kernelspec": {
   "display_name": "Python 3 (ipykernel)",
   "language": "python",
   "name": "python3"
  },
  "language_info": {
   "codemirror_mode": {
    "name": "ipython",
    "version": 3
   },
   "file_extension": ".py",
   "mimetype": "text/x-python",
   "name": "python",
   "nbconvert_exporter": "python",
   "pygments_lexer": "ipython3",
   "version": "3.8.10"
  },
  "toc": {
   "base_numbering": 1,
   "nav_menu": {},
   "number_sections": false,
   "sideBar": true,
   "skip_h1_title": true,
   "title_cell": "Table of Contents",
   "title_sidebar": "Contents",
   "toc_cell": false,
   "toc_position": {},
   "toc_section_display": true,
   "toc_window_display": false
  }
 },
 "nbformat": 4,
 "nbformat_minor": 4
}
