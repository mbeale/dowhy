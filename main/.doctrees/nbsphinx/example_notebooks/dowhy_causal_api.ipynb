{
 "cells": [
  {
   "cell_type": "markdown",
   "metadata": {},
   "source": [
    "# Demo for the DoWhy causal API\n",
    "We show a simple example of adding a causal extension to any dataframe. "
   ]
  },
  {
   "cell_type": "code",
   "execution_count": 1,
   "metadata": {
    "execution": {
     "iopub.execute_input": "2024-11-22T16:01:28.713824Z",
     "iopub.status.busy": "2024-11-22T16:01:28.713391Z",
     "iopub.status.idle": "2024-11-22T16:01:30.140375Z",
     "shell.execute_reply": "2024-11-22T16:01:30.139742Z"
    }
   },
   "outputs": [],
   "source": [
    "import dowhy.datasets\n",
    "import dowhy.api\n",
    "from dowhy.graph import build_graph_from_str\n",
    "\n",
    "import numpy as np\n",
    "import pandas as pd\n",
    "\n",
    "from statsmodels.api import OLS"
   ]
  },
  {
   "cell_type": "code",
   "execution_count": 2,
   "metadata": {
    "execution": {
     "iopub.execute_input": "2024-11-22T16:01:30.142861Z",
     "iopub.status.busy": "2024-11-22T16:01:30.142345Z",
     "iopub.status.idle": "2024-11-22T16:01:30.183982Z",
     "shell.execute_reply": "2024-11-22T16:01:30.183377Z"
    }
   },
   "outputs": [
    {
     "data": {
      "text/html": [
       "<div>\n",
       "<style scoped>\n",
       "    .dataframe tbody tr th:only-of-type {\n",
       "        vertical-align: middle;\n",
       "    }\n",
       "\n",
       "    .dataframe tbody tr th {\n",
       "        vertical-align: top;\n",
       "    }\n",
       "\n",
       "    .dataframe thead th {\n",
       "        text-align: right;\n",
       "    }\n",
       "</style>\n",
       "<table border=\"1\" class=\"dataframe\">\n",
       "  <thead>\n",
       "    <tr style=\"text-align: right;\">\n",
       "      <th></th>\n",
       "      <th>W0</th>\n",
       "      <th>v0</th>\n",
       "      <th>y</th>\n",
       "    </tr>\n",
       "  </thead>\n",
       "  <tbody>\n",
       "    <tr>\n",
       "      <th>0</th>\n",
       "      <td>2.357083</td>\n",
       "      <td>True</td>\n",
       "      <td>9.125432</td>\n",
       "    </tr>\n",
       "    <tr>\n",
       "      <th>1</th>\n",
       "      <td>1.083218</td>\n",
       "      <td>True</td>\n",
       "      <td>8.333562</td>\n",
       "    </tr>\n",
       "    <tr>\n",
       "      <th>2</th>\n",
       "      <td>-1.405914</td>\n",
       "      <td>True</td>\n",
       "      <td>0.612934</td>\n",
       "    </tr>\n",
       "    <tr>\n",
       "      <th>3</th>\n",
       "      <td>0.544866</td>\n",
       "      <td>True</td>\n",
       "      <td>7.162384</td>\n",
       "    </tr>\n",
       "    <tr>\n",
       "      <th>4</th>\n",
       "      <td>0.678475</td>\n",
       "      <td>True</td>\n",
       "      <td>5.906530</td>\n",
       "    </tr>\n",
       "    <tr>\n",
       "      <th>...</th>\n",
       "      <td>...</td>\n",
       "      <td>...</td>\n",
       "      <td>...</td>\n",
       "    </tr>\n",
       "    <tr>\n",
       "      <th>995</th>\n",
       "      <td>1.141585</td>\n",
       "      <td>False</td>\n",
       "      <td>1.742434</td>\n",
       "    </tr>\n",
       "    <tr>\n",
       "      <th>996</th>\n",
       "      <td>1.448861</td>\n",
       "      <td>True</td>\n",
       "      <td>9.645512</td>\n",
       "    </tr>\n",
       "    <tr>\n",
       "      <th>997</th>\n",
       "      <td>-1.180041</td>\n",
       "      <td>False</td>\n",
       "      <td>-2.199560</td>\n",
       "    </tr>\n",
       "    <tr>\n",
       "      <th>998</th>\n",
       "      <td>0.331246</td>\n",
       "      <td>True</td>\n",
       "      <td>4.966359</td>\n",
       "    </tr>\n",
       "    <tr>\n",
       "      <th>999</th>\n",
       "      <td>-1.905690</td>\n",
       "      <td>False</td>\n",
       "      <td>-5.905464</td>\n",
       "    </tr>\n",
       "  </tbody>\n",
       "</table>\n",
       "<p>1000 rows × 3 columns</p>\n",
       "</div>"
      ],
      "text/plain": [
       "           W0     v0         y\n",
       "0    2.357083   True  9.125432\n",
       "1    1.083218   True  8.333562\n",
       "2   -1.405914   True  0.612934\n",
       "3    0.544866   True  7.162384\n",
       "4    0.678475   True  5.906530\n",
       "..        ...    ...       ...\n",
       "995  1.141585  False  1.742434\n",
       "996  1.448861   True  9.645512\n",
       "997 -1.180041  False -2.199560\n",
       "998  0.331246   True  4.966359\n",
       "999 -1.905690  False -5.905464\n",
       "\n",
       "[1000 rows x 3 columns]"
      ]
     },
     "execution_count": 2,
     "metadata": {},
     "output_type": "execute_result"
    }
   ],
   "source": [
    "data = dowhy.datasets.linear_dataset(beta=5,\n",
    "        num_common_causes=1,\n",
    "        num_instruments = 0,\n",
    "        num_samples=1000,\n",
    "        treatment_is_binary=True)\n",
    "df = data['df']\n",
    "df['y'] = df['y'] + np.random.normal(size=len(df)) # Adding noise to data. Without noise, the variance in Y|X, Z is zero, and mcmc fails.\n",
    "nx_graph = build_graph_from_str(data[\"dot_graph\"])\n",
    "\n",
    "treatment= data[\"treatment_name\"][0]\n",
    "outcome = data[\"outcome_name\"][0]\n",
    "common_cause = data[\"common_causes_names\"][0]\n",
    "df"
   ]
  },
  {
   "cell_type": "code",
   "execution_count": 3,
   "metadata": {
    "execution": {
     "iopub.execute_input": "2024-11-22T16:01:30.185910Z",
     "iopub.status.busy": "2024-11-22T16:01:30.185600Z",
     "iopub.status.idle": "2024-11-22T16:01:30.373298Z",
     "shell.execute_reply": "2024-11-22T16:01:30.372739Z"
    },
    "scrolled": true
   },
   "outputs": [
    {
     "data": {
      "text/plain": [
       "<Axes: xlabel='v0'>"
      ]
     },
     "execution_count": 3,
     "metadata": {},
     "output_type": "execute_result"
    },
    {
     "data": {
      "image/png": "[encoded data removed]",
      "text/plain": [
       "<Figure size 640x480 with 1 Axes>"
      ]
     },
     "metadata": {},
     "output_type": "display_data"
    }
   ],
   "source": [
    "# data['df'] is just a regular pandas.DataFrame\n",
    "df.causal.do(x=treatment,\n",
    "             variable_types={treatment: 'b', outcome: 'c', common_cause: 'c'},\n",
    "             outcome=outcome,\n",
    "             common_causes=[common_cause],\n",
    "            ).groupby(treatment).mean().plot(y=outcome, kind='bar')"
   ]
  },
  {
   "cell_type": "code",
   "execution_count": 4,
   "metadata": {
    "execution": {
     "iopub.execute_input": "2024-11-22T16:01:30.375140Z",
     "iopub.status.busy": "2024-11-22T16:01:30.374937Z",
     "iopub.status.idle": "2024-11-22T16:01:30.514031Z",
     "shell.execute_reply": "2024-11-22T16:01:30.513462Z"
    }
   },
   "outputs": [
    {
     "data": {
      "text/plain": [
       "<Axes: xlabel='v0'>"
      ]
     },
     "execution_count": 4,
     "metadata": {},
     "output_type": "execute_result"
    },
    {
     "data": {
      "image/png": "[encoded data removed]",
      "text/plain": [
       "<Figure size 640x480 with 1 Axes>"
      ]
     },
     "metadata": {},
     "output_type": "display_data"
    }
   ],
   "source": [
    "df.causal.do(x={treatment: 1}, \n",
    "              variable_types={treatment:'b', outcome: 'c', common_cause: 'c'}, \n",
    "              outcome=outcome,\n",
    "              method='weighting', \n",
    "              common_causes=[common_cause]\n",
    "              ).groupby(treatment).mean().plot(y=outcome, kind='bar')"
   ]
  },
  {
   "cell_type": "code",
   "execution_count": 5,
   "metadata": {
    "execution": {
     "iopub.execute_input": "2024-11-22T16:01:30.516126Z",
     "iopub.status.busy": "2024-11-22T16:01:30.515633Z",
     "iopub.status.idle": "2024-11-22T16:01:30.539729Z",
     "shell.execute_reply": "2024-11-22T16:01:30.539210Z"
    }
   },
   "outputs": [],
   "source": [
    "cdf_1 = df.causal.do(x={treatment: 1}, \n",
    "              variable_types={treatment: 'b', outcome: 'c', common_cause: 'c'}, \n",
    "              outcome=outcome, \n",
    "              graph=nx_graph\n",
    "              )\n",
    "\n",
    "cdf_0 = df.causal.do(x={treatment: 0}, \n",
    "              variable_types={treatment: 'b', outcome: 'c', common_cause: 'c'}, \n",
    "              outcome=outcome, \n",
    "              graph=nx_graph\n",
    "              )\n"
   ]
  },
  {
   "cell_type": "code",
   "execution_count": 6,
   "metadata": {
    "execution": {
     "iopub.execute_input": "2024-11-22T16:01:30.541989Z",
     "iopub.status.busy": "2024-11-22T16:01:30.541358Z",
     "iopub.status.idle": "2024-11-22T16:01:30.550589Z",
     "shell.execute_reply": "2024-11-22T16:01:30.550000Z"
    },
    "scrolled": true
   },
   "outputs": [
    {
     "data": {
      "text/html": [
       "<div>\n",
       "<style scoped>\n",
       "    .dataframe tbody tr th:only-of-type {\n",
       "        vertical-align: middle;\n",
       "    }\n",
       "\n",
       "    .dataframe tbody tr th {\n",
       "        vertical-align: top;\n",
       "    }\n",
       "\n",
       "    .dataframe thead th {\n",
       "        text-align: right;\n",
       "    }\n",
       "</style>\n",
       "<table border=\"1\" class=\"dataframe\">\n",
       "  <thead>\n",
       "    <tr style=\"text-align: right;\">\n",
       "      <th></th>\n",
       "      <th>W0</th>\n",
       "      <th>v0</th>\n",
       "      <th>y</th>\n",
       "      <th>propensity_score</th>\n",
       "      <th>weight</th>\n",
       "    </tr>\n",
       "  </thead>\n",
       "  <tbody>\n",
       "    <tr>\n",
       "      <th>0</th>\n",
       "      <td>1.863823</td>\n",
       "      <td>False</td>\n",
       "      <td>5.043438</td>\n",
       "      <td>0.341879</td>\n",
       "      <td>2.925007</td>\n",
       "    </tr>\n",
       "    <tr>\n",
       "      <th>1</th>\n",
       "      <td>-0.942918</td>\n",
       "      <td>False</td>\n",
       "      <td>-3.132091</td>\n",
       "      <td>0.628782</td>\n",
       "      <td>1.590376</td>\n",
       "    </tr>\n",
       "    <tr>\n",
       "      <th>2</th>\n",
       "      <td>2.051547</td>\n",
       "      <td>False</td>\n",
       "      <td>5.045559</td>\n",
       "      <td>0.324322</td>\n",
       "      <td>3.083357</td>\n",
       "    </tr>\n",
       "    <tr>\n",
       "      <th>3</th>\n",
       "      <td>0.272542</td>\n",
       "      <td>False</td>\n",
       "      <td>1.963705</td>\n",
       "      <td>0.503791</td>\n",
       "      <td>1.984952</td>\n",
       "    </tr>\n",
       "    <tr>\n",
       "      <th>4</th>\n",
       "      <td>-0.626944</td>\n",
       "      <td>False</td>\n",
       "      <td>-2.131502</td>\n",
       "      <td>0.597230</td>\n",
       "      <td>1.674395</td>\n",
       "    </tr>\n",
       "    <tr>\n",
       "      <th>...</th>\n",
       "      <td>...</td>\n",
       "      <td>...</td>\n",
       "      <td>...</td>\n",
       "      <td>...</td>\n",
       "      <td>...</td>\n",
       "    </tr>\n",
       "    <tr>\n",
       "      <th>995</th>\n",
       "      <td>0.274917</td>\n",
       "      <td>False</td>\n",
       "      <td>1.188372</td>\n",
       "      <td>0.503541</td>\n",
       "      <td>1.985937</td>\n",
       "    </tr>\n",
       "    <tr>\n",
       "      <th>996</th>\n",
       "      <td>2.142835</td>\n",
       "      <td>False</td>\n",
       "      <td>3.724875</td>\n",
       "      <td>0.315955</td>\n",
       "      <td>3.165004</td>\n",
       "    </tr>\n",
       "    <tr>\n",
       "      <th>997</th>\n",
       "      <td>1.085725</td>\n",
       "      <td>False</td>\n",
       "      <td>1.130440</td>\n",
       "      <td>0.418905</td>\n",
       "      <td>2.387177</td>\n",
       "    </tr>\n",
       "    <tr>\n",
       "      <th>998</th>\n",
       "      <td>1.057579</td>\n",
       "      <td>False</td>\n",
       "      <td>3.510709</td>\n",
       "      <td>0.421793</td>\n",
       "      <td>2.370833</td>\n",
       "    </tr>\n",
       "    <tr>\n",
       "      <th>999</th>\n",
       "      <td>0.407694</td>\n",
       "      <td>False</td>\n",
       "      <td>1.097901</td>\n",
       "      <td>0.489564</td>\n",
       "      <td>2.042634</td>\n",
       "    </tr>\n",
       "  </tbody>\n",
       "</table>\n",
       "<p>1000 rows × 5 columns</p>\n",
       "</div>"
      ],
      "text/plain": [
       "           W0     v0         y  propensity_score    weight\n",
       "0    1.863823  False  5.043438          0.341879  2.925007\n",
       "1   -0.942918  False -3.132091          0.628782  1.590376\n",
       "2    2.051547  False  5.045559          0.324322  3.083357\n",
       "3    0.272542  False  1.963705          0.503791  1.984952\n",
       "4   -0.626944  False -2.131502          0.597230  1.674395\n",
       "..        ...    ...       ...               ...       ...\n",
       "995  0.274917  False  1.188372          0.503541  1.985937\n",
       "996  2.142835  False  3.724875          0.315955  3.165004\n",
       "997  1.085725  False  1.130440          0.418905  2.387177\n",
       "998  1.057579  False  3.510709          0.421793  2.370833\n",
       "999  0.407694  False  1.097901          0.489564  2.042634\n",
       "\n",
       "[1000 rows x 5 columns]"
      ]
     },
     "execution_count": 6,
     "metadata": {},
     "output_type": "execute_result"
    }
   ],
   "source": [
    "cdf_0"
   ]
  },
  {
   "cell_type": "code",
   "execution_count": 7,
   "metadata": {
    "execution": {
     "iopub.execute_input": "2024-11-22T16:01:30.552525Z",
     "iopub.status.busy": "2024-11-22T16:01:30.552102Z",
     "iopub.status.idle": "2024-11-22T16:01:30.560871Z",
     "shell.execute_reply": "2024-11-22T16:01:30.560266Z"
    }
   },
   "outputs": [
    {
     "data": {
      "text/html": [
       "<div>\n",
       "<style scoped>\n",
       "    .dataframe tbody tr th:only-of-type {\n",
       "        vertical-align: middle;\n",
       "    }\n",
       "\n",
       "    .dataframe tbody tr th {\n",
       "        vertical-align: top;\n",
       "    }\n",
       "\n",
       "    .dataframe thead th {\n",
       "        text-align: right;\n",
       "    }\n",
       "</style>\n",
       "<table border=\"1\" class=\"dataframe\">\n",
       "  <thead>\n",
       "    <tr style=\"text-align: right;\">\n",
       "      <th></th>\n",
       "      <th>W0</th>\n",
       "      <th>v0</th>\n",
       "      <th>y</th>\n",
       "      <th>propensity_score</th>\n",
       "      <th>weight</th>\n",
       "    </tr>\n",
       "  </thead>\n",
       "  <tbody>\n",
       "    <tr>\n",
       "      <th>0</th>\n",
       "      <td>0.700487</td>\n",
       "      <td>True</td>\n",
       "      <td>6.066825</td>\n",
       "      <td>0.541168</td>\n",
       "      <td>1.847855</td>\n",
       "    </tr>\n",
       "    <tr>\n",
       "      <th>1</th>\n",
       "      <td>3.784091</td>\n",
       "      <td>True</td>\n",
       "      <td>12.722615</td>\n",
       "      <td>0.812076</td>\n",
       "      <td>1.231411</td>\n",
       "    </tr>\n",
       "    <tr>\n",
       "      <th>2</th>\n",
       "      <td>-0.491960</td>\n",
       "      <td>True</td>\n",
       "      <td>6.804122</td>\n",
       "      <td>0.416515</td>\n",
       "      <td>2.400874</td>\n",
       "    </tr>\n",
       "    <tr>\n",
       "      <th>3</th>\n",
       "      <td>2.036653</td>\n",
       "      <td>True</td>\n",
       "      <td>10.598381</td>\n",
       "      <td>0.674302</td>\n",
       "      <td>1.483014</td>\n",
       "    </tr>\n",
       "    <tr>\n",
       "      <th>4</th>\n",
       "      <td>0.350898</td>\n",
       "      <td>True</td>\n",
       "      <td>6.921556</td>\n",
       "      <td>0.504458</td>\n",
       "      <td>1.982325</td>\n",
       "    </tr>\n",
       "    <tr>\n",
       "      <th>...</th>\n",
       "      <td>...</td>\n",
       "      <td>...</td>\n",
       "      <td>...</td>\n",
       "      <td>...</td>\n",
       "      <td>...</td>\n",
       "    </tr>\n",
       "    <tr>\n",
       "      <th>995</th>\n",
       "      <td>-0.334890</td>\n",
       "      <td>True</td>\n",
       "      <td>5.265809</td>\n",
       "      <td>0.432673</td>\n",
       "      <td>2.311215</td>\n",
       "    </tr>\n",
       "    <tr>\n",
       "      <th>996</th>\n",
       "      <td>0.624873</td>\n",
       "      <td>True</td>\n",
       "      <td>8.145840</td>\n",
       "      <td>0.533252</td>\n",
       "      <td>1.875286</td>\n",
       "    </tr>\n",
       "    <tr>\n",
       "      <th>997</th>\n",
       "      <td>-0.635418</td>\n",
       "      <td>True</td>\n",
       "      <td>2.679304</td>\n",
       "      <td>0.401911</td>\n",
       "      <td>2.488111</td>\n",
       "    </tr>\n",
       "    <tr>\n",
       "      <th>998</th>\n",
       "      <td>1.072236</td>\n",
       "      <td>True</td>\n",
       "      <td>8.313301</td>\n",
       "      <td>0.579712</td>\n",
       "      <td>1.724995</td>\n",
       "    </tr>\n",
       "    <tr>\n",
       "      <th>999</th>\n",
       "      <td>0.011895</td>\n",
       "      <td>True</td>\n",
       "      <td>4.776788</td>\n",
       "      <td>0.468810</td>\n",
       "      <td>2.133060</td>\n",
       "    </tr>\n",
       "  </tbody>\n",
       "</table>\n",
       "<p>1000 rows × 5 columns</p>\n",
       "</div>"
      ],
      "text/plain": [
       "           W0    v0          y  propensity_score    weight\n",
       "0    0.700487  True   6.066825          0.541168  1.847855\n",
       "1    3.784091  True  12.722615          0.812076  1.231411\n",
       "2   -0.491960  True   6.804122          0.416515  2.400874\n",
       "3    2.036653  True  10.598381          0.674302  1.483014\n",
       "4    0.350898  True   6.921556          0.504458  1.982325\n",
       "..        ...   ...        ...               ...       ...\n",
       "995 -0.334890  True   5.265809          0.432673  2.311215\n",
       "996  0.624873  True   8.145840          0.533252  1.875286\n",
       "997 -0.635418  True   2.679304          0.401911  2.488111\n",
       "998  1.072236  True   8.313301          0.579712  1.724995\n",
       "999  0.011895  True   4.776788          0.468810  2.133060\n",
       "\n",
       "[1000 rows x 5 columns]"
      ]
     },
     "execution_count": 7,
     "metadata": {},
     "output_type": "execute_result"
    }
   ],
   "source": [
    "cdf_1"
   ]
  },
  {
   "cell_type": "markdown",
   "metadata": {},
   "source": [
    "## Comparing the estimate to Linear Regression\n",
    "First, estimating the effect using the causal data frame, and the 95% confidence interval."
   ]
  },
  {
   "cell_type": "code",
   "execution_count": 8,
   "metadata": {
    "execution": {
     "iopub.execute_input": "2024-11-22T16:01:30.562854Z",
     "iopub.status.busy": "2024-11-22T16:01:30.562327Z",
     "iopub.status.idle": "2024-11-22T16:01:30.609158Z",
     "shell.execute_reply": "2024-11-22T16:01:30.608549Z"
    }
   },
   "outputs": [
    {
     "data": {
      "image/png": "[encoded data removed]",
      "text/latex": [
       "$\\displaystyle 5.01140720806203$"
      ],
      "text/plain": [
       "5.0114072080620335"
      ]
     },
     "execution_count": 8,
     "metadata": {},
     "output_type": "execute_result"
    }
   ],
   "source": [
    "(cdf_1['y'] - cdf_0['y']).mean()"
   ]
  },
  {
   "cell_type": "code",
   "execution_count": 9,
   "metadata": {
    "execution": {
     "iopub.execute_input": "2024-11-22T16:01:30.610972Z",
     "iopub.status.busy": "2024-11-22T16:01:30.610664Z",
     "iopub.status.idle": "2024-11-22T16:01:30.626460Z",
     "shell.execute_reply": "2024-11-22T16:01:30.625983Z"
    }
   },
   "outputs": [
    {
     "data": {
      "image/png": "[encoded data removed]",
      "text/latex": [
       "$\\displaystyle 0.233198698453047$"
      ],
      "text/plain": [
       "0.23319869845304705"
      ]
     },
     "execution_count": 9,
     "metadata": {},
     "output_type": "execute_result"
    }
   ],
   "source": [
    "1.96*(cdf_1['y'] - cdf_0['y']).std() / np.sqrt(len(df))"
   ]
  },
  {
   "cell_type": "markdown",
   "metadata": {},
   "source": [
    "Comparing to the estimate from OLS."
   ]
  },
  {
   "cell_type": "code",
   "execution_count": 10,
   "metadata": {
    "execution": {
     "iopub.execute_input": "2024-11-22T16:01:30.628228Z",
     "iopub.status.busy": "2024-11-22T16:01:30.627941Z",
     "iopub.status.idle": "2024-11-22T16:01:30.646722Z",
     "shell.execute_reply": "2024-11-22T16:01:30.646125Z"
    }
   },
   "outputs": [
    {
     "data": {
      "text/html": [
       "<table class=\"simpletable\">\n",
       "<caption>OLS Regression Results</caption>\n",
       "<tr>\n",
       "  <th>Dep. Variable:</th>            <td>y</td>        <th>  R-squared (uncentered):</th>      <td>   0.966</td> \n",
       "</tr>\n",
       "<tr>\n",
       "  <th>Model:</th>                   <td>OLS</td>       <th>  Adj. R-squared (uncentered):</th> <td>   0.966</td> \n",
       "</tr>\n",
       "<tr>\n",
       "  <th>Method:</th>             <td>Least Squares</td>  <th>  F-statistic:       </th>          <td>1.425e+04</td>\n",
       "</tr>\n",
       "<tr>\n",
       "  <th>Date:</th>             <td>Fri, 22 Nov 2024</td> <th>  Prob (F-statistic):</th>           <td>  0.00</td>  \n",
       "</tr>\n",
       "<tr>\n",
       "  <th>Time:</th>                 <td>16:01:30</td>     <th>  Log-Likelihood:    </th>          <td> -1453.3</td> \n",
       "</tr>\n",
       "<tr>\n",
       "  <th>No. Observations:</th>      <td>  1000</td>      <th>  AIC:               </th>          <td>   2911.</td> \n",
       "</tr>\n",
       "<tr>\n",
       "  <th>Df Residuals:</th>          <td>   998</td>      <th>  BIC:               </th>          <td>   2920.</td> \n",
       "</tr>\n",
       "<tr>\n",
       "  <th>Df Model:</th>              <td>     2</td>      <th>                     </th>              <td> </td>    \n",
       "</tr>\n",
       "<tr>\n",
       "  <th>Covariance Type:</th>      <td>nonrobust</td>    <th>                     </th>              <td> </td>    \n",
       "</tr>\n",
       "</table>\n",
       "<table class=\"simpletable\">\n",
       "<tr>\n",
       "   <td></td>     <th>coef</th>     <th>std err</th>      <th>t</th>      <th>P>|t|</th>  <th>[0.025</th>    <th>0.975]</th>  \n",
       "</tr>\n",
       "<tr>\n",
       "  <th>x1</th> <td>    2.4043</td> <td>    0.033</td> <td>   73.345</td> <td> 0.000</td> <td>    2.340</td> <td>    2.469</td>\n",
       "</tr>\n",
       "<tr>\n",
       "  <th>x2</th> <td>    5.0004</td> <td>    0.052</td> <td>   96.720</td> <td> 0.000</td> <td>    4.899</td> <td>    5.102</td>\n",
       "</tr>\n",
       "</table>\n",
       "<table class=\"simpletable\">\n",
       "<tr>\n",
       "  <th>Omnibus:</th>       <td> 0.868</td> <th>  Durbin-Watson:     </th> <td>   1.919</td>\n",
       "</tr>\n",
       "<tr>\n",
       "  <th>Prob(Omnibus):</th> <td> 0.648</td> <th>  Jarque-Bera (JB):  </th> <td>   0.742</td>\n",
       "</tr>\n",
       "<tr>\n",
       "  <th>Skew:</th>          <td> 0.003</td> <th>  Prob(JB):          </th> <td>   0.690</td>\n",
       "</tr>\n",
       "<tr>\n",
       "  <th>Kurtosis:</th>      <td> 3.133</td> <th>  Cond. No.          </th> <td>    2.05</td>\n",
       "</tr>\n",
       "</table><br/><br/>Notes:<br/>[1] R² is computed without centering (uncentered) since the model does not contain a constant.<br/>[2] Standard Errors assume that the covariance matrix of the errors is correctly specified."
      ],
      "text/latex": [
       "\\begin{center}\n",
       "\\begin{tabular}{lclc}\n",
       "\\toprule\n",
       "\\textbf{Dep. Variable:}    &        y         & \\textbf{  R-squared (uncentered):}      &     0.966   \\\\\n",
       "\\textbf{Model:}            &       OLS        & \\textbf{  Adj. R-squared (uncentered):} &     0.966   \\\\\n",
       "\\textbf{Method:}           &  Least Squares   & \\textbf{  F-statistic:       }          & 1.425e+04   \\\\\n",
       "\\textbf{Date:}             & Fri, 22 Nov 2024 & \\textbf{  Prob (F-statistic):}          &     0.00    \\\\\n",
       "\\textbf{Time:}             &     16:01:30     & \\textbf{  Log-Likelihood:    }          &   -1453.3   \\\\\n",
       "\\textbf{No. Observations:} &        1000      & \\textbf{  AIC:               }          &     2911.   \\\\\n",
       "\\textbf{Df Residuals:}     &         998      & \\textbf{  BIC:               }          &     2920.   \\\\\n",
       "\\textbf{Df Model:}         &           2      & \\textbf{                     }          &             \\\\\n",
       "\\textbf{Covariance Type:}  &    nonrobust     & \\textbf{                     }          &             \\\\\n",
       "\\bottomrule\n",
       "\\end{tabular}\n",
       "\\begin{tabular}{lcccccc}\n",
       "            & \\textbf{coef} & \\textbf{std err} & \\textbf{t} & \\textbf{P$> |$t$|$} & \\textbf{[0.025} & \\textbf{0.975]}  \\\\\n",
       "\\midrule\n",
       "\\textbf{x1} &       2.4043  &        0.033     &    73.345  &         0.000        &        2.340    &        2.469     \\\\\n",
       "\\textbf{x2} &       5.0004  &        0.052     &    96.720  &         0.000        &        4.899    &        5.102     \\\\\n",
       "\\bottomrule\n",
       "\\end{tabular}\n",
       "\\begin{tabular}{lclc}\n",
       "\\textbf{Omnibus:}       &  0.868 & \\textbf{  Durbin-Watson:     } &    1.919  \\\\\n",
       "\\textbf{Prob(Omnibus):} &  0.648 & \\textbf{  Jarque-Bera (JB):  } &    0.742  \\\\\n",
       "\\textbf{Skew:}          &  0.003 & \\textbf{  Prob(JB):          } &    0.690  \\\\\n",
       "\\textbf{Kurtosis:}      &  3.133 & \\textbf{  Cond. No.          } &     2.05  \\\\\n",
       "\\bottomrule\n",
       "\\end{tabular}\n",
       "%\\caption{OLS Regression Results}\n",
       "\\end{center}\n",
       "\n",
       "Notes: \\newline\n",
       " [1] R² is computed without centering (uncentered) since the model does not contain a constant. \\newline\n",
       " [2] Standard Errors assume that the covariance matrix of the errors is correctly specified."
      ],
      "text/plain": [
       "<class 'statsmodels.iolib.summary.Summary'>\n",
       "\"\"\"\n",
       "                                 OLS Regression Results                                \n",
       "=======================================================================================\n",
       "Dep. Variable:                      y   R-squared (uncentered):                   0.966\n",
       "Model:                            OLS   Adj. R-squared (uncentered):              0.966\n",
       "Method:                 Least Squares   F-statistic:                          1.425e+04\n",
       "Date:                Fri, 22 Nov 2024   Prob (F-statistic):                        0.00\n",
       "Time:                        16:01:30   Log-Likelihood:                         -1453.3\n",
       "No. Observations:                1000   AIC:                                      2911.\n",
       "Df Residuals:                     998   BIC:                                      2920.\n",
       "Df Model:                           2                                                  \n",
       "Covariance Type:            nonrobust                                                  \n",
       "==============================================================================\n",
       "                 coef    std err          t      P>|t|      [0.025      0.975]\n",
       "------------------------------------------------------------------------------\n",
       "x1             2.4043      0.033     73.345      0.000       2.340       2.469\n",
       "x2             5.0004      0.052     96.720      0.000       4.899       5.102\n",
       "==============================================================================\n",
       "Omnibus:                        0.868   Durbin-Watson:                   1.919\n",
       "Prob(Omnibus):                  0.648   Jarque-Bera (JB):                0.742\n",
       "Skew:                           0.003   Prob(JB):                        0.690\n",
       "Kurtosis:                       3.133   Cond. No.                         2.05\n",
       "==============================================================================\n",
       "\n",
       "Notes:\n",
       "[1] R² is computed without centering (uncentered) since the model does not contain a constant.\n",
       "[2] Standard Errors assume that the covariance matrix of the errors is correctly specified.\n",
       "\"\"\""
      ]
     },
     "execution_count": 10,
     "metadata": {},
     "output_type": "execute_result"
    }
   ],
   "source": [
    "model = OLS(np.asarray(df[outcome]), np.asarray(df[[common_cause, treatment]], dtype=np.float64))\n",
    "result = model.fit()\n",
    "result.summary()"
   ]
  }
 ],
 "metadata": {
  "kernelspec": {
   "display_name": "Python 3 (ipykernel)",
   "language": "python",
   "name": "python3"
  },
  "language_info": {
   "codemirror_mode": {
    "name": "ipython",
    "version": 3
   },
   "file_extension": ".py",
   "mimetype": "text/x-python",
   "name": "python",
   "nbconvert_exporter": "python",
   "pygments_lexer": "ipython3",
   "version": "3.8.10"
  },
  "toc": {
   "base_numbering": 1,
   "nav_menu": {},
   "number_sections": false,
   "sideBar": true,
   "skip_h1_title": true,
   "title_cell": "Table of Contents",
   "title_sidebar": "Contents",
   "toc_cell": false,
   "toc_position": {},
   "toc_section_display": true,
   "toc_window_display": false
  }
 },
 "nbformat": 4,
 "nbformat_minor": 4
}
