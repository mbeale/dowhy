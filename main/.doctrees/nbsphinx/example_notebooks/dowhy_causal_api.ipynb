{
 "cells": [
  {
   "cell_type": "markdown",
   "metadata": {},
   "source": [
    "# Demo for the DoWhy causal API\n",
    "We show a simple example of adding a causal extension to any dataframe. "
   ]
  },
  {
   "cell_type": "code",
   "execution_count": 1,
   "metadata": {
    "execution": {
     "iopub.execute_input": "2024-11-05T16:47:57.937658Z",
     "iopub.status.busy": "2024-11-05T16:47:57.937224Z",
     "iopub.status.idle": "2024-11-05T16:47:59.364730Z",
     "shell.execute_reply": "2024-11-05T16:47:59.364125Z"
    }
   },
   "outputs": [],
   "source": [
    "import dowhy.datasets\n",
    "import dowhy.api\n",
    "from dowhy.graph import build_graph_from_str\n",
    "\n",
    "import numpy as np\n",
    "import pandas as pd\n",
    "\n",
    "from statsmodels.api import OLS"
   ]
  },
  {
   "cell_type": "code",
   "execution_count": 2,
   "metadata": {
    "execution": {
     "iopub.execute_input": "2024-11-05T16:47:59.367088Z",
     "iopub.status.busy": "2024-11-05T16:47:59.366651Z",
     "iopub.status.idle": "2024-11-05T16:47:59.406556Z",
     "shell.execute_reply": "2024-11-05T16:47:59.405965Z"
    }
   },
   "outputs": [
    {
     "data": {
      "text/html": [
       "<div>\n",
       "<style scoped>\n",
       "    .dataframe tbody tr th:only-of-type {\n",
       "        vertical-align: middle;\n",
       "    }\n",
       "\n",
       "    .dataframe tbody tr th {\n",
       "        vertical-align: top;\n",
       "    }\n",
       "\n",
       "    .dataframe thead th {\n",
       "        text-align: right;\n",
       "    }\n",
       "</style>\n",
       "<table border=\"1\" class=\"dataframe\">\n",
       "  <thead>\n",
       "    <tr style=\"text-align: right;\">\n",
       "      <th></th>\n",
       "      <th>W0</th>\n",
       "      <th>v0</th>\n",
       "      <th>y</th>\n",
       "    </tr>\n",
       "  </thead>\n",
       "  <tbody>\n",
       "    <tr>\n",
       "      <th>0</th>\n",
       "      <td>1.404397</td>\n",
       "      <td>True</td>\n",
       "      <td>8.080161</td>\n",
       "    </tr>\n",
       "    <tr>\n",
       "      <th>1</th>\n",
       "      <td>0.751381</td>\n",
       "      <td>True</td>\n",
       "      <td>6.466268</td>\n",
       "    </tr>\n",
       "    <tr>\n",
       "      <th>2</th>\n",
       "      <td>-0.653535</td>\n",
       "      <td>True</td>\n",
       "      <td>5.134339</td>\n",
       "    </tr>\n",
       "    <tr>\n",
       "      <th>3</th>\n",
       "      <td>1.301846</td>\n",
       "      <td>True</td>\n",
       "      <td>5.915189</td>\n",
       "    </tr>\n",
       "    <tr>\n",
       "      <th>4</th>\n",
       "      <td>-1.025060</td>\n",
       "      <td>False</td>\n",
       "      <td>-1.301817</td>\n",
       "    </tr>\n",
       "    <tr>\n",
       "      <th>...</th>\n",
       "      <td>...</td>\n",
       "      <td>...</td>\n",
       "      <td>...</td>\n",
       "    </tr>\n",
       "    <tr>\n",
       "      <th>995</th>\n",
       "      <td>-0.432951</td>\n",
       "      <td>False</td>\n",
       "      <td>-1.511095</td>\n",
       "    </tr>\n",
       "    <tr>\n",
       "      <th>996</th>\n",
       "      <td>1.323255</td>\n",
       "      <td>True</td>\n",
       "      <td>5.905153</td>\n",
       "    </tr>\n",
       "    <tr>\n",
       "      <th>997</th>\n",
       "      <td>0.224690</td>\n",
       "      <td>False</td>\n",
       "      <td>1.229888</td>\n",
       "    </tr>\n",
       "    <tr>\n",
       "      <th>998</th>\n",
       "      <td>1.403730</td>\n",
       "      <td>True</td>\n",
       "      <td>7.478528</td>\n",
       "    </tr>\n",
       "    <tr>\n",
       "      <th>999</th>\n",
       "      <td>-0.108152</td>\n",
       "      <td>False</td>\n",
       "      <td>-2.758677</td>\n",
       "    </tr>\n",
       "  </tbody>\n",
       "</table>\n",
       "<p>1000 rows × 3 columns</p>\n",
       "</div>"
      ],
      "text/plain": [
       "           W0     v0         y\n",
       "0    1.404397   True  8.080161\n",
       "1    0.751381   True  6.466268\n",
       "2   -0.653535   True  5.134339\n",
       "3    1.301846   True  5.915189\n",
       "4   -1.025060  False -1.301817\n",
       "..        ...    ...       ...\n",
       "995 -0.432951  False -1.511095\n",
       "996  1.323255   True  5.905153\n",
       "997  0.224690  False  1.229888\n",
       "998  1.403730   True  7.478528\n",
       "999 -0.108152  False -2.758677\n",
       "\n",
       "[1000 rows x 3 columns]"
      ]
     },
     "execution_count": 2,
     "metadata": {},
     "output_type": "execute_result"
    }
   ],
   "source": [
    "data = dowhy.datasets.linear_dataset(beta=5,\n",
    "        num_common_causes=1,\n",
    "        num_instruments = 0,\n",
    "        num_samples=1000,\n",
    "        treatment_is_binary=True)\n",
    "df = data['df']\n",
    "df['y'] = df['y'] + np.random.normal(size=len(df)) # Adding noise to data. Without noise, the variance in Y|X, Z is zero, and mcmc fails.\n",
    "nx_graph = build_graph_from_str(data[\"dot_graph\"])\n",
    "\n",
    "treatment= data[\"treatment_name\"][0]\n",
    "outcome = data[\"outcome_name\"][0]\n",
    "common_cause = data[\"common_causes_names\"][0]\n",
    "df"
   ]
  },
  {
   "cell_type": "code",
   "execution_count": 3,
   "metadata": {
    "execution": {
     "iopub.execute_input": "2024-11-05T16:47:59.408473Z",
     "iopub.status.busy": "2024-11-05T16:47:59.408127Z",
     "iopub.status.idle": "2024-11-05T16:47:59.567098Z",
     "shell.execute_reply": "2024-11-05T16:47:59.566413Z"
    },
    "scrolled": true
   },
   "outputs": [
    {
     "data": {
      "text/plain": [
       "<Axes: xlabel='v0'>"
      ]
     },
     "execution_count": 3,
     "metadata": {},
     "output_type": "execute_result"
    },
    {
     "data": {
      "image/png": "[encoded data removed]",
      "text/plain": [
       "<Figure size 640x480 with 1 Axes>"
      ]
     },
     "metadata": {},
     "output_type": "display_data"
    }
   ],
   "source": [
    "# data['df'] is just a regular pandas.DataFrame\n",
    "df.causal.do(x=treatment,\n",
    "             variable_types={treatment: 'b', outcome: 'c', common_cause: 'c'},\n",
    "             outcome=outcome,\n",
    "             common_causes=[common_cause],\n",
    "            ).groupby(treatment).mean().plot(y=outcome, kind='bar')"
   ]
  },
  {
   "cell_type": "code",
   "execution_count": 4,
   "metadata": {
    "execution": {
     "iopub.execute_input": "2024-11-05T16:47:59.569285Z",
     "iopub.status.busy": "2024-11-05T16:47:59.568895Z",
     "iopub.status.idle": "2024-11-05T16:47:59.679825Z",
     "shell.execute_reply": "2024-11-05T16:47:59.679140Z"
    }
   },
   "outputs": [
    {
     "data": {
      "text/plain": [
       "<Axes: xlabel='v0'>"
      ]
     },
     "execution_count": 4,
     "metadata": {},
     "output_type": "execute_result"
    },
    {
     "data": {
      "image/png": "[encoded data removed]",
      "text/plain": [
       "<Figure size 640x480 with 1 Axes>"
      ]
     },
     "metadata": {},
     "output_type": "display_data"
    }
   ],
   "source": [
    "df.causal.do(x={treatment: 1}, \n",
    "              variable_types={treatment:'b', outcome: 'c', common_cause: 'c'}, \n",
    "              outcome=outcome,\n",
    "              method='weighting', \n",
    "              common_causes=[common_cause]\n",
    "              ).groupby(treatment).mean().plot(y=outcome, kind='bar')"
   ]
  },
  {
   "cell_type": "code",
   "execution_count": 5,
   "metadata": {
    "execution": {
     "iopub.execute_input": "2024-11-05T16:47:59.681887Z",
     "iopub.status.busy": "2024-11-05T16:47:59.681691Z",
     "iopub.status.idle": "2024-11-05T16:47:59.703566Z",
     "shell.execute_reply": "2024-11-05T16:47:59.702949Z"
    }
   },
   "outputs": [],
   "source": [
    "cdf_1 = df.causal.do(x={treatment: 1}, \n",
    "              variable_types={treatment: 'b', outcome: 'c', common_cause: 'c'}, \n",
    "              outcome=outcome, \n",
    "              graph=nx_graph\n",
    "              )\n",
    "\n",
    "cdf_0 = df.causal.do(x={treatment: 0}, \n",
    "              variable_types={treatment: 'b', outcome: 'c', common_cause: 'c'}, \n",
    "              outcome=outcome, \n",
    "              graph=nx_graph\n",
    "              )\n"
   ]
  },
  {
   "cell_type": "code",
   "execution_count": 6,
   "metadata": {
    "execution": {
     "iopub.execute_input": "2024-11-05T16:47:59.705391Z",
     "iopub.status.busy": "2024-11-05T16:47:59.705182Z",
     "iopub.status.idle": "2024-11-05T16:47:59.713979Z",
     "shell.execute_reply": "2024-11-05T16:47:59.713419Z"
    },
    "scrolled": true
   },
   "outputs": [
    {
     "data": {
      "text/html": [
       "<div>\n",
       "<style scoped>\n",
       "    .dataframe tbody tr th:only-of-type {\n",
       "        vertical-align: middle;\n",
       "    }\n",
       "\n",
       "    .dataframe tbody tr th {\n",
       "        vertical-align: top;\n",
       "    }\n",
       "\n",
       "    .dataframe thead th {\n",
       "        text-align: right;\n",
       "    }\n",
       "</style>\n",
       "<table border=\"1\" class=\"dataframe\">\n",
       "  <thead>\n",
       "    <tr style=\"text-align: right;\">\n",
       "      <th></th>\n",
       "      <th>W0</th>\n",
       "      <th>v0</th>\n",
       "      <th>y</th>\n",
       "      <th>propensity_score</th>\n",
       "      <th>weight</th>\n",
       "    </tr>\n",
       "  </thead>\n",
       "  <tbody>\n",
       "    <tr>\n",
       "      <th>0</th>\n",
       "      <td>-1.028677</td>\n",
       "      <td>False</td>\n",
       "      <td>-2.470328</td>\n",
       "      <td>0.900403</td>\n",
       "      <td>1.110613</td>\n",
       "    </tr>\n",
       "    <tr>\n",
       "      <th>1</th>\n",
       "      <td>0.213444</td>\n",
       "      <td>False</td>\n",
       "      <td>-0.206011</td>\n",
       "      <td>0.359027</td>\n",
       "      <td>2.785307</td>\n",
       "    </tr>\n",
       "    <tr>\n",
       "      <th>2</th>\n",
       "      <td>-0.418499</td>\n",
       "      <td>False</td>\n",
       "      <td>-0.395189</td>\n",
       "      <td>0.697502</td>\n",
       "      <td>1.433688</td>\n",
       "    </tr>\n",
       "    <tr>\n",
       "      <th>3</th>\n",
       "      <td>1.487509</td>\n",
       "      <td>False</td>\n",
       "      <td>3.571227</td>\n",
       "      <td>0.031297</td>\n",
       "      <td>31.951471</td>\n",
       "    </tr>\n",
       "    <tr>\n",
       "      <th>4</th>\n",
       "      <td>0.995196</td>\n",
       "      <td>False</td>\n",
       "      <td>-0.077418</td>\n",
       "      <td>0.088664</td>\n",
       "      <td>11.278515</td>\n",
       "    </tr>\n",
       "    <tr>\n",
       "      <th>...</th>\n",
       "      <td>...</td>\n",
       "      <td>...</td>\n",
       "      <td>...</td>\n",
       "      <td>...</td>\n",
       "      <td>...</td>\n",
       "    </tr>\n",
       "    <tr>\n",
       "      <th>995</th>\n",
       "      <td>0.904462</td>\n",
       "      <td>False</td>\n",
       "      <td>2.476156</td>\n",
       "      <td>0.106511</td>\n",
       "      <td>9.388714</td>\n",
       "    </tr>\n",
       "    <tr>\n",
       "      <th>996</th>\n",
       "      <td>0.245431</td>\n",
       "      <td>False</td>\n",
       "      <td>1.584834</td>\n",
       "      <td>0.342716</td>\n",
       "      <td>2.917866</td>\n",
       "    </tr>\n",
       "    <tr>\n",
       "      <th>997</th>\n",
       "      <td>-0.319408</td>\n",
       "      <td>False</td>\n",
       "      <td>-0.313500</td>\n",
       "      <td>0.648750</td>\n",
       "      <td>1.541425</td>\n",
       "    </tr>\n",
       "    <tr>\n",
       "      <th>998</th>\n",
       "      <td>-0.526475</td>\n",
       "      <td>False</td>\n",
       "      <td>-0.832035</td>\n",
       "      <td>0.745965</td>\n",
       "      <td>1.340546</td>\n",
       "    </tr>\n",
       "    <tr>\n",
       "      <th>999</th>\n",
       "      <td>1.278624</td>\n",
       "      <td>False</td>\n",
       "      <td>0.554448</td>\n",
       "      <td>0.049047</td>\n",
       "      <td>20.388766</td>\n",
       "    </tr>\n",
       "  </tbody>\n",
       "</table>\n",
       "<p>1000 rows × 5 columns</p>\n",
       "</div>"
      ],
      "text/plain": [
       "           W0     v0         y  propensity_score     weight\n",
       "0   -1.028677  False -2.470328          0.900403   1.110613\n",
       "1    0.213444  False -0.206011          0.359027   2.785307\n",
       "2   -0.418499  False -0.395189          0.697502   1.433688\n",
       "3    1.487509  False  3.571227          0.031297  31.951471\n",
       "4    0.995196  False -0.077418          0.088664  11.278515\n",
       "..        ...    ...       ...               ...        ...\n",
       "995  0.904462  False  2.476156          0.106511   9.388714\n",
       "996  0.245431  False  1.584834          0.342716   2.917866\n",
       "997 -0.319408  False -0.313500          0.648750   1.541425\n",
       "998 -0.526475  False -0.832035          0.745965   1.340546\n",
       "999  1.278624  False  0.554448          0.049047  20.388766\n",
       "\n",
       "[1000 rows x 5 columns]"
      ]
     },
     "execution_count": 6,
     "metadata": {},
     "output_type": "execute_result"
    }
   ],
   "source": [
    "cdf_0"
   ]
  },
  {
   "cell_type": "code",
   "execution_count": 7,
   "metadata": {
    "execution": {
     "iopub.execute_input": "2024-11-05T16:47:59.715772Z",
     "iopub.status.busy": "2024-11-05T16:47:59.715446Z",
     "iopub.status.idle": "2024-11-05T16:47:59.723847Z",
     "shell.execute_reply": "2024-11-05T16:47:59.723270Z"
    }
   },
   "outputs": [
    {
     "data": {
      "text/html": [
       "<div>\n",
       "<style scoped>\n",
       "    .dataframe tbody tr th:only-of-type {\n",
       "        vertical-align: middle;\n",
       "    }\n",
       "\n",
       "    .dataframe tbody tr th {\n",
       "        vertical-align: top;\n",
       "    }\n",
       "\n",
       "    .dataframe thead th {\n",
       "        text-align: right;\n",
       "    }\n",
       "</style>\n",
       "<table border=\"1\" class=\"dataframe\">\n",
       "  <thead>\n",
       "    <tr style=\"text-align: right;\">\n",
       "      <th></th>\n",
       "      <th>W0</th>\n",
       "      <th>v0</th>\n",
       "      <th>y</th>\n",
       "      <th>propensity_score</th>\n",
       "      <th>weight</th>\n",
       "    </tr>\n",
       "  </thead>\n",
       "  <tbody>\n",
       "    <tr>\n",
       "      <th>0</th>\n",
       "      <td>0.250238</td>\n",
       "      <td>True</td>\n",
       "      <td>4.893922</td>\n",
       "      <td>0.659704</td>\n",
       "      <td>1.515831</td>\n",
       "    </tr>\n",
       "    <tr>\n",
       "      <th>1</th>\n",
       "      <td>-0.339593</td>\n",
       "      <td>True</td>\n",
       "      <td>4.362884</td>\n",
       "      <td>0.341021</td>\n",
       "      <td>2.932373</td>\n",
       "    </tr>\n",
       "    <tr>\n",
       "      <th>2</th>\n",
       "      <td>0.992460</td>\n",
       "      <td>True</td>\n",
       "      <td>5.119889</td>\n",
       "      <td>0.910840</td>\n",
       "      <td>1.097888</td>\n",
       "    </tr>\n",
       "    <tr>\n",
       "      <th>3</th>\n",
       "      <td>-0.200631</td>\n",
       "      <td>True</td>\n",
       "      <td>6.959066</td>\n",
       "      <td>0.413967</td>\n",
       "      <td>2.415652</td>\n",
       "    </tr>\n",
       "    <tr>\n",
       "      <th>4</th>\n",
       "      <td>0.047248</td>\n",
       "      <td>True</td>\n",
       "      <td>4.431036</td>\n",
       "      <td>0.551678</td>\n",
       "      <td>1.812653</td>\n",
       "    </tr>\n",
       "    <tr>\n",
       "      <th>...</th>\n",
       "      <td>...</td>\n",
       "      <td>...</td>\n",
       "      <td>...</td>\n",
       "      <td>...</td>\n",
       "      <td>...</td>\n",
       "    </tr>\n",
       "    <tr>\n",
       "      <th>995</th>\n",
       "      <td>0.645239</td>\n",
       "      <td>True</td>\n",
       "      <td>5.439265</td>\n",
       "      <td>0.824400</td>\n",
       "      <td>1.213004</td>\n",
       "    </tr>\n",
       "    <tr>\n",
       "      <th>996</th>\n",
       "      <td>0.222152</td>\n",
       "      <td>True</td>\n",
       "      <td>5.675716</td>\n",
       "      <td>0.645447</td>\n",
       "      <td>1.549313</td>\n",
       "    </tr>\n",
       "    <tr>\n",
       "      <th>997</th>\n",
       "      <td>-0.497374</td>\n",
       "      <td>True</td>\n",
       "      <td>3.120485</td>\n",
       "      <td>0.266580</td>\n",
       "      <td>3.751217</td>\n",
       "    </tr>\n",
       "    <tr>\n",
       "      <th>998</th>\n",
       "      <td>-1.723892</td>\n",
       "      <td>True</td>\n",
       "      <td>2.072908</td>\n",
       "      <td>0.022789</td>\n",
       "      <td>43.880230</td>\n",
       "    </tr>\n",
       "    <tr>\n",
       "      <th>999</th>\n",
       "      <td>1.114265</td>\n",
       "      <td>True</td>\n",
       "      <td>7.185007</td>\n",
       "      <td>0.930647</td>\n",
       "      <td>1.074521</td>\n",
       "    </tr>\n",
       "  </tbody>\n",
       "</table>\n",
       "<p>1000 rows × 5 columns</p>\n",
       "</div>"
      ],
      "text/plain": [
       "           W0    v0         y  propensity_score     weight\n",
       "0    0.250238  True  4.893922          0.659704   1.515831\n",
       "1   -0.339593  True  4.362884          0.341021   2.932373\n",
       "2    0.992460  True  5.119889          0.910840   1.097888\n",
       "3   -0.200631  True  6.959066          0.413967   2.415652\n",
       "4    0.047248  True  4.431036          0.551678   1.812653\n",
       "..        ...   ...       ...               ...        ...\n",
       "995  0.645239  True  5.439265          0.824400   1.213004\n",
       "996  0.222152  True  5.675716          0.645447   1.549313\n",
       "997 -0.497374  True  3.120485          0.266580   3.751217\n",
       "998 -1.723892  True  2.072908          0.022789  43.880230\n",
       "999  1.114265  True  7.185007          0.930647   1.074521\n",
       "\n",
       "[1000 rows x 5 columns]"
      ]
     },
     "execution_count": 7,
     "metadata": {},
     "output_type": "execute_result"
    }
   ],
   "source": [
    "cdf_1"
   ]
  },
  {
   "cell_type": "markdown",
   "metadata": {},
   "source": [
    "## Comparing the estimate to Linear Regression\n",
    "First, estimating the effect using the causal data frame, and the 95% confidence interval."
   ]
  },
  {
   "cell_type": "code",
   "execution_count": 8,
   "metadata": {
    "execution": {
     "iopub.execute_input": "2024-11-05T16:47:59.725768Z",
     "iopub.status.busy": "2024-11-05T16:47:59.725443Z",
     "iopub.status.idle": "2024-11-05T16:47:59.771571Z",
     "shell.execute_reply": "2024-11-05T16:47:59.771050Z"
    }
   },
   "outputs": [
    {
     "data": {
      "image/png": "[encoded data removed]",
      "text/latex": [
       "$\\displaystyle 4.90376382067099$"
      ],
      "text/plain": [
       "4.903763820670987"
      ]
     },
     "execution_count": 8,
     "metadata": {},
     "output_type": "execute_result"
    }
   ],
   "source": [
    "(cdf_1['y'] - cdf_0['y']).mean()"
   ]
  },
  {
   "cell_type": "code",
   "execution_count": 9,
   "metadata": {
    "execution": {
     "iopub.execute_input": "2024-11-05T16:47:59.773555Z",
     "iopub.status.busy": "2024-11-05T16:47:59.773118Z",
     "iopub.status.idle": "2024-11-05T16:47:59.788807Z",
     "shell.execute_reply": "2024-11-05T16:47:59.788336Z"
    }
   },
   "outputs": [
    {
     "data": {
      "image/png": "[encoded data removed]",
      "text/latex": [
       "$\\displaystyle 0.163907231526038$"
      ],
      "text/plain": [
       "0.163907231526038"
      ]
     },
     "execution_count": 9,
     "metadata": {},
     "output_type": "execute_result"
    }
   ],
   "source": [
    "1.96*(cdf_1['y'] - cdf_0['y']).std() / np.sqrt(len(df))"
   ]
  },
  {
   "cell_type": "markdown",
   "metadata": {},
   "source": [
    "Comparing to the estimate from OLS."
   ]
  },
  {
   "cell_type": "code",
   "execution_count": 10,
   "metadata": {
    "execution": {
     "iopub.execute_input": "2024-11-05T16:47:59.790634Z",
     "iopub.status.busy": "2024-11-05T16:47:59.790285Z",
     "iopub.status.idle": "2024-11-05T16:47:59.807645Z",
     "shell.execute_reply": "2024-11-05T16:47:59.807155Z"
    }
   },
   "outputs": [
    {
     "data": {
      "text/html": [
       "<table class=\"simpletable\">\n",
       "<caption>OLS Regression Results</caption>\n",
       "<tr>\n",
       "  <th>Dep. Variable:</th>            <td>y</td>        <th>  R-squared (uncentered):</th>      <td>   0.955</td> \n",
       "</tr>\n",
       "<tr>\n",
       "  <th>Model:</th>                   <td>OLS</td>       <th>  Adj. R-squared (uncentered):</th> <td>   0.955</td> \n",
       "</tr>\n",
       "<tr>\n",
       "  <th>Method:</th>             <td>Least Squares</td>  <th>  F-statistic:       </th>          <td>1.050e+04</td>\n",
       "</tr>\n",
       "<tr>\n",
       "  <th>Date:</th>             <td>Tue, 05 Nov 2024</td> <th>  Prob (F-statistic):</th>           <td>  0.00</td>  \n",
       "</tr>\n",
       "<tr>\n",
       "  <th>Time:</th>                 <td>16:47:59</td>     <th>  Log-Likelihood:    </th>          <td> -1452.9</td> \n",
       "</tr>\n",
       "<tr>\n",
       "  <th>No. Observations:</th>      <td>  1000</td>      <th>  AIC:               </th>          <td>   2910.</td> \n",
       "</tr>\n",
       "<tr>\n",
       "  <th>Df Residuals:</th>          <td>   998</td>      <th>  BIC:               </th>          <td>   2920.</td> \n",
       "</tr>\n",
       "<tr>\n",
       "  <th>Df Model:</th>              <td>     2</td>      <th>                     </th>              <td> </td>    \n",
       "</tr>\n",
       "<tr>\n",
       "  <th>Covariance Type:</th>      <td>nonrobust</td>    <th>                     </th>              <td> </td>    \n",
       "</tr>\n",
       "</table>\n",
       "<table class=\"simpletable\">\n",
       "<tr>\n",
       "   <td></td>     <th>coef</th>     <th>std err</th>      <th>t</th>      <th>P>|t|</th>  <th>[0.025</th>    <th>0.975]</th>  \n",
       "</tr>\n",
       "<tr>\n",
       "  <th>x1</th> <td>    1.6161</td> <td>    0.038</td> <td>   42.545</td> <td> 0.000</td> <td>    1.542</td> <td>    1.691</td>\n",
       "</tr>\n",
       "<tr>\n",
       "  <th>x2</th> <td>    5.0199</td> <td>    0.051</td> <td>   98.372</td> <td> 0.000</td> <td>    4.920</td> <td>    5.120</td>\n",
       "</tr>\n",
       "</table>\n",
       "<table class=\"simpletable\">\n",
       "<tr>\n",
       "  <th>Omnibus:</th>       <td> 1.758</td> <th>  Durbin-Watson:     </th> <td>   2.022</td>\n",
       "</tr>\n",
       "<tr>\n",
       "  <th>Prob(Omnibus):</th> <td> 0.415</td> <th>  Jarque-Bera (JB):  </th> <td>   1.657</td>\n",
       "</tr>\n",
       "<tr>\n",
       "  <th>Skew:</th>          <td> 0.014</td> <th>  Prob(JB):          </th> <td>   0.437</td>\n",
       "</tr>\n",
       "<tr>\n",
       "  <th>Kurtosis:</th>      <td> 2.802</td> <th>  Cond. No.          </th> <td>    1.88</td>\n",
       "</tr>\n",
       "</table><br/><br/>Notes:<br/>[1] R² is computed without centering (uncentered) since the model does not contain a constant.<br/>[2] Standard Errors assume that the covariance matrix of the errors is correctly specified."
      ],
      "text/latex": [
       "\\begin{center}\n",
       "\\begin{tabular}{lclc}\n",
       "\\toprule\n",
       "\\textbf{Dep. Variable:}    &        y         & \\textbf{  R-squared (uncentered):}      &     0.955   \\\\\n",
       "\\textbf{Model:}            &       OLS        & \\textbf{  Adj. R-squared (uncentered):} &     0.955   \\\\\n",
       "\\textbf{Method:}           &  Least Squares   & \\textbf{  F-statistic:       }          & 1.050e+04   \\\\\n",
       "\\textbf{Date:}             & Tue, 05 Nov 2024 & \\textbf{  Prob (F-statistic):}          &     0.00    \\\\\n",
       "\\textbf{Time:}             &     16:47:59     & \\textbf{  Log-Likelihood:    }          &   -1452.9   \\\\\n",
       "\\textbf{No. Observations:} &        1000      & \\textbf{  AIC:               }          &     2910.   \\\\\n",
       "\\textbf{Df Residuals:}     &         998      & \\textbf{  BIC:               }          &     2920.   \\\\\n",
       "\\textbf{Df Model:}         &           2      & \\textbf{                     }          &             \\\\\n",
       "\\textbf{Covariance Type:}  &    nonrobust     & \\textbf{                     }          &             \\\\\n",
       "\\bottomrule\n",
       "\\end{tabular}\n",
       "\\begin{tabular}{lcccccc}\n",
       "            & \\textbf{coef} & \\textbf{std err} & \\textbf{t} & \\textbf{P$> |$t$|$} & \\textbf{[0.025} & \\textbf{0.975]}  \\\\\n",
       "\\midrule\n",
       "\\textbf{x1} &       1.6161  &        0.038     &    42.545  &         0.000        &        1.542    &        1.691     \\\\\n",
       "\\textbf{x2} &       5.0199  &        0.051     &    98.372  &         0.000        &        4.920    &        5.120     \\\\\n",
       "\\bottomrule\n",
       "\\end{tabular}\n",
       "\\begin{tabular}{lclc}\n",
       "\\textbf{Omnibus:}       &  1.758 & \\textbf{  Durbin-Watson:     } &    2.022  \\\\\n",
       "\\textbf{Prob(Omnibus):} &  0.415 & \\textbf{  Jarque-Bera (JB):  } &    1.657  \\\\\n",
       "\\textbf{Skew:}          &  0.014 & \\textbf{  Prob(JB):          } &    0.437  \\\\\n",
       "\\textbf{Kurtosis:}      &  2.802 & \\textbf{  Cond. No.          } &     1.88  \\\\\n",
       "\\bottomrule\n",
       "\\end{tabular}\n",
       "%\\caption{OLS Regression Results}\n",
       "\\end{center}\n",
       "\n",
       "Notes: \\newline\n",
       " [1] R² is computed without centering (uncentered) since the model does not contain a constant. \\newline\n",
       " [2] Standard Errors assume that the covariance matrix of the errors is correctly specified."
      ],
      "text/plain": [
       "<class 'statsmodels.iolib.summary.Summary'>\n",
       "\"\"\"\n",
       "                                 OLS Regression Results                                \n",
       "=======================================================================================\n",
       "Dep. Variable:                      y   R-squared (uncentered):                   0.955\n",
       "Model:                            OLS   Adj. R-squared (uncentered):              0.955\n",
       "Method:                 Least Squares   F-statistic:                          1.050e+04\n",
       "Date:                Tue, 05 Nov 2024   Prob (F-statistic):                        0.00\n",
       "Time:                        16:47:59   Log-Likelihood:                         -1452.9\n",
       "No. Observations:                1000   AIC:                                      2910.\n",
       "Df Residuals:                     998   BIC:                                      2920.\n",
       "Df Model:                           2                                                  \n",
       "Covariance Type:            nonrobust                                                  \n",
       "==============================================================================\n",
       "                 coef    std err          t      P>|t|      [0.025      0.975]\n",
       "------------------------------------------------------------------------------\n",
       "x1             1.6161      0.038     42.545      0.000       1.542       1.691\n",
       "x2             5.0199      0.051     98.372      0.000       4.920       5.120\n",
       "==============================================================================\n",
       "Omnibus:                        1.758   Durbin-Watson:                   2.022\n",
       "Prob(Omnibus):                  0.415   Jarque-Bera (JB):                1.657\n",
       "Skew:                           0.014   Prob(JB):                        0.437\n",
       "Kurtosis:                       2.802   Cond. No.                         1.88\n",
       "==============================================================================\n",
       "\n",
       "Notes:\n",
       "[1] R² is computed without centering (uncentered) since the model does not contain a constant.\n",
       "[2] Standard Errors assume that the covariance matrix of the errors is correctly specified.\n",
       "\"\"\""
      ]
     },
     "execution_count": 10,
     "metadata": {},
     "output_type": "execute_result"
    }
   ],
   "source": [
    "model = OLS(np.asarray(df[outcome]), np.asarray(df[[common_cause, treatment]], dtype=np.float64))\n",
    "result = model.fit()\n",
    "result.summary()"
   ]
  }
 ],
 "metadata": {
  "kernelspec": {
   "display_name": "Python 3 (ipykernel)",
   "language": "python",
   "name": "python3"
  },
  "language_info": {
   "codemirror_mode": {
    "name": "ipython",
    "version": 3
   },
   "file_extension": ".py",
   "mimetype": "text/x-python",
   "name": "python",
   "nbconvert_exporter": "python",
   "pygments_lexer": "ipython3",
   "version": "3.8.10"
  },
  "toc": {
   "base_numbering": 1,
   "nav_menu": {},
   "number_sections": false,
   "sideBar": true,
   "skip_h1_title": true,
   "title_cell": "Table of Contents",
   "title_sidebar": "Contents",
   "toc_cell": false,
   "toc_position": {},
   "toc_section_display": true,
   "toc_window_display": false
  }
 },
 "nbformat": 4,
 "nbformat_minor": 4
}
