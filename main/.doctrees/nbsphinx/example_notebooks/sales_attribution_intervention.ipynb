{
 "cells": [
  {
   "cell_type": "markdown",
   "id": "d1b60604",
   "metadata": {
    "tags": []
   },
   "source": [
    "# Causal attribution to sales growth and spend intervention"
   ]
  },
  {
   "cell_type": "markdown",
   "id": "6140025d-504e-4500-83cb-7b31643f546f",
   "metadata": {},
   "source": [
    "## The Scenario "
   ]
  },
  {
   "cell_type": "markdown",
   "id": "e1a090e0-b5da-4835-9cfe-9bf1e53aef4e",
   "metadata": {},
   "source": [
    "Suppose we have an advertiser selling products online. To promote sales, they give out discounts through price promotions, and advertise online through both display ads and sponsored ads in search results pages. To prepare for an upcoming business review, the advertiser compares 2024 and 2023 data and observes steady KPI growth such as sales, and product page views. However, the analytics team wonders what factors drive that growth, is it advertising, price promotion, or simply organic growth due to shopper trends? Answers to this question are key to understanding past growth. Furthermore, this advertiser wants actionable suggestions for business planning, such as spending on areas with higher returns on investment to double down next. <br> In the following scenario, we will use DoWhy two-fold: first to causally attribute KPI growth drivers properly, so the analytics team understands what fueled past growth in a data-driven way. Second, we conduct interventions based on causal impact estimates to derive incremental return on investment (iROI), so the advertiser can forecast future KPI growth with additional investment. These factors and KPIs are: \n",
    "* **dsp_spend**: Ad spend on Demand Side Platform (DSP) through display ads\n",
    "* **sp_spend**: Ad spend on search results pages to bump up product rankings for easy discovery \n",
    "* **discount**: Discounts given through price reductions\n",
    "* **special_shopping_event**: A binary variable indicating whether a shopping event hosted by the ecommerce platform took place, such as Black Friday or Cyber Monday \n",
    "* **other_shopping_event**: A binary variable indicating other shopping events off the ecommerce platform. It can be from the advertiser itself, or its advertising with other platforms. \n",
    "* **dpv**: Number of product detail page views\n",
    "* **sale**: Daily revenue on the focal ecommerce platform"
   ]
  },
  {
   "cell_type": "code",
   "execution_count": 1,
   "id": "671dc59b",
   "metadata": {
    "execution": {
     "iopub.execute_input": "2024-11-19T22:21:48.977248Z",
     "iopub.status.busy": "2024-11-19T22:21:48.977046Z",
     "iopub.status.idle": "2024-11-19T22:21:50.501933Z",
     "shell.execute_reply": "2024-11-19T22:21:50.501329Z"
    },
    "tags": []
   },
   "outputs": [],
   "source": [
    "import matplotlib.pyplot as plt\n",
    "import networkx as nx\n",
    "import numpy as np\n",
    "import pandas as pd\n",
    "from functools import partial\n",
    "from dowhy import gcm\n",
    "from dowhy.utils.plotting import plot\n",
    "\n",
    "from scipy import stats\n",
    "from statsmodels.stats.multitest import multipletests\n",
    "\n",
    "%matplotlib inline"
   ]
  },
  {
   "cell_type": "markdown",
   "id": "de1ed2e1",
   "metadata": {},
   "source": [
    "## 1. Explore the data\n",
    "\n",
    "First, let's load our data representing the spending, discounts, sale and other information for 2023 and 2024. Note that for this simulated data, we didn't change the distribution of price discounts over periods of comparison and shouldn't detect as such in the later attribution model. "
   ]
  },
  {
   "cell_type": "code",
   "execution_count": 2,
   "id": "81bc8978",
   "metadata": {
    "execution": {
     "iopub.execute_input": "2024-11-19T22:21:50.504811Z",
     "iopub.status.busy": "2024-11-19T22:21:50.504186Z",
     "iopub.status.idle": "2024-11-19T22:21:50.519092Z",
     "shell.execute_reply": "2024-11-19T22:21:50.518547Z"
    },
    "tags": []
   },
   "outputs": [
    {
     "data": {
      "text/html": [
       "<div>\n",
       "<style scoped>\n",
       "    .dataframe tbody tr th:only-of-type {\n",
       "        vertical-align: middle;\n",
       "    }\n",
       "\n",
       "    .dataframe tbody tr th {\n",
       "        vertical-align: top;\n",
       "    }\n",
       "\n",
       "    .dataframe thead th {\n",
       "        text-align: right;\n",
       "    }\n",
       "</style>\n",
       "<table border=\"1\" class=\"dataframe\">\n",
       "  <thead>\n",
       "    <tr style=\"text-align: right;\">\n",
       "      <th></th>\n",
       "      <th>dsp_spend</th>\n",
       "      <th>sp_spend</th>\n",
       "      <th>dpv</th>\n",
       "      <th>discount</th>\n",
       "      <th>sale</th>\n",
       "      <th>activity_date</th>\n",
       "      <th>year</th>\n",
       "      <th>quarter</th>\n",
       "      <th>month</th>\n",
       "      <th>special_shopping_event</th>\n",
       "      <th>other_shopping_event</th>\n",
       "    </tr>\n",
       "  </thead>\n",
       "  <tbody>\n",
       "    <tr>\n",
       "      <th>0</th>\n",
       "      <td>11864.799390</td>\n",
       "      <td>2609.702789</td>\n",
       "      <td>54954.823150</td>\n",
       "      <td>26167.824599</td>\n",
       "      <td>75554.406731</td>\n",
       "      <td>2023-01-01</td>\n",
       "      <td>2023</td>\n",
       "      <td>1</td>\n",
       "      <td>1</td>\n",
       "      <td>0</td>\n",
       "      <td>0</td>\n",
       "    </tr>\n",
       "    <tr>\n",
       "      <th>1</th>\n",
       "      <td>11084.057110</td>\n",
       "      <td>2568.540570</td>\n",
       "      <td>44907.063324</td>\n",
       "      <td>22340.009780</td>\n",
       "      <td>51372.313230</td>\n",
       "      <td>2023-01-02</td>\n",
       "      <td>2023</td>\n",
       "      <td>1</td>\n",
       "      <td>1</td>\n",
       "      <td>0</td>\n",
       "      <td>0</td>\n",
       "    </tr>\n",
       "    <tr>\n",
       "      <th>2</th>\n",
       "      <td>16680.850945</td>\n",
       "      <td>2847.576700</td>\n",
       "      <td>151643.912564</td>\n",
       "      <td>68301.747813</td>\n",
       "      <td>626394.881214</td>\n",
       "      <td>2023-01-03</td>\n",
       "      <td>2023</td>\n",
       "      <td>1</td>\n",
       "      <td>1</td>\n",
       "      <td>0</td>\n",
       "      <td>0</td>\n",
       "    </tr>\n",
       "    <tr>\n",
       "      <th>3</th>\n",
       "      <td>15473.576264</td>\n",
       "      <td>2788.515831</td>\n",
       "      <td>121173.343955</td>\n",
       "      <td>18906.050402</td>\n",
       "      <td>306000.226338</td>\n",
       "      <td>2023-01-04</td>\n",
       "      <td>2023</td>\n",
       "      <td>1</td>\n",
       "      <td>1</td>\n",
       "      <td>0</td>\n",
       "      <td>0</td>\n",
       "    </tr>\n",
       "    <tr>\n",
       "      <th>4</th>\n",
       "      <td>10308.414302</td>\n",
       "      <td>2523.591011</td>\n",
       "      <td>36234.267337</td>\n",
       "      <td>18198.689563</td>\n",
       "      <td>34571.260496</td>\n",
       "      <td>2023-01-05</td>\n",
       "      <td>2023</td>\n",
       "      <td>1</td>\n",
       "      <td>1</td>\n",
       "      <td>0</td>\n",
       "      <td>0</td>\n",
       "    </tr>\n",
       "  </tbody>\n",
       "</table>\n",
       "</div>"
      ],
      "text/plain": [
       "      dsp_spend     sp_spend            dpv      discount           sale  \\\n",
       "0  11864.799390  2609.702789   54954.823150  26167.824599   75554.406731   \n",
       "1  11084.057110  2568.540570   44907.063324  22340.009780   51372.313230   \n",
       "2  16680.850945  2847.576700  151643.912564  68301.747813  626394.881214   \n",
       "3  15473.576264  2788.515831  121173.343955  18906.050402  306000.226338   \n",
       "4  10308.414302  2523.591011   36234.267337  18198.689563   34571.260496   \n",
       "\n",
       "  activity_date  year  quarter  month  special_shopping_event  \\\n",
       "0    2023-01-01  2023        1      1                       0   \n",
       "1    2023-01-02  2023        1      1                       0   \n",
       "2    2023-01-03  2023        1      1                       0   \n",
       "3    2023-01-04  2023        1      1                       0   \n",
       "4    2023-01-05  2023        1      1                       0   \n",
       "\n",
       "   other_shopping_event  \n",
       "0                     0  \n",
       "1                     0  \n",
       "2                     0  \n",
       "3                     0  \n",
       "4                     0  "
      ]
     },
     "execution_count": 2,
     "metadata": {},
     "output_type": "execute_result"
    }
   ],
   "source": [
    "df = pd.read_csv('datasets/sale_attribution.csv', index_col=0)\n",
    "df.head()"
   ]
  },
  {
   "cell_type": "markdown",
   "id": "29af43df-4406-44ef-b44f-77d6cdaf1cc2",
   "metadata": {},
   "source": [
    "To causally attribute factors of interests to changes, we first need to define time periods for comparisons. "
   ]
  },
  {
   "cell_type": "code",
   "execution_count": 3,
   "id": "502a8f3f",
   "metadata": {
    "execution": {
     "iopub.execute_input": "2024-11-19T22:21:50.521000Z",
     "iopub.status.busy": "2024-11-19T22:21:50.520746Z",
     "iopub.status.idle": "2024-11-19T22:21:50.527739Z",
     "shell.execute_reply": "2024-11-19T22:21:50.527098Z"
    },
    "tags": []
   },
   "outputs": [],
   "source": [
    "def generate_new_old_dataframes(df, new_year, new_quarters, new_months, old_year, old_quarters, old_months):\n",
    "    # Filter new data based on year, quarters, and months\n",
    "    new_conditions = (df['year'] == new_year) & (df['quarter'].isin(new_quarters)) & (df['month'].isin(new_months))\n",
    "    df_new = df[new_conditions].copy()\n",
    "\n",
    "    # Filter old data based on year, quarters, and months\n",
    "    old_conditions = (df['year'] == old_year) & (df['quarter'].isin(old_quarters)) & (df['month'].isin(old_months))\n",
    "    df_old = df[old_conditions].copy()\n",
    "\n",
    "    return df_new, df_old\n",
    "\n",
    "df_new, df_old = generate_new_old_dataframes(df, new_year=2024, new_quarters=[1,2], new_months=[1,2,3,4,5,6], old_year=2023, old_quarters=[1,2], old_months=[1,2,3,4,5,6])"
   ]
  },
  {
   "cell_type": "markdown",
   "id": "5c3b2dfe",
   "metadata": {},
   "source": [
    "Then we define cumulative distribution functions to eyeball changes in metrics across two periods. Let's plot them:"
   ]
  },
  {
   "cell_type": "code",
   "execution_count": 4,
   "id": "cc8b8a7d",
   "metadata": {
    "execution": {
     "iopub.execute_input": "2024-11-19T22:21:50.529773Z",
     "iopub.status.busy": "2024-11-19T22:21:50.529475Z",
     "iopub.status.idle": "2024-11-19T22:21:50.535337Z",
     "shell.execute_reply": "2024-11-19T22:21:50.534728Z"
    },
    "tags": []
   },
   "outputs": [],
   "source": [
    "def plot_metric_distributions(df_new, df_old, metric_columns):\n",
    "    for metric_column in metric_columns:\n",
    "        fig, ax = plt.subplots()\n",
    "        \n",
    "        kde_new = stats.gaussian_kde(df_new[metric_column].dropna())\n",
    "        kde_old = stats.gaussian_kde(df_old[metric_column].dropna())\n",
    "        \n",
    "        x_range = np.linspace(\n",
    "            min(df_new[metric_column].min(), df_old[metric_column].min()),\n",
    "            max(df_new[metric_column].max(), df_old[metric_column].max()),\n",
    "            1000\n",
    "        )\n",
    "        ax.plot(x_range, kde_new(x_range), color='#FF6B6B', lw=2, label='After')\n",
    "        ax.plot(x_range, kde_old(x_range), color='#4ECDC4', lw=2, label='Before')\n",
    "        \n",
    "        ax.fill_between(x_range, kde_new(x_range), alpha=0.3, color='#FF6B6B')\n",
    "        ax.fill_between(x_range, kde_old(x_range), alpha=0.3, color='#4ECDC4')\n",
    "\n",
    "        ax.set_xlabel(metric_column)\n",
    "        ax.set_ylabel('Density')\n",
    "        ax.set_title(f'Comparison of {metric_column} distribution')\n",
    "\n",
    "        ax.spines['top'].set_visible(False)\n",
    "        ax.spines['right'].set_visible(False)\n",
    "    \n",
    "        ax.grid(True, linestyle='--', alpha=0.7)\n",
    "        ax.legend(fontsize=10)\n",
    "\n",
    "        plt.tight_layout()\n",
    "        plt.show()"
   ]
  },
  {
   "cell_type": "markdown",
   "id": "37904e2e-ae77-4a24-b5aa-a0769f6fe541",
   "metadata": {},
   "source": [
    "Here, we are interested in the 'dpv' and 'sale' variables."
   ]
  },
  {
   "cell_type": "code",
   "execution_count": 5,
   "id": "402264f5",
   "metadata": {
    "execution": {
     "iopub.execute_input": "2024-11-19T22:21:50.537350Z",
     "iopub.status.busy": "2024-11-19T22:21:50.537011Z",
     "iopub.status.idle": "2024-11-19T22:21:51.057057Z",
     "shell.execute_reply": "2024-11-19T22:21:51.056334Z"
    },
    "tags": []
   },
   "outputs": [
    {
     "data": {
      "image/png": "[encoded data removed]",
      "text/plain": [
       "<Figure size 640x480 with 1 Axes>"
      ]
     },
     "metadata": {},
     "output_type": "display_data"
    },
    {
     "data": {
      "image/png": "[encoded data removed]",
      "text/plain": [
       "<Figure size 640x480 with 1 Axes>"
      ]
     },
     "metadata": {},
     "output_type": "display_data"
    }
   ],
   "source": [
    "# Define KPI\n",
    "metric_columns = ['dpv', 'sale']  \n",
    "plot_metric_distributions(df_new, df_old, metric_columns)"
   ]
  },
  {
   "cell_type": "markdown",
   "id": "ddaecc17",
   "metadata": {},
   "source": [
    "We can further quantify the magnitude of changes by comparing mean, median and variance of both KPIs and potential drivers. "
   ]
  },
  {
   "cell_type": "code",
   "execution_count": 6,
   "id": "2e932e4c-af36-4083-ad78-036cd39433c2",
   "metadata": {
    "execution": {
     "iopub.execute_input": "2024-11-19T22:21:51.059316Z",
     "iopub.status.busy": "2024-11-19T22:21:51.058952Z",
     "iopub.status.idle": "2024-11-19T22:21:51.064997Z",
     "shell.execute_reply": "2024-11-19T22:21:51.064382Z"
    },
    "tags": []
   },
   "outputs": [],
   "source": [
    "def compare_metrics(df_new, df_old, metrics):\n",
    "    comparison_data = []\n",
    "\n",
    "    for metric in metrics:\n",
    "        try:\n",
    "            mean_old = df_old[metric].mean()\n",
    "            median_old = df_old[metric].median()\n",
    "            variance_old = df_old[metric].var()\n",
    "            \n",
    "            mean_new = df_new[metric].mean()\n",
    "            median_new = df_new[metric].median()\n",
    "            variance_new = df_new[metric].var()\n",
    "            \n",
    "            if mean_old == 0:\n",
    "                print(f\"Mean for {metric} in the old data is zero. Skipping mean change calculation.\")\n",
    "                mean_change = None\n",
    "            else:\n",
    "                mean_change = ((mean_new - mean_old) / mean_old) * 100\n",
    "\n",
    "            if median_old == 0:\n",
    "                print(f\"Median for {metric} in the old data is zero. Skipping median change calculation.\")\n",
    "                median_change = None\n",
    "            else:\n",
    "                median_change = ((median_new - median_old) / median_old) * 100\n",
    "\n",
    "            if variance_old == 0:\n",
    "                print(f\"Variance for {metric} in the old data is zero. Skipping variance change calculation.\")\n",
    "                variance_change = None\n",
    "            else:\n",
    "                variance_change = ((variance_new - variance_old) / variance_old) * 100\n",
    "            \n",
    "            comparison_data.append({\n",
    "                'Metric': metric,\n",
    "                'Δ mean': mean_change,\n",
    "                'Δ median': median_change,\n",
    "                'Δ variance': variance_change\n",
    "            })\n",
    "        except KeyError as e:\n",
    "            print(f\"Metric {metric} not found in one of the DataFrames: {e}\")\n",
    "            pass\n",
    "\n",
    "    comparison_df = pd.DataFrame(comparison_data)\n",
    "    return comparison_df"
   ]
  },
  {
   "cell_type": "markdown",
   "id": "c9e55350-6582-4baa-b707-f92f53e8f979",
   "metadata": {
    "tags": []
   },
   "source": [
    "For simplicity, below we assume KPIs are revenue (sale), and product views (DPV), with potential drivers including ad spend on demand side platform (dsp_spend) and search results (sp_spend), and price promotion (discount)."
   ]
  },
  {
   "cell_type": "code",
   "execution_count": 7,
   "id": "6ed87c2d-1766-4a22-89e5-72f5ebeaef75",
   "metadata": {
    "execution": {
     "iopub.execute_input": "2024-11-19T22:21:51.066937Z",
     "iopub.status.busy": "2024-11-19T22:21:51.066608Z",
     "iopub.status.idle": "2024-11-19T22:21:51.075642Z",
     "shell.execute_reply": "2024-11-19T22:21:51.075109Z"
    },
    "tags": []
   },
   "outputs": [
    {
     "name": "stdout",
     "output_type": "stream",
     "text": [
      "      Metric     Δ mean   Δ median  Δ variance\n",
      "0       sale   8.309379  56.847777  -98.588326\n",
      "1        dpv   8.843596  12.453083  -95.913214\n",
      "2  dsp_spend   6.387894   3.718354  -66.203836\n",
      "3   sp_spend  10.335289  10.013358  312.605493\n",
      "4   discount  -1.837933  32.438169  -99.570962\n"
     ]
    }
   ],
   "source": [
    "comparison_df = compare_metrics(df_new, df_old, ['sale', 'dpv', 'dsp_spend',  'sp_spend', 'discount'])\n",
    "print(comparison_df)"
   ]
  },
  {
   "cell_type": "markdown",
   "id": "1ffd24ec",
   "metadata": {},
   "source": [
    "## 2. Draw causal graph"
   ]
  },
  {
   "cell_type": "markdown",
   "id": "a26f4482",
   "metadata": {},
   "source": [
    "### 2.1.Set up basic causal graphs \n",
    "\n",
    "In the first step, we make use of our domain knowledge that all the ad investment and the shopping events can be potential causes of product page views and sale, but not vice versa. Further, detail page views can also lead to sales, regardless of ad investment. "
   ]
  },
  {
   "cell_type": "code",
   "execution_count": 8,
   "id": "6be2afc6",
   "metadata": {
    "execution": {
     "iopub.execute_input": "2024-11-19T22:21:51.077438Z",
     "iopub.status.busy": "2024-11-19T22:21:51.077253Z",
     "iopub.status.idle": "2024-11-19T22:21:51.081334Z",
     "shell.execute_reply": "2024-11-19T22:21:51.080832Z"
    },
    "tags": []
   },
   "outputs": [],
   "source": [
    "edges = []\n",
    "for col in df.columns:\n",
    "    if 'spend' in col:\n",
    "        edges.append((col, 'dpv'))\n",
    "        edges.append((col, 'sale'))\n",
    "edges.append(('special_shopping_event', 'dpv')) \n",
    "edges.append(('other_shopping_event', 'dpv'))\n",
    "edges.append(('special_shopping_event', 'sale')) \n",
    "edges.append(('other_shopping_event', 'sale'))\n",
    "edges.append(('discount', 'sale')) \n",
    "edges.append(('dpv', 'sale'))\n",
    "\n",
    "causal_graph = nx.DiGraph(edges)"
   ]
  },
  {
   "cell_type": "code",
   "execution_count": 9,
   "id": "bed7a9e2",
   "metadata": {
    "execution": {
     "iopub.execute_input": "2024-11-19T22:21:51.083045Z",
     "iopub.status.busy": "2024-11-19T22:21:51.082837Z",
     "iopub.status.idle": "2024-11-19T22:21:51.179831Z",
     "shell.execute_reply": "2024-11-19T22:21:51.179221Z"
    },
    "tags": []
   },
   "outputs": [
    {
     "data": {
      "image/png": "[encoded data removed]",
      "text/plain": [
       "<Figure size 640x480 with 1 Axes>"
      ]
     },
     "metadata": {},
     "output_type": "display_data"
    }
   ],
   "source": [
    "plot(causal_graph)"
   ]
  },
  {
   "cell_type": "markdown",
   "id": "96cf0a02",
   "metadata": {},
   "source": [
    "It is unlikely that all these edges are significant. Let's prune some potential causes in the next step. This is to have a more refined causal graph. i.e, closer to the truth. "
   ]
  },
  {
   "cell_type": "markdown",
   "id": "d3fd49f7",
   "metadata": {
    "tags": []
   },
   "source": [
    "### 2.2. Prune nodes and edges "
   ]
  },
  {
   "cell_type": "markdown",
   "id": "a66222c5",
   "metadata": {},
   "source": [
    "One way to prune insignificant causal connections is conducting causal minimality tests through statistical dependence tests. The causality minimality test rules out any parent-child edge ($X\\to Y$) for a node $Y$ if $Y$ is conditionally independent of $X$ given other parents of $Y$. If that is the case, node $X$ does not provide additional information on top of the other parents of $Y$. In layman's language, some ads may not provide incremental information in the presence of others. Thus, we can remove those edges of $X \\to Y$. Note that the test is adjusted for multihypothesis testing to guarantee a consistent false discovery rate."
   ]
  },
  {
   "cell_type": "code",
   "execution_count": 10,
   "id": "bb612e8e",
   "metadata": {
    "execution": {
     "iopub.execute_input": "2024-11-19T22:21:51.182133Z",
     "iopub.status.busy": "2024-11-19T22:21:51.181780Z",
     "iopub.status.idle": "2024-11-19T22:21:51.187039Z",
     "shell.execute_reply": "2024-11-19T22:21:51.186407Z"
    },
    "tags": []
   },
   "outputs": [],
   "source": [
    "def test_causal_minimality(graph, target, data, method='kernel', significance_level=0.10, fdr_control_method='fdr_bh'):\n",
    "    p_vals = []\n",
    "    all_parents = list(graph.predecessors(target))\n",
    "    for node in all_parents:\n",
    "        tmp_conditioning_set = list(all_parents)\n",
    "        tmp_conditioning_set.remove(node)\n",
    "        p_vals.append(gcm.independence_test(data[target].to_numpy(), data[node].to_numpy(), data[tmp_conditioning_set].to_numpy(), method=method))    \n",
    "        \n",
    "    if fdr_control_method is not None:\n",
    "        p_vals = multipletests(p_vals, significance_level, method=fdr_control_method)[1]\n",
    "        \n",
    "    nodes_above_threshold = []\n",
    "    nodes_below_threshold = []\n",
    "    for i, node in enumerate(all_parents):\n",
    "        if p_vals[i] < significance_level:\n",
    "            nodes_above_threshold.append(node)            \n",
    "        else:\n",
    "            nodes_below_threshold.append(node)\n",
    "            \n",
    "    print(\"Significant connection:\", [(n, target) for n in sorted(nodes_above_threshold)])\n",
    "    print(\"Insignificant connection:\", [(n, target) for n in sorted(nodes_below_threshold)])\n",
    "    \n",
    "    return sorted(nodes_below_threshold)"
   ]
  },
  {
   "cell_type": "markdown",
   "id": "d1ca09a1-9dd0-41fe-8884-576e510a2daf",
   "metadata": {
    "tags": []
   },
   "source": [
    "Then we remove insignificant edges and their associated nodes, resulting a refined causal graph. "
   ]
  },
  {
   "cell_type": "code",
   "execution_count": 11,
   "id": "a24b69ad",
   "metadata": {
    "execution": {
     "iopub.execute_input": "2024-11-19T22:21:51.188953Z",
     "iopub.status.busy": "2024-11-19T22:21:51.188745Z",
     "iopub.status.idle": "2024-11-19T22:21:57.274516Z",
     "shell.execute_reply": "2024-11-19T22:21:57.273859Z"
    },
    "tags": []
   },
   "outputs": [
    {
     "name": "stdout",
     "output_type": "stream",
     "text": [
      "Significant connection: [('discount', 'sale'), ('dpv', 'sale'), ('dsp_spend', 'sale'), ('sp_spend', 'sale')]\n",
      "Insignificant connection: [('other_shopping_event', 'sale'), ('special_shopping_event', 'sale')]\n"
     ]
    }
   ],
   "source": [
    "for insignificant_parent in test_causal_minimality(causal_graph, 'sale', df):\n",
    "    causal_graph.remove_edge(insignificant_parent, 'sale')\n",
    "\n",
    "cols_to_remove=[]\n",
    "cols_to_remove.extend([node for node in causal_graph.nodes if causal_graph.in_degree(node) + causal_graph.out_degree(node) == 0])"
   ]
  },
  {
   "cell_type": "code",
   "execution_count": 12,
   "id": "34b2eda5",
   "metadata": {
    "execution": {
     "iopub.execute_input": "2024-11-19T22:21:57.276762Z",
     "iopub.status.busy": "2024-11-19T22:21:57.276410Z",
     "iopub.status.idle": "2024-11-19T22:21:57.381082Z",
     "shell.execute_reply": "2024-11-19T22:21:57.380144Z"
    },
    "tags": []
   },
   "outputs": [
    {
     "data": {
      "image/png": "[encoded data removed]",
      "text/plain": [
       "<Figure size 640x480 with 1 Axes>"
      ]
     },
     "metadata": {},
     "output_type": "display_data"
    }
   ],
   "source": [
    "causal_graph.remove_nodes_from(cols_to_remove)\n",
    "plot(causal_graph)"
   ]
  },
  {
   "cell_type": "markdown",
   "id": "630fed0a",
   "metadata": {},
   "source": [
    "## 3. Fit causal graph "
   ]
  },
  {
   "cell_type": "markdown",
   "id": "4d7468ec",
   "metadata": {},
   "source": [
    "Next, we need to assign functional causal models (FCMs) to each node, which describe the data generation process from x to y with an error term. The auto assignment method compares different prediction models for each node and takes the one with the smallest error. The `quality` parameter controls the set of model types that are tested, where `BETTER` indicates some of the most common regression and classification models, such as trees, support vector regression etc. You can also use 'Good' which fits fewer models to speed up, or 'Best' that is computationally heavy. After assigning the models, we can fit them to the data:"
   ]
  },
  {
   "cell_type": "code",
   "execution_count": 13,
   "id": "ecc52227",
   "metadata": {
    "execution": {
     "iopub.execute_input": "2024-11-19T22:21:57.383494Z",
     "iopub.status.busy": "2024-11-19T22:21:57.383276Z",
     "iopub.status.idle": "2024-11-19T22:21:57.386660Z",
     "shell.execute_reply": "2024-11-19T22:21:57.385858Z"
    },
    "tags": []
   },
   "outputs": [],
   "source": [
    "causal_model = gcm.StructuralCausalModel(causal_graph)"
   ]
  },
  {
   "cell_type": "code",
   "execution_count": 14,
   "id": "36362ed7",
   "metadata": {
    "execution": {
     "iopub.execute_input": "2024-11-19T22:21:57.388441Z",
     "iopub.status.busy": "2024-11-19T22:21:57.388235Z",
     "iopub.status.idle": "2024-11-19T22:21:59.534068Z",
     "shell.execute_reply": "2024-11-19T22:21:59.533406Z"
    },
    "tags": []
   },
   "outputs": [
    {
     "name": "stdout",
     "output_type": "stream",
     "text": [
      "When using this auto assignment function, the given data is used to automatically assign a causal mechanism to each node. Note that causal mechanisms can also be customized and assigned manually.\n",
      "The following types of causal mechanisms are considered for the automatic selection:\n",
      "\n",
      "If root node:\n",
      "An empirical distribution, i.e., the distribution is represented by randomly sampling from the provided data. This provides a flexible and non-parametric way to model the marginal distribution and is valid for all types of data modalities.\n",
      "\n",
      "If non-root node and the data is continuous:\n",
      "Additive Noise Models (ANM) of the form X_i = f(PA_i) + N_i, where PA_i are the parents of X_i and the unobserved noise N_i is assumed to be independent of PA_i.To select the best model for f, different regression models are evaluated and the model with the smallest mean squared error is selected.Note that minimizing the mean squared error here is equivalent to selecting the best choice of an ANM.\n",
      "\n",
      "If non-root node and the data is discrete:\n",
      "Discrete Additive Noise Models have almost the same definition as non-discrete ANMs, but come with an additional constraint for f to only return discrete values.\n",
      "Note that 'discrete' here refers to numerical values with an order. If the data is categorical, consider representing them as strings to ensure proper model selection.\n",
      "\n",
      "If non-root node and the data is categorical:\n",
      "A functional causal model based on a classifier, i.e., X_i = f(PA_i, N_i).\n",
      "Here, N_i follows a uniform distribution on [0, 1] and is used to randomly sample a class (category) using the conditional probability distribution produced by a classification model.Here, different model classes are evaluated using the (negative) F1 score and the best performing model class is selected.\n",
      "\n",
      "In total, 7 nodes were analyzed:\n",
      "\n",
      "--- Node: dsp_spend\n",
      "Node dsp_spend is a root node. Therefore, assigning 'Empirical Distribution' to the node representing the marginal distribution.\n",
      "\n",
      "--- Node: sp_spend\n",
      "Node sp_spend is a root node. Therefore, assigning 'Empirical Distribution' to the node representing the marginal distribution.\n",
      "\n",
      "--- Node: special_shopping_event\n",
      "Node special_shopping_event is a root node. Therefore, assigning 'Empirical Distribution' to the node representing the marginal distribution.\n",
      "\n",
      "--- Node: other_shopping_event\n",
      "Node other_shopping_event is a root node. Therefore, assigning 'Empirical Distribution' to the node representing the marginal distribution.\n",
      "\n",
      "--- Node: discount\n",
      "Node discount is a root node. Therefore, assigning 'Empirical Distribution' to the node representing the marginal distribution.\n",
      "\n",
      "--- Node: dpv\n",
      "Node dpv is a non-root node with continuous data. Assigning 'AdditiveNoiseModel using ExtraTreesRegressor' to the node.\n",
      "This represents the causal relationship as dpv := f(dsp_spend,other_shopping_event,sp_spend,special_shopping_event) + N.\n",
      "For the model selection, the following models were evaluated on the mean squared error (MSE) metric:\n",
      "ExtraTreesRegressor: 130243661.28015557\n",
      "RandomForestRegressor: 169381050.79142028\n",
      "HistGradientBoostingRegressor: 195911760.16450328\n",
      "AdaBoostRegressor: 231525014.47592378\n",
      "KNeighborsRegressor: 347428674.26742685\n",
      "Pipeline(steps=[('polynomialfeatures', PolynomialFeatures(include_bias=False)),\n",
      "                ('linearregression', LinearRegression)]): 405458222.4823166\n",
      "RidgeCV: 546009506.9792877\n",
      "LinearRegression: 546009510.5643679\n",
      "LassoCV(max_iter=10000): 546594919.9129891\n",
      "SVR: 2894746825.7685175\n",
      "\n",
      "--- Node: sale\n",
      "Node sale is a non-root node with continuous data. Assigning 'AdditiveNoiseModel using ExtraTreesRegressor' to the node.\n",
      "This represents the causal relationship as sale := f(discount,dpv,dsp_spend,sp_spend) + N.\n",
      "For the model selection, the following models were evaluated on the mean squared error (MSE) metric:\n",
      "ExtraTreesRegressor: 1591003548.256577\n",
      "RandomForestRegressor: 2517394552.408825\n",
      "Pipeline(steps=[('polynomialfeatures', PolynomialFeatures(include_bias=False)),\n",
      "                ('linearregression', LinearRegression)]): 3471276782.5804825\n",
      "KNeighborsRegressor: 4004652942.2399163\n",
      "AdaBoostRegressor: 4375025965.776216\n",
      "HistGradientBoostingRegressor: 6695074272.964721\n",
      "RidgeCV: 15245057858.737524\n",
      "LinearRegression: 15245267803.162085\n",
      "LassoCV(max_iter=10000): 15633218745.835995\n",
      "SVR: 134529977710.76123\n",
      "\n",
      "===Note===\n",
      "Note, based on the selected auto assignment quality, the set of evaluated models changes.\n",
      "For more insights toward the quality of the fitted graphical causal model, consider using the evaluate_causal_model function after fitting the causal mechanisms.\n"
     ]
    }
   ],
   "source": [
    "print(gcm.auto.assign_causal_mechanisms(causal_model, df, quality=gcm.auto.AssignmentQuality.BETTER))"
   ]
  },
  {
   "cell_type": "code",
   "execution_count": 15,
   "id": "ea648e8c",
   "metadata": {
    "execution": {
     "iopub.execute_input": "2024-11-19T22:21:59.536046Z",
     "iopub.status.busy": "2024-11-19T22:21:59.535833Z",
     "iopub.status.idle": "2024-11-19T22:21:59.750828Z",
     "shell.execute_reply": "2024-11-19T22:21:59.750225Z"
    },
    "tags": []
   },
   "outputs": [
    {
     "name": "stderr",
     "output_type": "stream",
     "text": [
      "\r",
      "Fitting causal models:   0%|          | 0/7 [00:00<?, ?it/s]"
     ]
    },
    {
     "name": "stderr",
     "output_type": "stream",
     "text": [
      "\r",
      "Fitting causal mechanism of node dsp_spend:   0%|          | 0/7 [00:00<?, ?it/s]"
     ]
    },
    {
     "name": "stderr",
     "output_type": "stream",
     "text": [
      "\r",
      "Fitting causal mechanism of node dpv:   0%|          | 0/7 [00:00<?, ?it/s]      "
     ]
    },
    {
     "name": "stderr",
     "output_type": "stream",
     "text": [
      "\r",
      "Fitting causal mechanism of node sale:   0%|          | 0/7 [00:00<?, ?it/s]"
     ]
    },
    {
     "name": "stderr",
     "output_type": "stream",
     "text": [
      "\r",
      "Fitting causal mechanism of node sale:  43%|████▎     | 3/7 [00:00<00:00, 14.50it/s]"
     ]
    },
    {
     "name": "stderr",
     "output_type": "stream",
     "text": [
      "\r",
      "Fitting causal mechanism of node sp_spend:  43%|████▎     | 3/7 [00:00<00:00, 14.50it/s]"
     ]
    },
    {
     "name": "stderr",
     "output_type": "stream",
     "text": [
      "\r",
      "Fitting causal mechanism of node special_shopping_event:  43%|████▎     | 3/7 [00:00<00:00, 14.50it/s]"
     ]
    },
    {
     "name": "stderr",
     "output_type": "stream",
     "text": [
      "\r",
      "Fitting causal mechanism of node other_shopping_event:  43%|████▎     | 3/7 [00:00<00:00, 14.50it/s]  "
     ]
    },
    {
     "name": "stderr",
     "output_type": "stream",
     "text": [
      "\r",
      "Fitting causal mechanism of node discount:  43%|████▎     | 3/7 [00:00<00:00, 14.50it/s]            "
     ]
    },
    {
     "name": "stderr",
     "output_type": "stream",
     "text": [
      "\r",
      "Fitting causal mechanism of node discount: 100%|██████████| 7/7 [00:00<00:00, 33.33it/s]"
     ]
    },
    {
     "name": "stderr",
     "output_type": "stream",
     "text": [
      "\n"
     ]
    }
   ],
   "source": [
    "gcm.fit(causal_model, df)"
   ]
  },
  {
   "cell_type": "markdown",
   "id": "83d92578",
   "metadata": {},
   "source": [
    "## 4. Identify causal drivers for KPI changes "
   ]
  },
  {
   "cell_type": "markdown",
   "id": "202e06e5",
   "metadata": {},
   "source": [
    "To answer the question on drivers for past growth, we test if any of the potential drivers lead to KPI changes by comparing the data from 2023 and 2024. Below we quantify the contribution to changes in the mean of our KPI, but one can similarly estimate the contributions with respect to the median or variance etc. "
   ]
  },
  {
   "cell_type": "code",
   "execution_count": 16,
   "id": "70afd219-707f-4c73-a4fe-807920b78613",
   "metadata": {
    "execution": {
     "iopub.execute_input": "2024-11-19T22:21:59.752905Z",
     "iopub.status.busy": "2024-11-19T22:21:59.752513Z",
     "iopub.status.idle": "2024-11-19T22:22:35.977032Z",
     "shell.execute_reply": "2024-11-19T22:22:35.976355Z"
    },
    "tags": []
   },
   "outputs": [
    {
     "name": "stderr",
     "output_type": "stream",
     "text": [
      "\r",
      "Estimating bootstrap interval...:   0%|          | 0/10 [00:00<?, ?it/s]"
     ]
    },
    {
     "name": "stderr",
     "output_type": "stream",
     "text": [
      "\r",
      "Evaluating set functions...:   0%|          | 0/79 [00:00<?, ?it/s]"
     ]
    },
    {
     "name": "stderr",
     "output_type": "stream",
     "text": [
      "\r",
      "Evaluating set functions...:  10%|█         | 8/79 [00:00<00:01, 52.17it/s]"
     ]
    },
    {
     "name": "stderr",
     "output_type": "stream",
     "text": [
      "\r",
      "Evaluating set functions...:  20%|██        | 16/79 [00:00<00:01, 34.43it/s]"
     ]
    },
    {
     "name": "stderr",
     "output_type": "stream",
     "text": [
      "\r",
      "Evaluating set functions...:  30%|███       | 24/79 [00:00<00:01, 29.40it/s]"
     ]
    },
    {
     "name": "stderr",
     "output_type": "stream",
     "text": [
      "\r",
      "Evaluating set functions...:  41%|████      | 32/79 [00:01<00:01, 29.21it/s]"
     ]
    },
    {
     "name": "stderr",
     "output_type": "stream",
     "text": [
      "\r",
      "Evaluating set functions...:  51%|█████     | 40/79 [00:01<00:01, 29.39it/s]"
     ]
    },
    {
     "name": "stderr",
     "output_type": "stream",
     "text": [
      "\r",
      "Evaluating set functions...:  61%|██████    | 48/79 [00:01<00:01, 27.71it/s]"
     ]
    },
    {
     "name": "stderr",
     "output_type": "stream",
     "text": [
      "\r",
      "Evaluating set functions...:  71%|███████   | 56/79 [00:01<00:00, 28.21it/s]"
     ]
    },
    {
     "name": "stderr",
     "output_type": "stream",
     "text": [
      "\r",
      "Evaluating set functions...:  81%|████████  | 64/79 [00:02<00:00, 28.26it/s]"
     ]
    },
    {
     "name": "stderr",
     "output_type": "stream",
     "text": [
      "\r",
      "Evaluating set functions...:  91%|█████████ | 72/79 [00:02<00:00, 29.16it/s]"
     ]
    },
    {
     "name": "stderr",
     "output_type": "stream",
     "text": [
      "\r",
      "Evaluating set functions...: 100%|██████████| 79/79 [00:02<00:00, 32.07it/s]"
     ]
    },
    {
     "name": "stderr",
     "output_type": "stream",
     "text": [
      "\n"
     ]
    },
    {
     "name": "stderr",
     "output_type": "stream",
     "text": [
      "\r",
      "Estimating bootstrap interval...:  10%|█         | 1/10 [00:03<00:35,  3.89s/it]"
     ]
    },
    {
     "name": "stderr",
     "output_type": "stream",
     "text": [
      "\r",
      "Evaluating set functions...:   0%|          | 0/78 [00:00<?, ?it/s]"
     ]
    },
    {
     "name": "stderr",
     "output_type": "stream",
     "text": [
      "\r",
      "Evaluating set functions...:  10%|█         | 8/78 [00:00<00:00, 71.03it/s]"
     ]
    },
    {
     "name": "stderr",
     "output_type": "stream",
     "text": [
      "\r",
      "Evaluating set functions...:  21%|██        | 16/78 [00:00<00:01, 31.95it/s]"
     ]
    },
    {
     "name": "stderr",
     "output_type": "stream",
     "text": [
      "\r",
      "Evaluating set functions...:  31%|███       | 24/78 [00:00<00:01, 28.79it/s]"
     ]
    },
    {
     "name": "stderr",
     "output_type": "stream",
     "text": [
      "\r",
      "Evaluating set functions...:  41%|████      | 32/78 [00:01<00:01, 27.60it/s]"
     ]
    },
    {
     "name": "stderr",
     "output_type": "stream",
     "text": [
      "\r",
      "Evaluating set functions...:  51%|█████▏    | 40/78 [00:01<00:01, 28.01it/s]"
     ]
    },
    {
     "name": "stderr",
     "output_type": "stream",
     "text": [
      "\r",
      "Evaluating set functions...:  62%|██████▏   | 48/78 [00:01<00:01, 28.58it/s]"
     ]
    },
    {
     "name": "stderr",
     "output_type": "stream",
     "text": [
      "\r",
      "Evaluating set functions...:  72%|███████▏  | 56/78 [00:01<00:00, 29.05it/s]"
     ]
    },
    {
     "name": "stderr",
     "output_type": "stream",
     "text": [
      "\r",
      "Evaluating set functions...:  82%|████████▏ | 64/78 [00:02<00:00, 28.75it/s]"
     ]
    },
    {
     "name": "stderr",
     "output_type": "stream",
     "text": [
      "\r",
      "Evaluating set functions...:  92%|█████████▏| 72/78 [00:02<00:00, 28.60it/s]"
     ]
    },
    {
     "name": "stderr",
     "output_type": "stream",
     "text": [
      "\r",
      "Evaluating set functions...: 100%|██████████| 78/78 [00:02<00:00, 31.71it/s]"
     ]
    },
    {
     "name": "stderr",
     "output_type": "stream",
     "text": [
      "\n"
     ]
    },
    {
     "name": "stderr",
     "output_type": "stream",
     "text": [
      "\r",
      "Estimating bootstrap interval...:  20%|██        | 2/10 [00:07<00:30,  3.82s/it]"
     ]
    },
    {
     "name": "stderr",
     "output_type": "stream",
     "text": [
      "\r",
      "Evaluating set functions...:   0%|          | 0/76 [00:00<?, ?it/s]"
     ]
    },
    {
     "name": "stderr",
     "output_type": "stream",
     "text": [
      "\r",
      "Evaluating set functions...:  11%|█         | 8/76 [00:00<00:00, 69.92it/s]"
     ]
    },
    {
     "name": "stderr",
     "output_type": "stream",
     "text": [
      "\r",
      "Evaluating set functions...:  21%|██        | 16/76 [00:00<00:01, 42.29it/s]"
     ]
    },
    {
     "name": "stderr",
     "output_type": "stream",
     "text": [
      "\r",
      "Evaluating set functions...:  32%|███▏      | 24/76 [00:00<00:01, 32.24it/s]"
     ]
    },
    {
     "name": "stderr",
     "output_type": "stream",
     "text": [
      "\r",
      "Evaluating set functions...:  42%|████▏     | 32/76 [00:00<00:01, 30.10it/s]"
     ]
    },
    {
     "name": "stderr",
     "output_type": "stream",
     "text": [
      "\r",
      "Evaluating set functions...:  53%|█████▎    | 40/76 [00:01<00:01, 29.55it/s]"
     ]
    },
    {
     "name": "stderr",
     "output_type": "stream",
     "text": [
      "\r",
      "Evaluating set functions...:  63%|██████▎   | 48/76 [00:01<00:00, 29.26it/s]"
     ]
    },
    {
     "name": "stderr",
     "output_type": "stream",
     "text": [
      "\r",
      "Evaluating set functions...:  74%|███████▎  | 56/76 [00:01<00:00, 26.46it/s]"
     ]
    },
    {
     "name": "stderr",
     "output_type": "stream",
     "text": [
      "\r",
      "Evaluating set functions...:  84%|████████▍ | 64/76 [00:02<00:00, 28.80it/s]"
     ]
    },
    {
     "name": "stderr",
     "output_type": "stream",
     "text": [
      "\r",
      "Evaluating set functions...:  95%|█████████▍| 72/76 [00:02<00:00, 28.76it/s]"
     ]
    },
    {
     "name": "stderr",
     "output_type": "stream",
     "text": [
      "\r",
      "Evaluating set functions...: 100%|██████████| 76/76 [00:02<00:00, 31.77it/s]"
     ]
    },
    {
     "name": "stderr",
     "output_type": "stream",
     "text": [
      "\n"
     ]
    },
    {
     "name": "stderr",
     "output_type": "stream",
     "text": [
      "\r",
      "Estimating bootstrap interval...:  30%|███       | 3/10 [00:11<00:26,  3.72s/it]"
     ]
    },
    {
     "name": "stderr",
     "output_type": "stream",
     "text": [
      "\r",
      "Evaluating set functions...:   0%|          | 0/77 [00:00<?, ?it/s]"
     ]
    },
    {
     "name": "stderr",
     "output_type": "stream",
     "text": [
      "\r",
      "Evaluating set functions...:  10%|█         | 8/77 [00:00<00:00, 74.94it/s]"
     ]
    },
    {
     "name": "stderr",
     "output_type": "stream",
     "text": [
      "\r",
      "Evaluating set functions...:  21%|██        | 16/77 [00:00<00:01, 44.50it/s]"
     ]
    },
    {
     "name": "stderr",
     "output_type": "stream",
     "text": [
      "\r",
      "Evaluating set functions...:  31%|███       | 24/77 [00:00<00:01, 32.96it/s]"
     ]
    },
    {
     "name": "stderr",
     "output_type": "stream",
     "text": [
      "\r",
      "Evaluating set functions...:  42%|████▏     | 32/77 [00:00<00:01, 30.83it/s]"
     ]
    },
    {
     "name": "stderr",
     "output_type": "stream",
     "text": [
      "\r",
      "Evaluating set functions...:  52%|█████▏    | 40/77 [00:01<00:01, 30.31it/s]"
     ]
    },
    {
     "name": "stderr",
     "output_type": "stream",
     "text": [
      "\r",
      "Evaluating set functions...:  62%|██████▏   | 48/77 [00:01<00:00, 29.22it/s]"
     ]
    },
    {
     "name": "stderr",
     "output_type": "stream",
     "text": [
      "\r",
      "Evaluating set functions...:  73%|███████▎  | 56/77 [00:01<00:00, 29.11it/s]"
     ]
    },
    {
     "name": "stderr",
     "output_type": "stream",
     "text": [
      "\r",
      "Evaluating set functions...:  83%|████████▎ | 64/77 [00:02<00:00, 28.19it/s]"
     ]
    },
    {
     "name": "stderr",
     "output_type": "stream",
     "text": [
      "\r",
      "Evaluating set functions...:  94%|█████████▎| 72/77 [00:02<00:00, 28.50it/s]"
     ]
    },
    {
     "name": "stderr",
     "output_type": "stream",
     "text": [
      "\r",
      "Evaluating set functions...: 100%|██████████| 77/77 [00:02<00:00, 32.44it/s]"
     ]
    },
    {
     "name": "stderr",
     "output_type": "stream",
     "text": [
      "\n"
     ]
    },
    {
     "name": "stderr",
     "output_type": "stream",
     "text": [
      "\r",
      "Estimating bootstrap interval...:  40%|████      | 4/10 [00:14<00:22,  3.70s/it]"
     ]
    },
    {
     "name": "stderr",
     "output_type": "stream",
     "text": [
      "\r",
      "Evaluating set functions...:   0%|          | 0/72 [00:00<?, ?it/s]"
     ]
    },
    {
     "name": "stderr",
     "output_type": "stream",
     "text": [
      "\r",
      "Evaluating set functions...:  11%|█         | 8/72 [00:00<00:00, 72.71it/s]"
     ]
    },
    {
     "name": "stderr",
     "output_type": "stream",
     "text": [
      "\r",
      "Evaluating set functions...:  22%|██▏       | 16/72 [00:00<00:01, 41.36it/s]"
     ]
    },
    {
     "name": "stderr",
     "output_type": "stream",
     "text": [
      "\r",
      "Evaluating set functions...:  33%|███▎      | 24/72 [00:00<00:01, 32.36it/s]"
     ]
    },
    {
     "name": "stderr",
     "output_type": "stream",
     "text": [
      "\r",
      "Evaluating set functions...:  44%|████▍     | 32/72 [00:00<00:01, 30.60it/s]"
     ]
    },
    {
     "name": "stderr",
     "output_type": "stream",
     "text": [
      "\r",
      "Evaluating set functions...:  56%|█████▌    | 40/72 [00:01<00:01, 28.99it/s]"
     ]
    },
    {
     "name": "stderr",
     "output_type": "stream",
     "text": [
      "\r",
      "Evaluating set functions...:  67%|██████▋   | 48/72 [00:01<00:00, 28.35it/s]"
     ]
    },
    {
     "name": "stderr",
     "output_type": "stream",
     "text": [
      "\r",
      "Evaluating set functions...:  78%|███████▊  | 56/72 [00:01<00:00, 28.17it/s]"
     ]
    },
    {
     "name": "stderr",
     "output_type": "stream",
     "text": [
      "\r",
      "Evaluating set functions...:  89%|████████▉ | 64/72 [00:02<00:00, 28.59it/s]"
     ]
    },
    {
     "name": "stderr",
     "output_type": "stream",
     "text": [
      "\r",
      "Evaluating set functions...: 100%|██████████| 72/72 [00:02<00:00, 27.79it/s]"
     ]
    },
    {
     "name": "stderr",
     "output_type": "stream",
     "text": [
      "\r",
      "Evaluating set functions...: 100%|██████████| 72/72 [00:02<00:00, 29.78it/s]"
     ]
    },
    {
     "name": "stderr",
     "output_type": "stream",
     "text": [
      "\n"
     ]
    },
    {
     "name": "stderr",
     "output_type": "stream",
     "text": [
      "\r",
      "Estimating bootstrap interval...:  50%|█████     | 5/10 [00:18<00:17,  3.59s/it]"
     ]
    },
    {
     "name": "stderr",
     "output_type": "stream",
     "text": [
      "\r",
      "Evaluating set functions...:   0%|          | 0/77 [00:00<?, ?it/s]"
     ]
    },
    {
     "name": "stderr",
     "output_type": "stream",
     "text": [
      "\r",
      "Evaluating set functions...:  10%|█         | 8/77 [00:00<00:00, 74.55it/s]"
     ]
    },
    {
     "name": "stderr",
     "output_type": "stream",
     "text": [
      "\r",
      "Evaluating set functions...:  21%|██        | 16/77 [00:00<00:01, 41.46it/s]"
     ]
    },
    {
     "name": "stderr",
     "output_type": "stream",
     "text": [
      "\r",
      "Evaluating set functions...:  31%|███       | 24/77 [00:00<00:01, 31.22it/s]"
     ]
    },
    {
     "name": "stderr",
     "output_type": "stream",
     "text": [
      "\r",
      "Evaluating set functions...:  42%|████▏     | 32/77 [00:00<00:01, 30.51it/s]"
     ]
    },
    {
     "name": "stderr",
     "output_type": "stream",
     "text": [
      "\r",
      "Evaluating set functions...:  52%|█████▏    | 40/77 [00:01<00:01, 29.76it/s]"
     ]
    },
    {
     "name": "stderr",
     "output_type": "stream",
     "text": [
      "\r",
      "Evaluating set functions...:  62%|██████▏   | 48/77 [00:01<00:01, 28.52it/s]"
     ]
    },
    {
     "name": "stderr",
     "output_type": "stream",
     "text": [
      "\r",
      "Evaluating set functions...:  73%|███████▎  | 56/77 [00:01<00:00, 28.71it/s]"
     ]
    },
    {
     "name": "stderr",
     "output_type": "stream",
     "text": [
      "\r",
      "Evaluating set functions...:  83%|████████▎ | 64/77 [00:02<00:00, 27.57it/s]"
     ]
    },
    {
     "name": "stderr",
     "output_type": "stream",
     "text": [
      "\r",
      "Evaluating set functions...:  94%|█████████▎| 72/77 [00:02<00:00, 27.80it/s]"
     ]
    },
    {
     "name": "stderr",
     "output_type": "stream",
     "text": [
      "\r",
      "Evaluating set functions...: 100%|██████████| 77/77 [00:02<00:00, 31.81it/s]"
     ]
    },
    {
     "name": "stderr",
     "output_type": "stream",
     "text": [
      "\n"
     ]
    },
    {
     "name": "stderr",
     "output_type": "stream",
     "text": [
      "\r",
      "Estimating bootstrap interval...:  60%|██████    | 6/10 [00:22<00:14,  3.64s/it]"
     ]
    },
    {
     "name": "stderr",
     "output_type": "stream",
     "text": [
      "\r",
      "Evaluating set functions...:   0%|          | 0/81 [00:00<?, ?it/s]"
     ]
    },
    {
     "name": "stderr",
     "output_type": "stream",
     "text": [
      "\r",
      "Evaluating set functions...:  10%|▉         | 8/81 [00:00<00:01, 72.55it/s]"
     ]
    },
    {
     "name": "stderr",
     "output_type": "stream",
     "text": [
      "\r",
      "Evaluating set functions...:  20%|█▉        | 16/81 [00:00<00:01, 40.95it/s]"
     ]
    },
    {
     "name": "stderr",
     "output_type": "stream",
     "text": [
      "\r",
      "Evaluating set functions...:  30%|██▉       | 24/81 [00:00<00:01, 32.57it/s]"
     ]
    },
    {
     "name": "stderr",
     "output_type": "stream",
     "text": [
      "\r",
      "Evaluating set functions...:  40%|███▉      | 32/81 [00:00<00:01, 32.44it/s]"
     ]
    },
    {
     "name": "stderr",
     "output_type": "stream",
     "text": [
      "\r",
      "Evaluating set functions...:  49%|████▉     | 40/81 [00:01<00:01, 31.73it/s]"
     ]
    },
    {
     "name": "stderr",
     "output_type": "stream",
     "text": [
      "\r",
      "Evaluating set functions...:  59%|█████▉    | 48/81 [00:01<00:01, 31.63it/s]"
     ]
    },
    {
     "name": "stderr",
     "output_type": "stream",
     "text": [
      "\r",
      "Evaluating set functions...:  69%|██████▉   | 56/81 [00:01<00:00, 31.37it/s]"
     ]
    },
    {
     "name": "stderr",
     "output_type": "stream",
     "text": [
      "\r",
      "Evaluating set functions...:  79%|███████▉  | 64/81 [00:01<00:00, 31.44it/s]"
     ]
    },
    {
     "name": "stderr",
     "output_type": "stream",
     "text": [
      "\r",
      "Evaluating set functions...:  89%|████████▉ | 72/81 [00:02<00:00, 30.74it/s]"
     ]
    },
    {
     "name": "stderr",
     "output_type": "stream",
     "text": [
      "\r",
      "Evaluating set functions...:  99%|█████████▉| 80/81 [00:02<00:00, 29.46it/s]"
     ]
    },
    {
     "name": "stderr",
     "output_type": "stream",
     "text": [
      "\r",
      "Evaluating set functions...: 100%|██████████| 81/81 [00:02<00:00, 32.16it/s]"
     ]
    },
    {
     "name": "stderr",
     "output_type": "stream",
     "text": [
      "\n"
     ]
    },
    {
     "name": "stderr",
     "output_type": "stream",
     "text": [
      "\r",
      "Estimating bootstrap interval...:  70%|███████   | 7/10 [00:25<00:10,  3.61s/it]"
     ]
    },
    {
     "name": "stderr",
     "output_type": "stream",
     "text": [
      "\r",
      "Evaluating set functions...:   0%|          | 0/78 [00:00<?, ?it/s]"
     ]
    },
    {
     "name": "stderr",
     "output_type": "stream",
     "text": [
      "\r",
      "Evaluating set functions...:  10%|█         | 8/78 [00:00<00:00, 72.26it/s]"
     ]
    },
    {
     "name": "stderr",
     "output_type": "stream",
     "text": [
      "\r",
      "Evaluating set functions...:  21%|██        | 16/78 [00:00<00:01, 41.01it/s]"
     ]
    },
    {
     "name": "stderr",
     "output_type": "stream",
     "text": [
      "\r",
      "Evaluating set functions...:  31%|███       | 24/78 [00:00<00:01, 33.87it/s]"
     ]
    },
    {
     "name": "stderr",
     "output_type": "stream",
     "text": [
      "\r",
      "Evaluating set functions...:  41%|████      | 32/78 [00:00<00:01, 28.92it/s]"
     ]
    },
    {
     "name": "stderr",
     "output_type": "stream",
     "text": [
      "\r",
      "Evaluating set functions...:  51%|█████▏    | 40/78 [00:01<00:01, 28.21it/s]"
     ]
    },
    {
     "name": "stderr",
     "output_type": "stream",
     "text": [
      "\r",
      "Evaluating set functions...:  62%|██████▏   | 48/78 [00:01<00:01, 27.62it/s]"
     ]
    },
    {
     "name": "stderr",
     "output_type": "stream",
     "text": [
      "\r",
      "Evaluating set functions...:  72%|███████▏  | 56/78 [00:01<00:00, 27.26it/s]"
     ]
    },
    {
     "name": "stderr",
     "output_type": "stream",
     "text": [
      "\r",
      "Evaluating set functions...:  82%|████████▏ | 64/78 [00:02<00:00, 27.00it/s]"
     ]
    },
    {
     "name": "stderr",
     "output_type": "stream",
     "text": [
      "\r",
      "Evaluating set functions...:  92%|█████████▏| 72/78 [00:02<00:00, 27.79it/s]"
     ]
    },
    {
     "name": "stderr",
     "output_type": "stream",
     "text": [
      "\r",
      "Evaluating set functions...: 100%|██████████| 78/78 [00:02<00:00, 31.71it/s]"
     ]
    },
    {
     "name": "stderr",
     "output_type": "stream",
     "text": [
      "\n"
     ]
    },
    {
     "name": "stderr",
     "output_type": "stream",
     "text": [
      "\r",
      "Estimating bootstrap interval...:  80%|████████  | 8/10 [00:29<00:07,  3.68s/it]"
     ]
    },
    {
     "name": "stderr",
     "output_type": "stream",
     "text": [
      "\r",
      "Evaluating set functions...:   0%|          | 0/73 [00:00<?, ?it/s]"
     ]
    },
    {
     "name": "stderr",
     "output_type": "stream",
     "text": [
      "\r",
      "Evaluating set functions...:  11%|█         | 8/73 [00:00<00:00, 75.98it/s]"
     ]
    },
    {
     "name": "stderr",
     "output_type": "stream",
     "text": [
      "\r",
      "Evaluating set functions...:  22%|██▏       | 16/73 [00:00<00:01, 41.09it/s]"
     ]
    },
    {
     "name": "stderr",
     "output_type": "stream",
     "text": [
      "\r",
      "Evaluating set functions...:  33%|███▎      | 24/73 [00:00<00:01, 32.95it/s]"
     ]
    },
    {
     "name": "stderr",
     "output_type": "stream",
     "text": [
      "\r",
      "Evaluating set functions...:  44%|████▍     | 32/73 [00:00<00:01, 31.19it/s]"
     ]
    },
    {
     "name": "stderr",
     "output_type": "stream",
     "text": [
      "\r",
      "Evaluating set functions...:  55%|█████▍    | 40/73 [00:01<00:01, 30.25it/s]"
     ]
    },
    {
     "name": "stderr",
     "output_type": "stream",
     "text": [
      "\r",
      "Evaluating set functions...:  66%|██████▌   | 48/73 [00:01<00:00, 29.05it/s]"
     ]
    },
    {
     "name": "stderr",
     "output_type": "stream",
     "text": [
      "\r",
      "Evaluating set functions...:  77%|███████▋  | 56/73 [00:01<00:00, 27.99it/s]"
     ]
    },
    {
     "name": "stderr",
     "output_type": "stream",
     "text": [
      "\r",
      "Evaluating set functions...:  88%|████████▊ | 64/73 [00:02<00:00, 28.34it/s]"
     ]
    },
    {
     "name": "stderr",
     "output_type": "stream",
     "text": [
      "\r",
      "Evaluating set functions...:  99%|█████████▊| 72/73 [00:02<00:00, 28.12it/s]"
     ]
    },
    {
     "name": "stderr",
     "output_type": "stream",
     "text": [
      "\r",
      "Evaluating set functions...: 100%|██████████| 73/73 [00:02<00:00, 30.57it/s]"
     ]
    },
    {
     "name": "stderr",
     "output_type": "stream",
     "text": [
      "\n"
     ]
    },
    {
     "name": "stderr",
     "output_type": "stream",
     "text": [
      "\r",
      "Estimating bootstrap interval...:  90%|█████████ | 9/10 [00:32<00:03,  3.59s/it]"
     ]
    },
    {
     "name": "stderr",
     "output_type": "stream",
     "text": [
      "\r",
      "Evaluating set functions...:   0%|          | 0/72 [00:00<?, ?it/s]"
     ]
    },
    {
     "name": "stderr",
     "output_type": "stream",
     "text": [
      "\r",
      "Evaluating set functions...:  11%|█         | 8/72 [00:00<00:00, 69.85it/s]"
     ]
    },
    {
     "name": "stderr",
     "output_type": "stream",
     "text": [
      "\r",
      "Evaluating set functions...:  22%|██▏       | 16/72 [00:00<00:01, 39.03it/s]"
     ]
    },
    {
     "name": "stderr",
     "output_type": "stream",
     "text": [
      "\r",
      "Evaluating set functions...:  33%|███▎      | 24/72 [00:00<00:01, 30.51it/s]"
     ]
    },
    {
     "name": "stderr",
     "output_type": "stream",
     "text": [
      "\r",
      "Evaluating set functions...:  44%|████▍     | 32/72 [00:00<00:01, 29.94it/s]"
     ]
    },
    {
     "name": "stderr",
     "output_type": "stream",
     "text": [
      "\r",
      "Evaluating set functions...:  56%|█████▌    | 40/72 [00:01<00:01, 29.29it/s]"
     ]
    },
    {
     "name": "stderr",
     "output_type": "stream",
     "text": [
      "\r",
      "Evaluating set functions...:  67%|██████▋   | 48/72 [00:01<00:00, 28.32it/s]"
     ]
    },
    {
     "name": "stderr",
     "output_type": "stream",
     "text": [
      "\r",
      "Evaluating set functions...:  78%|███████▊  | 56/72 [00:01<00:00, 29.68it/s]"
     ]
    },
    {
     "name": "stderr",
     "output_type": "stream",
     "text": [
      "\r",
      "Evaluating set functions...:  89%|████████▉ | 64/72 [00:02<00:00, 29.26it/s]"
     ]
    },
    {
     "name": "stderr",
     "output_type": "stream",
     "text": [
      "\r",
      "Evaluating set functions...: 100%|██████████| 72/72 [00:02<00:00, 29.81it/s]"
     ]
    },
    {
     "name": "stderr",
     "output_type": "stream",
     "text": [
      "\r",
      "Evaluating set functions...: 100%|██████████| 72/72 [00:02<00:00, 30.57it/s]"
     ]
    },
    {
     "name": "stderr",
     "output_type": "stream",
     "text": [
      "\n"
     ]
    },
    {
     "name": "stderr",
     "output_type": "stream",
     "text": [
      "\r",
      "Estimating bootstrap interval...: 100%|██████████| 10/10 [00:36<00:00,  3.52s/it]"
     ]
    },
    {
     "name": "stderr",
     "output_type": "stream",
     "text": [
      "\r",
      "Estimating bootstrap interval...: 100%|██████████| 10/10 [00:36<00:00,  3.62s/it]"
     ]
    },
    {
     "name": "stderr",
     "output_type": "stream",
     "text": [
      "\n"
     ]
    }
   ],
   "source": [
    "def calculate_difference_estimation(causal_model, df_old, df_new, target_column, difference_estimation_func, num_samples=2000, confidence_level=0.90, num_bootstrap_resamples=10):\n",
    "\n",
    "    difference_contribs, uncertainty_contribs = gcm.confidence_intervals(\n",
    "        lambda : gcm.distribution_change(causal_model, \n",
    "                                          df_old, \n",
    "                                          df_new, \n",
    "                                          target_column, \n",
    "                                          num_samples=num_samples,\n",
    "                                          independence_test=lambda x, y: gcm.kernel_based(x.astype(float), y.astype(float)),\n",
    "                                          conditional_independence_test=lambda x, y, z: gcm.kernel_based(x.astype(float), y.astype(float), z.astype(float)),\n",
    "                                          difference_estimation_func=difference_estimation_func,\n",
    "                                          shapley_config=gcm.shapley.ShapleyConfig(approximation_method=gcm.shapley.ShapleyApproximationMethods.PERMUTATION, num_permutations=20)),\n",
    "        confidence_level=confidence_level,\n",
    "        num_bootstrap_resamples=num_bootstrap_resamples\n",
    "    )\n",
    "\n",
    "    return difference_contribs, uncertainty_contribs\n",
    "\n",
    "median_diff_contribs, median_diff_uncertainty = calculate_difference_estimation(causal_model, df_old, df_new, 'sale', lambda x1, x2: np.mean(x2) - np.mean(x1))"
   ]
  },
  {
   "cell_type": "markdown",
   "id": "18a8208a-2e1b-4048-a15b-56d8bd9e7768",
   "metadata": {},
   "source": [
    "Then we plot drivers' contribution to KPI changes visually, followed by a tabular format. "
   ]
  },
  {
   "cell_type": "code",
   "execution_count": 17,
   "id": "c7e42600",
   "metadata": {
    "execution": {
     "iopub.execute_input": "2024-11-19T22:22:35.979272Z",
     "iopub.status.busy": "2024-11-19T22:22:35.978849Z",
     "iopub.status.idle": "2024-11-19T22:22:36.121092Z",
     "shell.execute_reply": "2024-11-19T22:22:36.120421Z"
    },
    "tags": []
   },
   "outputs": [
    {
     "data": {
      "image/png": "[encoded data removed]",
      "text/plain": [
       "<Figure size 1000x500 with 1 Axes>"
      ]
     },
     "metadata": {},
     "output_type": "display_data"
    }
   ],
   "source": [
    "gcm.util.bar_plot(median_diff_contribs, median_diff_uncertainty, 'Contribution', figure_size=(10,5))"
   ]
  },
  {
   "cell_type": "code",
   "execution_count": 18,
   "id": "4cc6ac14",
   "metadata": {
    "execution": {
     "iopub.execute_input": "2024-11-19T22:22:36.123717Z",
     "iopub.status.busy": "2024-11-19T22:22:36.123307Z",
     "iopub.status.idle": "2024-11-19T22:22:36.133448Z",
     "shell.execute_reply": "2024-11-19T22:22:36.132994Z"
    },
    "tags": []
   },
   "outputs": [
    {
     "data": {
      "text/html": [
       "<div>\n",
       "<style scoped>\n",
       "    .dataframe tbody tr th:only-of-type {\n",
       "        vertical-align: middle;\n",
       "    }\n",
       "\n",
       "    .dataframe tbody tr th {\n",
       "        vertical-align: top;\n",
       "    }\n",
       "\n",
       "    .dataframe thead th {\n",
       "        text-align: right;\n",
       "    }\n",
       "</style>\n",
       "<table border=\"1\" class=\"dataframe\">\n",
       "  <thead>\n",
       "    <tr style=\"text-align: right;\">\n",
       "      <th></th>\n",
       "      <th>median</th>\n",
       "      <th>lb</th>\n",
       "      <th>ub</th>\n",
       "    </tr>\n",
       "    <tr>\n",
       "      <th>node</th>\n",
       "      <th></th>\n",
       "      <th></th>\n",
       "      <th></th>\n",
       "    </tr>\n",
       "  </thead>\n",
       "  <tbody>\n",
       "    <tr>\n",
       "      <th>discount</th>\n",
       "      <td>852.535415</td>\n",
       "      <td>-1053.680637</td>\n",
       "      <td>1210.905146</td>\n",
       "    </tr>\n",
       "    <tr>\n",
       "      <th>dpv</th>\n",
       "      <td>-19499.189182</td>\n",
       "      <td>-25482.030914</td>\n",
       "      <td>-10452.068109</td>\n",
       "    </tr>\n",
       "    <tr>\n",
       "      <th>dsp_spend</th>\n",
       "      <td>13108.642561</td>\n",
       "      <td>9770.368215</td>\n",
       "      <td>17339.718242</td>\n",
       "    </tr>\n",
       "    <tr>\n",
       "      <th>other_shopping_event</th>\n",
       "      <td>-853.410405</td>\n",
       "      <td>-1858.997967</td>\n",
       "      <td>67.381014</td>\n",
       "    </tr>\n",
       "    <tr>\n",
       "      <th>sale</th>\n",
       "      <td>11275.084665</td>\n",
       "      <td>-12035.488901</td>\n",
       "      <td>33166.743585</td>\n",
       "    </tr>\n",
       "    <tr>\n",
       "      <th>sp_spend</th>\n",
       "      <td>82411.384817</td>\n",
       "      <td>63133.855478</td>\n",
       "      <td>92262.743812</td>\n",
       "    </tr>\n",
       "    <tr>\n",
       "      <th>special_shopping_event</th>\n",
       "      <td>274.665982</td>\n",
       "      <td>-1349.220735</td>\n",
       "      <td>1666.358150</td>\n",
       "    </tr>\n",
       "  </tbody>\n",
       "</table>\n",
       "</div>"
      ],
      "text/plain": [
       "                              median            lb            ub\n",
       "node                                                            \n",
       "discount                  852.535415  -1053.680637   1210.905146\n",
       "dpv                    -19499.189182 -25482.030914 -10452.068109\n",
       "dsp_spend               13108.642561   9770.368215  17339.718242\n",
       "other_shopping_event     -853.410405  -1858.997967     67.381014\n",
       "sale                    11275.084665 -12035.488901  33166.743585\n",
       "sp_spend                82411.384817  63133.855478  92262.743812\n",
       "special_shopping_event    274.665982  -1349.220735   1666.358150"
      ]
     },
     "execution_count": 18,
     "metadata": {},
     "output_type": "execute_result"
    }
   ],
   "source": [
    "def show_tabular(median_contribs, uncertainty_contribs):\n",
    "    rows = []\n",
    "    for node, median_contrib in median_contribs.items():\n",
    "        rows.append(dict(node=node, median=median_contrib, lb=uncertainty_contribs[node][0], ub=uncertainty_contribs[node][1]))\n",
    "    df = pd.DataFrame(rows).set_index('node')\n",
    "    df.rename(columns=dict(median='median', lb='lb', ub='ub'), inplace=True)\n",
    "    return df\n",
    "    \n",
    "# show_tabular(median_contribs, uncertainty_contribs)\n",
    "result_df = pd.DataFrame(show_tabular(median_diff_contribs, median_diff_uncertainty))\n",
    "result_df"
   ]
  },
  {
   "cell_type": "markdown",
   "id": "d2ab2655-0d80-4112-8e65-1a27a3622b37",
   "metadata": {},
   "source": [
    "Here, we see that 'sp_spend' has the larges contrigution to the change in the mean of 'sale', while the 'discount', 'other_shopping_event' and 'special_shopping_event' has little to none contribution. This aligns with the way how the data was generated.\n",
    "\n",
    "Next, we remove all variables that have a 0 as part of their confidence interval or are negative, i.e., do not have a clear significant positive contribution:"
   ]
  },
  {
   "cell_type": "code",
   "execution_count": 19,
   "id": "85396307-7dee-4606-909b-b0c24900a7a9",
   "metadata": {
    "execution": {
     "iopub.execute_input": "2024-11-19T22:22:36.135210Z",
     "iopub.status.busy": "2024-11-19T22:22:36.135022Z",
     "iopub.status.idle": "2024-11-19T22:22:36.138726Z",
     "shell.execute_reply": "2024-11-19T22:22:36.138144Z"
    },
    "tags": []
   },
   "outputs": [],
   "source": [
    "def filter_significant_rows(result_df, direction, ub_col, lb_col):\n",
    "\n",
    "    if direction == 'positive':\n",
    "        significant_rows = result_df[(result_df[ub_col] > 0) & (result_df[lb_col] > 0)]\n",
    "    elif direction == 'negative':\n",
    "        significant_rows = result_df[(result_df[ub_col] < 0) & (result_df[lb_col] < 0)]\n",
    "    else:\n",
    "        raise ValueError(\"Invalid direction. Choose 'positive' or 'negative'.\")\n",
    "\n",
    "    return significant_rows"
   ]
  },
  {
   "cell_type": "code",
   "execution_count": 20,
   "id": "81e7ce4c-3a6e-49df-a636-5fd226f5dfd9",
   "metadata": {
    "execution": {
     "iopub.execute_input": "2024-11-19T22:22:36.140965Z",
     "iopub.status.busy": "2024-11-19T22:22:36.140432Z",
     "iopub.status.idle": "2024-11-19T22:22:36.147025Z",
     "shell.execute_reply": "2024-11-19T22:22:36.146527Z"
    },
    "tags": []
   },
   "outputs": [
    {
     "data": {
      "text/html": [
       "<div>\n",
       "<style scoped>\n",
       "    .dataframe tbody tr th:only-of-type {\n",
       "        vertical-align: middle;\n",
       "    }\n",
       "\n",
       "    .dataframe tbody tr th {\n",
       "        vertical-align: top;\n",
       "    }\n",
       "\n",
       "    .dataframe thead th {\n",
       "        text-align: right;\n",
       "    }\n",
       "</style>\n",
       "<table border=\"1\" class=\"dataframe\">\n",
       "  <thead>\n",
       "    <tr style=\"text-align: right;\">\n",
       "      <th></th>\n",
       "      <th>median</th>\n",
       "      <th>lb</th>\n",
       "      <th>ub</th>\n",
       "    </tr>\n",
       "    <tr>\n",
       "      <th>node</th>\n",
       "      <th></th>\n",
       "      <th></th>\n",
       "      <th></th>\n",
       "    </tr>\n",
       "  </thead>\n",
       "  <tbody>\n",
       "    <tr>\n",
       "      <th>dsp_spend</th>\n",
       "      <td>13108.642561</td>\n",
       "      <td>9770.368215</td>\n",
       "      <td>17339.718242</td>\n",
       "    </tr>\n",
       "    <tr>\n",
       "      <th>sp_spend</th>\n",
       "      <td>82411.384817</td>\n",
       "      <td>63133.855478</td>\n",
       "      <td>92262.743812</td>\n",
       "    </tr>\n",
       "  </tbody>\n",
       "</table>\n",
       "</div>"
      ],
      "text/plain": [
       "                 median            lb            ub\n",
       "node                                               \n",
       "dsp_spend  13108.642561   9770.368215  17339.718242\n",
       "sp_spend   82411.384817  63133.855478  92262.743812"
      ]
     },
     "execution_count": 20,
     "metadata": {},
     "output_type": "execute_result"
    }
   ],
   "source": [
    "positive_significant_rows = filter_significant_rows(result_df, 'positive', 'ub', 'lb')\n",
    "positive_significant_rows"
   ]
  },
  {
   "cell_type": "markdown",
   "id": "65649c3b-a290-49f3-af4b-5086dc9a156f",
   "metadata": {},
   "source": [
    "This tells us, 'dsp_spend' and 'sp_spend' had a significantly positive contribution to the shift in 'sale'."
   ]
  },
  {
   "cell_type": "markdown",
   "id": "221a3f07-f04c-4f0d-95bf-7cb0199b3e48",
   "metadata": {
    "tags": []
   },
   "source": [
    "## 5. Optimal intervention"
   ]
  },
  {
   "cell_type": "markdown",
   "id": "5908d58e-a928-4a85-9a72-2ec2a53fa3d0",
   "metadata": {},
   "source": [
    "Section 4 above helps us to understand drivers for past growth. Now, looking forward to business planning, we conduct interventions to understand incremental contributions to KPIs. Intuitively, the spend types resulting in higher returns should be doubled down on.  "
   ]
  },
  {
   "cell_type": "code",
   "execution_count": 21,
   "id": "b6bee9e7-ed99-4cbc-9c70-6b0552de4338",
   "metadata": {
    "execution": {
     "iopub.execute_input": "2024-11-19T22:22:36.148974Z",
     "iopub.status.busy": "2024-11-19T22:22:36.148617Z",
     "iopub.status.idle": "2024-11-19T22:22:36.158458Z",
     "shell.execute_reply": "2024-11-19T22:22:36.157902Z"
    },
    "tags": []
   },
   "outputs": [],
   "source": [
    "def intervention_influence(causal_model, target, data=None, step_size=1, non_interveneable_nodes=None, confidence_level=0.90, cap_value=None,  prints=False):\n",
    "    progress_bar_was_on = gcm.config.show_progress_bars\n",
    "\n",
    "    if progress_bar_was_on:\n",
    "        gcm.config.disable_progress_bars()\n",
    "    \n",
    "    causal_effects = {}\n",
    "    causal_effects_confidence_interval = {}\n",
    "    capped_effects = []\n",
    "\n",
    "    if non_interveneable_nodes is None:\n",
    "        non_interveneable_nodes = []\n",
    "    \n",
    "    for node in causal_model.graph.nodes:\n",
    "        if node in non_interveneable_nodes:\n",
    "            continue\n",
    "\n",
    "        # Define interventions\n",
    "        def intervention(x):\n",
    "            return x + step_size\n",
    "\n",
    "        def non_intervention(x):\n",
    "            return x\n",
    "            \n",
    "        interventions_alternative = {node: intervention}\n",
    "        interventions_reference = {node: non_intervention}\n",
    "\n",
    "        # Compute causal effects\n",
    "        if data is not None:\n",
    "            effect = gcm.confidence_intervals(\n",
    "                gcm.fit_and_compute(gcm.average_causal_effect,\n",
    "                                    causal_model,\n",
    "                                    auto_assign_quality=gcm.auto.AssignmentQuality.GOOD,\n",
    "                                    bootstrap_training_data=data,\n",
    "                                    target_node=target,\n",
    "                                    interventions_alternative=interventions_alternative,\n",
    "                                    interventions_reference=interventions_reference,\n",
    "                                    observed_data=data),\n",
    "                n_jobs=1,\n",
    "                num_bootstrap_resamples=10,\n",
    "                confidence_level=confidence_level)\n",
    "        else:\n",
    "            effect = gcm.confidence_intervals(\n",
    "                partial(gcm.average_causal_effect,\n",
    "                        causal_model=causal_model,\n",
    "                        target_node=target,\n",
    "                        interventions_alternative=interventions_alternative,\n",
    "                        interventions_reference=interventions_reference,\n",
    "                        observed_data=data,\n",
    "                        num_samples_to_draw=10000),\n",
    "                n_jobs=-1,\n",
    "                num_bootstrap_resamples=20,\n",
    "                confidence_level=confidence_level)\n",
    "\n",
    "\n",
    "        causal_effects[node] = effect[0][0]\n",
    "        causal_effects_confidence_interval[node] = effect[1].squeeze()\n",
    "        \n",
    "        # Apply capping constraint\n",
    "        if cap_value is not None and node.endswith('_spend'):\n",
    "            if causal_effects[node] > cap_value:\n",
    "                causal_effects[node] = cap_value\n",
    "                capped_effects.append(node)\n",
    "            elif causal_effects[node] < -cap_value:\n",
    "                causal_effects[node] = -cap_value\n",
    "                capped_effects.append(node)\n",
    "\n",
    "        # Apply non-negativity constraint\n",
    "        if  node.endswith('_spend') and causal_effects[node] < 0:\n",
    "            causal_effects[node] = 0\n",
    "            causal_effects_confidence_interval[node] = [np.nan, np.nan]\n",
    "\n",
    "    if progress_bar_was_on:\n",
    "        gcm.config.enable_progress_bars()\n",
    "\n",
    "    if prints:\n",
    "        for node in sorted(causal_effects, key=causal_effects.get, reverse=True):\n",
    "            if causal_effects[node] == 0:\n",
    "                print(f\"{'Increasing' if step_size > 0 else 'Decreasing'} {node} by {step_size} has no effect on {target}.\")\n",
    "            else:\n",
    "                print(f\"{'Increasing' if step_size > 0 else 'Decreasing'} {node} by {step_size} {'increases' if causal_effects[node] > 0 else 'decreases'} {target} \"\n",
    "                        f\"by around {causal_effects[node]} with a confidence interval ({confidence_level * 100}%) of {causal_effects_confidence_interval[node]}.\")\n",
    "\n",
    "    all_variables = list(causal_effects.keys())\n",
    "    all_causal_effects = [causal_effects[key] for key in all_variables]\n",
    "    all_lower_bounds = [causal_effects_confidence_interval[key][0] for key in all_variables]\n",
    "    all_upper_bounds = [causal_effects_confidence_interval[key][1] for key in all_variables]\n",
    "    result_df = pd.DataFrame({'Variable': all_variables, \n",
    "                              'Causal Effect': all_causal_effects, \n",
    "                              'Lower CI': all_lower_bounds, \n",
    "                              'Upper CI': all_upper_bounds},\n",
    "                             index = all_variables)\n",
    "    \n",
    "    return result_df"
   ]
  },
  {
   "cell_type": "code",
   "execution_count": 22,
   "id": "5c42552e-9349-4182-b404-eab91ab70a8f",
   "metadata": {
    "execution": {
     "iopub.execute_input": "2024-11-19T22:22:36.160377Z",
     "iopub.status.busy": "2024-11-19T22:22:36.160157Z",
     "iopub.status.idle": "2024-11-19T22:22:51.117950Z",
     "shell.execute_reply": "2024-11-19T22:22:51.117328Z"
    },
    "tags": []
   },
   "outputs": [
    {
     "name": "stdout",
     "output_type": "stream",
     "text": [
      "Increasing sp_spend by 1 increases sale by around 20 with a confidence interval (85.0%) of [211.15203243 283.88797398].\n",
      "Increasing dsp_spend by 1 increases sale by around 4.520327391584288 with a confidence interval (85.0%) of [-10.80262657  20.16217763].\n",
      "Increasing discount by 1 increases sale by around 0.6872599796537543 with a confidence interval (85.0%) of [0.12375244 1.30657707].\n",
      "Increasing other_shopping_event by 1 increases sale by around 5.820766091346741e-12 with a confidence interval (85.0%) of [0. 0.].\n",
      "Increasing special_shopping_event by 1 increases sale by around 2.9103830456733705e-12 with a confidence interval (85.0%) of [0.00000000e+00 8.73114914e-12].\n"
     ]
    },
    {
     "data": {
      "text/html": [
       "<div>\n",
       "<style scoped>\n",
       "    .dataframe tbody tr th:only-of-type {\n",
       "        vertical-align: middle;\n",
       "    }\n",
       "\n",
       "    .dataframe tbody tr th {\n",
       "        vertical-align: top;\n",
       "    }\n",
       "\n",
       "    .dataframe thead th {\n",
       "        text-align: right;\n",
       "    }\n",
       "</style>\n",
       "<table border=\"1\" class=\"dataframe\">\n",
       "  <thead>\n",
       "    <tr style=\"text-align: right;\">\n",
       "      <th></th>\n",
       "      <th>Variable</th>\n",
       "      <th>Causal Effect</th>\n",
       "      <th>Lower CI</th>\n",
       "      <th>Upper CI</th>\n",
       "    </tr>\n",
       "  </thead>\n",
       "  <tbody>\n",
       "    <tr>\n",
       "      <th>dsp_spend</th>\n",
       "      <td>dsp_spend</td>\n",
       "      <td>4.520327e+00</td>\n",
       "      <td>-10.802627</td>\n",
       "      <td>2.016218e+01</td>\n",
       "    </tr>\n",
       "    <tr>\n",
       "      <th>sp_spend</th>\n",
       "      <td>sp_spend</td>\n",
       "      <td>2.000000e+01</td>\n",
       "      <td>211.152032</td>\n",
       "      <td>2.838880e+02</td>\n",
       "    </tr>\n",
       "    <tr>\n",
       "      <th>special_shopping_event</th>\n",
       "      <td>special_shopping_event</td>\n",
       "      <td>2.910383e-12</td>\n",
       "      <td>0.000000</td>\n",
       "      <td>8.731149e-12</td>\n",
       "    </tr>\n",
       "    <tr>\n",
       "      <th>other_shopping_event</th>\n",
       "      <td>other_shopping_event</td>\n",
       "      <td>5.820766e-12</td>\n",
       "      <td>0.000000</td>\n",
       "      <td>0.000000e+00</td>\n",
       "    </tr>\n",
       "    <tr>\n",
       "      <th>discount</th>\n",
       "      <td>discount</td>\n",
       "      <td>6.872600e-01</td>\n",
       "      <td>0.123752</td>\n",
       "      <td>1.306577e+00</td>\n",
       "    </tr>\n",
       "  </tbody>\n",
       "</table>\n",
       "</div>"
      ],
      "text/plain": [
       "                                      Variable  Causal Effect    Lower CI  \\\n",
       "dsp_spend                            dsp_spend   4.520327e+00  -10.802627   \n",
       "sp_spend                              sp_spend   2.000000e+01  211.152032   \n",
       "special_shopping_event  special_shopping_event   2.910383e-12    0.000000   \n",
       "other_shopping_event      other_shopping_event   5.820766e-12    0.000000   \n",
       "discount                              discount   6.872600e-01    0.123752   \n",
       "\n",
       "                            Upper CI  \n",
       "dsp_spend               2.016218e+01  \n",
       "sp_spend                2.838880e+02  \n",
       "special_shopping_event  8.731149e-12  \n",
       "other_shopping_event    0.000000e+00  \n",
       "discount                1.306577e+00  "
      ]
     },
     "execution_count": 22,
     "metadata": {},
     "output_type": "execute_result"
    }
   ],
   "source": [
    "interv_result = intervention_influence(causal_model=causal_model, target='sale', non_interveneable_nodes=['dpv', 'sale'], confidence_level=0.85, cap_value=20, prints=True)\n",
    "interv_result"
   ]
  },
  {
   "cell_type": "markdown",
   "id": "8bce37de-ca68-42ce-aac1-6a86d7834320",
   "metadata": {},
   "source": [
    "We similarly filter to positively significant interventions, i.e., the spending with statistically significant positive returns.  Note that with capping, 'causal effect' may not fall between lower and upper CI. The interpretation is, for each dollar spent on one type of ad, we receive X amount in return, with X indicated in the 'Causal Effect' column. "
   ]
  },
  {
   "cell_type": "code",
   "execution_count": 23,
   "id": "f5f2e83a-3fed-4a75-9936-fd817153367a",
   "metadata": {
    "execution": {
     "iopub.execute_input": "2024-11-19T22:22:51.119845Z",
     "iopub.status.busy": "2024-11-19T22:22:51.119652Z",
     "iopub.status.idle": "2024-11-19T22:22:51.127084Z",
     "shell.execute_reply": "2024-11-19T22:22:51.126443Z"
    },
    "tags": []
   },
   "outputs": [
    {
     "data": {
      "text/html": [
       "<div>\n",
       "<style scoped>\n",
       "    .dataframe tbody tr th:only-of-type {\n",
       "        vertical-align: middle;\n",
       "    }\n",
       "\n",
       "    .dataframe tbody tr th {\n",
       "        vertical-align: top;\n",
       "    }\n",
       "\n",
       "    .dataframe thead th {\n",
       "        text-align: right;\n",
       "    }\n",
       "</style>\n",
       "<table border=\"1\" class=\"dataframe\">\n",
       "  <thead>\n",
       "    <tr style=\"text-align: right;\">\n",
       "      <th></th>\n",
       "      <th>Variable</th>\n",
       "      <th>Causal Effect</th>\n",
       "      <th>Lower CI</th>\n",
       "      <th>Upper CI</th>\n",
       "    </tr>\n",
       "  </thead>\n",
       "  <tbody>\n",
       "    <tr>\n",
       "      <th>sp_spend</th>\n",
       "      <td>sp_spend</td>\n",
       "      <td>20.00000</td>\n",
       "      <td>211.152032</td>\n",
       "      <td>283.887974</td>\n",
       "    </tr>\n",
       "    <tr>\n",
       "      <th>discount</th>\n",
       "      <td>discount</td>\n",
       "      <td>0.68726</td>\n",
       "      <td>0.123752</td>\n",
       "      <td>1.306577</td>\n",
       "    </tr>\n",
       "  </tbody>\n",
       "</table>\n",
       "</div>"
      ],
      "text/plain": [
       "          Variable  Causal Effect    Lower CI    Upper CI\n",
       "sp_spend  sp_spend       20.00000  211.152032  283.887974\n",
       "discount  discount        0.68726    0.123752    1.306577"
      ]
     },
     "execution_count": 23,
     "metadata": {},
     "output_type": "execute_result"
    }
   ],
   "source": [
    "interv_result_v2= filter_significant_rows(interv_result, 'positive', 'Upper CI', 'Lower CI')\n",
    "interv_result_v2"
   ]
  },
  {
   "cell_type": "markdown",
   "id": "bb5a679d-b0c9-48c0-ba2d-9f9654491370",
   "metadata": {},
   "source": [
    "## Summary"
   ]
  },
  {
   "cell_type": "markdown",
   "id": "532c4ee0-9b9a-48c0-9e49-d7b093116bb9",
   "metadata": {},
   "source": [
    "This advertiser comes to us to understand what drove past growth. Starting with a causal graph drawn from domain knowledge, we refined the graph to prune unnecessary nodes and edges. Then we fit a causal attribution model in Section 4 to test which types of investment changes lead to KPI growth. We find that increases in both dsp_spend and sp_spend contribute to KPIs growth in 2024 vs. 2023. This conclusion helps the analytics team to understand root causes of past sales growth. Looking forward to future budget planning, we conducted interventions to understand incremental return on investment (iROI), and identify those types of spend way above $1 to double down on."
   ]
  }
 ],
 "metadata": {
  "kernelspec": {
   "display_name": "Python 3 (ipykernel)",
   "language": "python",
   "name": "python3"
  },
  "language_info": {
   "codemirror_mode": {
    "name": "ipython",
    "version": 3
   },
   "file_extension": ".py",
   "mimetype": "text/x-python",
   "name": "python",
   "nbconvert_exporter": "python",
   "pygments_lexer": "ipython3",
   "version": "3.8.10"
  }
 },
 "nbformat": 4,
 "nbformat_minor": 5
}
