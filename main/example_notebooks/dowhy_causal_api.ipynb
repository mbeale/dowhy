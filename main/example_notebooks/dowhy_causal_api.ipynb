{
 "cells": [
  {
   "cell_type": "markdown",
   "metadata": {},
   "source": [
    "# Demo for the DoWhy causal API\n",
    "We show a simple example of adding a causal extension to any dataframe. "
   ]
  },
  {
   "cell_type": "code",
   "execution_count": 1,
   "metadata": {
    "execution": {
     "iopub.execute_input": "2024-10-29T15:11:39.442492Z",
     "iopub.status.busy": "2024-10-29T15:11:39.442046Z",
     "iopub.status.idle": "2024-10-29T15:11:40.886818Z",
     "shell.execute_reply": "2024-10-29T15:11:40.886118Z"
    }
   },
   "outputs": [],
   "source": [
    "import dowhy.datasets\n",
    "import dowhy.api\n",
    "from dowhy.graph import build_graph_from_str\n",
    "\n",
    "import numpy as np\n",
    "import pandas as pd\n",
    "\n",
    "from statsmodels.api import OLS"
   ]
  },
  {
   "cell_type": "code",
   "execution_count": 2,
   "metadata": {
    "execution": {
     "iopub.execute_input": "2024-10-29T15:11:40.889033Z",
     "iopub.status.busy": "2024-10-29T15:11:40.888729Z",
     "iopub.status.idle": "2024-10-29T15:11:40.932931Z",
     "shell.execute_reply": "2024-10-29T15:11:40.932344Z"
    }
   },
   "outputs": [
    {
     "data": {
      "text/html": [
       "<div>\n",
       "<style scoped>\n",
       "    .dataframe tbody tr th:only-of-type {\n",
       "        vertical-align: middle;\n",
       "    }\n",
       "\n",
       "    .dataframe tbody tr th {\n",
       "        vertical-align: top;\n",
       "    }\n",
       "\n",
       "    .dataframe thead th {\n",
       "        text-align: right;\n",
       "    }\n",
       "</style>\n",
       "<table border=\"1\" class=\"dataframe\">\n",
       "  <thead>\n",
       "    <tr style=\"text-align: right;\">\n",
       "      <th></th>\n",
       "      <th>W0</th>\n",
       "      <th>v0</th>\n",
       "      <th>y</th>\n",
       "    </tr>\n",
       "  </thead>\n",
       "  <tbody>\n",
       "    <tr>\n",
       "      <th>0</th>\n",
       "      <td>-1.475207</td>\n",
       "      <td>False</td>\n",
       "      <td>-1.637703</td>\n",
       "    </tr>\n",
       "    <tr>\n",
       "      <th>1</th>\n",
       "      <td>-1.306290</td>\n",
       "      <td>False</td>\n",
       "      <td>-0.592534</td>\n",
       "    </tr>\n",
       "    <tr>\n",
       "      <th>2</th>\n",
       "      <td>-0.254745</td>\n",
       "      <td>True</td>\n",
       "      <td>5.202848</td>\n",
       "    </tr>\n",
       "    <tr>\n",
       "      <th>3</th>\n",
       "      <td>-1.765457</td>\n",
       "      <td>False</td>\n",
       "      <td>-0.729855</td>\n",
       "    </tr>\n",
       "    <tr>\n",
       "      <th>4</th>\n",
       "      <td>-1.217787</td>\n",
       "      <td>False</td>\n",
       "      <td>1.744981</td>\n",
       "    </tr>\n",
       "    <tr>\n",
       "      <th>...</th>\n",
       "      <td>...</td>\n",
       "      <td>...</td>\n",
       "      <td>...</td>\n",
       "    </tr>\n",
       "    <tr>\n",
       "      <th>995</th>\n",
       "      <td>-1.564678</td>\n",
       "      <td>False</td>\n",
       "      <td>-2.430011</td>\n",
       "    </tr>\n",
       "    <tr>\n",
       "      <th>996</th>\n",
       "      <td>0.104382</td>\n",
       "      <td>False</td>\n",
       "      <td>-1.665688</td>\n",
       "    </tr>\n",
       "    <tr>\n",
       "      <th>997</th>\n",
       "      <td>-1.203350</td>\n",
       "      <td>False</td>\n",
       "      <td>-0.676596</td>\n",
       "    </tr>\n",
       "    <tr>\n",
       "      <th>998</th>\n",
       "      <td>-0.224327</td>\n",
       "      <td>True</td>\n",
       "      <td>2.807310</td>\n",
       "    </tr>\n",
       "    <tr>\n",
       "      <th>999</th>\n",
       "      <td>-2.822168</td>\n",
       "      <td>False</td>\n",
       "      <td>-0.479495</td>\n",
       "    </tr>\n",
       "  </tbody>\n",
       "</table>\n",
       "<p>1000 rows × 3 columns</p>\n",
       "</div>"
      ],
      "text/plain": [
       "           W0     v0         y\n",
       "0   -1.475207  False -1.637703\n",
       "1   -1.306290  False -0.592534\n",
       "2   -0.254745   True  5.202848\n",
       "3   -1.765457  False -0.729855\n",
       "4   -1.217787  False  1.744981\n",
       "..        ...    ...       ...\n",
       "995 -1.564678  False -2.430011\n",
       "996  0.104382  False -1.665688\n",
       "997 -1.203350  False -0.676596\n",
       "998 -0.224327   True  2.807310\n",
       "999 -2.822168  False -0.479495\n",
       "\n",
       "[1000 rows x 3 columns]"
      ]
     },
     "execution_count": 2,
     "metadata": {},
     "output_type": "execute_result"
    }
   ],
   "source": [
    "data = dowhy.datasets.linear_dataset(beta=5,\n",
    "        num_common_causes=1,\n",
    "        num_instruments = 0,\n",
    "        num_samples=1000,\n",
    "        treatment_is_binary=True)\n",
    "df = data['df']\n",
    "df['y'] = df['y'] + np.random.normal(size=len(df)) # Adding noise to data. Without noise, the variance in Y|X, Z is zero, and mcmc fails.\n",
    "nx_graph = build_graph_from_str(data[\"dot_graph\"])\n",
    "\n",
    "treatment= data[\"treatment_name\"][0]\n",
    "outcome = data[\"outcome_name\"][0]\n",
    "common_cause = data[\"common_causes_names\"][0]\n",
    "df"
   ]
  },
  {
   "cell_type": "code",
   "execution_count": 3,
   "metadata": {
    "execution": {
     "iopub.execute_input": "2024-10-29T15:11:40.934854Z",
     "iopub.status.busy": "2024-10-29T15:11:40.934510Z",
     "iopub.status.idle": "2024-10-29T15:11:41.093549Z",
     "shell.execute_reply": "2024-10-29T15:11:41.092878Z"
    },
    "scrolled": true
   },
   "outputs": [
    {
     "data": {
      "text/plain": [
       "<Axes: xlabel='v0'>"
      ]
     },
     "execution_count": 3,
     "metadata": {},
     "output_type": "execute_result"
    },
    {
     "data": {
      "image/png": "[encoded data removed]",
      "text/plain": [
       "<Figure size 640x480 with 1 Axes>"
      ]
     },
     "metadata": {},
     "output_type": "display_data"
    }
   ],
   "source": [
    "# data['df'] is just a regular pandas.DataFrame\n",
    "df.causal.do(x=treatment,\n",
    "             variable_types={treatment: 'b', outcome: 'c', common_cause: 'c'},\n",
    "             outcome=outcome,\n",
    "             common_causes=[common_cause],\n",
    "            ).groupby(treatment).mean().plot(y=outcome, kind='bar')"
   ]
  },
  {
   "cell_type": "code",
   "execution_count": 4,
   "metadata": {
    "execution": {
     "iopub.execute_input": "2024-10-29T15:11:41.095740Z",
     "iopub.status.busy": "2024-10-29T15:11:41.095383Z",
     "iopub.status.idle": "2024-10-29T15:11:41.204720Z",
     "shell.execute_reply": "2024-10-29T15:11:41.204082Z"
    }
   },
   "outputs": [
    {
     "data": {
      "text/plain": [
       "<Axes: xlabel='v0'>"
      ]
     },
     "execution_count": 4,
     "metadata": {},
     "output_type": "execute_result"
    },
    {
     "data": {
      "image/png": "[encoded data removed]",
      "text/plain": [
       "<Figure size 640x480 with 1 Axes>"
      ]
     },
     "metadata": {},
     "output_type": "display_data"
    }
   ],
   "source": [
    "df.causal.do(x={treatment: 1}, \n",
    "              variable_types={treatment:'b', outcome: 'c', common_cause: 'c'}, \n",
    "              outcome=outcome,\n",
    "              method='weighting', \n",
    "              common_causes=[common_cause]\n",
    "              ).groupby(treatment).mean().plot(y=outcome, kind='bar')"
   ]
  },
  {
   "cell_type": "code",
   "execution_count": 5,
   "metadata": {
    "execution": {
     "iopub.execute_input": "2024-10-29T15:11:41.206814Z",
     "iopub.status.busy": "2024-10-29T15:11:41.206431Z",
     "iopub.status.idle": "2024-10-29T15:11:41.227852Z",
     "shell.execute_reply": "2024-10-29T15:11:41.227243Z"
    }
   },
   "outputs": [],
   "source": [
    "cdf_1 = df.causal.do(x={treatment: 1}, \n",
    "              variable_types={treatment: 'b', outcome: 'c', common_cause: 'c'}, \n",
    "              outcome=outcome, \n",
    "              graph=nx_graph\n",
    "              )\n",
    "\n",
    "cdf_0 = df.causal.do(x={treatment: 0}, \n",
    "              variable_types={treatment: 'b', outcome: 'c', common_cause: 'c'}, \n",
    "              outcome=outcome, \n",
    "              graph=nx_graph\n",
    "              )\n"
   ]
  },
  {
   "cell_type": "code",
   "execution_count": 6,
   "metadata": {
    "execution": {
     "iopub.execute_input": "2024-10-29T15:11:41.229717Z",
     "iopub.status.busy": "2024-10-29T15:11:41.229528Z",
     "iopub.status.idle": "2024-10-29T15:11:41.238515Z",
     "shell.execute_reply": "2024-10-29T15:11:41.238015Z"
    },
    "scrolled": true
   },
   "outputs": [
    {
     "data": {
      "text/html": [
       "<div>\n",
       "<style scoped>\n",
       "    .dataframe tbody tr th:only-of-type {\n",
       "        vertical-align: middle;\n",
       "    }\n",
       "\n",
       "    .dataframe tbody tr th {\n",
       "        vertical-align: top;\n",
       "    }\n",
       "\n",
       "    .dataframe thead th {\n",
       "        text-align: right;\n",
       "    }\n",
       "</style>\n",
       "<table border=\"1\" class=\"dataframe\">\n",
       "  <thead>\n",
       "    <tr style=\"text-align: right;\">\n",
       "      <th></th>\n",
       "      <th>W0</th>\n",
       "      <th>v0</th>\n",
       "      <th>y</th>\n",
       "      <th>propensity_score</th>\n",
       "      <th>weight</th>\n",
       "    </tr>\n",
       "  </thead>\n",
       "  <tbody>\n",
       "    <tr>\n",
       "      <th>0</th>\n",
       "      <td>-0.945059</td>\n",
       "      <td>False</td>\n",
       "      <td>-0.714794</td>\n",
       "      <td>0.909477</td>\n",
       "      <td>1.099533</td>\n",
       "    </tr>\n",
       "    <tr>\n",
       "      <th>1</th>\n",
       "      <td>-1.107434</td>\n",
       "      <td>False</td>\n",
       "      <td>-0.230965</td>\n",
       "      <td>0.937391</td>\n",
       "      <td>1.066790</td>\n",
       "    </tr>\n",
       "    <tr>\n",
       "      <th>2</th>\n",
       "      <td>-2.831183</td>\n",
       "      <td>False</td>\n",
       "      <td>2.358793</td>\n",
       "      <td>0.999034</td>\n",
       "      <td>1.000967</td>\n",
       "    </tr>\n",
       "    <tr>\n",
       "      <th>3</th>\n",
       "      <td>-1.226941</td>\n",
       "      <td>False</td>\n",
       "      <td>-0.790299</td>\n",
       "      <td>0.952566</td>\n",
       "      <td>1.049796</td>\n",
       "    </tr>\n",
       "    <tr>\n",
       "      <th>4</th>\n",
       "      <td>-0.360534</td>\n",
       "      <td>False</td>\n",
       "      <td>-0.609336</td>\n",
       "      <td>0.704984</td>\n",
       "      <td>1.418472</td>\n",
       "    </tr>\n",
       "    <tr>\n",
       "      <th>...</th>\n",
       "      <td>...</td>\n",
       "      <td>...</td>\n",
       "      <td>...</td>\n",
       "      <td>...</td>\n",
       "      <td>...</td>\n",
       "    </tr>\n",
       "    <tr>\n",
       "      <th>995</th>\n",
       "      <td>-0.987569</td>\n",
       "      <td>False</td>\n",
       "      <td>0.755833</td>\n",
       "      <td>0.917716</td>\n",
       "      <td>1.089662</td>\n",
       "    </tr>\n",
       "    <tr>\n",
       "      <th>996</th>\n",
       "      <td>-1.065963</td>\n",
       "      <td>False</td>\n",
       "      <td>-1.821388</td>\n",
       "      <td>0.931138</td>\n",
       "      <td>1.073954</td>\n",
       "    </tr>\n",
       "    <tr>\n",
       "      <th>997</th>\n",
       "      <td>-0.642963</td>\n",
       "      <td>False</td>\n",
       "      <td>0.721979</td>\n",
       "      <td>0.827076</td>\n",
       "      <td>1.209079</td>\n",
       "    </tr>\n",
       "    <tr>\n",
       "      <th>998</th>\n",
       "      <td>-1.729997</td>\n",
       "      <td>False</td>\n",
       "      <td>-0.416009</td>\n",
       "      <td>0.985738</td>\n",
       "      <td>1.014469</td>\n",
       "    </tr>\n",
       "    <tr>\n",
       "      <th>999</th>\n",
       "      <td>-0.401826</td>\n",
       "      <td>False</td>\n",
       "      <td>-0.820650</td>\n",
       "      <td>0.725636</td>\n",
       "      <td>1.378101</td>\n",
       "    </tr>\n",
       "  </tbody>\n",
       "</table>\n",
       "<p>1000 rows × 5 columns</p>\n",
       "</div>"
      ],
      "text/plain": [
       "           W0     v0         y  propensity_score    weight\n",
       "0   -0.945059  False -0.714794          0.909477  1.099533\n",
       "1   -1.107434  False -0.230965          0.937391  1.066790\n",
       "2   -2.831183  False  2.358793          0.999034  1.000967\n",
       "3   -1.226941  False -0.790299          0.952566  1.049796\n",
       "4   -0.360534  False -0.609336          0.704984  1.418472\n",
       "..        ...    ...       ...               ...       ...\n",
       "995 -0.987569  False  0.755833          0.917716  1.089662\n",
       "996 -1.065963  False -1.821388          0.931138  1.073954\n",
       "997 -0.642963  False  0.721979          0.827076  1.209079\n",
       "998 -1.729997  False -0.416009          0.985738  1.014469\n",
       "999 -0.401826  False -0.820650          0.725636  1.378101\n",
       "\n",
       "[1000 rows x 5 columns]"
      ]
     },
     "execution_count": 6,
     "metadata": {},
     "output_type": "execute_result"
    }
   ],
   "source": [
    "cdf_0"
   ]
  },
  {
   "cell_type": "code",
   "execution_count": 7,
   "metadata": {
    "execution": {
     "iopub.execute_input": "2024-10-29T15:11:41.240297Z",
     "iopub.status.busy": "2024-10-29T15:11:41.239919Z",
     "iopub.status.idle": "2024-10-29T15:11:41.248333Z",
     "shell.execute_reply": "2024-10-29T15:11:41.247813Z"
    }
   },
   "outputs": [
    {
     "data": {
      "text/html": [
       "<div>\n",
       "<style scoped>\n",
       "    .dataframe tbody tr th:only-of-type {\n",
       "        vertical-align: middle;\n",
       "    }\n",
       "\n",
       "    .dataframe tbody tr th {\n",
       "        vertical-align: top;\n",
       "    }\n",
       "\n",
       "    .dataframe thead th {\n",
       "        text-align: right;\n",
       "    }\n",
       "</style>\n",
       "<table border=\"1\" class=\"dataframe\">\n",
       "  <thead>\n",
       "    <tr style=\"text-align: right;\">\n",
       "      <th></th>\n",
       "      <th>W0</th>\n",
       "      <th>v0</th>\n",
       "      <th>y</th>\n",
       "      <th>propensity_score</th>\n",
       "      <th>weight</th>\n",
       "    </tr>\n",
       "  </thead>\n",
       "  <tbody>\n",
       "    <tr>\n",
       "      <th>0</th>\n",
       "      <td>-0.683963</td>\n",
       "      <td>True</td>\n",
       "      <td>5.336813</td>\n",
       "      <td>0.158988</td>\n",
       "      <td>6.289779</td>\n",
       "    </tr>\n",
       "    <tr>\n",
       "      <th>1</th>\n",
       "      <td>-1.177180</td>\n",
       "      <td>True</td>\n",
       "      <td>5.724969</td>\n",
       "      <td>0.053274</td>\n",
       "      <td>18.770826</td>\n",
       "    </tr>\n",
       "    <tr>\n",
       "      <th>2</th>\n",
       "      <td>0.619508</td>\n",
       "      <td>True</td>\n",
       "      <td>5.629093</td>\n",
       "      <td>0.822986</td>\n",
       "      <td>1.215087</td>\n",
       "    </tr>\n",
       "    <tr>\n",
       "      <th>3</th>\n",
       "      <td>-1.779504</td>\n",
       "      <td>True</td>\n",
       "      <td>5.000773</td>\n",
       "      <td>0.012650</td>\n",
       "      <td>79.054261</td>\n",
       "    </tr>\n",
       "    <tr>\n",
       "      <th>4</th>\n",
       "      <td>-1.779504</td>\n",
       "      <td>True</td>\n",
       "      <td>5.000773</td>\n",
       "      <td>0.012650</td>\n",
       "      <td>79.054261</td>\n",
       "    </tr>\n",
       "    <tr>\n",
       "      <th>...</th>\n",
       "      <td>...</td>\n",
       "      <td>...</td>\n",
       "      <td>...</td>\n",
       "      <td>...</td>\n",
       "      <td>...</td>\n",
       "    </tr>\n",
       "    <tr>\n",
       "      <th>995</th>\n",
       "      <td>-1.295123</td>\n",
       "      <td>True</td>\n",
       "      <td>4.198375</td>\n",
       "      <td>0.040414</td>\n",
       "      <td>24.744010</td>\n",
       "    </tr>\n",
       "    <tr>\n",
       "      <th>996</th>\n",
       "      <td>-0.254745</td>\n",
       "      <td>True</td>\n",
       "      <td>5.202848</td>\n",
       "      <td>0.351778</td>\n",
       "      <td>2.842703</td>\n",
       "    </tr>\n",
       "    <tr>\n",
       "      <th>997</th>\n",
       "      <td>-1.045733</td>\n",
       "      <td>True</td>\n",
       "      <td>6.100714</td>\n",
       "      <td>0.072118</td>\n",
       "      <td>13.866250</td>\n",
       "    </tr>\n",
       "    <tr>\n",
       "      <th>998</th>\n",
       "      <td>-1.779504</td>\n",
       "      <td>True</td>\n",
       "      <td>5.000773</td>\n",
       "      <td>0.012650</td>\n",
       "      <td>79.054261</td>\n",
       "    </tr>\n",
       "    <tr>\n",
       "      <th>999</th>\n",
       "      <td>-0.971057</td>\n",
       "      <td>True</td>\n",
       "      <td>5.533444</td>\n",
       "      <td>0.085400</td>\n",
       "      <td>11.709548</td>\n",
       "    </tr>\n",
       "  </tbody>\n",
       "</table>\n",
       "<p>1000 rows × 5 columns</p>\n",
       "</div>"
      ],
      "text/plain": [
       "           W0    v0         y  propensity_score     weight\n",
       "0   -0.683963  True  5.336813          0.158988   6.289779\n",
       "1   -1.177180  True  5.724969          0.053274  18.770826\n",
       "2    0.619508  True  5.629093          0.822986   1.215087\n",
       "3   -1.779504  True  5.000773          0.012650  79.054261\n",
       "4   -1.779504  True  5.000773          0.012650  79.054261\n",
       "..        ...   ...       ...               ...        ...\n",
       "995 -1.295123  True  4.198375          0.040414  24.744010\n",
       "996 -0.254745  True  5.202848          0.351778   2.842703\n",
       "997 -1.045733  True  6.100714          0.072118  13.866250\n",
       "998 -1.779504  True  5.000773          0.012650  79.054261\n",
       "999 -0.971057  True  5.533444          0.085400  11.709548\n",
       "\n",
       "[1000 rows x 5 columns]"
      ]
     },
     "execution_count": 7,
     "metadata": {},
     "output_type": "execute_result"
    }
   ],
   "source": [
    "cdf_1"
   ]
  },
  {
   "cell_type": "markdown",
   "metadata": {},
   "source": [
    "## Comparing the estimate to Linear Regression\n",
    "First, estimating the effect using the causal data frame, and the 95% confidence interval."
   ]
  },
  {
   "cell_type": "code",
   "execution_count": 8,
   "metadata": {
    "execution": {
     "iopub.execute_input": "2024-10-29T15:11:41.250084Z",
     "iopub.status.busy": "2024-10-29T15:11:41.249751Z",
     "iopub.status.idle": "2024-10-29T15:11:41.296039Z",
     "shell.execute_reply": "2024-10-29T15:11:41.295424Z"
    }
   },
   "outputs": [
    {
     "data": {
      "image/png": "[encoded data removed]",
      "text/latex": [
       "$\\displaystyle 5.07926882083957$"
      ],
      "text/plain": [
       "5.079268820839567"
      ]
     },
     "execution_count": 8,
     "metadata": {},
     "output_type": "execute_result"
    }
   ],
   "source": [
    "(cdf_1['y'] - cdf_0['y']).mean()"
   ]
  },
  {
   "cell_type": "code",
   "execution_count": 9,
   "metadata": {
    "execution": {
     "iopub.execute_input": "2024-10-29T15:11:41.297992Z",
     "iopub.status.busy": "2024-10-29T15:11:41.297640Z",
     "iopub.status.idle": "2024-10-29T15:11:41.313498Z",
     "shell.execute_reply": "2024-10-29T15:11:41.312995Z"
    }
   },
   "outputs": [
    {
     "data": {
      "image/png": "[encoded data removed]",
      "text/latex": [
       "$\\displaystyle 0.0841315258600074$"
      ],
      "text/plain": [
       "0.08413152586000737"
      ]
     },
     "execution_count": 9,
     "metadata": {},
     "output_type": "execute_result"
    }
   ],
   "source": [
    "1.96*(cdf_1['y'] - cdf_0['y']).std() / np.sqrt(len(df))"
   ]
  },
  {
   "cell_type": "markdown",
   "metadata": {},
   "source": [
    "Comparing to the estimate from OLS."
   ]
  },
  {
   "cell_type": "code",
   "execution_count": 10,
   "metadata": {
    "execution": {
     "iopub.execute_input": "2024-10-29T15:11:41.315293Z",
     "iopub.status.busy": "2024-10-29T15:11:41.314920Z",
     "iopub.status.idle": "2024-10-29T15:11:41.331500Z",
     "shell.execute_reply": "2024-10-29T15:11:41.331001Z"
    }
   },
   "outputs": [
    {
     "data": {
      "text/html": [
       "<table class=\"simpletable\">\n",
       "<caption>OLS Regression Results</caption>\n",
       "<tr>\n",
       "  <th>Dep. Variable:</th>            <td>y</td>        <th>  R-squared (uncentered):</th>      <td>   0.870</td>\n",
       "</tr>\n",
       "<tr>\n",
       "  <th>Model:</th>                   <td>OLS</td>       <th>  Adj. R-squared (uncentered):</th> <td>   0.870</td>\n",
       "</tr>\n",
       "<tr>\n",
       "  <th>Method:</th>             <td>Least Squares</td>  <th>  F-statistic:       </th>          <td>   3345.</td>\n",
       "</tr>\n",
       "<tr>\n",
       "  <th>Date:</th>             <td>Tue, 29 Oct 2024</td> <th>  Prob (F-statistic):</th>           <td>  0.00</td> \n",
       "</tr>\n",
       "<tr>\n",
       "  <th>Time:</th>                 <td>15:11:41</td>     <th>  Log-Likelihood:    </th>          <td> -1396.5</td>\n",
       "</tr>\n",
       "<tr>\n",
       "  <th>No. Observations:</th>      <td>  1000</td>      <th>  AIC:               </th>          <td>   2797.</td>\n",
       "</tr>\n",
       "<tr>\n",
       "  <th>Df Residuals:</th>          <td>   998</td>      <th>  BIC:               </th>          <td>   2807.</td>\n",
       "</tr>\n",
       "<tr>\n",
       "  <th>Df Model:</th>              <td>     2</td>      <th>                     </th>              <td> </td>   \n",
       "</tr>\n",
       "<tr>\n",
       "  <th>Covariance Type:</th>      <td>nonrobust</td>    <th>                     </th>              <td> </td>   \n",
       "</tr>\n",
       "</table>\n",
       "<table class=\"simpletable\">\n",
       "<tr>\n",
       "   <td></td>     <th>coef</th>     <th>std err</th>      <th>t</th>      <th>P>|t|</th>  <th>[0.025</th>    <th>0.975]</th>  \n",
       "</tr>\n",
       "<tr>\n",
       "  <th>x1</th> <td>    0.2118</td> <td>    0.024</td> <td>    8.950</td> <td> 0.000</td> <td>    0.165</td> <td>    0.258</td>\n",
       "</tr>\n",
       "<tr>\n",
       "  <th>x2</th> <td>    4.9496</td> <td>    0.062</td> <td>   80.334</td> <td> 0.000</td> <td>    4.829</td> <td>    5.070</td>\n",
       "</tr>\n",
       "</table>\n",
       "<table class=\"simpletable\">\n",
       "<tr>\n",
       "  <th>Omnibus:</th>       <td> 4.667</td> <th>  Durbin-Watson:     </th> <td>   1.986</td>\n",
       "</tr>\n",
       "<tr>\n",
       "  <th>Prob(Omnibus):</th> <td> 0.097</td> <th>  Jarque-Bera (JB):  </th> <td>   5.034</td>\n",
       "</tr>\n",
       "<tr>\n",
       "  <th>Skew:</th>          <td>-0.092</td> <th>  Prob(JB):          </th> <td>  0.0807</td>\n",
       "</tr>\n",
       "<tr>\n",
       "  <th>Kurtosis:</th>      <td> 3.295</td> <th>  Cond. No.          </th> <td>    2.62</td>\n",
       "</tr>\n",
       "</table><br/><br/>Notes:<br/>[1] R² is computed without centering (uncentered) since the model does not contain a constant.<br/>[2] Standard Errors assume that the covariance matrix of the errors is correctly specified."
      ],
      "text/latex": [
       "\\begin{center}\n",
       "\\begin{tabular}{lclc}\n",
       "\\toprule\n",
       "\\textbf{Dep. Variable:}    &        y         & \\textbf{  R-squared (uncentered):}      &     0.870   \\\\\n",
       "\\textbf{Model:}            &       OLS        & \\textbf{  Adj. R-squared (uncentered):} &     0.870   \\\\\n",
       "\\textbf{Method:}           &  Least Squares   & \\textbf{  F-statistic:       }          &     3345.   \\\\\n",
       "\\textbf{Date:}             & Tue, 29 Oct 2024 & \\textbf{  Prob (F-statistic):}          &     0.00    \\\\\n",
       "\\textbf{Time:}             &     15:11:41     & \\textbf{  Log-Likelihood:    }          &   -1396.5   \\\\\n",
       "\\textbf{No. Observations:} &        1000      & \\textbf{  AIC:               }          &     2797.   \\\\\n",
       "\\textbf{Df Residuals:}     &         998      & \\textbf{  BIC:               }          &     2807.   \\\\\n",
       "\\textbf{Df Model:}         &           2      & \\textbf{                     }          &             \\\\\n",
       "\\textbf{Covariance Type:}  &    nonrobust     & \\textbf{                     }          &             \\\\\n",
       "\\bottomrule\n",
       "\\end{tabular}\n",
       "\\begin{tabular}{lcccccc}\n",
       "            & \\textbf{coef} & \\textbf{std err} & \\textbf{t} & \\textbf{P$> |$t$|$} & \\textbf{[0.025} & \\textbf{0.975]}  \\\\\n",
       "\\midrule\n",
       "\\textbf{x1} &       0.2118  &        0.024     &     8.950  &         0.000        &        0.165    &        0.258     \\\\\n",
       "\\textbf{x2} &       4.9496  &        0.062     &    80.334  &         0.000        &        4.829    &        5.070     \\\\\n",
       "\\bottomrule\n",
       "\\end{tabular}\n",
       "\\begin{tabular}{lclc}\n",
       "\\textbf{Omnibus:}       &  4.667 & \\textbf{  Durbin-Watson:     } &    1.986  \\\\\n",
       "\\textbf{Prob(Omnibus):} &  0.097 & \\textbf{  Jarque-Bera (JB):  } &    5.034  \\\\\n",
       "\\textbf{Skew:}          & -0.092 & \\textbf{  Prob(JB):          } &   0.0807  \\\\\n",
       "\\textbf{Kurtosis:}      &  3.295 & \\textbf{  Cond. No.          } &     2.62  \\\\\n",
       "\\bottomrule\n",
       "\\end{tabular}\n",
       "%\\caption{OLS Regression Results}\n",
       "\\end{center}\n",
       "\n",
       "Notes: \\newline\n",
       " [1] R² is computed without centering (uncentered) since the model does not contain a constant. \\newline\n",
       " [2] Standard Errors assume that the covariance matrix of the errors is correctly specified."
      ],
      "text/plain": [
       "<class 'statsmodels.iolib.summary.Summary'>\n",
       "\"\"\"\n",
       "                                 OLS Regression Results                                \n",
       "=======================================================================================\n",
       "Dep. Variable:                      y   R-squared (uncentered):                   0.870\n",
       "Model:                            OLS   Adj. R-squared (uncentered):              0.870\n",
       "Method:                 Least Squares   F-statistic:                              3345.\n",
       "Date:                Tue, 29 Oct 2024   Prob (F-statistic):                        0.00\n",
       "Time:                        15:11:41   Log-Likelihood:                         -1396.5\n",
       "No. Observations:                1000   AIC:                                      2797.\n",
       "Df Residuals:                     998   BIC:                                      2807.\n",
       "Df Model:                           2                                                  \n",
       "Covariance Type:            nonrobust                                                  \n",
       "==============================================================================\n",
       "                 coef    std err          t      P>|t|      [0.025      0.975]\n",
       "------------------------------------------------------------------------------\n",
       "x1             0.2118      0.024      8.950      0.000       0.165       0.258\n",
       "x2             4.9496      0.062     80.334      0.000       4.829       5.070\n",
       "==============================================================================\n",
       "Omnibus:                        4.667   Durbin-Watson:                   1.986\n",
       "Prob(Omnibus):                  0.097   Jarque-Bera (JB):                5.034\n",
       "Skew:                          -0.092   Prob(JB):                       0.0807\n",
       "Kurtosis:                       3.295   Cond. No.                         2.62\n",
       "==============================================================================\n",
       "\n",
       "Notes:\n",
       "[1] R² is computed without centering (uncentered) since the model does not contain a constant.\n",
       "[2] Standard Errors assume that the covariance matrix of the errors is correctly specified.\n",
       "\"\"\""
      ]
     },
     "execution_count": 10,
     "metadata": {},
     "output_type": "execute_result"
    }
   ],
   "source": [
    "model = OLS(np.asarray(df[outcome]), np.asarray(df[[common_cause, treatment]], dtype=np.float64))\n",
    "result = model.fit()\n",
    "result.summary()"
   ]
  }
 ],
 "metadata": {
  "kernelspec": {
   "display_name": "Python 3 (ipykernel)",
   "language": "python",
   "name": "python3"
  },
  "language_info": {
   "codemirror_mode": {
    "name": "ipython",
    "version": 3
   },
   "file_extension": ".py",
   "mimetype": "text/x-python",
   "name": "python",
   "nbconvert_exporter": "python",
   "pygments_lexer": "ipython3",
   "version": "3.8.10"
  },
  "toc": {
   "base_numbering": 1,
   "nav_menu": {},
   "number_sections": false,
   "sideBar": true,
   "skip_h1_title": true,
   "title_cell": "Table of Contents",
   "title_sidebar": "Contents",
   "toc_cell": false,
   "toc_position": {},
   "toc_section_display": true,
   "toc_window_display": false
  }
 },
 "nbformat": 4,
 "nbformat_minor": 4
}
