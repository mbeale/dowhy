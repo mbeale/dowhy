{
 "cells": [
  {
   "cell_type": "markdown",
   "metadata": {},
   "source": [
    "# Demo for the DoWhy causal API\n",
    "We show a simple example of adding a causal extension to any dataframe. "
   ]
  },
  {
   "cell_type": "code",
   "execution_count": 1,
   "metadata": {
    "execution": {
     "iopub.execute_input": "2024-10-25T14:44:15.712292Z",
     "iopub.status.busy": "2024-10-25T14:44:15.711873Z",
     "iopub.status.idle": "2024-10-25T14:44:17.236256Z",
     "shell.execute_reply": "2024-10-25T14:44:17.235633Z"
    }
   },
   "outputs": [],
   "source": [
    "import dowhy.datasets\n",
    "import dowhy.api\n",
    "from dowhy.graph import build_graph_from_str\n",
    "\n",
    "import numpy as np\n",
    "import pandas as pd\n",
    "\n",
    "from statsmodels.api import OLS"
   ]
  },
  {
   "cell_type": "code",
   "execution_count": 2,
   "metadata": {
    "execution": {
     "iopub.execute_input": "2024-10-25T14:44:17.238913Z",
     "iopub.status.busy": "2024-10-25T14:44:17.238393Z",
     "iopub.status.idle": "2024-10-25T14:44:17.277145Z",
     "shell.execute_reply": "2024-10-25T14:44:17.276625Z"
    }
   },
   "outputs": [
    {
     "data": {
      "text/html": [
       "<div>\n",
       "<style scoped>\n",
       "    .dataframe tbody tr th:only-of-type {\n",
       "        vertical-align: middle;\n",
       "    }\n",
       "\n",
       "    .dataframe tbody tr th {\n",
       "        vertical-align: top;\n",
       "    }\n",
       "\n",
       "    .dataframe thead th {\n",
       "        text-align: right;\n",
       "    }\n",
       "</style>\n",
       "<table border=\"1\" class=\"dataframe\">\n",
       "  <thead>\n",
       "    <tr style=\"text-align: right;\">\n",
       "      <th></th>\n",
       "      <th>W0</th>\n",
       "      <th>v0</th>\n",
       "      <th>y</th>\n",
       "    </tr>\n",
       "  </thead>\n",
       "  <tbody>\n",
       "    <tr>\n",
       "      <th>0</th>\n",
       "      <td>-3.122581</td>\n",
       "      <td>False</td>\n",
       "      <td>-7.031578</td>\n",
       "    </tr>\n",
       "    <tr>\n",
       "      <th>1</th>\n",
       "      <td>-0.929257</td>\n",
       "      <td>True</td>\n",
       "      <td>3.592709</td>\n",
       "    </tr>\n",
       "    <tr>\n",
       "      <th>2</th>\n",
       "      <td>-1.290274</td>\n",
       "      <td>False</td>\n",
       "      <td>-3.556782</td>\n",
       "    </tr>\n",
       "    <tr>\n",
       "      <th>3</th>\n",
       "      <td>-0.461701</td>\n",
       "      <td>False</td>\n",
       "      <td>0.099132</td>\n",
       "    </tr>\n",
       "    <tr>\n",
       "      <th>4</th>\n",
       "      <td>-0.916448</td>\n",
       "      <td>False</td>\n",
       "      <td>-0.665845</td>\n",
       "    </tr>\n",
       "    <tr>\n",
       "      <th>...</th>\n",
       "      <td>...</td>\n",
       "      <td>...</td>\n",
       "      <td>...</td>\n",
       "    </tr>\n",
       "    <tr>\n",
       "      <th>995</th>\n",
       "      <td>-1.115158</td>\n",
       "      <td>False</td>\n",
       "      <td>-1.502734</td>\n",
       "    </tr>\n",
       "    <tr>\n",
       "      <th>996</th>\n",
       "      <td>-0.206983</td>\n",
       "      <td>True</td>\n",
       "      <td>5.886683</td>\n",
       "    </tr>\n",
       "    <tr>\n",
       "      <th>997</th>\n",
       "      <td>-0.601760</td>\n",
       "      <td>False</td>\n",
       "      <td>-0.381091</td>\n",
       "    </tr>\n",
       "    <tr>\n",
       "      <th>998</th>\n",
       "      <td>-0.760529</td>\n",
       "      <td>True</td>\n",
       "      <td>3.084998</td>\n",
       "    </tr>\n",
       "    <tr>\n",
       "      <th>999</th>\n",
       "      <td>-3.552914</td>\n",
       "      <td>False</td>\n",
       "      <td>-6.888076</td>\n",
       "    </tr>\n",
       "  </tbody>\n",
       "</table>\n",
       "<p>1000 rows × 3 columns</p>\n",
       "</div>"
      ],
      "text/plain": [
       "           W0     v0         y\n",
       "0   -3.122581  False -7.031578\n",
       "1   -0.929257   True  3.592709\n",
       "2   -1.290274  False -3.556782\n",
       "3   -0.461701  False  0.099132\n",
       "4   -0.916448  False -0.665845\n",
       "..        ...    ...       ...\n",
       "995 -1.115158  False -1.502734\n",
       "996 -0.206983   True  5.886683\n",
       "997 -0.601760  False -0.381091\n",
       "998 -0.760529   True  3.084998\n",
       "999 -3.552914  False -6.888076\n",
       "\n",
       "[1000 rows x 3 columns]"
      ]
     },
     "execution_count": 2,
     "metadata": {},
     "output_type": "execute_result"
    }
   ],
   "source": [
    "data = dowhy.datasets.linear_dataset(beta=5,\n",
    "        num_common_causes=1,\n",
    "        num_instruments = 0,\n",
    "        num_samples=1000,\n",
    "        treatment_is_binary=True)\n",
    "df = data['df']\n",
    "df['y'] = df['y'] + np.random.normal(size=len(df)) # Adding noise to data. Without noise, the variance in Y|X, Z is zero, and mcmc fails.\n",
    "nx_graph = build_graph_from_str(data[\"dot_graph\"])\n",
    "\n",
    "treatment= data[\"treatment_name\"][0]\n",
    "outcome = data[\"outcome_name\"][0]\n",
    "common_cause = data[\"common_causes_names\"][0]\n",
    "df"
   ]
  },
  {
   "cell_type": "code",
   "execution_count": 3,
   "metadata": {
    "execution": {
     "iopub.execute_input": "2024-10-25T14:44:17.279121Z",
     "iopub.status.busy": "2024-10-25T14:44:17.278752Z",
     "iopub.status.idle": "2024-10-25T14:44:17.459567Z",
     "shell.execute_reply": "2024-10-25T14:44:17.458879Z"
    },
    "scrolled": true
   },
   "outputs": [
    {
     "data": {
      "text/plain": [
       "<Axes: xlabel='v0'>"
      ]
     },
     "execution_count": 3,
     "metadata": {},
     "output_type": "execute_result"
    },
    {
     "data": {
      "image/png": "[encoded data removed]",
      "text/plain": [
       "<Figure size 640x480 with 1 Axes>"
      ]
     },
     "metadata": {},
     "output_type": "display_data"
    }
   ],
   "source": [
    "# data['df'] is just a regular pandas.DataFrame\n",
    "df.causal.do(x=treatment,\n",
    "             variable_types={treatment: 'b', outcome: 'c', common_cause: 'c'},\n",
    "             outcome=outcome,\n",
    "             common_causes=[common_cause],\n",
    "            ).groupby(treatment).mean().plot(y=outcome, kind='bar')"
   ]
  },
  {
   "cell_type": "code",
   "execution_count": 4,
   "metadata": {
    "execution": {
     "iopub.execute_input": "2024-10-25T14:44:17.461790Z",
     "iopub.status.busy": "2024-10-25T14:44:17.461277Z",
     "iopub.status.idle": "2024-10-25T14:44:17.604972Z",
     "shell.execute_reply": "2024-10-25T14:44:17.604336Z"
    }
   },
   "outputs": [
    {
     "data": {
      "text/plain": [
       "<Axes: xlabel='v0'>"
      ]
     },
     "execution_count": 4,
     "metadata": {},
     "output_type": "execute_result"
    },
    {
     "data": {
      "image/png": "[encoded data removed]",
      "text/plain": [
       "<Figure size 640x480 with 1 Axes>"
      ]
     },
     "metadata": {},
     "output_type": "display_data"
    }
   ],
   "source": [
    "df.causal.do(x={treatment: 1}, \n",
    "              variable_types={treatment:'b', outcome: 'c', common_cause: 'c'}, \n",
    "              outcome=outcome,\n",
    "              method='weighting', \n",
    "              common_causes=[common_cause]\n",
    "              ).groupby(treatment).mean().plot(y=outcome, kind='bar')"
   ]
  },
  {
   "cell_type": "code",
   "execution_count": 5,
   "metadata": {
    "execution": {
     "iopub.execute_input": "2024-10-25T14:44:17.607110Z",
     "iopub.status.busy": "2024-10-25T14:44:17.606755Z",
     "iopub.status.idle": "2024-10-25T14:44:17.628217Z",
     "shell.execute_reply": "2024-10-25T14:44:17.627598Z"
    }
   },
   "outputs": [],
   "source": [
    "cdf_1 = df.causal.do(x={treatment: 1}, \n",
    "              variable_types={treatment: 'b', outcome: 'c', common_cause: 'c'}, \n",
    "              outcome=outcome, \n",
    "              graph=nx_graph\n",
    "              )\n",
    "\n",
    "cdf_0 = df.causal.do(x={treatment: 0}, \n",
    "              variable_types={treatment: 'b', outcome: 'c', common_cause: 'c'}, \n",
    "              outcome=outcome, \n",
    "              graph=nx_graph\n",
    "              )\n"
   ]
  },
  {
   "cell_type": "code",
   "execution_count": 6,
   "metadata": {
    "execution": {
     "iopub.execute_input": "2024-10-25T14:44:17.630190Z",
     "iopub.status.busy": "2024-10-25T14:44:17.629898Z",
     "iopub.status.idle": "2024-10-25T14:44:17.638836Z",
     "shell.execute_reply": "2024-10-25T14:44:17.638319Z"
    },
    "scrolled": true
   },
   "outputs": [
    {
     "data": {
      "text/html": [
       "<div>\n",
       "<style scoped>\n",
       "    .dataframe tbody tr th:only-of-type {\n",
       "        vertical-align: middle;\n",
       "    }\n",
       "\n",
       "    .dataframe tbody tr th {\n",
       "        vertical-align: top;\n",
       "    }\n",
       "\n",
       "    .dataframe thead th {\n",
       "        text-align: right;\n",
       "    }\n",
       "</style>\n",
       "<table border=\"1\" class=\"dataframe\">\n",
       "  <thead>\n",
       "    <tr style=\"text-align: right;\">\n",
       "      <th></th>\n",
       "      <th>W0</th>\n",
       "      <th>v0</th>\n",
       "      <th>y</th>\n",
       "      <th>propensity_score</th>\n",
       "      <th>weight</th>\n",
       "    </tr>\n",
       "  </thead>\n",
       "  <tbody>\n",
       "    <tr>\n",
       "      <th>0</th>\n",
       "      <td>-1.759866</td>\n",
       "      <td>False</td>\n",
       "      <td>-2.350318</td>\n",
       "      <td>0.951203</td>\n",
       "      <td>1.051300</td>\n",
       "    </tr>\n",
       "    <tr>\n",
       "      <th>1</th>\n",
       "      <td>-3.705130</td>\n",
       "      <td>False</td>\n",
       "      <td>-7.813499</td>\n",
       "      <td>0.998083</td>\n",
       "      <td>1.001920</td>\n",
       "    </tr>\n",
       "    <tr>\n",
       "      <th>2</th>\n",
       "      <td>-0.973429</td>\n",
       "      <td>False</td>\n",
       "      <td>-1.255691</td>\n",
       "      <td>0.837799</td>\n",
       "      <td>1.193603</td>\n",
       "    </tr>\n",
       "    <tr>\n",
       "      <th>3</th>\n",
       "      <td>0.218265</td>\n",
       "      <td>False</td>\n",
       "      <td>-0.253118</td>\n",
       "      <td>0.408403</td>\n",
       "      <td>2.448563</td>\n",
       "    </tr>\n",
       "    <tr>\n",
       "      <th>4</th>\n",
       "      <td>-0.332033</td>\n",
       "      <td>False</td>\n",
       "      <td>-1.476009</td>\n",
       "      <td>0.636166</td>\n",
       "      <td>1.571916</td>\n",
       "    </tr>\n",
       "    <tr>\n",
       "      <th>...</th>\n",
       "      <td>...</td>\n",
       "      <td>...</td>\n",
       "      <td>...</td>\n",
       "      <td>...</td>\n",
       "      <td>...</td>\n",
       "    </tr>\n",
       "    <tr>\n",
       "      <th>995</th>\n",
       "      <td>0.166965</td>\n",
       "      <td>False</td>\n",
       "      <td>-0.419433</td>\n",
       "      <td>0.429489</td>\n",
       "      <td>2.328350</td>\n",
       "    </tr>\n",
       "    <tr>\n",
       "      <th>996</th>\n",
       "      <td>-0.992005</td>\n",
       "      <td>False</td>\n",
       "      <td>-3.588534</td>\n",
       "      <td>0.842017</td>\n",
       "      <td>1.187624</td>\n",
       "    </tr>\n",
       "    <tr>\n",
       "      <th>997</th>\n",
       "      <td>-1.459873</td>\n",
       "      <td>False</td>\n",
       "      <td>-3.009158</td>\n",
       "      <td>0.921539</td>\n",
       "      <td>1.085141</td>\n",
       "    </tr>\n",
       "    <tr>\n",
       "      <th>998</th>\n",
       "      <td>-1.169292</td>\n",
       "      <td>False</td>\n",
       "      <td>-2.088625</td>\n",
       "      <td>0.877902</td>\n",
       "      <td>1.139079</td>\n",
       "    </tr>\n",
       "    <tr>\n",
       "      <th>999</th>\n",
       "      <td>-1.273194</td>\n",
       "      <td>False</td>\n",
       "      <td>-5.106035</td>\n",
       "      <td>0.895499</td>\n",
       "      <td>1.116696</td>\n",
       "    </tr>\n",
       "  </tbody>\n",
       "</table>\n",
       "<p>1000 rows × 5 columns</p>\n",
       "</div>"
      ],
      "text/plain": [
       "           W0     v0         y  propensity_score    weight\n",
       "0   -1.759866  False -2.350318          0.951203  1.051300\n",
       "1   -3.705130  False -7.813499          0.998083  1.001920\n",
       "2   -0.973429  False -1.255691          0.837799  1.193603\n",
       "3    0.218265  False -0.253118          0.408403  2.448563\n",
       "4   -0.332033  False -1.476009          0.636166  1.571916\n",
       "..        ...    ...       ...               ...       ...\n",
       "995  0.166965  False -0.419433          0.429489  2.328350\n",
       "996 -0.992005  False -3.588534          0.842017  1.187624\n",
       "997 -1.459873  False -3.009158          0.921539  1.085141\n",
       "998 -1.169292  False -2.088625          0.877902  1.139079\n",
       "999 -1.273194  False -5.106035          0.895499  1.116696\n",
       "\n",
       "[1000 rows x 5 columns]"
      ]
     },
     "execution_count": 6,
     "metadata": {},
     "output_type": "execute_result"
    }
   ],
   "source": [
    "cdf_0"
   ]
  },
  {
   "cell_type": "code",
   "execution_count": 7,
   "metadata": {
    "execution": {
     "iopub.execute_input": "2024-10-25T14:44:17.640650Z",
     "iopub.status.busy": "2024-10-25T14:44:17.640291Z",
     "iopub.status.idle": "2024-10-25T14:44:17.648663Z",
     "shell.execute_reply": "2024-10-25T14:44:17.648184Z"
    }
   },
   "outputs": [
    {
     "data": {
      "text/html": [
       "<div>\n",
       "<style scoped>\n",
       "    .dataframe tbody tr th:only-of-type {\n",
       "        vertical-align: middle;\n",
       "    }\n",
       "\n",
       "    .dataframe tbody tr th {\n",
       "        vertical-align: top;\n",
       "    }\n",
       "\n",
       "    .dataframe thead th {\n",
       "        text-align: right;\n",
       "    }\n",
       "</style>\n",
       "<table border=\"1\" class=\"dataframe\">\n",
       "  <thead>\n",
       "    <tr style=\"text-align: right;\">\n",
       "      <th></th>\n",
       "      <th>W0</th>\n",
       "      <th>v0</th>\n",
       "      <th>y</th>\n",
       "      <th>propensity_score</th>\n",
       "      <th>weight</th>\n",
       "    </tr>\n",
       "  </thead>\n",
       "  <tbody>\n",
       "    <tr>\n",
       "      <th>0</th>\n",
       "      <td>0.755504</td>\n",
       "      <td>True</td>\n",
       "      <td>6.365941</td>\n",
       "      <td>0.782084</td>\n",
       "      <td>1.278635</td>\n",
       "    </tr>\n",
       "    <tr>\n",
       "      <th>1</th>\n",
       "      <td>0.479045</td>\n",
       "      <td>True</td>\n",
       "      <td>5.289250</td>\n",
       "      <td>0.692317</td>\n",
       "      <td>1.444425</td>\n",
       "    </tr>\n",
       "    <tr>\n",
       "      <th>2</th>\n",
       "      <td>-0.380484</td>\n",
       "      <td>True</td>\n",
       "      <td>4.133301</td>\n",
       "      <td>0.345114</td>\n",
       "      <td>2.897595</td>\n",
       "    </tr>\n",
       "    <tr>\n",
       "      <th>3</th>\n",
       "      <td>-1.065471</td>\n",
       "      <td>True</td>\n",
       "      <td>4.594604</td>\n",
       "      <td>0.142170</td>\n",
       "      <td>7.033826</td>\n",
       "    </tr>\n",
       "    <tr>\n",
       "      <th>4</th>\n",
       "      <td>0.479045</td>\n",
       "      <td>True</td>\n",
       "      <td>5.289250</td>\n",
       "      <td>0.692317</td>\n",
       "      <td>1.444425</td>\n",
       "    </tr>\n",
       "    <tr>\n",
       "      <th>...</th>\n",
       "      <td>...</td>\n",
       "      <td>...</td>\n",
       "      <td>...</td>\n",
       "      <td>...</td>\n",
       "      <td>...</td>\n",
       "    </tr>\n",
       "    <tr>\n",
       "      <th>995</th>\n",
       "      <td>-1.332082</td>\n",
       "      <td>True</td>\n",
       "      <td>4.402306</td>\n",
       "      <td>0.095554</td>\n",
       "      <td>10.465275</td>\n",
       "    </tr>\n",
       "    <tr>\n",
       "      <th>996</th>\n",
       "      <td>-0.778026</td>\n",
       "      <td>True</td>\n",
       "      <td>3.073351</td>\n",
       "      <td>0.212161</td>\n",
       "      <td>4.713404</td>\n",
       "    </tr>\n",
       "    <tr>\n",
       "      <th>997</th>\n",
       "      <td>-2.635462</td>\n",
       "      <td>True</td>\n",
       "      <td>-0.007357</td>\n",
       "      <td>0.011558</td>\n",
       "      <td>86.520595</td>\n",
       "    </tr>\n",
       "    <tr>\n",
       "      <th>998</th>\n",
       "      <td>-0.625354</td>\n",
       "      <td>True</td>\n",
       "      <td>4.370008</td>\n",
       "      <td>0.258435</td>\n",
       "      <td>3.869445</td>\n",
       "    </tr>\n",
       "    <tr>\n",
       "      <th>999</th>\n",
       "      <td>-0.161104</td>\n",
       "      <td>True</td>\n",
       "      <td>5.344751</td>\n",
       "      <td>0.432882</td>\n",
       "      <td>2.310096</td>\n",
       "    </tr>\n",
       "  </tbody>\n",
       "</table>\n",
       "<p>1000 rows × 5 columns</p>\n",
       "</div>"
      ],
      "text/plain": [
       "           W0    v0         y  propensity_score     weight\n",
       "0    0.755504  True  6.365941          0.782084   1.278635\n",
       "1    0.479045  True  5.289250          0.692317   1.444425\n",
       "2   -0.380484  True  4.133301          0.345114   2.897595\n",
       "3   -1.065471  True  4.594604          0.142170   7.033826\n",
       "4    0.479045  True  5.289250          0.692317   1.444425\n",
       "..        ...   ...       ...               ...        ...\n",
       "995 -1.332082  True  4.402306          0.095554  10.465275\n",
       "996 -0.778026  True  3.073351          0.212161   4.713404\n",
       "997 -2.635462  True -0.007357          0.011558  86.520595\n",
       "998 -0.625354  True  4.370008          0.258435   3.869445\n",
       "999 -0.161104  True  5.344751          0.432882   2.310096\n",
       "\n",
       "[1000 rows x 5 columns]"
      ]
     },
     "execution_count": 7,
     "metadata": {},
     "output_type": "execute_result"
    }
   ],
   "source": [
    "cdf_1"
   ]
  },
  {
   "cell_type": "markdown",
   "metadata": {},
   "source": [
    "## Comparing the estimate to Linear Regression\n",
    "First, estimating the effect using the causal data frame, and the 95% confidence interval."
   ]
  },
  {
   "cell_type": "code",
   "execution_count": 8,
   "metadata": {
    "execution": {
     "iopub.execute_input": "2024-10-25T14:44:17.650402Z",
     "iopub.status.busy": "2024-10-25T14:44:17.650102Z",
     "iopub.status.idle": "2024-10-25T14:44:17.697364Z",
     "shell.execute_reply": "2024-10-25T14:44:17.696725Z"
    }
   },
   "outputs": [
    {
     "data": {
      "image/png": "[encoded data removed]",
      "text/latex": [
       "$\\displaystyle 5.04346104281236$"
      ],
      "text/plain": [
       "5.043461042812358"
      ]
     },
     "execution_count": 8,
     "metadata": {},
     "output_type": "execute_result"
    }
   ],
   "source": [
    "(cdf_1['y'] - cdf_0['y']).mean()"
   ]
  },
  {
   "cell_type": "code",
   "execution_count": 9,
   "metadata": {
    "execution": {
     "iopub.execute_input": "2024-10-25T14:44:17.699397Z",
     "iopub.status.busy": "2024-10-25T14:44:17.699079Z",
     "iopub.status.idle": "2024-10-25T14:44:17.715106Z",
     "shell.execute_reply": "2024-10-25T14:44:17.714610Z"
    }
   },
   "outputs": [
    {
     "data": {
      "image/png": "[encoded data removed]",
      "text/latex": [
       "$\\displaystyle 0.184546201364702$"
      ],
      "text/plain": [
       "0.18454620136470185"
      ]
     },
     "execution_count": 9,
     "metadata": {},
     "output_type": "execute_result"
    }
   ],
   "source": [
    "1.96*(cdf_1['y'] - cdf_0['y']).std() / np.sqrt(len(df))"
   ]
  },
  {
   "cell_type": "markdown",
   "metadata": {},
   "source": [
    "Comparing to the estimate from OLS."
   ]
  },
  {
   "cell_type": "code",
   "execution_count": 10,
   "metadata": {
    "execution": {
     "iopub.execute_input": "2024-10-25T14:44:17.717339Z",
     "iopub.status.busy": "2024-10-25T14:44:17.716772Z",
     "iopub.status.idle": "2024-10-25T14:44:17.734654Z",
     "shell.execute_reply": "2024-10-25T14:44:17.734106Z"
    }
   },
   "outputs": [
    {
     "data": {
      "text/html": [
       "<table class=\"simpletable\">\n",
       "<caption>OLS Regression Results</caption>\n",
       "<tr>\n",
       "  <th>Dep. Variable:</th>            <td>y</td>        <th>  R-squared (uncentered):</th>      <td>   0.928</td>\n",
       "</tr>\n",
       "<tr>\n",
       "  <th>Model:</th>                   <td>OLS</td>       <th>  Adj. R-squared (uncentered):</th> <td>   0.928</td>\n",
       "</tr>\n",
       "<tr>\n",
       "  <th>Method:</th>             <td>Least Squares</td>  <th>  F-statistic:       </th>          <td>   6458.</td>\n",
       "</tr>\n",
       "<tr>\n",
       "  <th>Date:</th>             <td>Fri, 25 Oct 2024</td> <th>  Prob (F-statistic):</th>           <td>  0.00</td> \n",
       "</tr>\n",
       "<tr>\n",
       "  <th>Time:</th>                 <td>14:44:17</td>     <th>  Log-Likelihood:    </th>          <td> -1393.1</td>\n",
       "</tr>\n",
       "<tr>\n",
       "  <th>No. Observations:</th>      <td>  1000</td>      <th>  AIC:               </th>          <td>   2790.</td>\n",
       "</tr>\n",
       "<tr>\n",
       "  <th>Df Residuals:</th>          <td>   998</td>      <th>  BIC:               </th>          <td>   2800.</td>\n",
       "</tr>\n",
       "<tr>\n",
       "  <th>Df Model:</th>              <td>     2</td>      <th>                     </th>              <td> </td>   \n",
       "</tr>\n",
       "<tr>\n",
       "  <th>Covariance Type:</th>      <td>nonrobust</td>    <th>                     </th>              <td> </td>   \n",
       "</tr>\n",
       "</table>\n",
       "<table class=\"simpletable\">\n",
       "<tr>\n",
       "   <td></td>     <th>coef</th>     <th>std err</th>      <th>t</th>      <th>P>|t|</th>  <th>[0.025</th>    <th>0.975]</th>  \n",
       "</tr>\n",
       "<tr>\n",
       "  <th>x1</th> <td>    1.7154</td> <td>    0.022</td> <td>   78.441</td> <td> 0.000</td> <td>    1.672</td> <td>    1.758</td>\n",
       "</tr>\n",
       "<tr>\n",
       "  <th>x2</th> <td>    4.9826</td> <td>    0.060</td> <td>   82.359</td> <td> 0.000</td> <td>    4.864</td> <td>    5.101</td>\n",
       "</tr>\n",
       "</table>\n",
       "<table class=\"simpletable\">\n",
       "<tr>\n",
       "  <th>Omnibus:</th>       <td> 0.921</td> <th>  Durbin-Watson:     </th> <td>   2.067</td>\n",
       "</tr>\n",
       "<tr>\n",
       "  <th>Prob(Omnibus):</th> <td> 0.631</td> <th>  Jarque-Bera (JB):  </th> <td>   0.805</td>\n",
       "</tr>\n",
       "<tr>\n",
       "  <th>Skew:</th>          <td> 0.058</td> <th>  Prob(JB):          </th> <td>   0.669</td>\n",
       "</tr>\n",
       "<tr>\n",
       "  <th>Kurtosis:</th>      <td> 3.075</td> <th>  Cond. No.          </th> <td>    2.77</td>\n",
       "</tr>\n",
       "</table><br/><br/>Notes:<br/>[1] R² is computed without centering (uncentered) since the model does not contain a constant.<br/>[2] Standard Errors assume that the covariance matrix of the errors is correctly specified."
      ],
      "text/latex": [
       "\\begin{center}\n",
       "\\begin{tabular}{lclc}\n",
       "\\toprule\n",
       "\\textbf{Dep. Variable:}    &        y         & \\textbf{  R-squared (uncentered):}      &     0.928   \\\\\n",
       "\\textbf{Model:}            &       OLS        & \\textbf{  Adj. R-squared (uncentered):} &     0.928   \\\\\n",
       "\\textbf{Method:}           &  Least Squares   & \\textbf{  F-statistic:       }          &     6458.   \\\\\n",
       "\\textbf{Date:}             & Fri, 25 Oct 2024 & \\textbf{  Prob (F-statistic):}          &     0.00    \\\\\n",
       "\\textbf{Time:}             &     14:44:17     & \\textbf{  Log-Likelihood:    }          &   -1393.1   \\\\\n",
       "\\textbf{No. Observations:} &        1000      & \\textbf{  AIC:               }          &     2790.   \\\\\n",
       "\\textbf{Df Residuals:}     &         998      & \\textbf{  BIC:               }          &     2800.   \\\\\n",
       "\\textbf{Df Model:}         &           2      & \\textbf{                     }          &             \\\\\n",
       "\\textbf{Covariance Type:}  &    nonrobust     & \\textbf{                     }          &             \\\\\n",
       "\\bottomrule\n",
       "\\end{tabular}\n",
       "\\begin{tabular}{lcccccc}\n",
       "            & \\textbf{coef} & \\textbf{std err} & \\textbf{t} & \\textbf{P$> |$t$|$} & \\textbf{[0.025} & \\textbf{0.975]}  \\\\\n",
       "\\midrule\n",
       "\\textbf{x1} &       1.7154  &        0.022     &    78.441  &         0.000        &        1.672    &        1.758     \\\\\n",
       "\\textbf{x2} &       4.9826  &        0.060     &    82.359  &         0.000        &        4.864    &        5.101     \\\\\n",
       "\\bottomrule\n",
       "\\end{tabular}\n",
       "\\begin{tabular}{lclc}\n",
       "\\textbf{Omnibus:}       &  0.921 & \\textbf{  Durbin-Watson:     } &    2.067  \\\\\n",
       "\\textbf{Prob(Omnibus):} &  0.631 & \\textbf{  Jarque-Bera (JB):  } &    0.805  \\\\\n",
       "\\textbf{Skew:}          &  0.058 & \\textbf{  Prob(JB):          } &    0.669  \\\\\n",
       "\\textbf{Kurtosis:}      &  3.075 & \\textbf{  Cond. No.          } &     2.77  \\\\\n",
       "\\bottomrule\n",
       "\\end{tabular}\n",
       "%\\caption{OLS Regression Results}\n",
       "\\end{center}\n",
       "\n",
       "Notes: \\newline\n",
       " [1] R² is computed without centering (uncentered) since the model does not contain a constant. \\newline\n",
       " [2] Standard Errors assume that the covariance matrix of the errors is correctly specified."
      ],
      "text/plain": [
       "<class 'statsmodels.iolib.summary.Summary'>\n",
       "\"\"\"\n",
       "                                 OLS Regression Results                                \n",
       "=======================================================================================\n",
       "Dep. Variable:                      y   R-squared (uncentered):                   0.928\n",
       "Model:                            OLS   Adj. R-squared (uncentered):              0.928\n",
       "Method:                 Least Squares   F-statistic:                              6458.\n",
       "Date:                Fri, 25 Oct 2024   Prob (F-statistic):                        0.00\n",
       "Time:                        14:44:17   Log-Likelihood:                         -1393.1\n",
       "No. Observations:                1000   AIC:                                      2790.\n",
       "Df Residuals:                     998   BIC:                                      2800.\n",
       "Df Model:                           2                                                  \n",
       "Covariance Type:            nonrobust                                                  \n",
       "==============================================================================\n",
       "                 coef    std err          t      P>|t|      [0.025      0.975]\n",
       "------------------------------------------------------------------------------\n",
       "x1             1.7154      0.022     78.441      0.000       1.672       1.758\n",
       "x2             4.9826      0.060     82.359      0.000       4.864       5.101\n",
       "==============================================================================\n",
       "Omnibus:                        0.921   Durbin-Watson:                   2.067\n",
       "Prob(Omnibus):                  0.631   Jarque-Bera (JB):                0.805\n",
       "Skew:                           0.058   Prob(JB):                        0.669\n",
       "Kurtosis:                       3.075   Cond. No.                         2.77\n",
       "==============================================================================\n",
       "\n",
       "Notes:\n",
       "[1] R² is computed without centering (uncentered) since the model does not contain a constant.\n",
       "[2] Standard Errors assume that the covariance matrix of the errors is correctly specified.\n",
       "\"\"\""
      ]
     },
     "execution_count": 10,
     "metadata": {},
     "output_type": "execute_result"
    }
   ],
   "source": [
    "model = OLS(np.asarray(df[outcome]), np.asarray(df[[common_cause, treatment]], dtype=np.float64))\n",
    "result = model.fit()\n",
    "result.summary()"
   ]
  }
 ],
 "metadata": {
  "kernelspec": {
   "display_name": "Python 3 (ipykernel)",
   "language": "python",
   "name": "python3"
  },
  "language_info": {
   "codemirror_mode": {
    "name": "ipython",
    "version": 3
   },
   "file_extension": ".py",
   "mimetype": "text/x-python",
   "name": "python",
   "nbconvert_exporter": "python",
   "pygments_lexer": "ipython3",
   "version": "3.8.10"
  },
  "toc": {
   "base_numbering": 1,
   "nav_menu": {},
   "number_sections": false,
   "sideBar": true,
   "skip_h1_title": true,
   "title_cell": "Table of Contents",
   "title_sidebar": "Contents",
   "toc_cell": false,
   "toc_position": {},
   "toc_section_display": true,
   "toc_window_display": false
  }
 },
 "nbformat": 4,
 "nbformat_minor": 4
}
