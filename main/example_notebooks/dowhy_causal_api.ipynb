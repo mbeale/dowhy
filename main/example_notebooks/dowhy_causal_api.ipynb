{
 "cells": [
  {
   "cell_type": "markdown",
   "metadata": {},
   "source": [
    "# Demo for the DoWhy causal API\n",
    "We show a simple example of adding a causal extension to any dataframe. "
   ]
  },
  {
   "cell_type": "code",
   "execution_count": 1,
   "metadata": {
    "execution": {
     "iopub.execute_input": "2024-11-04T16:47:17.503484Z",
     "iopub.status.busy": "2024-11-04T16:47:17.503291Z",
     "iopub.status.idle": "2024-11-04T16:47:18.925648Z",
     "shell.execute_reply": "2024-11-04T16:47:18.924927Z"
    }
   },
   "outputs": [],
   "source": [
    "import dowhy.datasets\n",
    "import dowhy.api\n",
    "from dowhy.graph import build_graph_from_str\n",
    "\n",
    "import numpy as np\n",
    "import pandas as pd\n",
    "\n",
    "from statsmodels.api import OLS"
   ]
  },
  {
   "cell_type": "code",
   "execution_count": 2,
   "metadata": {
    "execution": {
     "iopub.execute_input": "2024-11-04T16:47:18.928153Z",
     "iopub.status.busy": "2024-11-04T16:47:18.927675Z",
     "iopub.status.idle": "2024-11-04T16:47:18.964758Z",
     "shell.execute_reply": "2024-11-04T16:47:18.964259Z"
    }
   },
   "outputs": [
    {
     "data": {
      "text/html": [
       "<div>\n",
       "<style scoped>\n",
       "    .dataframe tbody tr th:only-of-type {\n",
       "        vertical-align: middle;\n",
       "    }\n",
       "\n",
       "    .dataframe tbody tr th {\n",
       "        vertical-align: top;\n",
       "    }\n",
       "\n",
       "    .dataframe thead th {\n",
       "        text-align: right;\n",
       "    }\n",
       "</style>\n",
       "<table border=\"1\" class=\"dataframe\">\n",
       "  <thead>\n",
       "    <tr style=\"text-align: right;\">\n",
       "      <th></th>\n",
       "      <th>W0</th>\n",
       "      <th>v0</th>\n",
       "      <th>y</th>\n",
       "    </tr>\n",
       "  </thead>\n",
       "  <tbody>\n",
       "    <tr>\n",
       "      <th>0</th>\n",
       "      <td>0.293693</td>\n",
       "      <td>True</td>\n",
       "      <td>5.673256</td>\n",
       "    </tr>\n",
       "    <tr>\n",
       "      <th>1</th>\n",
       "      <td>1.154247</td>\n",
       "      <td>True</td>\n",
       "      <td>6.413727</td>\n",
       "    </tr>\n",
       "    <tr>\n",
       "      <th>2</th>\n",
       "      <td>0.529595</td>\n",
       "      <td>False</td>\n",
       "      <td>-0.148893</td>\n",
       "    </tr>\n",
       "    <tr>\n",
       "      <th>3</th>\n",
       "      <td>0.606265</td>\n",
       "      <td>False</td>\n",
       "      <td>1.595630</td>\n",
       "    </tr>\n",
       "    <tr>\n",
       "      <th>4</th>\n",
       "      <td>0.184912</td>\n",
       "      <td>False</td>\n",
       "      <td>1.077174</td>\n",
       "    </tr>\n",
       "    <tr>\n",
       "      <th>...</th>\n",
       "      <td>...</td>\n",
       "      <td>...</td>\n",
       "      <td>...</td>\n",
       "    </tr>\n",
       "    <tr>\n",
       "      <th>995</th>\n",
       "      <td>-1.029028</td>\n",
       "      <td>False</td>\n",
       "      <td>-0.412245</td>\n",
       "    </tr>\n",
       "    <tr>\n",
       "      <th>996</th>\n",
       "      <td>2.075526</td>\n",
       "      <td>True</td>\n",
       "      <td>5.441286</td>\n",
       "    </tr>\n",
       "    <tr>\n",
       "      <th>997</th>\n",
       "      <td>0.438079</td>\n",
       "      <td>False</td>\n",
       "      <td>-0.500129</td>\n",
       "    </tr>\n",
       "    <tr>\n",
       "      <th>998</th>\n",
       "      <td>0.727236</td>\n",
       "      <td>True</td>\n",
       "      <td>5.653554</td>\n",
       "    </tr>\n",
       "    <tr>\n",
       "      <th>999</th>\n",
       "      <td>-0.292969</td>\n",
       "      <td>True</td>\n",
       "      <td>5.579658</td>\n",
       "    </tr>\n",
       "  </tbody>\n",
       "</table>\n",
       "<p>1000 rows × 3 columns</p>\n",
       "</div>"
      ],
      "text/plain": [
       "           W0     v0         y\n",
       "0    0.293693   True  5.673256\n",
       "1    1.154247   True  6.413727\n",
       "2    0.529595  False -0.148893\n",
       "3    0.606265  False  1.595630\n",
       "4    0.184912  False  1.077174\n",
       "..        ...    ...       ...\n",
       "995 -1.029028  False -0.412245\n",
       "996  2.075526   True  5.441286\n",
       "997  0.438079  False -0.500129\n",
       "998  0.727236   True  5.653554\n",
       "999 -0.292969   True  5.579658\n",
       "\n",
       "[1000 rows x 3 columns]"
      ]
     },
     "execution_count": 2,
     "metadata": {},
     "output_type": "execute_result"
    }
   ],
   "source": [
    "data = dowhy.datasets.linear_dataset(beta=5,\n",
    "        num_common_causes=1,\n",
    "        num_instruments = 0,\n",
    "        num_samples=1000,\n",
    "        treatment_is_binary=True)\n",
    "df = data['df']\n",
    "df['y'] = df['y'] + np.random.normal(size=len(df)) # Adding noise to data. Without noise, the variance in Y|X, Z is zero, and mcmc fails.\n",
    "nx_graph = build_graph_from_str(data[\"dot_graph\"])\n",
    "\n",
    "treatment= data[\"treatment_name\"][0]\n",
    "outcome = data[\"outcome_name\"][0]\n",
    "common_cause = data[\"common_causes_names\"][0]\n",
    "df"
   ]
  },
  {
   "cell_type": "code",
   "execution_count": 3,
   "metadata": {
    "execution": {
     "iopub.execute_input": "2024-11-04T16:47:18.966637Z",
     "iopub.status.busy": "2024-11-04T16:47:18.966254Z",
     "iopub.status.idle": "2024-11-04T16:47:19.149335Z",
     "shell.execute_reply": "2024-11-04T16:47:19.148808Z"
    },
    "scrolled": true
   },
   "outputs": [
    {
     "data": {
      "text/plain": [
       "<Axes: xlabel='v0'>"
      ]
     },
     "execution_count": 3,
     "metadata": {},
     "output_type": "execute_result"
    },
    {
     "data": {
      "image/png": "[encoded data removed]",
      "text/plain": [
       "<Figure size 640x480 with 1 Axes>"
      ]
     },
     "metadata": {},
     "output_type": "display_data"
    }
   ],
   "source": [
    "# data['df'] is just a regular pandas.DataFrame\n",
    "df.causal.do(x=treatment,\n",
    "             variable_types={treatment: 'b', outcome: 'c', common_cause: 'c'},\n",
    "             outcome=outcome,\n",
    "             common_causes=[common_cause],\n",
    "            ).groupby(treatment).mean().plot(y=outcome, kind='bar')"
   ]
  },
  {
   "cell_type": "code",
   "execution_count": 4,
   "metadata": {
    "execution": {
     "iopub.execute_input": "2024-11-04T16:47:19.151097Z",
     "iopub.status.busy": "2024-11-04T16:47:19.150904Z",
     "iopub.status.idle": "2024-11-04T16:47:19.284767Z",
     "shell.execute_reply": "2024-11-04T16:47:19.284120Z"
    }
   },
   "outputs": [
    {
     "data": {
      "text/plain": [
       "<Axes: xlabel='v0'>"
      ]
     },
     "execution_count": 4,
     "metadata": {},
     "output_type": "execute_result"
    },
    {
     "data": {
      "image/png": "[encoded data removed]",
      "text/plain": [
       "<Figure size 640x480 with 1 Axes>"
      ]
     },
     "metadata": {},
     "output_type": "display_data"
    }
   ],
   "source": [
    "df.causal.do(x={treatment: 1}, \n",
    "              variable_types={treatment:'b', outcome: 'c', common_cause: 'c'}, \n",
    "              outcome=outcome,\n",
    "              method='weighting', \n",
    "              common_causes=[common_cause]\n",
    "              ).groupby(treatment).mean().plot(y=outcome, kind='bar')"
   ]
  },
  {
   "cell_type": "code",
   "execution_count": 5,
   "metadata": {
    "execution": {
     "iopub.execute_input": "2024-11-04T16:47:19.287184Z",
     "iopub.status.busy": "2024-11-04T16:47:19.286802Z",
     "iopub.status.idle": "2024-11-04T16:47:19.307429Z",
     "shell.execute_reply": "2024-11-04T16:47:19.306949Z"
    }
   },
   "outputs": [],
   "source": [
    "cdf_1 = df.causal.do(x={treatment: 1}, \n",
    "              variable_types={treatment: 'b', outcome: 'c', common_cause: 'c'}, \n",
    "              outcome=outcome, \n",
    "              graph=nx_graph\n",
    "              )\n",
    "\n",
    "cdf_0 = df.causal.do(x={treatment: 0}, \n",
    "              variable_types={treatment: 'b', outcome: 'c', common_cause: 'c'}, \n",
    "              outcome=outcome, \n",
    "              graph=nx_graph\n",
    "              )\n"
   ]
  },
  {
   "cell_type": "code",
   "execution_count": 6,
   "metadata": {
    "execution": {
     "iopub.execute_input": "2024-11-04T16:47:19.309210Z",
     "iopub.status.busy": "2024-11-04T16:47:19.308863Z",
     "iopub.status.idle": "2024-11-04T16:47:19.317549Z",
     "shell.execute_reply": "2024-11-04T16:47:19.316967Z"
    },
    "scrolled": true
   },
   "outputs": [
    {
     "data": {
      "text/html": [
       "<div>\n",
       "<style scoped>\n",
       "    .dataframe tbody tr th:only-of-type {\n",
       "        vertical-align: middle;\n",
       "    }\n",
       "\n",
       "    .dataframe tbody tr th {\n",
       "        vertical-align: top;\n",
       "    }\n",
       "\n",
       "    .dataframe thead th {\n",
       "        text-align: right;\n",
       "    }\n",
       "</style>\n",
       "<table border=\"1\" class=\"dataframe\">\n",
       "  <thead>\n",
       "    <tr style=\"text-align: right;\">\n",
       "      <th></th>\n",
       "      <th>W0</th>\n",
       "      <th>v0</th>\n",
       "      <th>y</th>\n",
       "      <th>propensity_score</th>\n",
       "      <th>weight</th>\n",
       "    </tr>\n",
       "  </thead>\n",
       "  <tbody>\n",
       "    <tr>\n",
       "      <th>0</th>\n",
       "      <td>1.574669</td>\n",
       "      <td>False</td>\n",
       "      <td>-0.254979</td>\n",
       "      <td>0.036696</td>\n",
       "      <td>27.250641</td>\n",
       "    </tr>\n",
       "    <tr>\n",
       "      <th>1</th>\n",
       "      <td>-1.660008</td>\n",
       "      <td>False</td>\n",
       "      <td>-0.317410</td>\n",
       "      <td>0.963977</td>\n",
       "      <td>1.037369</td>\n",
       "    </tr>\n",
       "    <tr>\n",
       "      <th>2</th>\n",
       "      <td>-0.483898</td>\n",
       "      <td>False</td>\n",
       "      <td>0.474322</td>\n",
       "      <td>0.711710</td>\n",
       "      <td>1.405067</td>\n",
       "    </tr>\n",
       "    <tr>\n",
       "      <th>3</th>\n",
       "      <td>-0.205005</td>\n",
       "      <td>False</td>\n",
       "      <td>0.355425</td>\n",
       "      <td>0.583842</td>\n",
       "      <td>1.712792</td>\n",
       "    </tr>\n",
       "    <tr>\n",
       "      <th>4</th>\n",
       "      <td>1.545657</td>\n",
       "      <td>False</td>\n",
       "      <td>0.571663</td>\n",
       "      <td>0.038832</td>\n",
       "      <td>25.751873</td>\n",
       "    </tr>\n",
       "    <tr>\n",
       "      <th>...</th>\n",
       "      <td>...</td>\n",
       "      <td>...</td>\n",
       "      <td>...</td>\n",
       "      <td>...</td>\n",
       "      <td>...</td>\n",
       "    </tr>\n",
       "    <tr>\n",
       "      <th>995</th>\n",
       "      <td>1.545657</td>\n",
       "      <td>False</td>\n",
       "      <td>0.571663</td>\n",
       "      <td>0.038832</td>\n",
       "      <td>25.751873</td>\n",
       "    </tr>\n",
       "    <tr>\n",
       "      <th>996</th>\n",
       "      <td>-1.697620</td>\n",
       "      <td>False</td>\n",
       "      <td>-1.420249</td>\n",
       "      <td>0.966532</td>\n",
       "      <td>1.034626</td>\n",
       "    </tr>\n",
       "    <tr>\n",
       "      <th>997</th>\n",
       "      <td>-0.430249</td>\n",
       "      <td>False</td>\n",
       "      <td>1.301478</td>\n",
       "      <td>0.688902</td>\n",
       "      <td>1.451585</td>\n",
       "    </tr>\n",
       "    <tr>\n",
       "      <th>998</th>\n",
       "      <td>-1.098419</td>\n",
       "      <td>False</td>\n",
       "      <td>-2.373795</td>\n",
       "      <td>0.895570</td>\n",
       "      <td>1.116607</td>\n",
       "    </tr>\n",
       "    <tr>\n",
       "      <th>999</th>\n",
       "      <td>-1.180735</td>\n",
       "      <td>False</td>\n",
       "      <td>-1.109739</td>\n",
       "      <td>0.910173</td>\n",
       "      <td>1.098693</td>\n",
       "    </tr>\n",
       "  </tbody>\n",
       "</table>\n",
       "<p>1000 rows × 5 columns</p>\n",
       "</div>"
      ],
      "text/plain": [
       "           W0     v0         y  propensity_score     weight\n",
       "0    1.574669  False -0.254979          0.036696  27.250641\n",
       "1   -1.660008  False -0.317410          0.963977   1.037369\n",
       "2   -0.483898  False  0.474322          0.711710   1.405067\n",
       "3   -0.205005  False  0.355425          0.583842   1.712792\n",
       "4    1.545657  False  0.571663          0.038832  25.751873\n",
       "..        ...    ...       ...               ...        ...\n",
       "995  1.545657  False  0.571663          0.038832  25.751873\n",
       "996 -1.697620  False -1.420249          0.966532   1.034626\n",
       "997 -0.430249  False  1.301478          0.688902   1.451585\n",
       "998 -1.098419  False -2.373795          0.895570   1.116607\n",
       "999 -1.180735  False -1.109739          0.910173   1.098693\n",
       "\n",
       "[1000 rows x 5 columns]"
      ]
     },
     "execution_count": 6,
     "metadata": {},
     "output_type": "execute_result"
    }
   ],
   "source": [
    "cdf_0"
   ]
  },
  {
   "cell_type": "code",
   "execution_count": 7,
   "metadata": {
    "execution": {
     "iopub.execute_input": "2024-11-04T16:47:19.319265Z",
     "iopub.status.busy": "2024-11-04T16:47:19.318987Z",
     "iopub.status.idle": "2024-11-04T16:47:19.327471Z",
     "shell.execute_reply": "2024-11-04T16:47:19.327018Z"
    }
   },
   "outputs": [
    {
     "data": {
      "text/html": [
       "<div>\n",
       "<style scoped>\n",
       "    .dataframe tbody tr th:only-of-type {\n",
       "        vertical-align: middle;\n",
       "    }\n",
       "\n",
       "    .dataframe tbody tr th {\n",
       "        vertical-align: top;\n",
       "    }\n",
       "\n",
       "    .dataframe thead th {\n",
       "        text-align: right;\n",
       "    }\n",
       "</style>\n",
       "<table border=\"1\" class=\"dataframe\">\n",
       "  <thead>\n",
       "    <tr style=\"text-align: right;\">\n",
       "      <th></th>\n",
       "      <th>W0</th>\n",
       "      <th>v0</th>\n",
       "      <th>y</th>\n",
       "      <th>propensity_score</th>\n",
       "      <th>weight</th>\n",
       "    </tr>\n",
       "  </thead>\n",
       "  <tbody>\n",
       "    <tr>\n",
       "      <th>0</th>\n",
       "      <td>0.176755</td>\n",
       "      <td>True</td>\n",
       "      <td>5.747377</td>\n",
       "      <td>0.607071</td>\n",
       "      <td>1.647254</td>\n",
       "    </tr>\n",
       "    <tr>\n",
       "      <th>1</th>\n",
       "      <td>-0.665073</td>\n",
       "      <td>True</td>\n",
       "      <td>5.827062</td>\n",
       "      <td>0.219116</td>\n",
       "      <td>4.563803</td>\n",
       "    </tr>\n",
       "    <tr>\n",
       "      <th>2</th>\n",
       "      <td>0.482808</td>\n",
       "      <td>True</td>\n",
       "      <td>4.917149</td>\n",
       "      <td>0.741770</td>\n",
       "      <td>1.348126</td>\n",
       "    </tr>\n",
       "    <tr>\n",
       "      <th>3</th>\n",
       "      <td>0.903632</td>\n",
       "      <td>True</td>\n",
       "      <td>5.114241</td>\n",
       "      <td>0.870786</td>\n",
       "      <td>1.148387</td>\n",
       "    </tr>\n",
       "    <tr>\n",
       "      <th>4</th>\n",
       "      <td>0.031173</td>\n",
       "      <td>True</td>\n",
       "      <td>4.524439</td>\n",
       "      <td>0.534946</td>\n",
       "      <td>1.869346</td>\n",
       "    </tr>\n",
       "    <tr>\n",
       "      <th>...</th>\n",
       "      <td>...</td>\n",
       "      <td>...</td>\n",
       "      <td>...</td>\n",
       "      <td>...</td>\n",
       "      <td>...</td>\n",
       "    </tr>\n",
       "    <tr>\n",
       "      <th>995</th>\n",
       "      <td>-1.035498</td>\n",
       "      <td>True</td>\n",
       "      <td>4.003942</td>\n",
       "      <td>0.116970</td>\n",
       "      <td>8.549206</td>\n",
       "    </tr>\n",
       "    <tr>\n",
       "      <th>996</th>\n",
       "      <td>-0.756735</td>\n",
       "      <td>True</td>\n",
       "      <td>2.983293</td>\n",
       "      <td>0.188993</td>\n",
       "      <td>5.291214</td>\n",
       "    </tr>\n",
       "    <tr>\n",
       "      <th>997</th>\n",
       "      <td>1.676292</td>\n",
       "      <td>True</td>\n",
       "      <td>4.382391</td>\n",
       "      <td>0.969928</td>\n",
       "      <td>1.031005</td>\n",
       "    </tr>\n",
       "    <tr>\n",
       "      <th>998</th>\n",
       "      <td>0.922631</td>\n",
       "      <td>True</td>\n",
       "      <td>6.197707</td>\n",
       "      <td>0.875057</td>\n",
       "      <td>1.142783</td>\n",
       "    </tr>\n",
       "    <tr>\n",
       "      <th>999</th>\n",
       "      <td>-2.004057</td>\n",
       "      <td>True</td>\n",
       "      <td>5.266295</td>\n",
       "      <td>0.018269</td>\n",
       "      <td>54.736367</td>\n",
       "    </tr>\n",
       "  </tbody>\n",
       "</table>\n",
       "<p>1000 rows × 5 columns</p>\n",
       "</div>"
      ],
      "text/plain": [
       "           W0    v0         y  propensity_score     weight\n",
       "0    0.176755  True  5.747377          0.607071   1.647254\n",
       "1   -0.665073  True  5.827062          0.219116   4.563803\n",
       "2    0.482808  True  4.917149          0.741770   1.348126\n",
       "3    0.903632  True  5.114241          0.870786   1.148387\n",
       "4    0.031173  True  4.524439          0.534946   1.869346\n",
       "..        ...   ...       ...               ...        ...\n",
       "995 -1.035498  True  4.003942          0.116970   8.549206\n",
       "996 -0.756735  True  2.983293          0.188993   5.291214\n",
       "997  1.676292  True  4.382391          0.969928   1.031005\n",
       "998  0.922631  True  6.197707          0.875057   1.142783\n",
       "999 -2.004057  True  5.266295          0.018269  54.736367\n",
       "\n",
       "[1000 rows x 5 columns]"
      ]
     },
     "execution_count": 7,
     "metadata": {},
     "output_type": "execute_result"
    }
   ],
   "source": [
    "cdf_1"
   ]
  },
  {
   "cell_type": "markdown",
   "metadata": {},
   "source": [
    "## Comparing the estimate to Linear Regression\n",
    "First, estimating the effect using the causal data frame, and the 95% confidence interval."
   ]
  },
  {
   "cell_type": "code",
   "execution_count": 8,
   "metadata": {
    "execution": {
     "iopub.execute_input": "2024-11-04T16:47:19.329099Z",
     "iopub.status.busy": "2024-11-04T16:47:19.328920Z",
     "iopub.status.idle": "2024-11-04T16:47:19.374748Z",
     "shell.execute_reply": "2024-11-04T16:47:19.374247Z"
    }
   },
   "outputs": [
    {
     "data": {
      "image/png": "[encoded data removed]",
      "text/latex": [
       "$\\displaystyle 5.03515824129592$"
      ],
      "text/plain": [
       "5.0351582412959175"
      ]
     },
     "execution_count": 8,
     "metadata": {},
     "output_type": "execute_result"
    }
   ],
   "source": [
    "(cdf_1['y'] - cdf_0['y']).mean()"
   ]
  },
  {
   "cell_type": "code",
   "execution_count": 9,
   "metadata": {
    "execution": {
     "iopub.execute_input": "2024-11-04T16:47:19.376469Z",
     "iopub.status.busy": "2024-11-04T16:47:19.376288Z",
     "iopub.status.idle": "2024-11-04T16:47:19.392113Z",
     "shell.execute_reply": "2024-11-04T16:47:19.391516Z"
    }
   },
   "outputs": [
    {
     "data": {
      "image/png": "[encoded data removed]",
      "text/latex": [
       "$\\displaystyle 0.0967398682876178$"
      ],
      "text/plain": [
       "0.09673986828761784"
      ]
     },
     "execution_count": 9,
     "metadata": {},
     "output_type": "execute_result"
    }
   ],
   "source": [
    "1.96*(cdf_1['y'] - cdf_0['y']).std() / np.sqrt(len(df))"
   ]
  },
  {
   "cell_type": "markdown",
   "metadata": {},
   "source": [
    "Comparing to the estimate from OLS."
   ]
  },
  {
   "cell_type": "code",
   "execution_count": 10,
   "metadata": {
    "execution": {
     "iopub.execute_input": "2024-11-04T16:47:19.394040Z",
     "iopub.status.busy": "2024-11-04T16:47:19.393698Z",
     "iopub.status.idle": "2024-11-04T16:47:19.410683Z",
     "shell.execute_reply": "2024-11-04T16:47:19.410053Z"
    }
   },
   "outputs": [
    {
     "data": {
      "text/html": [
       "<table class=\"simpletable\">\n",
       "<caption>OLS Regression Results</caption>\n",
       "<tr>\n",
       "  <th>Dep. Variable:</th>            <td>y</td>        <th>  R-squared (uncentered):</th>      <td>   0.925</td>\n",
       "</tr>\n",
       "<tr>\n",
       "  <th>Model:</th>                   <td>OLS</td>       <th>  Adj. R-squared (uncentered):</th> <td>   0.925</td>\n",
       "</tr>\n",
       "<tr>\n",
       "  <th>Method:</th>             <td>Least Squares</td>  <th>  F-statistic:       </th>          <td>   6180.</td>\n",
       "</tr>\n",
       "<tr>\n",
       "  <th>Date:</th>             <td>Mon, 04 Nov 2024</td> <th>  Prob (F-statistic):</th>           <td>  0.00</td> \n",
       "</tr>\n",
       "<tr>\n",
       "  <th>Time:</th>                 <td>16:47:19</td>     <th>  Log-Likelihood:    </th>          <td> -1401.6</td>\n",
       "</tr>\n",
       "<tr>\n",
       "  <th>No. Observations:</th>      <td>  1000</td>      <th>  AIC:               </th>          <td>   2807.</td>\n",
       "</tr>\n",
       "<tr>\n",
       "  <th>Df Residuals:</th>          <td>   998</td>      <th>  BIC:               </th>          <td>   2817.</td>\n",
       "</tr>\n",
       "<tr>\n",
       "  <th>Df Model:</th>              <td>     2</td>      <th>                     </th>              <td> </td>   \n",
       "</tr>\n",
       "<tr>\n",
       "  <th>Covariance Type:</th>      <td>nonrobust</td>    <th>                     </th>              <td> </td>   \n",
       "</tr>\n",
       "</table>\n",
       "<table class=\"simpletable\">\n",
       "<tr>\n",
       "   <td></td>     <th>coef</th>     <th>std err</th>      <th>t</th>      <th>P>|t|</th>  <th>[0.025</th>    <th>0.975]</th>  \n",
       "</tr>\n",
       "<tr>\n",
       "  <th>x1</th> <td>    0.3960</td> <td>    0.033</td> <td>   12.128</td> <td> 0.000</td> <td>    0.332</td> <td>    0.460</td>\n",
       "</tr>\n",
       "<tr>\n",
       "  <th>x2</th> <td>    5.0179</td> <td>    0.049</td> <td>  103.137</td> <td> 0.000</td> <td>    4.922</td> <td>    5.113</td>\n",
       "</tr>\n",
       "</table>\n",
       "<table class=\"simpletable\">\n",
       "<tr>\n",
       "  <th>Omnibus:</th>       <td> 1.581</td> <th>  Durbin-Watson:     </th> <td>   2.095</td>\n",
       "</tr>\n",
       "<tr>\n",
       "  <th>Prob(Omnibus):</th> <td> 0.454</td> <th>  Jarque-Bera (JB):  </th> <td>   1.517</td>\n",
       "</tr>\n",
       "<tr>\n",
       "  <th>Skew:</th>          <td> 0.019</td> <th>  Prob(JB):          </th> <td>   0.468</td>\n",
       "</tr>\n",
       "<tr>\n",
       "  <th>Kurtosis:</th>      <td> 3.187</td> <th>  Cond. No.          </th> <td>    1.63</td>\n",
       "</tr>\n",
       "</table><br/><br/>Notes:<br/>[1] R² is computed without centering (uncentered) since the model does not contain a constant.<br/>[2] Standard Errors assume that the covariance matrix of the errors is correctly specified."
      ],
      "text/latex": [
       "\\begin{center}\n",
       "\\begin{tabular}{lclc}\n",
       "\\toprule\n",
       "\\textbf{Dep. Variable:}    &        y         & \\textbf{  R-squared (uncentered):}      &     0.925   \\\\\n",
       "\\textbf{Model:}            &       OLS        & \\textbf{  Adj. R-squared (uncentered):} &     0.925   \\\\\n",
       "\\textbf{Method:}           &  Least Squares   & \\textbf{  F-statistic:       }          &     6180.   \\\\\n",
       "\\textbf{Date:}             & Mon, 04 Nov 2024 & \\textbf{  Prob (F-statistic):}          &     0.00    \\\\\n",
       "\\textbf{Time:}             &     16:47:19     & \\textbf{  Log-Likelihood:    }          &   -1401.6   \\\\\n",
       "\\textbf{No. Observations:} &        1000      & \\textbf{  AIC:               }          &     2807.   \\\\\n",
       "\\textbf{Df Residuals:}     &         998      & \\textbf{  BIC:               }          &     2817.   \\\\\n",
       "\\textbf{Df Model:}         &           2      & \\textbf{                     }          &             \\\\\n",
       "\\textbf{Covariance Type:}  &    nonrobust     & \\textbf{                     }          &             \\\\\n",
       "\\bottomrule\n",
       "\\end{tabular}\n",
       "\\begin{tabular}{lcccccc}\n",
       "            & \\textbf{coef} & \\textbf{std err} & \\textbf{t} & \\textbf{P$> |$t$|$} & \\textbf{[0.025} & \\textbf{0.975]}  \\\\\n",
       "\\midrule\n",
       "\\textbf{x1} &       0.3960  &        0.033     &    12.128  &         0.000        &        0.332    &        0.460     \\\\\n",
       "\\textbf{x2} &       5.0179  &        0.049     &   103.137  &         0.000        &        4.922    &        5.113     \\\\\n",
       "\\bottomrule\n",
       "\\end{tabular}\n",
       "\\begin{tabular}{lclc}\n",
       "\\textbf{Omnibus:}       &  1.581 & \\textbf{  Durbin-Watson:     } &    2.095  \\\\\n",
       "\\textbf{Prob(Omnibus):} &  0.454 & \\textbf{  Jarque-Bera (JB):  } &    1.517  \\\\\n",
       "\\textbf{Skew:}          &  0.019 & \\textbf{  Prob(JB):          } &    0.468  \\\\\n",
       "\\textbf{Kurtosis:}      &  3.187 & \\textbf{  Cond. No.          } &     1.63  \\\\\n",
       "\\bottomrule\n",
       "\\end{tabular}\n",
       "%\\caption{OLS Regression Results}\n",
       "\\end{center}\n",
       "\n",
       "Notes: \\newline\n",
       " [1] R² is computed without centering (uncentered) since the model does not contain a constant. \\newline\n",
       " [2] Standard Errors assume that the covariance matrix of the errors is correctly specified."
      ],
      "text/plain": [
       "<class 'statsmodels.iolib.summary.Summary'>\n",
       "\"\"\"\n",
       "                                 OLS Regression Results                                \n",
       "=======================================================================================\n",
       "Dep. Variable:                      y   R-squared (uncentered):                   0.925\n",
       "Model:                            OLS   Adj. R-squared (uncentered):              0.925\n",
       "Method:                 Least Squares   F-statistic:                              6180.\n",
       "Date:                Mon, 04 Nov 2024   Prob (F-statistic):                        0.00\n",
       "Time:                        16:47:19   Log-Likelihood:                         -1401.6\n",
       "No. Observations:                1000   AIC:                                      2807.\n",
       "Df Residuals:                     998   BIC:                                      2817.\n",
       "Df Model:                           2                                                  \n",
       "Covariance Type:            nonrobust                                                  \n",
       "==============================================================================\n",
       "                 coef    std err          t      P>|t|      [0.025      0.975]\n",
       "------------------------------------------------------------------------------\n",
       "x1             0.3960      0.033     12.128      0.000       0.332       0.460\n",
       "x2             5.0179      0.049    103.137      0.000       4.922       5.113\n",
       "==============================================================================\n",
       "Omnibus:                        1.581   Durbin-Watson:                   2.095\n",
       "Prob(Omnibus):                  0.454   Jarque-Bera (JB):                1.517\n",
       "Skew:                           0.019   Prob(JB):                        0.468\n",
       "Kurtosis:                       3.187   Cond. No.                         1.63\n",
       "==============================================================================\n",
       "\n",
       "Notes:\n",
       "[1] R² is computed without centering (uncentered) since the model does not contain a constant.\n",
       "[2] Standard Errors assume that the covariance matrix of the errors is correctly specified.\n",
       "\"\"\""
      ]
     },
     "execution_count": 10,
     "metadata": {},
     "output_type": "execute_result"
    }
   ],
   "source": [
    "model = OLS(np.asarray(df[outcome]), np.asarray(df[[common_cause, treatment]], dtype=np.float64))\n",
    "result = model.fit()\n",
    "result.summary()"
   ]
  }
 ],
 "metadata": {
  "kernelspec": {
   "display_name": "Python 3 (ipykernel)",
   "language": "python",
   "name": "python3"
  },
  "language_info": {
   "codemirror_mode": {
    "name": "ipython",
    "version": 3
   },
   "file_extension": ".py",
   "mimetype": "text/x-python",
   "name": "python",
   "nbconvert_exporter": "python",
   "pygments_lexer": "ipython3",
   "version": "3.8.10"
  },
  "toc": {
   "base_numbering": 1,
   "nav_menu": {},
   "number_sections": false,
   "sideBar": true,
   "skip_h1_title": true,
   "title_cell": "Table of Contents",
   "title_sidebar": "Contents",
   "toc_cell": false,
   "toc_position": {},
   "toc_section_display": true,
   "toc_window_display": false
  }
 },
 "nbformat": 4,
 "nbformat_minor": 4
}
