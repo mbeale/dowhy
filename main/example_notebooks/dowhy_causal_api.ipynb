{
 "cells": [
  {
   "cell_type": "markdown",
   "metadata": {},
   "source": [
    "# Demo for the DoWhy causal API\n",
    "We show a simple example of adding a causal extension to any dataframe. "
   ]
  },
  {
   "cell_type": "code",
   "execution_count": 1,
   "metadata": {
    "execution": {
     "iopub.execute_input": "2024-11-21T18:42:40.660240Z",
     "iopub.status.busy": "2024-11-21T18:42:40.660064Z",
     "iopub.status.idle": "2024-11-21T18:42:42.060267Z",
     "shell.execute_reply": "2024-11-21T18:42:42.059652Z"
    }
   },
   "outputs": [],
   "source": [
    "import dowhy.datasets\n",
    "import dowhy.api\n",
    "from dowhy.graph import build_graph_from_str\n",
    "\n",
    "import numpy as np\n",
    "import pandas as pd\n",
    "\n",
    "from statsmodels.api import OLS"
   ]
  },
  {
   "cell_type": "code",
   "execution_count": 2,
   "metadata": {
    "execution": {
     "iopub.execute_input": "2024-11-21T18:42:42.062613Z",
     "iopub.status.busy": "2024-11-21T18:42:42.062154Z",
     "iopub.status.idle": "2024-11-21T18:42:42.098857Z",
     "shell.execute_reply": "2024-11-21T18:42:42.098340Z"
    }
   },
   "outputs": [
    {
     "data": {
      "text/html": [
       "<div>\n",
       "<style scoped>\n",
       "    .dataframe tbody tr th:only-of-type {\n",
       "        vertical-align: middle;\n",
       "    }\n",
       "\n",
       "    .dataframe tbody tr th {\n",
       "        vertical-align: top;\n",
       "    }\n",
       "\n",
       "    .dataframe thead th {\n",
       "        text-align: right;\n",
       "    }\n",
       "</style>\n",
       "<table border=\"1\" class=\"dataframe\">\n",
       "  <thead>\n",
       "    <tr style=\"text-align: right;\">\n",
       "      <th></th>\n",
       "      <th>W0</th>\n",
       "      <th>v0</th>\n",
       "      <th>y</th>\n",
       "    </tr>\n",
       "  </thead>\n",
       "  <tbody>\n",
       "    <tr>\n",
       "      <th>0</th>\n",
       "      <td>-1.590398</td>\n",
       "      <td>False</td>\n",
       "      <td>-0.142035</td>\n",
       "    </tr>\n",
       "    <tr>\n",
       "      <th>1</th>\n",
       "      <td>-0.439374</td>\n",
       "      <td>False</td>\n",
       "      <td>-0.072774</td>\n",
       "    </tr>\n",
       "    <tr>\n",
       "      <th>2</th>\n",
       "      <td>-1.996601</td>\n",
       "      <td>False</td>\n",
       "      <td>0.140430</td>\n",
       "    </tr>\n",
       "    <tr>\n",
       "      <th>3</th>\n",
       "      <td>-1.788554</td>\n",
       "      <td>False</td>\n",
       "      <td>-0.901035</td>\n",
       "    </tr>\n",
       "    <tr>\n",
       "      <th>4</th>\n",
       "      <td>-2.346612</td>\n",
       "      <td>False</td>\n",
       "      <td>-0.805685</td>\n",
       "    </tr>\n",
       "    <tr>\n",
       "      <th>...</th>\n",
       "      <td>...</td>\n",
       "      <td>...</td>\n",
       "      <td>...</td>\n",
       "    </tr>\n",
       "    <tr>\n",
       "      <th>995</th>\n",
       "      <td>-1.102293</td>\n",
       "      <td>False</td>\n",
       "      <td>0.888031</td>\n",
       "    </tr>\n",
       "    <tr>\n",
       "      <th>996</th>\n",
       "      <td>-2.298781</td>\n",
       "      <td>False</td>\n",
       "      <td>-0.423890</td>\n",
       "    </tr>\n",
       "    <tr>\n",
       "      <th>997</th>\n",
       "      <td>0.350439</td>\n",
       "      <td>False</td>\n",
       "      <td>0.960244</td>\n",
       "    </tr>\n",
       "    <tr>\n",
       "      <th>998</th>\n",
       "      <td>-0.204328</td>\n",
       "      <td>False</td>\n",
       "      <td>1.857682</td>\n",
       "    </tr>\n",
       "    <tr>\n",
       "      <th>999</th>\n",
       "      <td>0.474836</td>\n",
       "      <td>True</td>\n",
       "      <td>5.527095</td>\n",
       "    </tr>\n",
       "  </tbody>\n",
       "</table>\n",
       "<p>1000 rows × 3 columns</p>\n",
       "</div>"
      ],
      "text/plain": [
       "           W0     v0         y\n",
       "0   -1.590398  False -0.142035\n",
       "1   -0.439374  False -0.072774\n",
       "2   -1.996601  False  0.140430\n",
       "3   -1.788554  False -0.901035\n",
       "4   -2.346612  False -0.805685\n",
       "..        ...    ...       ...\n",
       "995 -1.102293  False  0.888031\n",
       "996 -2.298781  False -0.423890\n",
       "997  0.350439  False  0.960244\n",
       "998 -0.204328  False  1.857682\n",
       "999  0.474836   True  5.527095\n",
       "\n",
       "[1000 rows x 3 columns]"
      ]
     },
     "execution_count": 2,
     "metadata": {},
     "output_type": "execute_result"
    }
   ],
   "source": [
    "data = dowhy.datasets.linear_dataset(beta=5,\n",
    "        num_common_causes=1,\n",
    "        num_instruments = 0,\n",
    "        num_samples=1000,\n",
    "        treatment_is_binary=True)\n",
    "df = data['df']\n",
    "df['y'] = df['y'] + np.random.normal(size=len(df)) # Adding noise to data. Without noise, the variance in Y|X, Z is zero, and mcmc fails.\n",
    "nx_graph = build_graph_from_str(data[\"dot_graph\"])\n",
    "\n",
    "treatment= data[\"treatment_name\"][0]\n",
    "outcome = data[\"outcome_name\"][0]\n",
    "common_cause = data[\"common_causes_names\"][0]\n",
    "df"
   ]
  },
  {
   "cell_type": "code",
   "execution_count": 3,
   "metadata": {
    "execution": {
     "iopub.execute_input": "2024-11-21T18:42:42.100790Z",
     "iopub.status.busy": "2024-11-21T18:42:42.100350Z",
     "iopub.status.idle": "2024-11-21T18:42:42.260505Z",
     "shell.execute_reply": "2024-11-21T18:42:42.260076Z"
    },
    "scrolled": true
   },
   "outputs": [
    {
     "data": {
      "text/plain": [
       "<Axes: xlabel='v0'>"
      ]
     },
     "execution_count": 3,
     "metadata": {},
     "output_type": "execute_result"
    },
    {
     "data": {
      "image/png": "[encoded data removed]",
      "text/plain": [
       "<Figure size 640x480 with 1 Axes>"
      ]
     },
     "metadata": {},
     "output_type": "display_data"
    }
   ],
   "source": [
    "# data['df'] is just a regular pandas.DataFrame\n",
    "df.causal.do(x=treatment,\n",
    "             variable_types={treatment: 'b', outcome: 'c', common_cause: 'c'},\n",
    "             outcome=outcome,\n",
    "             common_causes=[common_cause],\n",
    "            ).groupby(treatment).mean().plot(y=outcome, kind='bar')"
   ]
  },
  {
   "cell_type": "code",
   "execution_count": 4,
   "metadata": {
    "execution": {
     "iopub.execute_input": "2024-11-21T18:42:42.262460Z",
     "iopub.status.busy": "2024-11-21T18:42:42.262257Z",
     "iopub.status.idle": "2024-11-21T18:42:42.371001Z",
     "shell.execute_reply": "2024-11-21T18:42:42.370361Z"
    }
   },
   "outputs": [
    {
     "data": {
      "text/plain": [
       "<Axes: xlabel='v0'>"
      ]
     },
     "execution_count": 4,
     "metadata": {},
     "output_type": "execute_result"
    },
    {
     "data": {
      "image/png": "[encoded data removed]",
      "text/plain": [
       "<Figure size 640x480 with 1 Axes>"
      ]
     },
     "metadata": {},
     "output_type": "display_data"
    }
   ],
   "source": [
    "df.causal.do(x={treatment: 1}, \n",
    "              variable_types={treatment:'b', outcome: 'c', common_cause: 'c'}, \n",
    "              outcome=outcome,\n",
    "              method='weighting', \n",
    "              common_causes=[common_cause]\n",
    "              ).groupby(treatment).mean().plot(y=outcome, kind='bar')"
   ]
  },
  {
   "cell_type": "code",
   "execution_count": 5,
   "metadata": {
    "execution": {
     "iopub.execute_input": "2024-11-21T18:42:42.372908Z",
     "iopub.status.busy": "2024-11-21T18:42:42.372718Z",
     "iopub.status.idle": "2024-11-21T18:42:42.393343Z",
     "shell.execute_reply": "2024-11-21T18:42:42.392755Z"
    }
   },
   "outputs": [],
   "source": [
    "cdf_1 = df.causal.do(x={treatment: 1}, \n",
    "              variable_types={treatment: 'b', outcome: 'c', common_cause: 'c'}, \n",
    "              outcome=outcome, \n",
    "              graph=nx_graph\n",
    "              )\n",
    "\n",
    "cdf_0 = df.causal.do(x={treatment: 0}, \n",
    "              variable_types={treatment: 'b', outcome: 'c', common_cause: 'c'}, \n",
    "              outcome=outcome, \n",
    "              graph=nx_graph\n",
    "              )\n"
   ]
  },
  {
   "cell_type": "code",
   "execution_count": 6,
   "metadata": {
    "execution": {
     "iopub.execute_input": "2024-11-21T18:42:42.395192Z",
     "iopub.status.busy": "2024-11-21T18:42:42.395009Z",
     "iopub.status.idle": "2024-11-21T18:42:42.404020Z",
     "shell.execute_reply": "2024-11-21T18:42:42.403536Z"
    },
    "scrolled": true
   },
   "outputs": [
    {
     "data": {
      "text/html": [
       "<div>\n",
       "<style scoped>\n",
       "    .dataframe tbody tr th:only-of-type {\n",
       "        vertical-align: middle;\n",
       "    }\n",
       "\n",
       "    .dataframe tbody tr th {\n",
       "        vertical-align: top;\n",
       "    }\n",
       "\n",
       "    .dataframe thead th {\n",
       "        text-align: right;\n",
       "    }\n",
       "</style>\n",
       "<table border=\"1\" class=\"dataframe\">\n",
       "  <thead>\n",
       "    <tr style=\"text-align: right;\">\n",
       "      <th></th>\n",
       "      <th>W0</th>\n",
       "      <th>v0</th>\n",
       "      <th>y</th>\n",
       "      <th>propensity_score</th>\n",
       "      <th>weight</th>\n",
       "    </tr>\n",
       "  </thead>\n",
       "  <tbody>\n",
       "    <tr>\n",
       "      <th>0</th>\n",
       "      <td>-0.766497</td>\n",
       "      <td>False</td>\n",
       "      <td>-0.786821</td>\n",
       "      <td>0.816266</td>\n",
       "      <td>1.225090</td>\n",
       "    </tr>\n",
       "    <tr>\n",
       "      <th>1</th>\n",
       "      <td>-0.982490</td>\n",
       "      <td>False</td>\n",
       "      <td>-0.821939</td>\n",
       "      <td>0.867710</td>\n",
       "      <td>1.152459</td>\n",
       "    </tr>\n",
       "    <tr>\n",
       "      <th>2</th>\n",
       "      <td>-1.560978</td>\n",
       "      <td>False</td>\n",
       "      <td>-0.083517</td>\n",
       "      <td>0.949036</td>\n",
       "      <td>1.053701</td>\n",
       "    </tr>\n",
       "    <tr>\n",
       "      <th>3</th>\n",
       "      <td>-0.222496</td>\n",
       "      <td>False</td>\n",
       "      <td>-0.131628</td>\n",
       "      <td>0.624804</td>\n",
       "      <td>1.600502</td>\n",
       "    </tr>\n",
       "    <tr>\n",
       "      <th>4</th>\n",
       "      <td>-0.835693</td>\n",
       "      <td>False</td>\n",
       "      <td>0.531195</td>\n",
       "      <td>0.834252</td>\n",
       "      <td>1.198678</td>\n",
       "    </tr>\n",
       "    <tr>\n",
       "      <th>...</th>\n",
       "      <td>...</td>\n",
       "      <td>...</td>\n",
       "      <td>...</td>\n",
       "      <td>...</td>\n",
       "      <td>...</td>\n",
       "    </tr>\n",
       "    <tr>\n",
       "      <th>995</th>\n",
       "      <td>-0.854320</td>\n",
       "      <td>False</td>\n",
       "      <td>-0.912382</td>\n",
       "      <td>0.838846</td>\n",
       "      <td>1.192114</td>\n",
       "    </tr>\n",
       "    <tr>\n",
       "      <th>996</th>\n",
       "      <td>-0.763953</td>\n",
       "      <td>False</td>\n",
       "      <td>-0.381300</td>\n",
       "      <td>0.815577</td>\n",
       "      <td>1.226126</td>\n",
       "    </tr>\n",
       "    <tr>\n",
       "      <th>997</th>\n",
       "      <td>-0.592933</td>\n",
       "      <td>False</td>\n",
       "      <td>-0.056549</td>\n",
       "      <td>0.764620</td>\n",
       "      <td>1.307839</td>\n",
       "    </tr>\n",
       "    <tr>\n",
       "      <th>998</th>\n",
       "      <td>-2.367274</td>\n",
       "      <td>False</td>\n",
       "      <td>-0.957950</td>\n",
       "      <td>0.987614</td>\n",
       "      <td>1.012541</td>\n",
       "    </tr>\n",
       "    <tr>\n",
       "      <th>999</th>\n",
       "      <td>0.603067</td>\n",
       "      <td>False</td>\n",
       "      <td>-1.018176</td>\n",
       "      <td>0.273060</td>\n",
       "      <td>3.662204</td>\n",
       "    </tr>\n",
       "  </tbody>\n",
       "</table>\n",
       "<p>1000 rows × 5 columns</p>\n",
       "</div>"
      ],
      "text/plain": [
       "           W0     v0         y  propensity_score    weight\n",
       "0   -0.766497  False -0.786821          0.816266  1.225090\n",
       "1   -0.982490  False -0.821939          0.867710  1.152459\n",
       "2   -1.560978  False -0.083517          0.949036  1.053701\n",
       "3   -0.222496  False -0.131628          0.624804  1.600502\n",
       "4   -0.835693  False  0.531195          0.834252  1.198678\n",
       "..        ...    ...       ...               ...       ...\n",
       "995 -0.854320  False -0.912382          0.838846  1.192114\n",
       "996 -0.763953  False -0.381300          0.815577  1.226126\n",
       "997 -0.592933  False -0.056549          0.764620  1.307839\n",
       "998 -2.367274  False -0.957950          0.987614  1.012541\n",
       "999  0.603067  False -1.018176          0.273060  3.662204\n",
       "\n",
       "[1000 rows x 5 columns]"
      ]
     },
     "execution_count": 6,
     "metadata": {},
     "output_type": "execute_result"
    }
   ],
   "source": [
    "cdf_0"
   ]
  },
  {
   "cell_type": "code",
   "execution_count": 7,
   "metadata": {
    "execution": {
     "iopub.execute_input": "2024-11-21T18:42:42.405614Z",
     "iopub.status.busy": "2024-11-21T18:42:42.405433Z",
     "iopub.status.idle": "2024-11-21T18:42:42.413901Z",
     "shell.execute_reply": "2024-11-21T18:42:42.413292Z"
    }
   },
   "outputs": [
    {
     "data": {
      "text/html": [
       "<div>\n",
       "<style scoped>\n",
       "    .dataframe tbody tr th:only-of-type {\n",
       "        vertical-align: middle;\n",
       "    }\n",
       "\n",
       "    .dataframe tbody tr th {\n",
       "        vertical-align: top;\n",
       "    }\n",
       "\n",
       "    .dataframe thead th {\n",
       "        text-align: right;\n",
       "    }\n",
       "</style>\n",
       "<table border=\"1\" class=\"dataframe\">\n",
       "  <thead>\n",
       "    <tr style=\"text-align: right;\">\n",
       "      <th></th>\n",
       "      <th>W0</th>\n",
       "      <th>v0</th>\n",
       "      <th>y</th>\n",
       "      <th>propensity_score</th>\n",
       "      <th>weight</th>\n",
       "    </tr>\n",
       "  </thead>\n",
       "  <tbody>\n",
       "    <tr>\n",
       "      <th>0</th>\n",
       "      <td>0.216325</td>\n",
       "      <td>True</td>\n",
       "      <td>4.569764</td>\n",
       "      <td>0.569926</td>\n",
       "      <td>1.754612</td>\n",
       "    </tr>\n",
       "    <tr>\n",
       "      <th>1</th>\n",
       "      <td>0.030281</td>\n",
       "      <td>True</td>\n",
       "      <td>5.406192</td>\n",
       "      <td>0.486495</td>\n",
       "      <td>2.055519</td>\n",
       "    </tr>\n",
       "    <tr>\n",
       "      <th>2</th>\n",
       "      <td>-1.046454</td>\n",
       "      <td>True</td>\n",
       "      <td>4.364662</td>\n",
       "      <td>0.119598</td>\n",
       "      <td>8.361311</td>\n",
       "    </tr>\n",
       "    <tr>\n",
       "      <th>3</th>\n",
       "      <td>1.613805</td>\n",
       "      <td>True</td>\n",
       "      <td>6.215746</td>\n",
       "      <td>0.942801</td>\n",
       "      <td>1.060670</td>\n",
       "    </tr>\n",
       "    <tr>\n",
       "      <th>4</th>\n",
       "      <td>1.360722</td>\n",
       "      <td>True</td>\n",
       "      <td>5.098013</td>\n",
       "      <td>0.912600</td>\n",
       "      <td>1.095770</td>\n",
       "    </tr>\n",
       "    <tr>\n",
       "      <th>...</th>\n",
       "      <td>...</td>\n",
       "      <td>...</td>\n",
       "      <td>...</td>\n",
       "      <td>...</td>\n",
       "      <td>...</td>\n",
       "    </tr>\n",
       "    <tr>\n",
       "      <th>995</th>\n",
       "      <td>-0.676737</td>\n",
       "      <td>True</td>\n",
       "      <td>4.341361</td>\n",
       "      <td>0.209268</td>\n",
       "      <td>4.778572</td>\n",
       "    </tr>\n",
       "    <tr>\n",
       "      <th>996</th>\n",
       "      <td>1.819160</td>\n",
       "      <td>True</td>\n",
       "      <td>5.889055</td>\n",
       "      <td>0.959795</td>\n",
       "      <td>1.041889</td>\n",
       "    </tr>\n",
       "    <tr>\n",
       "      <th>997</th>\n",
       "      <td>0.214163</td>\n",
       "      <td>True</td>\n",
       "      <td>6.186792</td>\n",
       "      <td>0.568970</td>\n",
       "      <td>1.757561</td>\n",
       "    </tr>\n",
       "    <tr>\n",
       "      <th>998</th>\n",
       "      <td>0.051968</td>\n",
       "      <td>True</td>\n",
       "      <td>4.581237</td>\n",
       "      <td>0.496271</td>\n",
       "      <td>2.015026</td>\n",
       "    </tr>\n",
       "    <tr>\n",
       "      <th>999</th>\n",
       "      <td>-0.573413</td>\n",
       "      <td>True</td>\n",
       "      <td>6.017507</td>\n",
       "      <td>0.241775</td>\n",
       "      <td>4.136071</td>\n",
       "    </tr>\n",
       "  </tbody>\n",
       "</table>\n",
       "<p>1000 rows × 5 columns</p>\n",
       "</div>"
      ],
      "text/plain": [
       "           W0    v0         y  propensity_score    weight\n",
       "0    0.216325  True  4.569764          0.569926  1.754612\n",
       "1    0.030281  True  5.406192          0.486495  2.055519\n",
       "2   -1.046454  True  4.364662          0.119598  8.361311\n",
       "3    1.613805  True  6.215746          0.942801  1.060670\n",
       "4    1.360722  True  5.098013          0.912600  1.095770\n",
       "..        ...   ...       ...               ...       ...\n",
       "995 -0.676737  True  4.341361          0.209268  4.778572\n",
       "996  1.819160  True  5.889055          0.959795  1.041889\n",
       "997  0.214163  True  6.186792          0.568970  1.757561\n",
       "998  0.051968  True  4.581237          0.496271  2.015026\n",
       "999 -0.573413  True  6.017507          0.241775  4.136071\n",
       "\n",
       "[1000 rows x 5 columns]"
      ]
     },
     "execution_count": 7,
     "metadata": {},
     "output_type": "execute_result"
    }
   ],
   "source": [
    "cdf_1"
   ]
  },
  {
   "cell_type": "markdown",
   "metadata": {},
   "source": [
    "## Comparing the estimate to Linear Regression\n",
    "First, estimating the effect using the causal data frame, and the 95% confidence interval."
   ]
  },
  {
   "cell_type": "code",
   "execution_count": 8,
   "metadata": {
    "execution": {
     "iopub.execute_input": "2024-11-21T18:42:42.415816Z",
     "iopub.status.busy": "2024-11-21T18:42:42.415473Z",
     "iopub.status.idle": "2024-11-21T18:42:42.462921Z",
     "shell.execute_reply": "2024-11-21T18:42:42.462322Z"
    }
   },
   "outputs": [
    {
     "data": {
      "image/png": "[encoded data removed]",
      "text/latex": [
       "$\\displaystyle 4.91285345627563$"
      ],
      "text/plain": [
       "4.912853456275631"
      ]
     },
     "execution_count": 8,
     "metadata": {},
     "output_type": "execute_result"
    }
   ],
   "source": [
    "(cdf_1['y'] - cdf_0['y']).mean()"
   ]
  },
  {
   "cell_type": "code",
   "execution_count": 9,
   "metadata": {
    "execution": {
     "iopub.execute_input": "2024-11-21T18:42:42.464721Z",
     "iopub.status.busy": "2024-11-21T18:42:42.464377Z",
     "iopub.status.idle": "2024-11-21T18:42:42.480007Z",
     "shell.execute_reply": "2024-11-21T18:42:42.479481Z"
    }
   },
   "outputs": [
    {
     "data": {
      "image/png": "[encoded data removed]",
      "text/latex": [
       "$\\displaystyle 0.0876695663912112$"
      ],
      "text/plain": [
       "0.08766956639121118"
      ]
     },
     "execution_count": 9,
     "metadata": {},
     "output_type": "execute_result"
    }
   ],
   "source": [
    "1.96*(cdf_1['y'] - cdf_0['y']).std() / np.sqrt(len(df))"
   ]
  },
  {
   "cell_type": "markdown",
   "metadata": {},
   "source": [
    "Comparing to the estimate from OLS."
   ]
  },
  {
   "cell_type": "code",
   "execution_count": 10,
   "metadata": {
    "execution": {
     "iopub.execute_input": "2024-11-21T18:42:42.481901Z",
     "iopub.status.busy": "2024-11-21T18:42:42.481466Z",
     "iopub.status.idle": "2024-11-21T18:42:42.498117Z",
     "shell.execute_reply": "2024-11-21T18:42:42.497651Z"
    }
   },
   "outputs": [
    {
     "data": {
      "text/html": [
       "<table class=\"simpletable\">\n",
       "<caption>OLS Regression Results</caption>\n",
       "<tr>\n",
       "  <th>Dep. Variable:</th>            <td>y</td>        <th>  R-squared (uncentered):</th>      <td>   0.896</td>\n",
       "</tr>\n",
       "<tr>\n",
       "  <th>Model:</th>                   <td>OLS</td>       <th>  Adj. R-squared (uncentered):</th> <td>   0.896</td>\n",
       "</tr>\n",
       "<tr>\n",
       "  <th>Method:</th>             <td>Least Squares</td>  <th>  F-statistic:       </th>          <td>   4309.</td>\n",
       "</tr>\n",
       "<tr>\n",
       "  <th>Date:</th>             <td>Thu, 21 Nov 2024</td> <th>  Prob (F-statistic):</th>           <td>  0.00</td> \n",
       "</tr>\n",
       "<tr>\n",
       "  <th>Time:</th>                 <td>18:42:42</td>     <th>  Log-Likelihood:    </th>          <td> -1385.0</td>\n",
       "</tr>\n",
       "<tr>\n",
       "  <th>No. Observations:</th>      <td>  1000</td>      <th>  AIC:               </th>          <td>   2774.</td>\n",
       "</tr>\n",
       "<tr>\n",
       "  <th>Df Residuals:</th>          <td>   998</td>      <th>  BIC:               </th>          <td>   2784.</td>\n",
       "</tr>\n",
       "<tr>\n",
       "  <th>Df Model:</th>              <td>     2</td>      <th>                     </th>              <td> </td>   \n",
       "</tr>\n",
       "<tr>\n",
       "  <th>Covariance Type:</th>      <td>nonrobust</td>    <th>                     </th>              <td> </td>   \n",
       "</tr>\n",
       "</table>\n",
       "<table class=\"simpletable\">\n",
       "<tr>\n",
       "   <td></td>     <th>coef</th>     <th>std err</th>      <th>t</th>      <th>P>|t|</th>  <th>[0.025</th>    <th>0.975]</th>  \n",
       "</tr>\n",
       "<tr>\n",
       "  <th>x1</th> <td>    0.2065</td> <td>    0.026</td> <td>    7.863</td> <td> 0.000</td> <td>    0.155</td> <td>    0.258</td>\n",
       "</tr>\n",
       "<tr>\n",
       "  <th>x2</th> <td>    4.9799</td> <td>    0.055</td> <td>   91.099</td> <td> 0.000</td> <td>    4.873</td> <td>    5.087</td>\n",
       "</tr>\n",
       "</table>\n",
       "<table class=\"simpletable\">\n",
       "<tr>\n",
       "  <th>Omnibus:</th>       <td> 2.207</td> <th>  Durbin-Watson:     </th> <td>   1.947</td>\n",
       "</tr>\n",
       "<tr>\n",
       "  <th>Prob(Omnibus):</th> <td> 0.332</td> <th>  Jarque-Bera (JB):  </th> <td>   2.064</td>\n",
       "</tr>\n",
       "<tr>\n",
       "  <th>Skew:</th>          <td> 0.098</td> <th>  Prob(JB):          </th> <td>   0.356</td>\n",
       "</tr>\n",
       "<tr>\n",
       "  <th>Kurtosis:</th>      <td> 3.104</td> <th>  Cond. No.          </th> <td>    2.10</td>\n",
       "</tr>\n",
       "</table><br/><br/>Notes:<br/>[1] R² is computed without centering (uncentered) since the model does not contain a constant.<br/>[2] Standard Errors assume that the covariance matrix of the errors is correctly specified."
      ],
      "text/latex": [
       "\\begin{center}\n",
       "\\begin{tabular}{lclc}\n",
       "\\toprule\n",
       "\\textbf{Dep. Variable:}    &        y         & \\textbf{  R-squared (uncentered):}      &     0.896   \\\\\n",
       "\\textbf{Model:}            &       OLS        & \\textbf{  Adj. R-squared (uncentered):} &     0.896   \\\\\n",
       "\\textbf{Method:}           &  Least Squares   & \\textbf{  F-statistic:       }          &     4309.   \\\\\n",
       "\\textbf{Date:}             & Thu, 21 Nov 2024 & \\textbf{  Prob (F-statistic):}          &     0.00    \\\\\n",
       "\\textbf{Time:}             &     18:42:42     & \\textbf{  Log-Likelihood:    }          &   -1385.0   \\\\\n",
       "\\textbf{No. Observations:} &        1000      & \\textbf{  AIC:               }          &     2774.   \\\\\n",
       "\\textbf{Df Residuals:}     &         998      & \\textbf{  BIC:               }          &     2784.   \\\\\n",
       "\\textbf{Df Model:}         &           2      & \\textbf{                     }          &             \\\\\n",
       "\\textbf{Covariance Type:}  &    nonrobust     & \\textbf{                     }          &             \\\\\n",
       "\\bottomrule\n",
       "\\end{tabular}\n",
       "\\begin{tabular}{lcccccc}\n",
       "            & \\textbf{coef} & \\textbf{std err} & \\textbf{t} & \\textbf{P$> |$t$|$} & \\textbf{[0.025} & \\textbf{0.975]}  \\\\\n",
       "\\midrule\n",
       "\\textbf{x1} &       0.2065  &        0.026     &     7.863  &         0.000        &        0.155    &        0.258     \\\\\n",
       "\\textbf{x2} &       4.9799  &        0.055     &    91.099  &         0.000        &        4.873    &        5.087     \\\\\n",
       "\\bottomrule\n",
       "\\end{tabular}\n",
       "\\begin{tabular}{lclc}\n",
       "\\textbf{Omnibus:}       &  2.207 & \\textbf{  Durbin-Watson:     } &    1.947  \\\\\n",
       "\\textbf{Prob(Omnibus):} &  0.332 & \\textbf{  Jarque-Bera (JB):  } &    2.064  \\\\\n",
       "\\textbf{Skew:}          &  0.098 & \\textbf{  Prob(JB):          } &    0.356  \\\\\n",
       "\\textbf{Kurtosis:}      &  3.104 & \\textbf{  Cond. No.          } &     2.10  \\\\\n",
       "\\bottomrule\n",
       "\\end{tabular}\n",
       "%\\caption{OLS Regression Results}\n",
       "\\end{center}\n",
       "\n",
       "Notes: \\newline\n",
       " [1] R² is computed without centering (uncentered) since the model does not contain a constant. \\newline\n",
       " [2] Standard Errors assume that the covariance matrix of the errors is correctly specified."
      ],
      "text/plain": [
       "<class 'statsmodels.iolib.summary.Summary'>\n",
       "\"\"\"\n",
       "                                 OLS Regression Results                                \n",
       "=======================================================================================\n",
       "Dep. Variable:                      y   R-squared (uncentered):                   0.896\n",
       "Model:                            OLS   Adj. R-squared (uncentered):              0.896\n",
       "Method:                 Least Squares   F-statistic:                              4309.\n",
       "Date:                Thu, 21 Nov 2024   Prob (F-statistic):                        0.00\n",
       "Time:                        18:42:42   Log-Likelihood:                         -1385.0\n",
       "No. Observations:                1000   AIC:                                      2774.\n",
       "Df Residuals:                     998   BIC:                                      2784.\n",
       "Df Model:                           2                                                  \n",
       "Covariance Type:            nonrobust                                                  \n",
       "==============================================================================\n",
       "                 coef    std err          t      P>|t|      [0.025      0.975]\n",
       "------------------------------------------------------------------------------\n",
       "x1             0.2065      0.026      7.863      0.000       0.155       0.258\n",
       "x2             4.9799      0.055     91.099      0.000       4.873       5.087\n",
       "==============================================================================\n",
       "Omnibus:                        2.207   Durbin-Watson:                   1.947\n",
       "Prob(Omnibus):                  0.332   Jarque-Bera (JB):                2.064\n",
       "Skew:                           0.098   Prob(JB):                        0.356\n",
       "Kurtosis:                       3.104   Cond. No.                         2.10\n",
       "==============================================================================\n",
       "\n",
       "Notes:\n",
       "[1] R² is computed without centering (uncentered) since the model does not contain a constant.\n",
       "[2] Standard Errors assume that the covariance matrix of the errors is correctly specified.\n",
       "\"\"\""
      ]
     },
     "execution_count": 10,
     "metadata": {},
     "output_type": "execute_result"
    }
   ],
   "source": [
    "model = OLS(np.asarray(df[outcome]), np.asarray(df[[common_cause, treatment]], dtype=np.float64))\n",
    "result = model.fit()\n",
    "result.summary()"
   ]
  }
 ],
 "metadata": {
  "kernelspec": {
   "display_name": "Python 3 (ipykernel)",
   "language": "python",
   "name": "python3"
  },
  "language_info": {
   "codemirror_mode": {
    "name": "ipython",
    "version": 3
   },
   "file_extension": ".py",
   "mimetype": "text/x-python",
   "name": "python",
   "nbconvert_exporter": "python",
   "pygments_lexer": "ipython3",
   "version": "3.8.10"
  },
  "toc": {
   "base_numbering": 1,
   "nav_menu": {},
   "number_sections": false,
   "sideBar": true,
   "skip_h1_title": true,
   "title_cell": "Table of Contents",
   "title_sidebar": "Contents",
   "toc_cell": false,
   "toc_position": {},
   "toc_section_display": true,
   "toc_window_display": false
  }
 },
 "nbformat": 4,
 "nbformat_minor": 4
}
