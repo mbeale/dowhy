{
 "cells": [
  {
   "cell_type": "markdown",
   "metadata": {},
   "source": [
    "# Demo for the DoWhy causal API\n",
    "We show a simple example of adding a causal extension to any dataframe. "
   ]
  },
  {
   "cell_type": "code",
   "execution_count": 1,
   "metadata": {
    "execution": {
     "iopub.execute_input": "2024-11-19T21:40:06.825439Z",
     "iopub.status.busy": "2024-11-19T21:40:06.825032Z",
     "iopub.status.idle": "2024-11-19T21:40:08.257945Z",
     "shell.execute_reply": "2024-11-19T21:40:08.257321Z"
    }
   },
   "outputs": [],
   "source": [
    "import dowhy.datasets\n",
    "import dowhy.api\n",
    "from dowhy.graph import build_graph_from_str\n",
    "\n",
    "import numpy as np\n",
    "import pandas as pd\n",
    "\n",
    "from statsmodels.api import OLS"
   ]
  },
  {
   "cell_type": "code",
   "execution_count": 2,
   "metadata": {
    "execution": {
     "iopub.execute_input": "2024-11-19T21:40:08.260305Z",
     "iopub.status.busy": "2024-11-19T21:40:08.259803Z",
     "iopub.status.idle": "2024-11-19T21:40:08.297500Z",
     "shell.execute_reply": "2024-11-19T21:40:08.296974Z"
    }
   },
   "outputs": [
    {
     "data": {
      "text/html": [
       "<div>\n",
       "<style scoped>\n",
       "    .dataframe tbody tr th:only-of-type {\n",
       "        vertical-align: middle;\n",
       "    }\n",
       "\n",
       "    .dataframe tbody tr th {\n",
       "        vertical-align: top;\n",
       "    }\n",
       "\n",
       "    .dataframe thead th {\n",
       "        text-align: right;\n",
       "    }\n",
       "</style>\n",
       "<table border=\"1\" class=\"dataframe\">\n",
       "  <thead>\n",
       "    <tr style=\"text-align: right;\">\n",
       "      <th></th>\n",
       "      <th>W0</th>\n",
       "      <th>v0</th>\n",
       "      <th>y</th>\n",
       "    </tr>\n",
       "  </thead>\n",
       "  <tbody>\n",
       "    <tr>\n",
       "      <th>0</th>\n",
       "      <td>0.469530</td>\n",
       "      <td>True</td>\n",
       "      <td>4.421235</td>\n",
       "    </tr>\n",
       "    <tr>\n",
       "      <th>1</th>\n",
       "      <td>0.364827</td>\n",
       "      <td>True</td>\n",
       "      <td>4.988880</td>\n",
       "    </tr>\n",
       "    <tr>\n",
       "      <th>2</th>\n",
       "      <td>-1.299932</td>\n",
       "      <td>False</td>\n",
       "      <td>-0.136156</td>\n",
       "    </tr>\n",
       "    <tr>\n",
       "      <th>3</th>\n",
       "      <td>0.067169</td>\n",
       "      <td>True</td>\n",
       "      <td>6.577852</td>\n",
       "    </tr>\n",
       "    <tr>\n",
       "      <th>4</th>\n",
       "      <td>-0.665454</td>\n",
       "      <td>False</td>\n",
       "      <td>-0.572987</td>\n",
       "    </tr>\n",
       "    <tr>\n",
       "      <th>...</th>\n",
       "      <td>...</td>\n",
       "      <td>...</td>\n",
       "      <td>...</td>\n",
       "    </tr>\n",
       "    <tr>\n",
       "      <th>995</th>\n",
       "      <td>-1.580433</td>\n",
       "      <td>False</td>\n",
       "      <td>-1.023226</td>\n",
       "    </tr>\n",
       "    <tr>\n",
       "      <th>996</th>\n",
       "      <td>0.356308</td>\n",
       "      <td>True</td>\n",
       "      <td>8.042280</td>\n",
       "    </tr>\n",
       "    <tr>\n",
       "      <th>997</th>\n",
       "      <td>1.344990</td>\n",
       "      <td>True</td>\n",
       "      <td>5.104946</td>\n",
       "    </tr>\n",
       "    <tr>\n",
       "      <th>998</th>\n",
       "      <td>-0.034052</td>\n",
       "      <td>False</td>\n",
       "      <td>1.609208</td>\n",
       "    </tr>\n",
       "    <tr>\n",
       "      <th>999</th>\n",
       "      <td>1.626778</td>\n",
       "      <td>True</td>\n",
       "      <td>6.762778</td>\n",
       "    </tr>\n",
       "  </tbody>\n",
       "</table>\n",
       "<p>1000 rows × 3 columns</p>\n",
       "</div>"
      ],
      "text/plain": [
       "           W0     v0         y\n",
       "0    0.469530   True  4.421235\n",
       "1    0.364827   True  4.988880\n",
       "2   -1.299932  False -0.136156\n",
       "3    0.067169   True  6.577852\n",
       "4   -0.665454  False -0.572987\n",
       "..        ...    ...       ...\n",
       "995 -1.580433  False -1.023226\n",
       "996  0.356308   True  8.042280\n",
       "997  1.344990   True  5.104946\n",
       "998 -0.034052  False  1.609208\n",
       "999  1.626778   True  6.762778\n",
       "\n",
       "[1000 rows x 3 columns]"
      ]
     },
     "execution_count": 2,
     "metadata": {},
     "output_type": "execute_result"
    }
   ],
   "source": [
    "data = dowhy.datasets.linear_dataset(beta=5,\n",
    "        num_common_causes=1,\n",
    "        num_instruments = 0,\n",
    "        num_samples=1000,\n",
    "        treatment_is_binary=True)\n",
    "df = data['df']\n",
    "df['y'] = df['y'] + np.random.normal(size=len(df)) # Adding noise to data. Without noise, the variance in Y|X, Z is zero, and mcmc fails.\n",
    "nx_graph = build_graph_from_str(data[\"dot_graph\"])\n",
    "\n",
    "treatment= data[\"treatment_name\"][0]\n",
    "outcome = data[\"outcome_name\"][0]\n",
    "common_cause = data[\"common_causes_names\"][0]\n",
    "df"
   ]
  },
  {
   "cell_type": "code",
   "execution_count": 3,
   "metadata": {
    "execution": {
     "iopub.execute_input": "2024-11-19T21:40:08.299274Z",
     "iopub.status.busy": "2024-11-19T21:40:08.298949Z",
     "iopub.status.idle": "2024-11-19T21:40:08.475267Z",
     "shell.execute_reply": "2024-11-19T21:40:08.474591Z"
    },
    "scrolled": true
   },
   "outputs": [
    {
     "data": {
      "text/plain": [
       "<Axes: xlabel='v0'>"
      ]
     },
     "execution_count": 3,
     "metadata": {},
     "output_type": "execute_result"
    },
    {
     "data": {
      "image/png": "[encoded data removed]",
      "text/plain": [
       "<Figure size 640x480 with 1 Axes>"
      ]
     },
     "metadata": {},
     "output_type": "display_data"
    }
   ],
   "source": [
    "# data['df'] is just a regular pandas.DataFrame\n",
    "df.causal.do(x=treatment,\n",
    "             variable_types={treatment: 'b', outcome: 'c', common_cause: 'c'},\n",
    "             outcome=outcome,\n",
    "             common_causes=[common_cause],\n",
    "            ).groupby(treatment).mean().plot(y=outcome, kind='bar')"
   ]
  },
  {
   "cell_type": "code",
   "execution_count": 4,
   "metadata": {
    "execution": {
     "iopub.execute_input": "2024-11-19T21:40:08.477295Z",
     "iopub.status.busy": "2024-11-19T21:40:08.477105Z",
     "iopub.status.idle": "2024-11-19T21:40:08.581974Z",
     "shell.execute_reply": "2024-11-19T21:40:08.581336Z"
    }
   },
   "outputs": [
    {
     "data": {
      "text/plain": [
       "<Axes: xlabel='v0'>"
      ]
     },
     "execution_count": 4,
     "metadata": {},
     "output_type": "execute_result"
    },
    {
     "data": {
      "image/png": "[encoded data removed]",
      "text/plain": [
       "<Figure size 640x480 with 1 Axes>"
      ]
     },
     "metadata": {},
     "output_type": "display_data"
    }
   ],
   "source": [
    "df.causal.do(x={treatment: 1}, \n",
    "              variable_types={treatment:'b', outcome: 'c', common_cause: 'c'}, \n",
    "              outcome=outcome,\n",
    "              method='weighting', \n",
    "              common_causes=[common_cause]\n",
    "              ).groupby(treatment).mean().plot(y=outcome, kind='bar')"
   ]
  },
  {
   "cell_type": "code",
   "execution_count": 5,
   "metadata": {
    "execution": {
     "iopub.execute_input": "2024-11-19T21:40:08.583962Z",
     "iopub.status.busy": "2024-11-19T21:40:08.583730Z",
     "iopub.status.idle": "2024-11-19T21:40:08.604975Z",
     "shell.execute_reply": "2024-11-19T21:40:08.604339Z"
    }
   },
   "outputs": [],
   "source": [
    "cdf_1 = df.causal.do(x={treatment: 1}, \n",
    "              variable_types={treatment: 'b', outcome: 'c', common_cause: 'c'}, \n",
    "              outcome=outcome, \n",
    "              graph=nx_graph\n",
    "              )\n",
    "\n",
    "cdf_0 = df.causal.do(x={treatment: 0}, \n",
    "              variable_types={treatment: 'b', outcome: 'c', common_cause: 'c'}, \n",
    "              outcome=outcome, \n",
    "              graph=nx_graph\n",
    "              )\n"
   ]
  },
  {
   "cell_type": "code",
   "execution_count": 6,
   "metadata": {
    "execution": {
     "iopub.execute_input": "2024-11-19T21:40:08.606795Z",
     "iopub.status.busy": "2024-11-19T21:40:08.606606Z",
     "iopub.status.idle": "2024-11-19T21:40:08.615606Z",
     "shell.execute_reply": "2024-11-19T21:40:08.615036Z"
    },
    "scrolled": true
   },
   "outputs": [
    {
     "data": {
      "text/html": [
       "<div>\n",
       "<style scoped>\n",
       "    .dataframe tbody tr th:only-of-type {\n",
       "        vertical-align: middle;\n",
       "    }\n",
       "\n",
       "    .dataframe tbody tr th {\n",
       "        vertical-align: top;\n",
       "    }\n",
       "\n",
       "    .dataframe thead th {\n",
       "        text-align: right;\n",
       "    }\n",
       "</style>\n",
       "<table border=\"1\" class=\"dataframe\">\n",
       "  <thead>\n",
       "    <tr style=\"text-align: right;\">\n",
       "      <th></th>\n",
       "      <th>W0</th>\n",
       "      <th>v0</th>\n",
       "      <th>y</th>\n",
       "      <th>propensity_score</th>\n",
       "      <th>weight</th>\n",
       "    </tr>\n",
       "  </thead>\n",
       "  <tbody>\n",
       "    <tr>\n",
       "      <th>0</th>\n",
       "      <td>-1.059417</td>\n",
       "      <td>False</td>\n",
       "      <td>-1.288756</td>\n",
       "      <td>0.873023</td>\n",
       "      <td>1.145446</td>\n",
       "    </tr>\n",
       "    <tr>\n",
       "      <th>1</th>\n",
       "      <td>-0.221926</td>\n",
       "      <td>False</td>\n",
       "      <td>0.363624</td>\n",
       "      <td>0.596721</td>\n",
       "      <td>1.675825</td>\n",
       "    </tr>\n",
       "    <tr>\n",
       "      <th>2</th>\n",
       "      <td>-0.909754</td>\n",
       "      <td>False</td>\n",
       "      <td>-1.997390</td>\n",
       "      <td>0.839355</td>\n",
       "      <td>1.191390</td>\n",
       "    </tr>\n",
       "    <tr>\n",
       "      <th>3</th>\n",
       "      <td>-1.800972</td>\n",
       "      <td>False</td>\n",
       "      <td>-2.197268</td>\n",
       "      <td>0.964019</td>\n",
       "      <td>1.037324</td>\n",
       "    </tr>\n",
       "    <tr>\n",
       "      <th>4</th>\n",
       "      <td>-0.688920</td>\n",
       "      <td>False</td>\n",
       "      <td>-0.284813</td>\n",
       "      <td>0.777020</td>\n",
       "      <td>1.286968</td>\n",
       "    </tr>\n",
       "    <tr>\n",
       "      <th>...</th>\n",
       "      <td>...</td>\n",
       "      <td>...</td>\n",
       "      <td>...</td>\n",
       "      <td>...</td>\n",
       "      <td>...</td>\n",
       "    </tr>\n",
       "    <tr>\n",
       "      <th>995</th>\n",
       "      <td>-0.924516</td>\n",
       "      <td>False</td>\n",
       "      <td>-1.678024</td>\n",
       "      <td>0.842973</td>\n",
       "      <td>1.186278</td>\n",
       "    </tr>\n",
       "    <tr>\n",
       "      <th>996</th>\n",
       "      <td>-0.118849</td>\n",
       "      <td>False</td>\n",
       "      <td>0.043284</td>\n",
       "      <td>0.550516</td>\n",
       "      <td>1.816478</td>\n",
       "    </tr>\n",
       "    <tr>\n",
       "      <th>997</th>\n",
       "      <td>-0.301086</td>\n",
       "      <td>False</td>\n",
       "      <td>1.506822</td>\n",
       "      <td>0.631118</td>\n",
       "      <td>1.584489</td>\n",
       "    </tr>\n",
       "    <tr>\n",
       "      <th>998</th>\n",
       "      <td>-0.933700</td>\n",
       "      <td>False</td>\n",
       "      <td>0.817418</td>\n",
       "      <td>0.845190</td>\n",
       "      <td>1.183166</td>\n",
       "    </tr>\n",
       "    <tr>\n",
       "      <th>999</th>\n",
       "      <td>-0.192433</td>\n",
       "      <td>False</td>\n",
       "      <td>-0.137944</td>\n",
       "      <td>0.583637</td>\n",
       "      <td>1.713393</td>\n",
       "    </tr>\n",
       "  </tbody>\n",
       "</table>\n",
       "<p>1000 rows × 5 columns</p>\n",
       "</div>"
      ],
      "text/plain": [
       "           W0     v0         y  propensity_score    weight\n",
       "0   -1.059417  False -1.288756          0.873023  1.145446\n",
       "1   -0.221926  False  0.363624          0.596721  1.675825\n",
       "2   -0.909754  False -1.997390          0.839355  1.191390\n",
       "3   -1.800972  False -2.197268          0.964019  1.037324\n",
       "4   -0.688920  False -0.284813          0.777020  1.286968\n",
       "..        ...    ...       ...               ...       ...\n",
       "995 -0.924516  False -1.678024          0.842973  1.186278\n",
       "996 -0.118849  False  0.043284          0.550516  1.816478\n",
       "997 -0.301086  False  1.506822          0.631118  1.584489\n",
       "998 -0.933700  False  0.817418          0.845190  1.183166\n",
       "999 -0.192433  False -0.137944          0.583637  1.713393\n",
       "\n",
       "[1000 rows x 5 columns]"
      ]
     },
     "execution_count": 6,
     "metadata": {},
     "output_type": "execute_result"
    }
   ],
   "source": [
    "cdf_0"
   ]
  },
  {
   "cell_type": "code",
   "execution_count": 7,
   "metadata": {
    "execution": {
     "iopub.execute_input": "2024-11-19T21:40:08.617318Z",
     "iopub.status.busy": "2024-11-19T21:40:08.617132Z",
     "iopub.status.idle": "2024-11-19T21:40:08.625775Z",
     "shell.execute_reply": "2024-11-19T21:40:08.625303Z"
    }
   },
   "outputs": [
    {
     "data": {
      "text/html": [
       "<div>\n",
       "<style scoped>\n",
       "    .dataframe tbody tr th:only-of-type {\n",
       "        vertical-align: middle;\n",
       "    }\n",
       "\n",
       "    .dataframe tbody tr th {\n",
       "        vertical-align: top;\n",
       "    }\n",
       "\n",
       "    .dataframe thead th {\n",
       "        text-align: right;\n",
       "    }\n",
       "</style>\n",
       "<table border=\"1\" class=\"dataframe\">\n",
       "  <thead>\n",
       "    <tr style=\"text-align: right;\">\n",
       "      <th></th>\n",
       "      <th>W0</th>\n",
       "      <th>v0</th>\n",
       "      <th>y</th>\n",
       "      <th>propensity_score</th>\n",
       "      <th>weight</th>\n",
       "    </tr>\n",
       "  </thead>\n",
       "  <tbody>\n",
       "    <tr>\n",
       "      <th>0</th>\n",
       "      <td>-0.583999</td>\n",
       "      <td>True</td>\n",
       "      <td>4.672944</td>\n",
       "      <td>0.258087</td>\n",
       "      <td>3.874669</td>\n",
       "    </tr>\n",
       "    <tr>\n",
       "      <th>1</th>\n",
       "      <td>-1.064691</td>\n",
       "      <td>True</td>\n",
       "      <td>5.285453</td>\n",
       "      <td>0.125909</td>\n",
       "      <td>7.942253</td>\n",
       "    </tr>\n",
       "    <tr>\n",
       "      <th>2</th>\n",
       "      <td>1.376796</td>\n",
       "      <td>True</td>\n",
       "      <td>6.800691</td>\n",
       "      <td>0.926937</td>\n",
       "      <td>1.078822</td>\n",
       "    </tr>\n",
       "    <tr>\n",
       "      <th>3</th>\n",
       "      <td>1.289307</td>\n",
       "      <td>True</td>\n",
       "      <td>5.667488</td>\n",
       "      <td>0.915297</td>\n",
       "      <td>1.092542</td>\n",
       "    </tr>\n",
       "    <tr>\n",
       "      <th>4</th>\n",
       "      <td>-1.284694</td>\n",
       "      <td>True</td>\n",
       "      <td>5.987281</td>\n",
       "      <td>0.087771</td>\n",
       "      <td>11.393263</td>\n",
       "    </tr>\n",
       "    <tr>\n",
       "      <th>...</th>\n",
       "      <td>...</td>\n",
       "      <td>...</td>\n",
       "      <td>...</td>\n",
       "      <td>...</td>\n",
       "      <td>...</td>\n",
       "    </tr>\n",
       "    <tr>\n",
       "      <th>995</th>\n",
       "      <td>-2.402446</td>\n",
       "      <td>True</td>\n",
       "      <td>2.674903</td>\n",
       "      <td>0.012233</td>\n",
       "      <td>81.749186</td>\n",
       "    </tr>\n",
       "    <tr>\n",
       "      <th>996</th>\n",
       "      <td>0.105011</td>\n",
       "      <td>True</td>\n",
       "      <td>5.960343</td>\n",
       "      <td>0.551776</td>\n",
       "      <td>1.812328</td>\n",
       "    </tr>\n",
       "    <tr>\n",
       "      <th>997</th>\n",
       "      <td>0.195031</td>\n",
       "      <td>True</td>\n",
       "      <td>5.677200</td>\n",
       "      <td>0.592176</td>\n",
       "      <td>1.688688</td>\n",
       "    </tr>\n",
       "    <tr>\n",
       "      <th>998</th>\n",
       "      <td>0.015102</td>\n",
       "      <td>True</td>\n",
       "      <td>3.493781</td>\n",
       "      <td>0.510733</td>\n",
       "      <td>1.957971</td>\n",
       "    </tr>\n",
       "    <tr>\n",
       "      <th>999</th>\n",
       "      <td>-1.633607</td>\n",
       "      <td>True</td>\n",
       "      <td>2.953503</td>\n",
       "      <td>0.048285</td>\n",
       "      <td>20.710247</td>\n",
       "    </tr>\n",
       "  </tbody>\n",
       "</table>\n",
       "<p>1000 rows × 5 columns</p>\n",
       "</div>"
      ],
      "text/plain": [
       "           W0    v0         y  propensity_score     weight\n",
       "0   -0.583999  True  4.672944          0.258087   3.874669\n",
       "1   -1.064691  True  5.285453          0.125909   7.942253\n",
       "2    1.376796  True  6.800691          0.926937   1.078822\n",
       "3    1.289307  True  5.667488          0.915297   1.092542\n",
       "4   -1.284694  True  5.987281          0.087771  11.393263\n",
       "..        ...   ...       ...               ...        ...\n",
       "995 -2.402446  True  2.674903          0.012233  81.749186\n",
       "996  0.105011  True  5.960343          0.551776   1.812328\n",
       "997  0.195031  True  5.677200          0.592176   1.688688\n",
       "998  0.015102  True  3.493781          0.510733   1.957971\n",
       "999 -1.633607  True  2.953503          0.048285  20.710247\n",
       "\n",
       "[1000 rows x 5 columns]"
      ]
     },
     "execution_count": 7,
     "metadata": {},
     "output_type": "execute_result"
    }
   ],
   "source": [
    "cdf_1"
   ]
  },
  {
   "cell_type": "markdown",
   "metadata": {},
   "source": [
    "## Comparing the estimate to Linear Regression\n",
    "First, estimating the effect using the causal data frame, and the 95% confidence interval."
   ]
  },
  {
   "cell_type": "code",
   "execution_count": 8,
   "metadata": {
    "execution": {
     "iopub.execute_input": "2024-11-19T21:40:08.627610Z",
     "iopub.status.busy": "2024-11-19T21:40:08.627262Z",
     "iopub.status.idle": "2024-11-19T21:40:08.673970Z",
     "shell.execute_reply": "2024-11-19T21:40:08.673432Z"
    }
   },
   "outputs": [
    {
     "data": {
      "image/png": "[encoded data removed]",
      "text/latex": [
       "$\\displaystyle 4.85933236171834$"
      ],
      "text/plain": [
       "4.8593323617183435"
      ]
     },
     "execution_count": 8,
     "metadata": {},
     "output_type": "execute_result"
    }
   ],
   "source": [
    "(cdf_1['y'] - cdf_0['y']).mean()"
   ]
  },
  {
   "cell_type": "code",
   "execution_count": 9,
   "metadata": {
    "execution": {
     "iopub.execute_input": "2024-11-19T21:40:08.675983Z",
     "iopub.status.busy": "2024-11-19T21:40:08.675592Z",
     "iopub.status.idle": "2024-11-19T21:40:08.691492Z",
     "shell.execute_reply": "2024-11-19T21:40:08.691021Z"
    }
   },
   "outputs": [
    {
     "data": {
      "image/png": "[encoded data removed]",
      "text/latex": [
       "$\\displaystyle 0.118357900827397$"
      ],
      "text/plain": [
       "0.11835790082739697"
      ]
     },
     "execution_count": 9,
     "metadata": {},
     "output_type": "execute_result"
    }
   ],
   "source": [
    "1.96*(cdf_1['y'] - cdf_0['y']).std() / np.sqrt(len(df))"
   ]
  },
  {
   "cell_type": "markdown",
   "metadata": {},
   "source": [
    "Comparing to the estimate from OLS."
   ]
  },
  {
   "cell_type": "code",
   "execution_count": 10,
   "metadata": {
    "execution": {
     "iopub.execute_input": "2024-11-19T21:40:08.693211Z",
     "iopub.status.busy": "2024-11-19T21:40:08.693039Z",
     "iopub.status.idle": "2024-11-19T21:40:08.710097Z",
     "shell.execute_reply": "2024-11-19T21:40:08.709470Z"
    }
   },
   "outputs": [
    {
     "data": {
      "text/html": [
       "<table class=\"simpletable\">\n",
       "<caption>OLS Regression Results</caption>\n",
       "<tr>\n",
       "  <th>Dep. Variable:</th>            <td>y</td>        <th>  R-squared (uncentered):</th>      <td>   0.905</td>\n",
       "</tr>\n",
       "<tr>\n",
       "  <th>Model:</th>                   <td>OLS</td>       <th>  Adj. R-squared (uncentered):</th> <td>   0.905</td>\n",
       "</tr>\n",
       "<tr>\n",
       "  <th>Method:</th>             <td>Least Squares</td>  <th>  F-statistic:       </th>          <td>   4743.</td>\n",
       "</tr>\n",
       "<tr>\n",
       "  <th>Date:</th>             <td>Tue, 19 Nov 2024</td> <th>  Prob (F-statistic):</th>           <td>  0.00</td> \n",
       "</tr>\n",
       "<tr>\n",
       "  <th>Time:</th>                 <td>21:40:08</td>     <th>  Log-Likelihood:    </th>          <td> -1472.7</td>\n",
       "</tr>\n",
       "<tr>\n",
       "  <th>No. Observations:</th>      <td>  1000</td>      <th>  AIC:               </th>          <td>   2949.</td>\n",
       "</tr>\n",
       "<tr>\n",
       "  <th>Df Residuals:</th>          <td>   998</td>      <th>  BIC:               </th>          <td>   2959.</td>\n",
       "</tr>\n",
       "<tr>\n",
       "  <th>Df Model:</th>              <td>     2</td>      <th>                     </th>              <td> </td>   \n",
       "</tr>\n",
       "<tr>\n",
       "  <th>Covariance Type:</th>      <td>nonrobust</td>    <th>                     </th>              <td> </td>   \n",
       "</tr>\n",
       "</table>\n",
       "<table class=\"simpletable\">\n",
       "<tr>\n",
       "   <td></td>     <th>coef</th>     <th>std err</th>      <th>t</th>      <th>P>|t|</th>  <th>[0.025</th>    <th>0.975]</th>  \n",
       "</tr>\n",
       "<tr>\n",
       "  <th>x1</th> <td>    0.7571</td> <td>    0.029</td> <td>   25.917</td> <td> 0.000</td> <td>    0.700</td> <td>    0.814</td>\n",
       "</tr>\n",
       "<tr>\n",
       "  <th>x2</th> <td>    5.0239</td> <td>    0.056</td> <td>   88.989</td> <td> 0.000</td> <td>    4.913</td> <td>    5.135</td>\n",
       "</tr>\n",
       "</table>\n",
       "<table class=\"simpletable\">\n",
       "<tr>\n",
       "  <th>Omnibus:</th>       <td> 3.544</td> <th>  Durbin-Watson:     </th> <td>   2.047</td>\n",
       "</tr>\n",
       "<tr>\n",
       "  <th>Prob(Omnibus):</th> <td> 0.170</td> <th>  Jarque-Bera (JB):  </th> <td>   3.410</td>\n",
       "</tr>\n",
       "<tr>\n",
       "  <th>Skew:</th>          <td> 0.137</td> <th>  Prob(JB):          </th> <td>   0.182</td>\n",
       "</tr>\n",
       "<tr>\n",
       "  <th>Kurtosis:</th>      <td> 3.084</td> <th>  Cond. No.          </th> <td>    1.97</td>\n",
       "</tr>\n",
       "</table><br/><br/>Notes:<br/>[1] R² is computed without centering (uncentered) since the model does not contain a constant.<br/>[2] Standard Errors assume that the covariance matrix of the errors is correctly specified."
      ],
      "text/latex": [
       "\\begin{center}\n",
       "\\begin{tabular}{lclc}\n",
       "\\toprule\n",
       "\\textbf{Dep. Variable:}    &        y         & \\textbf{  R-squared (uncentered):}      &     0.905   \\\\\n",
       "\\textbf{Model:}            &       OLS        & \\textbf{  Adj. R-squared (uncentered):} &     0.905   \\\\\n",
       "\\textbf{Method:}           &  Least Squares   & \\textbf{  F-statistic:       }          &     4743.   \\\\\n",
       "\\textbf{Date:}             & Tue, 19 Nov 2024 & \\textbf{  Prob (F-statistic):}          &     0.00    \\\\\n",
       "\\textbf{Time:}             &     21:40:08     & \\textbf{  Log-Likelihood:    }          &   -1472.7   \\\\\n",
       "\\textbf{No. Observations:} &        1000      & \\textbf{  AIC:               }          &     2949.   \\\\\n",
       "\\textbf{Df Residuals:}     &         998      & \\textbf{  BIC:               }          &     2959.   \\\\\n",
       "\\textbf{Df Model:}         &           2      & \\textbf{                     }          &             \\\\\n",
       "\\textbf{Covariance Type:}  &    nonrobust     & \\textbf{                     }          &             \\\\\n",
       "\\bottomrule\n",
       "\\end{tabular}\n",
       "\\begin{tabular}{lcccccc}\n",
       "            & \\textbf{coef} & \\textbf{std err} & \\textbf{t} & \\textbf{P$> |$t$|$} & \\textbf{[0.025} & \\textbf{0.975]}  \\\\\n",
       "\\midrule\n",
       "\\textbf{x1} &       0.7571  &        0.029     &    25.917  &         0.000        &        0.700    &        0.814     \\\\\n",
       "\\textbf{x2} &       5.0239  &        0.056     &    88.989  &         0.000        &        4.913    &        5.135     \\\\\n",
       "\\bottomrule\n",
       "\\end{tabular}\n",
       "\\begin{tabular}{lclc}\n",
       "\\textbf{Omnibus:}       &  3.544 & \\textbf{  Durbin-Watson:     } &    2.047  \\\\\n",
       "\\textbf{Prob(Omnibus):} &  0.170 & \\textbf{  Jarque-Bera (JB):  } &    3.410  \\\\\n",
       "\\textbf{Skew:}          &  0.137 & \\textbf{  Prob(JB):          } &    0.182  \\\\\n",
       "\\textbf{Kurtosis:}      &  3.084 & \\textbf{  Cond. No.          } &     1.97  \\\\\n",
       "\\bottomrule\n",
       "\\end{tabular}\n",
       "%\\caption{OLS Regression Results}\n",
       "\\end{center}\n",
       "\n",
       "Notes: \\newline\n",
       " [1] R² is computed without centering (uncentered) since the model does not contain a constant. \\newline\n",
       " [2] Standard Errors assume that the covariance matrix of the errors is correctly specified."
      ],
      "text/plain": [
       "<class 'statsmodels.iolib.summary.Summary'>\n",
       "\"\"\"\n",
       "                                 OLS Regression Results                                \n",
       "=======================================================================================\n",
       "Dep. Variable:                      y   R-squared (uncentered):                   0.905\n",
       "Model:                            OLS   Adj. R-squared (uncentered):              0.905\n",
       "Method:                 Least Squares   F-statistic:                              4743.\n",
       "Date:                Tue, 19 Nov 2024   Prob (F-statistic):                        0.00\n",
       "Time:                        21:40:08   Log-Likelihood:                         -1472.7\n",
       "No. Observations:                1000   AIC:                                      2949.\n",
       "Df Residuals:                     998   BIC:                                      2959.\n",
       "Df Model:                           2                                                  \n",
       "Covariance Type:            nonrobust                                                  \n",
       "==============================================================================\n",
       "                 coef    std err          t      P>|t|      [0.025      0.975]\n",
       "------------------------------------------------------------------------------\n",
       "x1             0.7571      0.029     25.917      0.000       0.700       0.814\n",
       "x2             5.0239      0.056     88.989      0.000       4.913       5.135\n",
       "==============================================================================\n",
       "Omnibus:                        3.544   Durbin-Watson:                   2.047\n",
       "Prob(Omnibus):                  0.170   Jarque-Bera (JB):                3.410\n",
       "Skew:                           0.137   Prob(JB):                        0.182\n",
       "Kurtosis:                       3.084   Cond. No.                         1.97\n",
       "==============================================================================\n",
       "\n",
       "Notes:\n",
       "[1] R² is computed without centering (uncentered) since the model does not contain a constant.\n",
       "[2] Standard Errors assume that the covariance matrix of the errors is correctly specified.\n",
       "\"\"\""
      ]
     },
     "execution_count": 10,
     "metadata": {},
     "output_type": "execute_result"
    }
   ],
   "source": [
    "model = OLS(np.asarray(df[outcome]), np.asarray(df[[common_cause, treatment]], dtype=np.float64))\n",
    "result = model.fit()\n",
    "result.summary()"
   ]
  }
 ],
 "metadata": {
  "kernelspec": {
   "display_name": "Python 3 (ipykernel)",
   "language": "python",
   "name": "python3"
  },
  "language_info": {
   "codemirror_mode": {
    "name": "ipython",
    "version": 3
   },
   "file_extension": ".py",
   "mimetype": "text/x-python",
   "name": "python",
   "nbconvert_exporter": "python",
   "pygments_lexer": "ipython3",
   "version": "3.8.10"
  },
  "toc": {
   "base_numbering": 1,
   "nav_menu": {},
   "number_sections": false,
   "sideBar": true,
   "skip_h1_title": true,
   "title_cell": "Table of Contents",
   "title_sidebar": "Contents",
   "toc_cell": false,
   "toc_position": {},
   "toc_section_display": true,
   "toc_window_display": false
  }
 },
 "nbformat": 4,
 "nbformat_minor": 4
}
