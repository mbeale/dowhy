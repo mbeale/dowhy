{
 "cells": [
  {
   "cell_type": "markdown",
   "id": "d1b60604",
   "metadata": {
    "tags": []
   },
   "source": [
    "# Causal attribution to sales growth and spend intervention"
   ]
  },
  {
   "cell_type": "markdown",
   "id": "6140025d-504e-4500-83cb-7b31643f546f",
   "metadata": {},
   "source": [
    "## The Scenario "
   ]
  },
  {
   "cell_type": "markdown",
   "id": "e1a090e0-b5da-4835-9cfe-9bf1e53aef4e",
   "metadata": {},
   "source": [
    "Suppose we have an advertiser selling products online. To promote sales, they give out discounts through price promotions, and advertise online through both display ads and sponsored ads in search results pages. To prepare for an upcoming business review, the advertiser compares 2024 and 2023 data and observes steady KPI growth such as sales, and product page views. However, the analytics team wonders what factors drive that growth, is it advertising, price promotion, or simply organic growth due to shopper trends? Answers to this question are key to understanding past growth. Furthermore, this advertiser wants actionable suggestions for business planning, such as spending on areas with higher returns on investment to double down next. <br> In the following scenario, we will use DoWhy two-fold: first to causally attribute KPI growth drivers properly, so the analytics team understands what fueled past growth in a data-driven way. Second, we conduct interventions based on causal impact estimates to derive incremental return on investment (iROI), so the advertiser can forecast future KPI growth with additional investment. These factors and KPIs are: \n",
    "* **dsp_spend**: Ad spend on Demand Side Platform (DSP) through display ads\n",
    "* **sp_spend**: Ad spend on search results pages to bump up product rankings for easy discovery \n",
    "* **discount**: Discounts given through price reductions\n",
    "* **special_shopping_event**: A binary variable indicating whether a shopping event hosted by the ecommerce platform took place, such as Black Friday or Cyber Monday \n",
    "* **other_shopping_event**: A binary variable indicating other shopping events off the ecommerce platform. It can be from the advertiser itself, or its advertising with other platforms. \n",
    "* **dpv**: Number of product detail page views\n",
    "* **sale**: Daily revenue on the focal ecommerce platform"
   ]
  },
  {
   "cell_type": "code",
   "execution_count": 1,
   "id": "671dc59b",
   "metadata": {
    "execution": {
     "iopub.execute_input": "2024-11-20T17:04:25.198524Z",
     "iopub.status.busy": "2024-11-20T17:04:25.198086Z",
     "iopub.status.idle": "2024-11-20T17:04:26.737061Z",
     "shell.execute_reply": "2024-11-20T17:04:26.736472Z"
    },
    "tags": []
   },
   "outputs": [],
   "source": [
    "import matplotlib.pyplot as plt\n",
    "import networkx as nx\n",
    "import numpy as np\n",
    "import pandas as pd\n",
    "from functools import partial\n",
    "from dowhy import gcm\n",
    "from dowhy.utils.plotting import plot\n",
    "\n",
    "from scipy import stats\n",
    "from statsmodels.stats.multitest import multipletests\n",
    "\n",
    "%matplotlib inline"
   ]
  },
  {
   "cell_type": "markdown",
   "id": "de1ed2e1",
   "metadata": {},
   "source": [
    "## 1. Explore the data\n",
    "\n",
    "First, let's load our data representing the spending, discounts, sale and other information for 2023 and 2024. Note that for this simulated data, we didn't change the distribution of price discounts over periods of comparison and shouldn't detect as such in the later attribution model. "
   ]
  },
  {
   "cell_type": "code",
   "execution_count": 2,
   "id": "81bc8978",
   "metadata": {
    "execution": {
     "iopub.execute_input": "2024-11-20T17:04:26.740024Z",
     "iopub.status.busy": "2024-11-20T17:04:26.739271Z",
     "iopub.status.idle": "2024-11-20T17:04:26.754494Z",
     "shell.execute_reply": "2024-11-20T17:04:26.753961Z"
    },
    "tags": []
   },
   "outputs": [
    {
     "data": {
      "text/html": [
       "<div>\n",
       "<style scoped>\n",
       "    .dataframe tbody tr th:only-of-type {\n",
       "        vertical-align: middle;\n",
       "    }\n",
       "\n",
       "    .dataframe tbody tr th {\n",
       "        vertical-align: top;\n",
       "    }\n",
       "\n",
       "    .dataframe thead th {\n",
       "        text-align: right;\n",
       "    }\n",
       "</style>\n",
       "<table border=\"1\" class=\"dataframe\">\n",
       "  <thead>\n",
       "    <tr style=\"text-align: right;\">\n",
       "      <th></th>\n",
       "      <th>dsp_spend</th>\n",
       "      <th>sp_spend</th>\n",
       "      <th>dpv</th>\n",
       "      <th>discount</th>\n",
       "      <th>sale</th>\n",
       "      <th>activity_date</th>\n",
       "      <th>year</th>\n",
       "      <th>quarter</th>\n",
       "      <th>month</th>\n",
       "      <th>special_shopping_event</th>\n",
       "      <th>other_shopping_event</th>\n",
       "    </tr>\n",
       "  </thead>\n",
       "  <tbody>\n",
       "    <tr>\n",
       "      <th>0</th>\n",
       "      <td>11864.799390</td>\n",
       "      <td>2609.702789</td>\n",
       "      <td>54954.823150</td>\n",
       "      <td>26167.824599</td>\n",
       "      <td>75554.406731</td>\n",
       "      <td>2023-01-01</td>\n",
       "      <td>2023</td>\n",
       "      <td>1</td>\n",
       "      <td>1</td>\n",
       "      <td>0</td>\n",
       "      <td>0</td>\n",
       "    </tr>\n",
       "    <tr>\n",
       "      <th>1</th>\n",
       "      <td>11084.057110</td>\n",
       "      <td>2568.540570</td>\n",
       "      <td>44907.063324</td>\n",
       "      <td>22340.009780</td>\n",
       "      <td>51372.313230</td>\n",
       "      <td>2023-01-02</td>\n",
       "      <td>2023</td>\n",
       "      <td>1</td>\n",
       "      <td>1</td>\n",
       "      <td>0</td>\n",
       "      <td>0</td>\n",
       "    </tr>\n",
       "    <tr>\n",
       "      <th>2</th>\n",
       "      <td>16680.850945</td>\n",
       "      <td>2847.576700</td>\n",
       "      <td>151643.912564</td>\n",
       "      <td>68301.747813</td>\n",
       "      <td>626394.881214</td>\n",
       "      <td>2023-01-03</td>\n",
       "      <td>2023</td>\n",
       "      <td>1</td>\n",
       "      <td>1</td>\n",
       "      <td>0</td>\n",
       "      <td>0</td>\n",
       "    </tr>\n",
       "    <tr>\n",
       "      <th>3</th>\n",
       "      <td>15473.576264</td>\n",
       "      <td>2788.515831</td>\n",
       "      <td>121173.343955</td>\n",
       "      <td>18906.050402</td>\n",
       "      <td>306000.226338</td>\n",
       "      <td>2023-01-04</td>\n",
       "      <td>2023</td>\n",
       "      <td>1</td>\n",
       "      <td>1</td>\n",
       "      <td>0</td>\n",
       "      <td>0</td>\n",
       "    </tr>\n",
       "    <tr>\n",
       "      <th>4</th>\n",
       "      <td>10308.414302</td>\n",
       "      <td>2523.591011</td>\n",
       "      <td>36234.267337</td>\n",
       "      <td>18198.689563</td>\n",
       "      <td>34571.260496</td>\n",
       "      <td>2023-01-05</td>\n",
       "      <td>2023</td>\n",
       "      <td>1</td>\n",
       "      <td>1</td>\n",
       "      <td>0</td>\n",
       "      <td>0</td>\n",
       "    </tr>\n",
       "  </tbody>\n",
       "</table>\n",
       "</div>"
      ],
      "text/plain": [
       "      dsp_spend     sp_spend            dpv      discount           sale  \\\n",
       "0  11864.799390  2609.702789   54954.823150  26167.824599   75554.406731   \n",
       "1  11084.057110  2568.540570   44907.063324  22340.009780   51372.313230   \n",
       "2  16680.850945  2847.576700  151643.912564  68301.747813  626394.881214   \n",
       "3  15473.576264  2788.515831  121173.343955  18906.050402  306000.226338   \n",
       "4  10308.414302  2523.591011   36234.267337  18198.689563   34571.260496   \n",
       "\n",
       "  activity_date  year  quarter  month  special_shopping_event  \\\n",
       "0    2023-01-01  2023        1      1                       0   \n",
       "1    2023-01-02  2023        1      1                       0   \n",
       "2    2023-01-03  2023        1      1                       0   \n",
       "3    2023-01-04  2023        1      1                       0   \n",
       "4    2023-01-05  2023        1      1                       0   \n",
       "\n",
       "   other_shopping_event  \n",
       "0                     0  \n",
       "1                     0  \n",
       "2                     0  \n",
       "3                     0  \n",
       "4                     0  "
      ]
     },
     "execution_count": 2,
     "metadata": {},
     "output_type": "execute_result"
    }
   ],
   "source": [
    "df = pd.read_csv('datasets/sale_attribution.csv', index_col=0)\n",
    "df.head()"
   ]
  },
  {
   "cell_type": "markdown",
   "id": "29af43df-4406-44ef-b44f-77d6cdaf1cc2",
   "metadata": {},
   "source": [
    "To causally attribute factors of interests to changes, we first need to define time periods for comparisons. "
   ]
  },
  {
   "cell_type": "code",
   "execution_count": 3,
   "id": "502a8f3f",
   "metadata": {
    "execution": {
     "iopub.execute_input": "2024-11-20T17:04:26.756380Z",
     "iopub.status.busy": "2024-11-20T17:04:26.756187Z",
     "iopub.status.idle": "2024-11-20T17:04:26.762950Z",
     "shell.execute_reply": "2024-11-20T17:04:26.762457Z"
    },
    "tags": []
   },
   "outputs": [],
   "source": [
    "def generate_new_old_dataframes(df, new_year, new_quarters, new_months, old_year, old_quarters, old_months):\n",
    "    # Filter new data based on year, quarters, and months\n",
    "    new_conditions = (df['year'] == new_year) & (df['quarter'].isin(new_quarters)) & (df['month'].isin(new_months))\n",
    "    df_new = df[new_conditions].copy()\n",
    "\n",
    "    # Filter old data based on year, quarters, and months\n",
    "    old_conditions = (df['year'] == old_year) & (df['quarter'].isin(old_quarters)) & (df['month'].isin(old_months))\n",
    "    df_old = df[old_conditions].copy()\n",
    "\n",
    "    return df_new, df_old\n",
    "\n",
    "df_new, df_old = generate_new_old_dataframes(df, new_year=2024, new_quarters=[1,2], new_months=[1,2,3,4,5,6], old_year=2023, old_quarters=[1,2], old_months=[1,2,3,4,5,6])"
   ]
  },
  {
   "cell_type": "markdown",
   "id": "5c3b2dfe",
   "metadata": {},
   "source": [
    "Then we define cumulative distribution functions to eyeball changes in metrics across two periods. Let's plot them:"
   ]
  },
  {
   "cell_type": "code",
   "execution_count": 4,
   "id": "cc8b8a7d",
   "metadata": {
    "execution": {
     "iopub.execute_input": "2024-11-20T17:04:26.764716Z",
     "iopub.status.busy": "2024-11-20T17:04:26.764534Z",
     "iopub.status.idle": "2024-11-20T17:04:26.770319Z",
     "shell.execute_reply": "2024-11-20T17:04:26.769838Z"
    },
    "tags": []
   },
   "outputs": [],
   "source": [
    "def plot_metric_distributions(df_new, df_old, metric_columns):\n",
    "    for metric_column in metric_columns:\n",
    "        fig, ax = plt.subplots()\n",
    "        \n",
    "        kde_new = stats.gaussian_kde(df_new[metric_column].dropna())\n",
    "        kde_old = stats.gaussian_kde(df_old[metric_column].dropna())\n",
    "        \n",
    "        x_range = np.linspace(\n",
    "            min(df_new[metric_column].min(), df_old[metric_column].min()),\n",
    "            max(df_new[metric_column].max(), df_old[metric_column].max()),\n",
    "            1000\n",
    "        )\n",
    "        ax.plot(x_range, kde_new(x_range), color='#FF6B6B', lw=2, label='After')\n",
    "        ax.plot(x_range, kde_old(x_range), color='#4ECDC4', lw=2, label='Before')\n",
    "        \n",
    "        ax.fill_between(x_range, kde_new(x_range), alpha=0.3, color='#FF6B6B')\n",
    "        ax.fill_between(x_range, kde_old(x_range), alpha=0.3, color='#4ECDC4')\n",
    "\n",
    "        ax.set_xlabel(metric_column)\n",
    "        ax.set_ylabel('Density')\n",
    "        ax.set_title(f'Comparison of {metric_column} distribution')\n",
    "\n",
    "        ax.spines['top'].set_visible(False)\n",
    "        ax.spines['right'].set_visible(False)\n",
    "    \n",
    "        ax.grid(True, linestyle='--', alpha=0.7)\n",
    "        ax.legend(fontsize=10)\n",
    "\n",
    "        plt.tight_layout()\n",
    "        plt.show()"
   ]
  },
  {
   "cell_type": "markdown",
   "id": "37904e2e-ae77-4a24-b5aa-a0769f6fe541",
   "metadata": {},
   "source": [
    "Here, we are interested in the 'dpv' and 'sale' variables."
   ]
  },
  {
   "cell_type": "code",
   "execution_count": 5,
   "id": "402264f5",
   "metadata": {
    "execution": {
     "iopub.execute_input": "2024-11-20T17:04:26.771979Z",
     "iopub.status.busy": "2024-11-20T17:04:26.771795Z",
     "iopub.status.idle": "2024-11-20T17:04:27.262334Z",
     "shell.execute_reply": "2024-11-20T17:04:27.261679Z"
    },
    "tags": []
   },
   "outputs": [
    {
     "data": {
      "image/png": "[encoded data removed]",
      "text/plain": [
       "<Figure size 640x480 with 1 Axes>"
      ]
     },
     "metadata": {},
     "output_type": "display_data"
    },
    {
     "data": {
      "image/png": "[encoded data removed]",
      "text/plain": [
       "<Figure size 640x480 with 1 Axes>"
      ]
     },
     "metadata": {},
     "output_type": "display_data"
    }
   ],
   "source": [
    "# Define KPI\n",
    "metric_columns = ['dpv', 'sale']  \n",
    "plot_metric_distributions(df_new, df_old, metric_columns)"
   ]
  },
  {
   "cell_type": "markdown",
   "id": "ddaecc17",
   "metadata": {},
   "source": [
    "We can further quantify the magnitude of changes by comparing mean, median and variance of both KPIs and potential drivers. "
   ]
  },
  {
   "cell_type": "code",
   "execution_count": 6,
   "id": "2e932e4c-af36-4083-ad78-036cd39433c2",
   "metadata": {
    "execution": {
     "iopub.execute_input": "2024-11-20T17:04:27.264328Z",
     "iopub.status.busy": "2024-11-20T17:04:27.264109Z",
     "iopub.status.idle": "2024-11-20T17:04:27.270110Z",
     "shell.execute_reply": "2024-11-20T17:04:27.269620Z"
    },
    "tags": []
   },
   "outputs": [],
   "source": [
    "def compare_metrics(df_new, df_old, metrics):\n",
    "    comparison_data = []\n",
    "\n",
    "    for metric in metrics:\n",
    "        try:\n",
    "            mean_old = df_old[metric].mean()\n",
    "            median_old = df_old[metric].median()\n",
    "            variance_old = df_old[metric].var()\n",
    "            \n",
    "            mean_new = df_new[metric].mean()\n",
    "            median_new = df_new[metric].median()\n",
    "            variance_new = df_new[metric].var()\n",
    "            \n",
    "            if mean_old == 0:\n",
    "                print(f\"Mean for {metric} in the old data is zero. Skipping mean change calculation.\")\n",
    "                mean_change = None\n",
    "            else:\n",
    "                mean_change = ((mean_new - mean_old) / mean_old) * 100\n",
    "\n",
    "            if median_old == 0:\n",
    "                print(f\"Median for {metric} in the old data is zero. Skipping median change calculation.\")\n",
    "                median_change = None\n",
    "            else:\n",
    "                median_change = ((median_new - median_old) / median_old) * 100\n",
    "\n",
    "            if variance_old == 0:\n",
    "                print(f\"Variance for {metric} in the old data is zero. Skipping variance change calculation.\")\n",
    "                variance_change = None\n",
    "            else:\n",
    "                variance_change = ((variance_new - variance_old) / variance_old) * 100\n",
    "            \n",
    "            comparison_data.append({\n",
    "                'Metric': metric,\n",
    "                'Δ mean': mean_change,\n",
    "                'Δ median': median_change,\n",
    "                'Δ variance': variance_change\n",
    "            })\n",
    "        except KeyError as e:\n",
    "            print(f\"Metric {metric} not found in one of the DataFrames: {e}\")\n",
    "            pass\n",
    "\n",
    "    comparison_df = pd.DataFrame(comparison_data)\n",
    "    return comparison_df"
   ]
  },
  {
   "cell_type": "markdown",
   "id": "c9e55350-6582-4baa-b707-f92f53e8f979",
   "metadata": {
    "tags": []
   },
   "source": [
    "For simplicity, below we assume KPIs are revenue (sale), and product views (DPV), with potential drivers including ad spend on demand side platform (dsp_spend) and search results (sp_spend), and price promotion (discount)."
   ]
  },
  {
   "cell_type": "code",
   "execution_count": 7,
   "id": "6ed87c2d-1766-4a22-89e5-72f5ebeaef75",
   "metadata": {
    "execution": {
     "iopub.execute_input": "2024-11-20T17:04:27.271747Z",
     "iopub.status.busy": "2024-11-20T17:04:27.271561Z",
     "iopub.status.idle": "2024-11-20T17:04:27.280268Z",
     "shell.execute_reply": "2024-11-20T17:04:27.279785Z"
    },
    "tags": []
   },
   "outputs": [
    {
     "name": "stdout",
     "output_type": "stream",
     "text": [
      "      Metric     Δ mean   Δ median  Δ variance\n",
      "0       sale   8.309379  56.847777  -98.588326\n",
      "1        dpv   8.843596  12.453083  -95.913214\n",
      "2  dsp_spend   6.387894   3.718354  -66.203836\n",
      "3   sp_spend  10.335289  10.013358  312.605493\n",
      "4   discount  -1.837933  32.438169  -99.570962\n"
     ]
    }
   ],
   "source": [
    "comparison_df = compare_metrics(df_new, df_old, ['sale', 'dpv', 'dsp_spend',  'sp_spend', 'discount'])\n",
    "print(comparison_df)"
   ]
  },
  {
   "cell_type": "markdown",
   "id": "1ffd24ec",
   "metadata": {},
   "source": [
    "## 2. Draw causal graph"
   ]
  },
  {
   "cell_type": "markdown",
   "id": "a26f4482",
   "metadata": {},
   "source": [
    "### 2.1.Set up basic causal graphs \n",
    "\n",
    "In the first step, we make use of our domain knowledge that all the ad investment and the shopping events can be potential causes of product page views and sale, but not vice versa. Further, detail page views can also lead to sales, regardless of ad investment. "
   ]
  },
  {
   "cell_type": "code",
   "execution_count": 8,
   "id": "6be2afc6",
   "metadata": {
    "execution": {
     "iopub.execute_input": "2024-11-20T17:04:27.281953Z",
     "iopub.status.busy": "2024-11-20T17:04:27.281767Z",
     "iopub.status.idle": "2024-11-20T17:04:27.285830Z",
     "shell.execute_reply": "2024-11-20T17:04:27.285335Z"
    },
    "tags": []
   },
   "outputs": [],
   "source": [
    "edges = []\n",
    "for col in df.columns:\n",
    "    if 'spend' in col:\n",
    "        edges.append((col, 'dpv'))\n",
    "        edges.append((col, 'sale'))\n",
    "edges.append(('special_shopping_event', 'dpv')) \n",
    "edges.append(('other_shopping_event', 'dpv'))\n",
    "edges.append(('special_shopping_event', 'sale')) \n",
    "edges.append(('other_shopping_event', 'sale'))\n",
    "edges.append(('discount', 'sale')) \n",
    "edges.append(('dpv', 'sale'))\n",
    "\n",
    "causal_graph = nx.DiGraph(edges)"
   ]
  },
  {
   "cell_type": "code",
   "execution_count": 9,
   "id": "bed7a9e2",
   "metadata": {
    "execution": {
     "iopub.execute_input": "2024-11-20T17:04:27.287385Z",
     "iopub.status.busy": "2024-11-20T17:04:27.287206Z",
     "iopub.status.idle": "2024-11-20T17:04:27.385055Z",
     "shell.execute_reply": "2024-11-20T17:04:27.384404Z"
    },
    "tags": []
   },
   "outputs": [
    {
     "data": {
      "image/png": "[encoded data removed]",
      "text/plain": [
       "<Figure size 640x480 with 1 Axes>"
      ]
     },
     "metadata": {},
     "output_type": "display_data"
    }
   ],
   "source": [
    "plot(causal_graph)"
   ]
  },
  {
   "cell_type": "markdown",
   "id": "96cf0a02",
   "metadata": {},
   "source": [
    "It is unlikely that all these edges are significant. Let's prune some potential causes in the next step. This is to have a more refined causal graph. i.e, closer to the truth. "
   ]
  },
  {
   "cell_type": "markdown",
   "id": "d3fd49f7",
   "metadata": {
    "tags": []
   },
   "source": [
    "### 2.2. Prune nodes and edges "
   ]
  },
  {
   "cell_type": "markdown",
   "id": "a66222c5",
   "metadata": {},
   "source": [
    "One way to prune insignificant causal connections is conducting causal minimality tests through statistical dependence tests. The causality minimality test rules out any parent-child edge ($X\\to Y$) for a node $Y$ if $Y$ is conditionally independent of $X$ given other parents of $Y$. If that is the case, node $X$ does not provide additional information on top of the other parents of $Y$. In layman's language, some ads may not provide incremental information in the presence of others. Thus, we can remove those edges of $X \\to Y$. Note that the test is adjusted for multihypothesis testing to guarantee a consistent false discovery rate."
   ]
  },
  {
   "cell_type": "code",
   "execution_count": 10,
   "id": "bb612e8e",
   "metadata": {
    "execution": {
     "iopub.execute_input": "2024-11-20T17:04:27.387193Z",
     "iopub.status.busy": "2024-11-20T17:04:27.386991Z",
     "iopub.status.idle": "2024-11-20T17:04:27.392377Z",
     "shell.execute_reply": "2024-11-20T17:04:27.391757Z"
    },
    "tags": []
   },
   "outputs": [],
   "source": [
    "def test_causal_minimality(graph, target, data, method='kernel', significance_level=0.10, fdr_control_method='fdr_bh'):\n",
    "    p_vals = []\n",
    "    all_parents = list(graph.predecessors(target))\n",
    "    for node in all_parents:\n",
    "        tmp_conditioning_set = list(all_parents)\n",
    "        tmp_conditioning_set.remove(node)\n",
    "        p_vals.append(gcm.independence_test(data[target].to_numpy(), data[node].to_numpy(), data[tmp_conditioning_set].to_numpy(), method=method))    \n",
    "        \n",
    "    if fdr_control_method is not None:\n",
    "        p_vals = multipletests(p_vals, significance_level, method=fdr_control_method)[1]\n",
    "        \n",
    "    nodes_above_threshold = []\n",
    "    nodes_below_threshold = []\n",
    "    for i, node in enumerate(all_parents):\n",
    "        if p_vals[i] < significance_level:\n",
    "            nodes_above_threshold.append(node)            \n",
    "        else:\n",
    "            nodes_below_threshold.append(node)\n",
    "            \n",
    "    print(\"Significant connection:\", [(n, target) for n in sorted(nodes_above_threshold)])\n",
    "    print(\"Insignificant connection:\", [(n, target) for n in sorted(nodes_below_threshold)])\n",
    "    \n",
    "    return sorted(nodes_below_threshold)"
   ]
  },
  {
   "cell_type": "markdown",
   "id": "d1ca09a1-9dd0-41fe-8884-576e510a2daf",
   "metadata": {
    "tags": []
   },
   "source": [
    "Then we remove insignificant edges and their associated nodes, resulting a refined causal graph. "
   ]
  },
  {
   "cell_type": "code",
   "execution_count": 11,
   "id": "a24b69ad",
   "metadata": {
    "execution": {
     "iopub.execute_input": "2024-11-20T17:04:27.394156Z",
     "iopub.status.busy": "2024-11-20T17:04:27.393971Z",
     "iopub.status.idle": "2024-11-20T17:04:33.825146Z",
     "shell.execute_reply": "2024-11-20T17:04:33.824461Z"
    },
    "tags": []
   },
   "outputs": [
    {
     "name": "stdout",
     "output_type": "stream",
     "text": [
      "Significant connection: [('discount', 'sale'), ('dpv', 'sale'), ('dsp_spend', 'sale'), ('sp_spend', 'sale')]\n",
      "Insignificant connection: [('other_shopping_event', 'sale'), ('special_shopping_event', 'sale')]\n"
     ]
    }
   ],
   "source": [
    "for insignificant_parent in test_causal_minimality(causal_graph, 'sale', df):\n",
    "    causal_graph.remove_edge(insignificant_parent, 'sale')\n",
    "\n",
    "cols_to_remove=[]\n",
    "cols_to_remove.extend([node for node in causal_graph.nodes if causal_graph.in_degree(node) + causal_graph.out_degree(node) == 0])"
   ]
  },
  {
   "cell_type": "code",
   "execution_count": 12,
   "id": "34b2eda5",
   "metadata": {
    "execution": {
     "iopub.execute_input": "2024-11-20T17:04:33.827280Z",
     "iopub.status.busy": "2024-11-20T17:04:33.826912Z",
     "iopub.status.idle": "2024-11-20T17:04:33.932641Z",
     "shell.execute_reply": "2024-11-20T17:04:33.931663Z"
    },
    "tags": []
   },
   "outputs": [
    {
     "data": {
      "image/png": "[encoded data removed]",
      "text/plain": [
       "<Figure size 640x480 with 1 Axes>"
      ]
     },
     "metadata": {},
     "output_type": "display_data"
    }
   ],
   "source": [
    "causal_graph.remove_nodes_from(cols_to_remove)\n",
    "plot(causal_graph)"
   ]
  },
  {
   "cell_type": "markdown",
   "id": "630fed0a",
   "metadata": {},
   "source": [
    "## 3. Fit causal graph "
   ]
  },
  {
   "cell_type": "markdown",
   "id": "4d7468ec",
   "metadata": {},
   "source": [
    "Next, we need to assign functional causal models (FCMs) to each node, which describe the data generation process from x to y with an error term. The auto assignment method compares different prediction models for each node and takes the one with the smallest error. The `quality` parameter controls the set of model types that are tested, where `BETTER` indicates some of the most common regression and classification models, such as trees, support vector regression etc. You can also use 'Good' which fits fewer models to speed up, or 'Best' that is computationally heavy. After assigning the models, we can fit them to the data:"
   ]
  },
  {
   "cell_type": "code",
   "execution_count": 13,
   "id": "ecc52227",
   "metadata": {
    "execution": {
     "iopub.execute_input": "2024-11-20T17:04:33.934804Z",
     "iopub.status.busy": "2024-11-20T17:04:33.934582Z",
     "iopub.status.idle": "2024-11-20T17:04:33.938797Z",
     "shell.execute_reply": "2024-11-20T17:04:33.938245Z"
    },
    "tags": []
   },
   "outputs": [],
   "source": [
    "causal_model = gcm.StructuralCausalModel(causal_graph)"
   ]
  },
  {
   "cell_type": "code",
   "execution_count": 14,
   "id": "36362ed7",
   "metadata": {
    "execution": {
     "iopub.execute_input": "2024-11-20T17:04:33.941916Z",
     "iopub.status.busy": "2024-11-20T17:04:33.940790Z",
     "iopub.status.idle": "2024-11-20T17:04:36.052279Z",
     "shell.execute_reply": "2024-11-20T17:04:36.051660Z"
    },
    "tags": []
   },
   "outputs": [
    {
     "name": "stdout",
     "output_type": "stream",
     "text": [
      "When using this auto assignment function, the given data is used to automatically assign a causal mechanism to each node. Note that causal mechanisms can also be customized and assigned manually.\n",
      "The following types of causal mechanisms are considered for the automatic selection:\n",
      "\n",
      "If root node:\n",
      "An empirical distribution, i.e., the distribution is represented by randomly sampling from the provided data. This provides a flexible and non-parametric way to model the marginal distribution and is valid for all types of data modalities.\n",
      "\n",
      "If non-root node and the data is continuous:\n",
      "Additive Noise Models (ANM) of the form X_i = f(PA_i) + N_i, where PA_i are the parents of X_i and the unobserved noise N_i is assumed to be independent of PA_i.To select the best model for f, different regression models are evaluated and the model with the smallest mean squared error is selected.Note that minimizing the mean squared error here is equivalent to selecting the best choice of an ANM.\n",
      "\n",
      "If non-root node and the data is discrete:\n",
      "Discrete Additive Noise Models have almost the same definition as non-discrete ANMs, but come with an additional constraint for f to only return discrete values.\n",
      "Note that 'discrete' here refers to numerical values with an order. If the data is categorical, consider representing them as strings to ensure proper model selection.\n",
      "\n",
      "If non-root node and the data is categorical:\n",
      "A functional causal model based on a classifier, i.e., X_i = f(PA_i, N_i).\n",
      "Here, N_i follows a uniform distribution on [0, 1] and is used to randomly sample a class (category) using the conditional probability distribution produced by a classification model.Here, different model classes are evaluated using the (negative) F1 score and the best performing model class is selected.\n",
      "\n",
      "In total, 7 nodes were analyzed:\n",
      "\n",
      "--- Node: dsp_spend\n",
      "Node dsp_spend is a root node. Therefore, assigning 'Empirical Distribution' to the node representing the marginal distribution.\n",
      "\n",
      "--- Node: sp_spend\n",
      "Node sp_spend is a root node. Therefore, assigning 'Empirical Distribution' to the node representing the marginal distribution.\n",
      "\n",
      "--- Node: special_shopping_event\n",
      "Node special_shopping_event is a root node. Therefore, assigning 'Empirical Distribution' to the node representing the marginal distribution.\n",
      "\n",
      "--- Node: other_shopping_event\n",
      "Node other_shopping_event is a root node. Therefore, assigning 'Empirical Distribution' to the node representing the marginal distribution.\n",
      "\n",
      "--- Node: discount\n",
      "Node discount is a root node. Therefore, assigning 'Empirical Distribution' to the node representing the marginal distribution.\n",
      "\n",
      "--- Node: dpv\n",
      "Node dpv is a non-root node with continuous data. Assigning 'AdditiveNoiseModel using ExtraTreesRegressor' to the node.\n",
      "This represents the causal relationship as dpv := f(dsp_spend,other_shopping_event,sp_spend,special_shopping_event) + N.\n",
      "For the model selection, the following models were evaluated on the mean squared error (MSE) metric:\n",
      "ExtraTreesRegressor: 130443393.61336176\n",
      "RandomForestRegressor: 143051169.83711126\n",
      "HistGradientBoostingRegressor: 176829610.66151512\n",
      "AdaBoostRegressor: 217857117.17475528\n",
      "KNeighborsRegressor: 350869178.4998277\n",
      "Pipeline(steps=[('polynomialfeatures', PolynomialFeatures(include_bias=False)),\n",
      "                ('linearregression', LinearRegression)]): 418113418.1489593\n",
      "RidgeCV: 539481324.8977517\n",
      "LinearRegression: 539481332.4193752\n",
      "LassoCV(max_iter=10000): 551300968.9697378\n",
      "SVR: 2906216668.198843\n",
      "\n",
      "--- Node: sale\n",
      "Node sale is a non-root node with continuous data. Assigning 'AdditiveNoiseModel using Pipeline' to the node.\n",
      "This represents the causal relationship as sale := f(discount,dpv,dsp_spend,sp_spend) + N.\n",
      "For the model selection, the following models were evaluated on the mean squared error (MSE) metric:\n",
      "Pipeline(steps=[('polynomialfeatures', PolynomialFeatures(include_bias=False)),\n",
      "                ('linearregression', LinearRegression)]): 3627999868.811174\n",
      "ExtraTreesRegressor: 4386228796.210071\n",
      "RandomForestRegressor: 5573549214.493292\n",
      "KNeighborsRegressor: 5940586200.80355\n",
      "AdaBoostRegressor: 7688622747.406969\n",
      "HistGradientBoostingRegressor: 8742719053.515667\n",
      "LinearRegression: 16238712520.528875\n",
      "RidgeCV: 16239284129.61257\n",
      "LassoCV(max_iter=10000): 16583200125.492346\n",
      "SVR: 134266358033.79985\n",
      "\n",
      "===Note===\n",
      "Note, based on the selected auto assignment quality, the set of evaluated models changes.\n",
      "For more insights toward the quality of the fitted graphical causal model, consider using the evaluate_causal_model function after fitting the causal mechanisms.\n"
     ]
    }
   ],
   "source": [
    "print(gcm.auto.assign_causal_mechanisms(causal_model, df, quality=gcm.auto.AssignmentQuality.BETTER))"
   ]
  },
  {
   "cell_type": "code",
   "execution_count": 15,
   "id": "ea648e8c",
   "metadata": {
    "execution": {
     "iopub.execute_input": "2024-11-20T17:04:36.054393Z",
     "iopub.status.busy": "2024-11-20T17:04:36.054038Z",
     "iopub.status.idle": "2024-11-20T17:04:36.160584Z",
     "shell.execute_reply": "2024-11-20T17:04:36.160011Z"
    },
    "tags": []
   },
   "outputs": [
    {
     "name": "stderr",
     "output_type": "stream",
     "text": [
      "\r",
      "Fitting causal models:   0%|          | 0/7 [00:00<?, ?it/s]"
     ]
    },
    {
     "name": "stderr",
     "output_type": "stream",
     "text": [
      "\r",
      "Fitting causal mechanism of node dsp_spend:   0%|          | 0/7 [00:00<?, ?it/s]"
     ]
    },
    {
     "name": "stderr",
     "output_type": "stream",
     "text": [
      "\r",
      "Fitting causal mechanism of node dpv:   0%|          | 0/7 [00:00<?, ?it/s]      "
     ]
    },
    {
     "name": "stderr",
     "output_type": "stream",
     "text": [
      "\r",
      "Fitting causal mechanism of node sale:   0%|          | 0/7 [00:00<?, ?it/s]"
     ]
    },
    {
     "name": "stderr",
     "output_type": "stream",
     "text": [
      "\r",
      "Fitting causal mechanism of node sp_spend:   0%|          | 0/7 [00:00<?, ?it/s]"
     ]
    },
    {
     "name": "stderr",
     "output_type": "stream",
     "text": [
      "\r",
      "Fitting causal mechanism of node special_shopping_event:   0%|          | 0/7 [00:00<?, ?it/s]"
     ]
    },
    {
     "name": "stderr",
     "output_type": "stream",
     "text": [
      "\r",
      "Fitting causal mechanism of node other_shopping_event:   0%|          | 0/7 [00:00<?, ?it/s]  "
     ]
    },
    {
     "name": "stderr",
     "output_type": "stream",
     "text": [
      "\r",
      "Fitting causal mechanism of node discount:   0%|          | 0/7 [00:00<?, ?it/s]            "
     ]
    },
    {
     "name": "stderr",
     "output_type": "stream",
     "text": [
      "\r",
      "Fitting causal mechanism of node discount: 100%|██████████| 7/7 [00:00<00:00, 69.90it/s]"
     ]
    },
    {
     "name": "stderr",
     "output_type": "stream",
     "text": [
      "\r",
      "Fitting causal mechanism of node discount: 100%|██████████| 7/7 [00:00<00:00, 69.52it/s]"
     ]
    },
    {
     "name": "stderr",
     "output_type": "stream",
     "text": [
      "\n"
     ]
    }
   ],
   "source": [
    "gcm.fit(causal_model, df)"
   ]
  },
  {
   "cell_type": "markdown",
   "id": "83d92578",
   "metadata": {},
   "source": [
    "## 4. Identify causal drivers for KPI changes "
   ]
  },
  {
   "cell_type": "markdown",
   "id": "202e06e5",
   "metadata": {},
   "source": [
    "To answer the question on drivers for past growth, we test if any of the potential drivers lead to KPI changes by comparing the data from 2023 and 2024. Below we quantify the contribution to changes in the mean of our KPI, but one can similarly estimate the contributions with respect to the median or variance etc. "
   ]
  },
  {
   "cell_type": "code",
   "execution_count": 16,
   "id": "70afd219-707f-4c73-a4fe-807920b78613",
   "metadata": {
    "execution": {
     "iopub.execute_input": "2024-11-20T17:04:36.162624Z",
     "iopub.status.busy": "2024-11-20T17:04:36.162294Z",
     "iopub.status.idle": "2024-11-20T17:04:57.189324Z",
     "shell.execute_reply": "2024-11-20T17:04:57.188678Z"
    },
    "tags": []
   },
   "outputs": [
    {
     "name": "stderr",
     "output_type": "stream",
     "text": [
      "\r",
      "Estimating bootstrap interval...:   0%|          | 0/10 [00:00<?, ?it/s]"
     ]
    },
    {
     "name": "stderr",
     "output_type": "stream",
     "text": [
      "\r",
      "Evaluating set functions...:   0%|          | 0/74 [00:00<?, ?it/s]"
     ]
    },
    {
     "name": "stderr",
     "output_type": "stream",
     "text": [
      "\r",
      "Evaluating set functions...:  11%|█         | 8/74 [00:00<00:00, 75.52it/s]"
     ]
    },
    {
     "name": "stderr",
     "output_type": "stream",
     "text": [
      "\r",
      "Evaluating set functions...:  22%|██▏       | 16/74 [00:00<00:01, 57.76it/s]"
     ]
    },
    {
     "name": "stderr",
     "output_type": "stream",
     "text": [
      "\r",
      "Evaluating set functions...:  32%|███▏      | 24/74 [00:00<00:00, 50.65it/s]"
     ]
    },
    {
     "name": "stderr",
     "output_type": "stream",
     "text": [
      "\r",
      "Evaluating set functions...:  43%|████▎     | 32/74 [00:00<00:00, 49.18it/s]"
     ]
    },
    {
     "name": "stderr",
     "output_type": "stream",
     "text": [
      "\r",
      "Evaluating set functions...:  54%|█████▍    | 40/74 [00:00<00:00, 50.42it/s]"
     ]
    },
    {
     "name": "stderr",
     "output_type": "stream",
     "text": [
      "\r",
      "Evaluating set functions...:  65%|██████▍   | 48/74 [00:00<00:00, 52.03it/s]"
     ]
    },
    {
     "name": "stderr",
     "output_type": "stream",
     "text": [
      "\r",
      "Evaluating set functions...:  76%|███████▌  | 56/74 [00:01<00:00, 51.26it/s]"
     ]
    },
    {
     "name": "stderr",
     "output_type": "stream",
     "text": [
      "\r",
      "Evaluating set functions...:  86%|████████▋ | 64/74 [00:01<00:00, 50.57it/s]"
     ]
    },
    {
     "name": "stderr",
     "output_type": "stream",
     "text": [
      "\r",
      "Evaluating set functions...:  97%|█████████▋| 72/74 [00:01<00:00, 50.78it/s]"
     ]
    },
    {
     "name": "stderr",
     "output_type": "stream",
     "text": [
      "\r",
      "Evaluating set functions...: 100%|██████████| 74/74 [00:01<00:00, 53.06it/s]"
     ]
    },
    {
     "name": "stderr",
     "output_type": "stream",
     "text": [
      "\n"
     ]
    },
    {
     "name": "stderr",
     "output_type": "stream",
     "text": [
      "\r",
      "Estimating bootstrap interval...:  10%|█         | 1/10 [00:02<00:19,  2.13s/it]"
     ]
    },
    {
     "name": "stderr",
     "output_type": "stream",
     "text": [
      "\r",
      "Evaluating set functions...:   0%|          | 0/72 [00:00<?, ?it/s]"
     ]
    },
    {
     "name": "stderr",
     "output_type": "stream",
     "text": [
      "\r",
      "Evaluating set functions...:  11%|█         | 8/72 [00:00<00:00, 78.29it/s]"
     ]
    },
    {
     "name": "stderr",
     "output_type": "stream",
     "text": [
      "\r",
      "Evaluating set functions...:  22%|██▏       | 16/72 [00:00<00:00, 62.12it/s]"
     ]
    },
    {
     "name": "stderr",
     "output_type": "stream",
     "text": [
      "\r",
      "Evaluating set functions...:  33%|███▎      | 24/72 [00:00<00:00, 53.82it/s]"
     ]
    },
    {
     "name": "stderr",
     "output_type": "stream",
     "text": [
      "\r",
      "Evaluating set functions...:  44%|████▍     | 32/72 [00:00<00:00, 52.45it/s]"
     ]
    },
    {
     "name": "stderr",
     "output_type": "stream",
     "text": [
      "\r",
      "Evaluating set functions...:  56%|█████▌    | 40/72 [00:00<00:00, 50.81it/s]"
     ]
    },
    {
     "name": "stderr",
     "output_type": "stream",
     "text": [
      "\r",
      "Evaluating set functions...:  67%|██████▋   | 48/72 [00:00<00:00, 50.86it/s]"
     ]
    },
    {
     "name": "stderr",
     "output_type": "stream",
     "text": [
      "\r",
      "Evaluating set functions...:  78%|███████▊  | 56/72 [00:01<00:00, 50.57it/s]"
     ]
    },
    {
     "name": "stderr",
     "output_type": "stream",
     "text": [
      "\r",
      "Evaluating set functions...:  89%|████████▉ | 64/72 [00:01<00:00, 51.72it/s]"
     ]
    },
    {
     "name": "stderr",
     "output_type": "stream",
     "text": [
      "\r",
      "Evaluating set functions...: 100%|██████████| 72/72 [00:01<00:00, 51.55it/s]"
     ]
    },
    {
     "name": "stderr",
     "output_type": "stream",
     "text": [
      "\r",
      "Evaluating set functions...: 100%|██████████| 72/72 [00:01<00:00, 52.63it/s]"
     ]
    },
    {
     "name": "stderr",
     "output_type": "stream",
     "text": [
      "\n"
     ]
    },
    {
     "name": "stderr",
     "output_type": "stream",
     "text": [
      "\r",
      "Estimating bootstrap interval...:  20%|██        | 2/10 [00:04<00:16,  2.06s/it]"
     ]
    },
    {
     "name": "stderr",
     "output_type": "stream",
     "text": [
      "\r",
      "Evaluating set functions...:   0%|          | 0/80 [00:00<?, ?it/s]"
     ]
    },
    {
     "name": "stderr",
     "output_type": "stream",
     "text": [
      "\r",
      "Evaluating set functions...:  10%|█         | 8/80 [00:00<00:01, 57.72it/s]"
     ]
    },
    {
     "name": "stderr",
     "output_type": "stream",
     "text": [
      "\r",
      "Evaluating set functions...:  20%|██        | 16/80 [00:00<00:01, 59.72it/s]"
     ]
    },
    {
     "name": "stderr",
     "output_type": "stream",
     "text": [
      "\r",
      "Evaluating set functions...:  30%|███       | 24/80 [00:00<00:00, 57.70it/s]"
     ]
    },
    {
     "name": "stderr",
     "output_type": "stream",
     "text": [
      "\r",
      "Evaluating set functions...:  40%|████      | 32/80 [00:00<00:00, 54.28it/s]"
     ]
    },
    {
     "name": "stderr",
     "output_type": "stream",
     "text": [
      "\r",
      "Evaluating set functions...:  50%|█████     | 40/80 [00:00<00:00, 54.90it/s]"
     ]
    },
    {
     "name": "stderr",
     "output_type": "stream",
     "text": [
      "\r",
      "Evaluating set functions...:  60%|██████    | 48/80 [00:00<00:00, 54.04it/s]"
     ]
    },
    {
     "name": "stderr",
     "output_type": "stream",
     "text": [
      "\r",
      "Evaluating set functions...:  70%|███████   | 56/80 [00:01<00:00, 51.82it/s]"
     ]
    },
    {
     "name": "stderr",
     "output_type": "stream",
     "text": [
      "\r",
      "Evaluating set functions...:  80%|████████  | 64/80 [00:01<00:00, 51.02it/s]"
     ]
    },
    {
     "name": "stderr",
     "output_type": "stream",
     "text": [
      "\r",
      "Evaluating set functions...:  90%|█████████ | 72/80 [00:01<00:00, 51.40it/s]"
     ]
    },
    {
     "name": "stderr",
     "output_type": "stream",
     "text": [
      "\r",
      "Evaluating set functions...: 100%|██████████| 80/80 [00:01<00:00, 51.26it/s]"
     ]
    },
    {
     "name": "stderr",
     "output_type": "stream",
     "text": [
      "\r",
      "Evaluating set functions...: 100%|██████████| 80/80 [00:01<00:00, 52.96it/s]"
     ]
    },
    {
     "name": "stderr",
     "output_type": "stream",
     "text": [
      "\n"
     ]
    },
    {
     "name": "stderr",
     "output_type": "stream",
     "text": [
      "\r",
      "Estimating bootstrap interval...:  30%|███       | 3/10 [00:06<00:14,  2.11s/it]"
     ]
    },
    {
     "name": "stderr",
     "output_type": "stream",
     "text": [
      "\r",
      "Evaluating set functions...:   0%|          | 0/71 [00:00<?, ?it/s]"
     ]
    },
    {
     "name": "stderr",
     "output_type": "stream",
     "text": [
      "\r",
      "Evaluating set functions...:  11%|█▏        | 8/71 [00:00<00:00, 66.02it/s]"
     ]
    },
    {
     "name": "stderr",
     "output_type": "stream",
     "text": [
      "\r",
      "Evaluating set functions...:  23%|██▎       | 16/71 [00:00<00:00, 72.39it/s]"
     ]
    },
    {
     "name": "stderr",
     "output_type": "stream",
     "text": [
      "\r",
      "Evaluating set functions...:  34%|███▍      | 24/71 [00:00<00:00, 56.34it/s]"
     ]
    },
    {
     "name": "stderr",
     "output_type": "stream",
     "text": [
      "\r",
      "Evaluating set functions...:  45%|████▌     | 32/71 [00:00<00:00, 53.13it/s]"
     ]
    },
    {
     "name": "stderr",
     "output_type": "stream",
     "text": [
      "\r",
      "Evaluating set functions...:  56%|█████▋    | 40/71 [00:00<00:00, 53.27it/s]"
     ]
    },
    {
     "name": "stderr",
     "output_type": "stream",
     "text": [
      "\r",
      "Evaluating set functions...:  68%|██████▊   | 48/71 [00:00<00:00, 53.52it/s]"
     ]
    },
    {
     "name": "stderr",
     "output_type": "stream",
     "text": [
      "\r",
      "Evaluating set functions...:  79%|███████▉  | 56/71 [00:01<00:00, 52.96it/s]"
     ]
    },
    {
     "name": "stderr",
     "output_type": "stream",
     "text": [
      "\r",
      "Evaluating set functions...:  90%|█████████ | 64/71 [00:01<00:00, 53.41it/s]"
     ]
    },
    {
     "name": "stderr",
     "output_type": "stream",
     "text": [
      "\r",
      "Evaluating set functions...: 100%|██████████| 71/71 [00:01<00:00, 60.80it/s]"
     ]
    },
    {
     "name": "stderr",
     "output_type": "stream",
     "text": [
      "\n"
     ]
    },
    {
     "name": "stderr",
     "output_type": "stream",
     "text": [
      "\r",
      "Estimating bootstrap interval...:  40%|████      | 4/10 [00:08<00:12,  2.10s/it]"
     ]
    },
    {
     "name": "stderr",
     "output_type": "stream",
     "text": [
      "\r",
      "Evaluating set functions...:   0%|          | 0/75 [00:00<?, ?it/s]"
     ]
    },
    {
     "name": "stderr",
     "output_type": "stream",
     "text": [
      "\r",
      "Evaluating set functions...:  21%|██▏       | 16/75 [00:00<00:00, 71.26it/s]"
     ]
    },
    {
     "name": "stderr",
     "output_type": "stream",
     "text": [
      "\r",
      "Evaluating set functions...:  32%|███▏      | 24/75 [00:00<00:00, 60.12it/s]"
     ]
    },
    {
     "name": "stderr",
     "output_type": "stream",
     "text": [
      "\r",
      "Evaluating set functions...:  43%|████▎     | 32/75 [00:00<00:00, 57.02it/s]"
     ]
    },
    {
     "name": "stderr",
     "output_type": "stream",
     "text": [
      "\r",
      "Evaluating set functions...:  53%|█████▎    | 40/75 [00:00<00:00, 56.91it/s]"
     ]
    },
    {
     "name": "stderr",
     "output_type": "stream",
     "text": [
      "\r",
      "Evaluating set functions...:  64%|██████▍   | 48/75 [00:00<00:00, 54.74it/s]"
     ]
    },
    {
     "name": "stderr",
     "output_type": "stream",
     "text": [
      "\r",
      "Evaluating set functions...:  75%|███████▍  | 56/75 [00:00<00:00, 53.17it/s]"
     ]
    },
    {
     "name": "stderr",
     "output_type": "stream",
     "text": [
      "\r",
      "Evaluating set functions...:  85%|████████▌ | 64/75 [00:01<00:00, 51.79it/s]"
     ]
    },
    {
     "name": "stderr",
     "output_type": "stream",
     "text": [
      "\r",
      "Evaluating set functions...:  96%|█████████▌| 72/75 [00:01<00:00, 49.99it/s]"
     ]
    },
    {
     "name": "stderr",
     "output_type": "stream",
     "text": [
      "\r",
      "Evaluating set functions...: 100%|██████████| 75/75 [00:01<00:00, 56.23it/s]"
     ]
    },
    {
     "name": "stderr",
     "output_type": "stream",
     "text": [
      "\n"
     ]
    },
    {
     "name": "stderr",
     "output_type": "stream",
     "text": [
      "\r",
      "Estimating bootstrap interval...:  50%|█████     | 5/10 [00:10<00:10,  2.11s/it]"
     ]
    },
    {
     "name": "stderr",
     "output_type": "stream",
     "text": [
      "\r",
      "Evaluating set functions...:   0%|          | 0/72 [00:00<?, ?it/s]"
     ]
    },
    {
     "name": "stderr",
     "output_type": "stream",
     "text": [
      "\r",
      "Evaluating set functions...:  11%|█         | 8/72 [00:00<00:01, 63.53it/s]"
     ]
    },
    {
     "name": "stderr",
     "output_type": "stream",
     "text": [
      "\r",
      "Evaluating set functions...:  22%|██▏       | 16/72 [00:00<00:00, 59.49it/s]"
     ]
    },
    {
     "name": "stderr",
     "output_type": "stream",
     "text": [
      "\r",
      "Evaluating set functions...:  33%|███▎      | 24/72 [00:00<00:00, 59.72it/s]"
     ]
    },
    {
     "name": "stderr",
     "output_type": "stream",
     "text": [
      "\r",
      "Evaluating set functions...:  44%|████▍     | 32/72 [00:00<00:00, 54.77it/s]"
     ]
    },
    {
     "name": "stderr",
     "output_type": "stream",
     "text": [
      "\r",
      "Evaluating set functions...:  56%|█████▌    | 40/72 [00:00<00:00, 52.17it/s]"
     ]
    },
    {
     "name": "stderr",
     "output_type": "stream",
     "text": [
      "\r",
      "Evaluating set functions...:  67%|██████▋   | 48/72 [00:00<00:00, 51.96it/s]"
     ]
    },
    {
     "name": "stderr",
     "output_type": "stream",
     "text": [
      "\r",
      "Evaluating set functions...:  78%|███████▊  | 56/72 [00:01<00:00, 47.73it/s]"
     ]
    },
    {
     "name": "stderr",
     "output_type": "stream",
     "text": [
      "\r",
      "Evaluating set functions...:  89%|████████▉ | 64/72 [00:01<00:00, 53.51it/s]"
     ]
    },
    {
     "name": "stderr",
     "output_type": "stream",
     "text": [
      "\r",
      "Evaluating set functions...: 100%|██████████| 72/72 [00:01<00:00, 53.06it/s]"
     ]
    },
    {
     "name": "stderr",
     "output_type": "stream",
     "text": [
      "\r",
      "Evaluating set functions...: 100%|██████████| 72/72 [00:01<00:00, 53.46it/s]"
     ]
    },
    {
     "name": "stderr",
     "output_type": "stream",
     "text": [
      "\n"
     ]
    },
    {
     "name": "stderr",
     "output_type": "stream",
     "text": [
      "\r",
      "Estimating bootstrap interval...:  60%|██████    | 6/10 [00:12<00:08,  2.07s/it]"
     ]
    },
    {
     "name": "stderr",
     "output_type": "stream",
     "text": [
      "\r",
      "Evaluating set functions...:   0%|          | 0/74 [00:00<?, ?it/s]"
     ]
    },
    {
     "name": "stderr",
     "output_type": "stream",
     "text": [
      "\r",
      "Evaluating set functions...:  22%|██▏       | 16/74 [00:00<00:00, 63.16it/s]"
     ]
    },
    {
     "name": "stderr",
     "output_type": "stream",
     "text": [
      "\r",
      "Evaluating set functions...:  32%|███▏      | 24/74 [00:00<00:00, 53.56it/s]"
     ]
    },
    {
     "name": "stderr",
     "output_type": "stream",
     "text": [
      "\r",
      "Evaluating set functions...:  43%|████▎     | 32/74 [00:00<00:00, 52.10it/s]"
     ]
    },
    {
     "name": "stderr",
     "output_type": "stream",
     "text": [
      "\r",
      "Evaluating set functions...:  54%|█████▍    | 40/74 [00:00<00:00, 50.35it/s]"
     ]
    },
    {
     "name": "stderr",
     "output_type": "stream",
     "text": [
      "\r",
      "Evaluating set functions...:  65%|██████▍   | 48/74 [00:00<00:00, 50.19it/s]"
     ]
    },
    {
     "name": "stderr",
     "output_type": "stream",
     "text": [
      "\r",
      "Evaluating set functions...:  76%|███████▌  | 56/74 [00:01<00:00, 48.46it/s]"
     ]
    },
    {
     "name": "stderr",
     "output_type": "stream",
     "text": [
      "\r",
      "Evaluating set functions...:  86%|████████▋ | 64/74 [00:01<00:00, 49.44it/s]"
     ]
    },
    {
     "name": "stderr",
     "output_type": "stream",
     "text": [
      "\r",
      "Evaluating set functions...:  97%|█████████▋| 72/74 [00:01<00:00, 50.48it/s]"
     ]
    },
    {
     "name": "stderr",
     "output_type": "stream",
     "text": [
      "\r",
      "Evaluating set functions...: 100%|██████████| 74/74 [00:01<00:00, 52.53it/s]"
     ]
    },
    {
     "name": "stderr",
     "output_type": "stream",
     "text": [
      "\n"
     ]
    },
    {
     "name": "stderr",
     "output_type": "stream",
     "text": [
      "\r",
      "Estimating bootstrap interval...:  70%|███████   | 7/10 [00:14<00:06,  2.09s/it]"
     ]
    },
    {
     "name": "stderr",
     "output_type": "stream",
     "text": [
      "\r",
      "Evaluating set functions...:   0%|          | 0/75 [00:00<?, ?it/s]"
     ]
    },
    {
     "name": "stderr",
     "output_type": "stream",
     "text": [
      "\r",
      "Evaluating set functions...:  21%|██▏       | 16/75 [00:00<00:00, 60.08it/s]"
     ]
    },
    {
     "name": "stderr",
     "output_type": "stream",
     "text": [
      "\r",
      "Evaluating set functions...:  32%|███▏      | 24/75 [00:00<00:00, 56.47it/s]"
     ]
    },
    {
     "name": "stderr",
     "output_type": "stream",
     "text": [
      "\r",
      "Evaluating set functions...:  43%|████▎     | 32/75 [00:00<00:00, 54.98it/s]"
     ]
    },
    {
     "name": "stderr",
     "output_type": "stream",
     "text": [
      "\r",
      "Evaluating set functions...:  53%|█████▎    | 40/75 [00:00<00:00, 52.97it/s]"
     ]
    },
    {
     "name": "stderr",
     "output_type": "stream",
     "text": [
      "\r",
      "Evaluating set functions...:  64%|██████▍   | 48/75 [00:00<00:00, 51.97it/s]"
     ]
    },
    {
     "name": "stderr",
     "output_type": "stream",
     "text": [
      "\r",
      "Evaluating set functions...:  75%|███████▍  | 56/75 [00:01<00:00, 52.29it/s]"
     ]
    },
    {
     "name": "stderr",
     "output_type": "stream",
     "text": [
      "\r",
      "Evaluating set functions...:  85%|████████▌ | 64/75 [00:01<00:00, 52.26it/s]"
     ]
    },
    {
     "name": "stderr",
     "output_type": "stream",
     "text": [
      "\r",
      "Evaluating set functions...:  96%|█████████▌| 72/75 [00:01<00:00, 52.44it/s]"
     ]
    },
    {
     "name": "stderr",
     "output_type": "stream",
     "text": [
      "\r",
      "Evaluating set functions...: 100%|██████████| 75/75 [00:01<00:00, 55.28it/s]"
     ]
    },
    {
     "name": "stderr",
     "output_type": "stream",
     "text": [
      "\n"
     ]
    },
    {
     "name": "stderr",
     "output_type": "stream",
     "text": [
      "\r",
      "Estimating bootstrap interval...:  80%|████████  | 8/10 [00:16<00:04,  2.09s/it]"
     ]
    },
    {
     "name": "stderr",
     "output_type": "stream",
     "text": [
      "\r",
      "Evaluating set functions...:   0%|          | 0/72 [00:00<?, ?it/s]"
     ]
    },
    {
     "name": "stderr",
     "output_type": "stream",
     "text": [
      "\r",
      "Evaluating set functions...:  11%|█         | 8/72 [00:00<00:00, 79.79it/s]"
     ]
    },
    {
     "name": "stderr",
     "output_type": "stream",
     "text": [
      "\r",
      "Evaluating set functions...:  22%|██▏       | 16/72 [00:00<00:00, 60.95it/s]"
     ]
    },
    {
     "name": "stderr",
     "output_type": "stream",
     "text": [
      "\r",
      "Evaluating set functions...:  33%|███▎      | 24/72 [00:00<00:00, 50.98it/s]"
     ]
    },
    {
     "name": "stderr",
     "output_type": "stream",
     "text": [
      "\r",
      "Evaluating set functions...:  44%|████▍     | 32/72 [00:00<00:00, 50.47it/s]"
     ]
    },
    {
     "name": "stderr",
     "output_type": "stream",
     "text": [
      "\r",
      "Evaluating set functions...:  56%|█████▌    | 40/72 [00:00<00:00, 50.60it/s]"
     ]
    },
    {
     "name": "stderr",
     "output_type": "stream",
     "text": [
      "\r",
      "Evaluating set functions...:  67%|██████▋   | 48/72 [00:00<00:00, 50.18it/s]"
     ]
    },
    {
     "name": "stderr",
     "output_type": "stream",
     "text": [
      "\r",
      "Evaluating set functions...:  78%|███████▊  | 56/72 [00:01<00:00, 50.52it/s]"
     ]
    },
    {
     "name": "stderr",
     "output_type": "stream",
     "text": [
      "\r",
      "Evaluating set functions...:  89%|████████▉ | 64/72 [00:01<00:00, 51.19it/s]"
     ]
    },
    {
     "name": "stderr",
     "output_type": "stream",
     "text": [
      "\r",
      "Evaluating set functions...: 100%|██████████| 72/72 [00:01<00:00, 51.55it/s]"
     ]
    },
    {
     "name": "stderr",
     "output_type": "stream",
     "text": [
      "\r",
      "Evaluating set functions...: 100%|██████████| 72/72 [00:01<00:00, 52.07it/s]"
     ]
    },
    {
     "name": "stderr",
     "output_type": "stream",
     "text": [
      "\n"
     ]
    },
    {
     "name": "stderr",
     "output_type": "stream",
     "text": [
      "\r",
      "Estimating bootstrap interval...:  90%|█████████ | 9/10 [00:18<00:02,  2.07s/it]"
     ]
    },
    {
     "name": "stderr",
     "output_type": "stream",
     "text": [
      "\r",
      "Evaluating set functions...:   0%|          | 0/82 [00:00<?, ?it/s]"
     ]
    },
    {
     "name": "stderr",
     "output_type": "stream",
     "text": [
      "\r",
      "Evaluating set functions...:  20%|█▉        | 16/82 [00:00<00:00, 67.80it/s]"
     ]
    },
    {
     "name": "stderr",
     "output_type": "stream",
     "text": [
      "\r",
      "Evaluating set functions...:  29%|██▉       | 24/82 [00:00<00:00, 59.28it/s]"
     ]
    },
    {
     "name": "stderr",
     "output_type": "stream",
     "text": [
      "\r",
      "Evaluating set functions...:  39%|███▉      | 32/82 [00:00<00:00, 57.20it/s]"
     ]
    },
    {
     "name": "stderr",
     "output_type": "stream",
     "text": [
      "\r",
      "Evaluating set functions...:  49%|████▉     | 40/82 [00:00<00:00, 55.66it/s]"
     ]
    },
    {
     "name": "stderr",
     "output_type": "stream",
     "text": [
      "\r",
      "Evaluating set functions...:  59%|█████▊    | 48/82 [00:00<00:00, 52.77it/s]"
     ]
    },
    {
     "name": "stderr",
     "output_type": "stream",
     "text": [
      "\r",
      "Evaluating set functions...:  68%|██████▊   | 56/82 [00:01<00:00, 52.26it/s]"
     ]
    },
    {
     "name": "stderr",
     "output_type": "stream",
     "text": [
      "\r",
      "Evaluating set functions...:  78%|███████▊  | 64/82 [00:01<00:00, 52.50it/s]"
     ]
    },
    {
     "name": "stderr",
     "output_type": "stream",
     "text": [
      "\r",
      "Evaluating set functions...:  88%|████████▊ | 72/82 [00:01<00:00, 51.05it/s]"
     ]
    },
    {
     "name": "stderr",
     "output_type": "stream",
     "text": [
      "\r",
      "Evaluating set functions...:  98%|█████████▊| 80/82 [00:01<00:00, 49.48it/s]"
     ]
    },
    {
     "name": "stderr",
     "output_type": "stream",
     "text": [
      "\r",
      "Evaluating set functions...: 100%|██████████| 82/82 [00:01<00:00, 54.33it/s]"
     ]
    },
    {
     "name": "stderr",
     "output_type": "stream",
     "text": [
      "\n"
     ]
    },
    {
     "name": "stderr",
     "output_type": "stream",
     "text": [
      "\r",
      "Estimating bootstrap interval...: 100%|██████████| 10/10 [00:20<00:00,  2.12s/it]"
     ]
    },
    {
     "name": "stderr",
     "output_type": "stream",
     "text": [
      "\r",
      "Estimating bootstrap interval...: 100%|██████████| 10/10 [00:20<00:00,  2.10s/it]"
     ]
    },
    {
     "name": "stderr",
     "output_type": "stream",
     "text": [
      "\n"
     ]
    }
   ],
   "source": [
    "def calculate_difference_estimation(causal_model, df_old, df_new, target_column, difference_estimation_func, num_samples=2000, confidence_level=0.90, num_bootstrap_resamples=10):\n",
    "\n",
    "    difference_contribs, uncertainty_contribs = gcm.confidence_intervals(\n",
    "        lambda : gcm.distribution_change(causal_model, \n",
    "                                          df_old, \n",
    "                                          df_new, \n",
    "                                          target_column, \n",
    "                                          num_samples=num_samples,\n",
    "                                          independence_test=lambda x, y: gcm.kernel_based(x.astype(float), y.astype(float)),\n",
    "                                          conditional_independence_test=lambda x, y, z: gcm.kernel_based(x.astype(float), y.astype(float), z.astype(float)),\n",
    "                                          difference_estimation_func=difference_estimation_func,\n",
    "                                          shapley_config=gcm.shapley.ShapleyConfig(approximation_method=gcm.shapley.ShapleyApproximationMethods.PERMUTATION, num_permutations=20)),\n",
    "        confidence_level=confidence_level,\n",
    "        num_bootstrap_resamples=num_bootstrap_resamples\n",
    "    )\n",
    "\n",
    "    return difference_contribs, uncertainty_contribs\n",
    "\n",
    "median_diff_contribs, median_diff_uncertainty = calculate_difference_estimation(causal_model, df_old, df_new, 'sale', lambda x1, x2: np.mean(x2) - np.mean(x1))"
   ]
  },
  {
   "cell_type": "markdown",
   "id": "18a8208a-2e1b-4048-a15b-56d8bd9e7768",
   "metadata": {},
   "source": [
    "Then we plot drivers' contribution to KPI changes visually, followed by a tabular format. "
   ]
  },
  {
   "cell_type": "code",
   "execution_count": 17,
   "id": "c7e42600",
   "metadata": {
    "execution": {
     "iopub.execute_input": "2024-11-20T17:04:57.191541Z",
     "iopub.status.busy": "2024-11-20T17:04:57.191073Z",
     "iopub.status.idle": "2024-11-20T17:04:57.305877Z",
     "shell.execute_reply": "2024-11-20T17:04:57.305234Z"
    },
    "tags": []
   },
   "outputs": [
    {
     "data": {
      "image/png": "[encoded data removed]",
      "text/plain": [
       "<Figure size 1000x500 with 1 Axes>"
      ]
     },
     "metadata": {},
     "output_type": "display_data"
    }
   ],
   "source": [
    "gcm.util.bar_plot(median_diff_contribs, median_diff_uncertainty, 'Contribution', figure_size=(10,5))"
   ]
  },
  {
   "cell_type": "code",
   "execution_count": 18,
   "id": "4cc6ac14",
   "metadata": {
    "execution": {
     "iopub.execute_input": "2024-11-20T17:04:57.307821Z",
     "iopub.status.busy": "2024-11-20T17:04:57.307619Z",
     "iopub.status.idle": "2024-11-20T17:04:57.317567Z",
     "shell.execute_reply": "2024-11-20T17:04:57.316955Z"
    },
    "tags": []
   },
   "outputs": [
    {
     "data": {
      "text/html": [
       "<div>\n",
       "<style scoped>\n",
       "    .dataframe tbody tr th:only-of-type {\n",
       "        vertical-align: middle;\n",
       "    }\n",
       "\n",
       "    .dataframe tbody tr th {\n",
       "        vertical-align: top;\n",
       "    }\n",
       "\n",
       "    .dataframe thead th {\n",
       "        text-align: right;\n",
       "    }\n",
       "</style>\n",
       "<table border=\"1\" class=\"dataframe\">\n",
       "  <thead>\n",
       "    <tr style=\"text-align: right;\">\n",
       "      <th></th>\n",
       "      <th>median</th>\n",
       "      <th>lb</th>\n",
       "      <th>ub</th>\n",
       "    </tr>\n",
       "    <tr>\n",
       "      <th>node</th>\n",
       "      <th></th>\n",
       "      <th></th>\n",
       "      <th></th>\n",
       "    </tr>\n",
       "  </thead>\n",
       "  <tbody>\n",
       "    <tr>\n",
       "      <th>discount</th>\n",
       "      <td>-7515.483351</td>\n",
       "      <td>-14952.843285</td>\n",
       "      <td>2959.258121</td>\n",
       "    </tr>\n",
       "    <tr>\n",
       "      <th>dpv</th>\n",
       "      <td>-78789.882711</td>\n",
       "      <td>-181402.022112</td>\n",
       "      <td>35395.733225</td>\n",
       "    </tr>\n",
       "    <tr>\n",
       "      <th>dsp_spend</th>\n",
       "      <td>-374259.767359</td>\n",
       "      <td>-450060.276189</td>\n",
       "      <td>-318537.802007</td>\n",
       "    </tr>\n",
       "    <tr>\n",
       "      <th>other_shopping_event</th>\n",
       "      <td>-1480.822131</td>\n",
       "      <td>-17105.694664</td>\n",
       "      <td>11476.614151</td>\n",
       "    </tr>\n",
       "    <tr>\n",
       "      <th>sale</th>\n",
       "      <td>-1479.009984</td>\n",
       "      <td>-169585.387327</td>\n",
       "      <td>158094.310015</td>\n",
       "    </tr>\n",
       "    <tr>\n",
       "      <th>sp_spend</th>\n",
       "      <td>770267.215245</td>\n",
       "      <td>599265.758318</td>\n",
       "      <td>910409.063811</td>\n",
       "    </tr>\n",
       "    <tr>\n",
       "      <th>special_shopping_event</th>\n",
       "      <td>9706.118395</td>\n",
       "      <td>-13134.161943</td>\n",
       "      <td>36857.601978</td>\n",
       "    </tr>\n",
       "  </tbody>\n",
       "</table>\n",
       "</div>"
      ],
      "text/plain": [
       "                               median             lb             ub\n",
       "node                                                               \n",
       "discount                 -7515.483351  -14952.843285    2959.258121\n",
       "dpv                     -78789.882711 -181402.022112   35395.733225\n",
       "dsp_spend              -374259.767359 -450060.276189 -318537.802007\n",
       "other_shopping_event     -1480.822131  -17105.694664   11476.614151\n",
       "sale                     -1479.009984 -169585.387327  158094.310015\n",
       "sp_spend                770267.215245  599265.758318  910409.063811\n",
       "special_shopping_event    9706.118395  -13134.161943   36857.601978"
      ]
     },
     "execution_count": 18,
     "metadata": {},
     "output_type": "execute_result"
    }
   ],
   "source": [
    "def show_tabular(median_contribs, uncertainty_contribs):\n",
    "    rows = []\n",
    "    for node, median_contrib in median_contribs.items():\n",
    "        rows.append(dict(node=node, median=median_contrib, lb=uncertainty_contribs[node][0], ub=uncertainty_contribs[node][1]))\n",
    "    df = pd.DataFrame(rows).set_index('node')\n",
    "    df.rename(columns=dict(median='median', lb='lb', ub='ub'), inplace=True)\n",
    "    return df\n",
    "    \n",
    "# show_tabular(median_contribs, uncertainty_contribs)\n",
    "result_df = pd.DataFrame(show_tabular(median_diff_contribs, median_diff_uncertainty))\n",
    "result_df"
   ]
  },
  {
   "cell_type": "markdown",
   "id": "d2ab2655-0d80-4112-8e65-1a27a3622b37",
   "metadata": {},
   "source": [
    "Here, we see that 'sp_spend' has the larges contrigution to the change in the mean of 'sale', while the 'discount', 'other_shopping_event' and 'special_shopping_event' has little to none contribution. This aligns with the way how the data was generated.\n",
    "\n",
    "Next, we remove all variables that have a 0 as part of their confidence interval or are negative, i.e., do not have a clear significant positive contribution:"
   ]
  },
  {
   "cell_type": "code",
   "execution_count": 19,
   "id": "85396307-7dee-4606-909b-b0c24900a7a9",
   "metadata": {
    "execution": {
     "iopub.execute_input": "2024-11-20T17:04:57.319404Z",
     "iopub.status.busy": "2024-11-20T17:04:57.319210Z",
     "iopub.status.idle": "2024-11-20T17:04:57.322914Z",
     "shell.execute_reply": "2024-11-20T17:04:57.322290Z"
    },
    "tags": []
   },
   "outputs": [],
   "source": [
    "def filter_significant_rows(result_df, direction, ub_col, lb_col):\n",
    "\n",
    "    if direction == 'positive':\n",
    "        significant_rows = result_df[(result_df[ub_col] > 0) & (result_df[lb_col] > 0)]\n",
    "    elif direction == 'negative':\n",
    "        significant_rows = result_df[(result_df[ub_col] < 0) & (result_df[lb_col] < 0)]\n",
    "    else:\n",
    "        raise ValueError(\"Invalid direction. Choose 'positive' or 'negative'.\")\n",
    "\n",
    "    return significant_rows"
   ]
  },
  {
   "cell_type": "code",
   "execution_count": 20,
   "id": "81e7ce4c-3a6e-49df-a636-5fd226f5dfd9",
   "metadata": {
    "execution": {
     "iopub.execute_input": "2024-11-20T17:04:57.324703Z",
     "iopub.status.busy": "2024-11-20T17:04:57.324513Z",
     "iopub.status.idle": "2024-11-20T17:04:57.330922Z",
     "shell.execute_reply": "2024-11-20T17:04:57.330504Z"
    },
    "tags": []
   },
   "outputs": [
    {
     "data": {
      "text/html": [
       "<div>\n",
       "<style scoped>\n",
       "    .dataframe tbody tr th:only-of-type {\n",
       "        vertical-align: middle;\n",
       "    }\n",
       "\n",
       "    .dataframe tbody tr th {\n",
       "        vertical-align: top;\n",
       "    }\n",
       "\n",
       "    .dataframe thead th {\n",
       "        text-align: right;\n",
       "    }\n",
       "</style>\n",
       "<table border=\"1\" class=\"dataframe\">\n",
       "  <thead>\n",
       "    <tr style=\"text-align: right;\">\n",
       "      <th></th>\n",
       "      <th>median</th>\n",
       "      <th>lb</th>\n",
       "      <th>ub</th>\n",
       "    </tr>\n",
       "    <tr>\n",
       "      <th>node</th>\n",
       "      <th></th>\n",
       "      <th></th>\n",
       "      <th></th>\n",
       "    </tr>\n",
       "  </thead>\n",
       "  <tbody>\n",
       "    <tr>\n",
       "      <th>sp_spend</th>\n",
       "      <td>770267.215245</td>\n",
       "      <td>599265.758318</td>\n",
       "      <td>910409.063811</td>\n",
       "    </tr>\n",
       "  </tbody>\n",
       "</table>\n",
       "</div>"
      ],
      "text/plain": [
       "                 median             lb             ub\n",
       "node                                                 \n",
       "sp_spend  770267.215245  599265.758318  910409.063811"
      ]
     },
     "execution_count": 20,
     "metadata": {},
     "output_type": "execute_result"
    }
   ],
   "source": [
    "positive_significant_rows = filter_significant_rows(result_df, 'positive', 'ub', 'lb')\n",
    "positive_significant_rows"
   ]
  },
  {
   "cell_type": "markdown",
   "id": "65649c3b-a290-49f3-af4b-5086dc9a156f",
   "metadata": {},
   "source": [
    "This tells us, 'dsp_spend' and 'sp_spend' had a significantly positive contribution to the shift in 'sale'."
   ]
  },
  {
   "cell_type": "markdown",
   "id": "221a3f07-f04c-4f0d-95bf-7cb0199b3e48",
   "metadata": {
    "tags": []
   },
   "source": [
    "## 5. Optimal intervention"
   ]
  },
  {
   "cell_type": "markdown",
   "id": "5908d58e-a928-4a85-9a72-2ec2a53fa3d0",
   "metadata": {},
   "source": [
    "Section 4 above helps us to understand drivers for past growth. Now, looking forward to business planning, we conduct interventions to understand incremental contributions to KPIs. Intuitively, the spend types resulting in higher returns should be doubled down on.  "
   ]
  },
  {
   "cell_type": "code",
   "execution_count": 21,
   "id": "b6bee9e7-ed99-4cbc-9c70-6b0552de4338",
   "metadata": {
    "execution": {
     "iopub.execute_input": "2024-11-20T17:04:57.332858Z",
     "iopub.status.busy": "2024-11-20T17:04:57.332671Z",
     "iopub.status.idle": "2024-11-20T17:04:57.342332Z",
     "shell.execute_reply": "2024-11-20T17:04:57.341847Z"
    },
    "tags": []
   },
   "outputs": [],
   "source": [
    "def intervention_influence(causal_model, target, data=None, step_size=1, non_interveneable_nodes=None, confidence_level=0.90, cap_value=None,  prints=False):\n",
    "    progress_bar_was_on = gcm.config.show_progress_bars\n",
    "\n",
    "    if progress_bar_was_on:\n",
    "        gcm.config.disable_progress_bars()\n",
    "    \n",
    "    causal_effects = {}\n",
    "    causal_effects_confidence_interval = {}\n",
    "    capped_effects = []\n",
    "\n",
    "    if non_interveneable_nodes is None:\n",
    "        non_interveneable_nodes = []\n",
    "    \n",
    "    for node in causal_model.graph.nodes:\n",
    "        if node in non_interveneable_nodes:\n",
    "            continue\n",
    "\n",
    "        # Define interventions\n",
    "        def intervention(x):\n",
    "            return x + step_size\n",
    "\n",
    "        def non_intervention(x):\n",
    "            return x\n",
    "            \n",
    "        interventions_alternative = {node: intervention}\n",
    "        interventions_reference = {node: non_intervention}\n",
    "\n",
    "        # Compute causal effects\n",
    "        if data is not None:\n",
    "            effect = gcm.confidence_intervals(\n",
    "                gcm.fit_and_compute(gcm.average_causal_effect,\n",
    "                                    causal_model,\n",
    "                                    auto_assign_quality=gcm.auto.AssignmentQuality.GOOD,\n",
    "                                    bootstrap_training_data=data,\n",
    "                                    target_node=target,\n",
    "                                    interventions_alternative=interventions_alternative,\n",
    "                                    interventions_reference=interventions_reference,\n",
    "                                    observed_data=data),\n",
    "                n_jobs=1,\n",
    "                num_bootstrap_resamples=10,\n",
    "                confidence_level=confidence_level)\n",
    "        else:\n",
    "            effect = gcm.confidence_intervals(\n",
    "                partial(gcm.average_causal_effect,\n",
    "                        causal_model=causal_model,\n",
    "                        target_node=target,\n",
    "                        interventions_alternative=interventions_alternative,\n",
    "                        interventions_reference=interventions_reference,\n",
    "                        observed_data=data,\n",
    "                        num_samples_to_draw=10000),\n",
    "                n_jobs=-1,\n",
    "                num_bootstrap_resamples=20,\n",
    "                confidence_level=confidence_level)\n",
    "\n",
    "\n",
    "        causal_effects[node] = effect[0][0]\n",
    "        causal_effects_confidence_interval[node] = effect[1].squeeze()\n",
    "        \n",
    "        # Apply capping constraint\n",
    "        if cap_value is not None and node.endswith('_spend'):\n",
    "            if causal_effects[node] > cap_value:\n",
    "                causal_effects[node] = cap_value\n",
    "                capped_effects.append(node)\n",
    "            elif causal_effects[node] < -cap_value:\n",
    "                causal_effects[node] = -cap_value\n",
    "                capped_effects.append(node)\n",
    "\n",
    "        # Apply non-negativity constraint\n",
    "        if  node.endswith('_spend') and causal_effects[node] < 0:\n",
    "            causal_effects[node] = 0\n",
    "            causal_effects_confidence_interval[node] = [np.nan, np.nan]\n",
    "\n",
    "    if progress_bar_was_on:\n",
    "        gcm.config.enable_progress_bars()\n",
    "\n",
    "    if prints:\n",
    "        for node in sorted(causal_effects, key=causal_effects.get, reverse=True):\n",
    "            if causal_effects[node] == 0:\n",
    "                print(f\"{'Increasing' if step_size > 0 else 'Decreasing'} {node} by {step_size} has no effect on {target}.\")\n",
    "            else:\n",
    "                print(f\"{'Increasing' if step_size > 0 else 'Decreasing'} {node} by {step_size} {'increases' if causal_effects[node] > 0 else 'decreases'} {target} \"\n",
    "                        f\"by around {causal_effects[node]} with a confidence interval ({confidence_level * 100}%) of {causal_effects_confidence_interval[node]}.\")\n",
    "\n",
    "    all_variables = list(causal_effects.keys())\n",
    "    all_causal_effects = [causal_effects[key] for key in all_variables]\n",
    "    all_lower_bounds = [causal_effects_confidence_interval[key][0] for key in all_variables]\n",
    "    all_upper_bounds = [causal_effects_confidence_interval[key][1] for key in all_variables]\n",
    "    result_df = pd.DataFrame({'Variable': all_variables, \n",
    "                              'Causal Effect': all_causal_effects, \n",
    "                              'Lower CI': all_lower_bounds, \n",
    "                              'Upper CI': all_upper_bounds},\n",
    "                             index = all_variables)\n",
    "    \n",
    "    return result_df"
   ]
  },
  {
   "cell_type": "code",
   "execution_count": 22,
   "id": "5c42552e-9349-4182-b404-eab91ab70a8f",
   "metadata": {
    "execution": {
     "iopub.execute_input": "2024-11-20T17:04:57.343949Z",
     "iopub.status.busy": "2024-11-20T17:04:57.343765Z",
     "iopub.status.idle": "2024-11-20T17:05:05.094226Z",
     "shell.execute_reply": "2024-11-20T17:05:05.093580Z"
    },
    "tags": []
   },
   "outputs": [
    {
     "name": "stdout",
     "output_type": "stream",
     "text": [
      "Increasing special_shopping_event by 1 increases sale by around 134.40983885613093 with a confidence interval (85.0%) of [-867.30116761  579.62296901].\n",
      "Increasing other_shopping_event by 1 increases sale by around 72.23299307618501 with a confidence interval (85.0%) of [-581.59285141 1063.75119356].\n",
      "Increasing dsp_spend by 1 increases sale by around 20 with a confidence interval (85.0%) of [-1015.54711436  1076.1571889 ].\n",
      "Increasing sp_spend by 1 increases sale by around 20 with a confidence interval (85.0%) of [-297.45200239  933.06298904].\n",
      "Increasing discount by 1 decreases sale by around -132.52580548184866 with a confidence interval (85.0%) of [-950.47129075  642.76403872].\n"
     ]
    },
    {
     "data": {
      "text/html": [
       "<div>\n",
       "<style scoped>\n",
       "    .dataframe tbody tr th:only-of-type {\n",
       "        vertical-align: middle;\n",
       "    }\n",
       "\n",
       "    .dataframe tbody tr th {\n",
       "        vertical-align: top;\n",
       "    }\n",
       "\n",
       "    .dataframe thead th {\n",
       "        text-align: right;\n",
       "    }\n",
       "</style>\n",
       "<table border=\"1\" class=\"dataframe\">\n",
       "  <thead>\n",
       "    <tr style=\"text-align: right;\">\n",
       "      <th></th>\n",
       "      <th>Variable</th>\n",
       "      <th>Causal Effect</th>\n",
       "      <th>Lower CI</th>\n",
       "      <th>Upper CI</th>\n",
       "    </tr>\n",
       "  </thead>\n",
       "  <tbody>\n",
       "    <tr>\n",
       "      <th>dsp_spend</th>\n",
       "      <td>dsp_spend</td>\n",
       "      <td>20.000000</td>\n",
       "      <td>-1015.547114</td>\n",
       "      <td>1076.157189</td>\n",
       "    </tr>\n",
       "    <tr>\n",
       "      <th>sp_spend</th>\n",
       "      <td>sp_spend</td>\n",
       "      <td>20.000000</td>\n",
       "      <td>-297.452002</td>\n",
       "      <td>933.062989</td>\n",
       "    </tr>\n",
       "    <tr>\n",
       "      <th>special_shopping_event</th>\n",
       "      <td>special_shopping_event</td>\n",
       "      <td>134.409839</td>\n",
       "      <td>-867.301168</td>\n",
       "      <td>579.622969</td>\n",
       "    </tr>\n",
       "    <tr>\n",
       "      <th>other_shopping_event</th>\n",
       "      <td>other_shopping_event</td>\n",
       "      <td>72.232993</td>\n",
       "      <td>-581.592851</td>\n",
       "      <td>1063.751194</td>\n",
       "    </tr>\n",
       "    <tr>\n",
       "      <th>discount</th>\n",
       "      <td>discount</td>\n",
       "      <td>-132.525805</td>\n",
       "      <td>-950.471291</td>\n",
       "      <td>642.764039</td>\n",
       "    </tr>\n",
       "  </tbody>\n",
       "</table>\n",
       "</div>"
      ],
      "text/plain": [
       "                                      Variable  Causal Effect     Lower CI  \\\n",
       "dsp_spend                            dsp_spend      20.000000 -1015.547114   \n",
       "sp_spend                              sp_spend      20.000000  -297.452002   \n",
       "special_shopping_event  special_shopping_event     134.409839  -867.301168   \n",
       "other_shopping_event      other_shopping_event      72.232993  -581.592851   \n",
       "discount                              discount    -132.525805  -950.471291   \n",
       "\n",
       "                           Upper CI  \n",
       "dsp_spend               1076.157189  \n",
       "sp_spend                 933.062989  \n",
       "special_shopping_event   579.622969  \n",
       "other_shopping_event    1063.751194  \n",
       "discount                 642.764039  "
      ]
     },
     "execution_count": 22,
     "metadata": {},
     "output_type": "execute_result"
    }
   ],
   "source": [
    "interv_result = intervention_influence(causal_model=causal_model, target='sale', non_interveneable_nodes=['dpv', 'sale'], confidence_level=0.85, cap_value=20, prints=True)\n",
    "interv_result"
   ]
  },
  {
   "cell_type": "markdown",
   "id": "8bce37de-ca68-42ce-aac1-6a86d7834320",
   "metadata": {},
   "source": [
    "We similarly filter to positively significant interventions, i.e., the spending with statistically significant positive returns.  Note that with capping, 'causal effect' may not fall between lower and upper CI. The interpretation is, for each dollar spent on one type of ad, we receive X amount in return, with X indicated in the 'Causal Effect' column. "
   ]
  },
  {
   "cell_type": "code",
   "execution_count": 23,
   "id": "f5f2e83a-3fed-4a75-9936-fd817153367a",
   "metadata": {
    "execution": {
     "iopub.execute_input": "2024-11-20T17:05:05.096480Z",
     "iopub.status.busy": "2024-11-20T17:05:05.096073Z",
     "iopub.status.idle": "2024-11-20T17:05:05.102281Z",
     "shell.execute_reply": "2024-11-20T17:05:05.101681Z"
    },
    "tags": []
   },
   "outputs": [
    {
     "data": {
      "text/html": [
       "<div>\n",
       "<style scoped>\n",
       "    .dataframe tbody tr th:only-of-type {\n",
       "        vertical-align: middle;\n",
       "    }\n",
       "\n",
       "    .dataframe tbody tr th {\n",
       "        vertical-align: top;\n",
       "    }\n",
       "\n",
       "    .dataframe thead th {\n",
       "        text-align: right;\n",
       "    }\n",
       "</style>\n",
       "<table border=\"1\" class=\"dataframe\">\n",
       "  <thead>\n",
       "    <tr style=\"text-align: right;\">\n",
       "      <th></th>\n",
       "      <th>Variable</th>\n",
       "      <th>Causal Effect</th>\n",
       "      <th>Lower CI</th>\n",
       "      <th>Upper CI</th>\n",
       "    </tr>\n",
       "  </thead>\n",
       "  <tbody>\n",
       "  </tbody>\n",
       "</table>\n",
       "</div>"
      ],
      "text/plain": [
       "Empty DataFrame\n",
       "Columns: [Variable, Causal Effect, Lower CI, Upper CI]\n",
       "Index: []"
      ]
     },
     "execution_count": 23,
     "metadata": {},
     "output_type": "execute_result"
    }
   ],
   "source": [
    "interv_result_v2= filter_significant_rows(interv_result, 'positive', 'Upper CI', 'Lower CI')\n",
    "interv_result_v2"
   ]
  },
  {
   "cell_type": "markdown",
   "id": "bb5a679d-b0c9-48c0-ba2d-9f9654491370",
   "metadata": {},
   "source": [
    "## Summary"
   ]
  },
  {
   "cell_type": "markdown",
   "id": "532c4ee0-9b9a-48c0-9e49-d7b093116bb9",
   "metadata": {},
   "source": [
    "This advertiser comes to us to understand what drove past growth. Starting with a causal graph drawn from domain knowledge, we refined the graph to prune unnecessary nodes and edges. Then we fit a causal attribution model in Section 4 to test which types of investment changes lead to KPI growth. We find that increases in both dsp_spend and sp_spend contribute to KPIs growth in 2024 vs. 2023. This conclusion helps the analytics team to understand root causes of past sales growth. Looking forward to future budget planning, we conducted interventions to understand incremental return on investment (iROI), and identify those types of spend way above $1 to double down on."
   ]
  }
 ],
 "metadata": {
  "kernelspec": {
   "display_name": "Python 3 (ipykernel)",
   "language": "python",
   "name": "python3"
  },
  "language_info": {
   "codemirror_mode": {
    "name": "ipython",
    "version": 3
   },
   "file_extension": ".py",
   "mimetype": "text/x-python",
   "name": "python",
   "nbconvert_exporter": "python",
   "pygments_lexer": "ipython3",
   "version": "3.8.10"
  }
 },
 "nbformat": 4,
 "nbformat_minor": 5
}
