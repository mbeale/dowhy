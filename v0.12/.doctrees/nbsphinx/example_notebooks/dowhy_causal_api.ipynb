{
 "cells": [
  {
   "cell_type": "markdown",
   "metadata": {},
   "source": [
    "# Demo for the DoWhy causal API\n",
    "We show a simple example of adding a causal extension to any dataframe. "
   ]
  },
  {
   "cell_type": "code",
   "execution_count": 1,
   "metadata": {
    "execution": {
     "iopub.execute_input": "2024-11-24T18:03:50.159145Z",
     "iopub.status.busy": "2024-11-24T18:03:50.158719Z",
     "iopub.status.idle": "2024-11-24T18:03:51.570153Z",
     "shell.execute_reply": "2024-11-24T18:03:51.569555Z"
    }
   },
   "outputs": [],
   "source": [
    "import dowhy.datasets\n",
    "import dowhy.api\n",
    "from dowhy.graph import build_graph_from_str\n",
    "\n",
    "import numpy as np\n",
    "import pandas as pd\n",
    "\n",
    "from statsmodels.api import OLS"
   ]
  },
  {
   "cell_type": "code",
   "execution_count": 2,
   "metadata": {
    "execution": {
     "iopub.execute_input": "2024-11-24T18:03:51.572574Z",
     "iopub.status.busy": "2024-11-24T18:03:51.572116Z",
     "iopub.status.idle": "2024-11-24T18:03:51.633792Z",
     "shell.execute_reply": "2024-11-24T18:03:51.633210Z"
    }
   },
   "outputs": [
    {
     "data": {
      "text/html": [
       "<div>\n",
       "<style scoped>\n",
       "    .dataframe tbody tr th:only-of-type {\n",
       "        vertical-align: middle;\n",
       "    }\n",
       "\n",
       "    .dataframe tbody tr th {\n",
       "        vertical-align: top;\n",
       "    }\n",
       "\n",
       "    .dataframe thead th {\n",
       "        text-align: right;\n",
       "    }\n",
       "</style>\n",
       "<table border=\"1\" class=\"dataframe\">\n",
       "  <thead>\n",
       "    <tr style=\"text-align: right;\">\n",
       "      <th></th>\n",
       "      <th>W0</th>\n",
       "      <th>v0</th>\n",
       "      <th>y</th>\n",
       "    </tr>\n",
       "  </thead>\n",
       "  <tbody>\n",
       "    <tr>\n",
       "      <th>0</th>\n",
       "      <td>0.037488</td>\n",
       "      <td>False</td>\n",
       "      <td>-0.174667</td>\n",
       "    </tr>\n",
       "    <tr>\n",
       "      <th>1</th>\n",
       "      <td>-0.523050</td>\n",
       "      <td>False</td>\n",
       "      <td>-1.292853</td>\n",
       "    </tr>\n",
       "    <tr>\n",
       "      <th>2</th>\n",
       "      <td>2.070420</td>\n",
       "      <td>True</td>\n",
       "      <td>9.443895</td>\n",
       "    </tr>\n",
       "    <tr>\n",
       "      <th>3</th>\n",
       "      <td>0.068183</td>\n",
       "      <td>False</td>\n",
       "      <td>1.113386</td>\n",
       "    </tr>\n",
       "    <tr>\n",
       "      <th>4</th>\n",
       "      <td>0.104074</td>\n",
       "      <td>True</td>\n",
       "      <td>5.843495</td>\n",
       "    </tr>\n",
       "    <tr>\n",
       "      <th>...</th>\n",
       "      <td>...</td>\n",
       "      <td>...</td>\n",
       "      <td>...</td>\n",
       "    </tr>\n",
       "    <tr>\n",
       "      <th>995</th>\n",
       "      <td>-0.265148</td>\n",
       "      <td>True</td>\n",
       "      <td>4.197523</td>\n",
       "    </tr>\n",
       "    <tr>\n",
       "      <th>996</th>\n",
       "      <td>-0.973204</td>\n",
       "      <td>False</td>\n",
       "      <td>-0.142424</td>\n",
       "    </tr>\n",
       "    <tr>\n",
       "      <th>997</th>\n",
       "      <td>-1.241690</td>\n",
       "      <td>False</td>\n",
       "      <td>-2.795862</td>\n",
       "    </tr>\n",
       "    <tr>\n",
       "      <th>998</th>\n",
       "      <td>-1.825721</td>\n",
       "      <td>False</td>\n",
       "      <td>-3.752621</td>\n",
       "    </tr>\n",
       "    <tr>\n",
       "      <th>999</th>\n",
       "      <td>-0.607617</td>\n",
       "      <td>True</td>\n",
       "      <td>2.775188</td>\n",
       "    </tr>\n",
       "  </tbody>\n",
       "</table>\n",
       "<p>1000 rows × 3 columns</p>\n",
       "</div>"
      ],
      "text/plain": [
       "           W0     v0         y\n",
       "0    0.037488  False -0.174667\n",
       "1   -0.523050  False -1.292853\n",
       "2    2.070420   True  9.443895\n",
       "3    0.068183  False  1.113386\n",
       "4    0.104074   True  5.843495\n",
       "..        ...    ...       ...\n",
       "995 -0.265148   True  4.197523\n",
       "996 -0.973204  False -0.142424\n",
       "997 -1.241690  False -2.795862\n",
       "998 -1.825721  False -3.752621\n",
       "999 -0.607617   True  2.775188\n",
       "\n",
       "[1000 rows x 3 columns]"
      ]
     },
     "execution_count": 2,
     "metadata": {},
     "output_type": "execute_result"
    }
   ],
   "source": [
    "data = dowhy.datasets.linear_dataset(beta=5,\n",
    "        num_common_causes=1,\n",
    "        num_instruments = 0,\n",
    "        num_samples=1000,\n",
    "        treatment_is_binary=True)\n",
    "df = data['df']\n",
    "df['y'] = df['y'] + np.random.normal(size=len(df)) # Adding noise to data. Without noise, the variance in Y|X, Z is zero, and mcmc fails.\n",
    "nx_graph = build_graph_from_str(data[\"dot_graph\"])\n",
    "\n",
    "treatment= data[\"treatment_name\"][0]\n",
    "outcome = data[\"outcome_name\"][0]\n",
    "common_cause = data[\"common_causes_names\"][0]\n",
    "df"
   ]
  },
  {
   "cell_type": "code",
   "execution_count": 3,
   "metadata": {
    "execution": {
     "iopub.execute_input": "2024-11-24T18:03:51.635559Z",
     "iopub.status.busy": "2024-11-24T18:03:51.635283Z",
     "iopub.status.idle": "2024-11-24T18:03:51.812301Z",
     "shell.execute_reply": "2024-11-24T18:03:51.811806Z"
    },
    "scrolled": true
   },
   "outputs": [
    {
     "data": {
      "text/plain": [
       "<Axes: xlabel='v0'>"
      ]
     },
     "execution_count": 3,
     "metadata": {},
     "output_type": "execute_result"
    },
    {
     "data": {
      "image/png": "[encoded data removed]",
      "text/plain": [
       "<Figure size 640x480 with 1 Axes>"
      ]
     },
     "metadata": {},
     "output_type": "display_data"
    }
   ],
   "source": [
    "# data['df'] is just a regular pandas.DataFrame\n",
    "df.causal.do(x=treatment,\n",
    "             variable_types={treatment: 'b', outcome: 'c', common_cause: 'c'},\n",
    "             outcome=outcome,\n",
    "             common_causes=[common_cause],\n",
    "            ).groupby(treatment).mean().plot(y=outcome, kind='bar')"
   ]
  },
  {
   "cell_type": "code",
   "execution_count": 4,
   "metadata": {
    "execution": {
     "iopub.execute_input": "2024-11-24T18:03:51.814287Z",
     "iopub.status.busy": "2024-11-24T18:03:51.813926Z",
     "iopub.status.idle": "2024-11-24T18:03:51.945323Z",
     "shell.execute_reply": "2024-11-24T18:03:51.944709Z"
    }
   },
   "outputs": [
    {
     "data": {
      "text/plain": [
       "<Axes: xlabel='v0'>"
      ]
     },
     "execution_count": 4,
     "metadata": {},
     "output_type": "execute_result"
    },
    {
     "data": {
      "image/png": "[encoded data removed]",
      "text/plain": [
       "<Figure size 640x480 with 1 Axes>"
      ]
     },
     "metadata": {},
     "output_type": "display_data"
    }
   ],
   "source": [
    "df.causal.do(x={treatment: 1}, \n",
    "              variable_types={treatment:'b', outcome: 'c', common_cause: 'c'}, \n",
    "              outcome=outcome,\n",
    "              method='weighting', \n",
    "              common_causes=[common_cause]\n",
    "              ).groupby(treatment).mean().plot(y=outcome, kind='bar')"
   ]
  },
  {
   "cell_type": "code",
   "execution_count": 5,
   "metadata": {
    "execution": {
     "iopub.execute_input": "2024-11-24T18:03:51.948668Z",
     "iopub.status.busy": "2024-11-24T18:03:51.948147Z",
     "iopub.status.idle": "2024-11-24T18:03:51.968304Z",
     "shell.execute_reply": "2024-11-24T18:03:51.967840Z"
    }
   },
   "outputs": [],
   "source": [
    "cdf_1 = df.causal.do(x={treatment: 1}, \n",
    "              variable_types={treatment: 'b', outcome: 'c', common_cause: 'c'}, \n",
    "              outcome=outcome, \n",
    "              graph=nx_graph\n",
    "              )\n",
    "\n",
    "cdf_0 = df.causal.do(x={treatment: 0}, \n",
    "              variable_types={treatment: 'b', outcome: 'c', common_cause: 'c'}, \n",
    "              outcome=outcome, \n",
    "              graph=nx_graph\n",
    "              )\n"
   ]
  },
  {
   "cell_type": "code",
   "execution_count": 6,
   "metadata": {
    "execution": {
     "iopub.execute_input": "2024-11-24T18:03:51.970218Z",
     "iopub.status.busy": "2024-11-24T18:03:51.969778Z",
     "iopub.status.idle": "2024-11-24T18:03:51.978152Z",
     "shell.execute_reply": "2024-11-24T18:03:51.977635Z"
    },
    "scrolled": true
   },
   "outputs": [
    {
     "data": {
      "text/html": [
       "<div>\n",
       "<style scoped>\n",
       "    .dataframe tbody tr th:only-of-type {\n",
       "        vertical-align: middle;\n",
       "    }\n",
       "\n",
       "    .dataframe tbody tr th {\n",
       "        vertical-align: top;\n",
       "    }\n",
       "\n",
       "    .dataframe thead th {\n",
       "        text-align: right;\n",
       "    }\n",
       "</style>\n",
       "<table border=\"1\" class=\"dataframe\">\n",
       "  <thead>\n",
       "    <tr style=\"text-align: right;\">\n",
       "      <th></th>\n",
       "      <th>W0</th>\n",
       "      <th>v0</th>\n",
       "      <th>y</th>\n",
       "      <th>propensity_score</th>\n",
       "      <th>weight</th>\n",
       "    </tr>\n",
       "  </thead>\n",
       "  <tbody>\n",
       "    <tr>\n",
       "      <th>0</th>\n",
       "      <td>-0.713942</td>\n",
       "      <td>False</td>\n",
       "      <td>-0.832839</td>\n",
       "      <td>0.774908</td>\n",
       "      <td>1.290476</td>\n",
       "    </tr>\n",
       "    <tr>\n",
       "      <th>1</th>\n",
       "      <td>0.378506</td>\n",
       "      <td>False</td>\n",
       "      <td>1.757012</td>\n",
       "      <td>0.329282</td>\n",
       "      <td>3.036907</td>\n",
       "    </tr>\n",
       "    <tr>\n",
       "      <th>2</th>\n",
       "      <td>-0.416285</td>\n",
       "      <td>False</td>\n",
       "      <td>-1.897409</td>\n",
       "      <td>0.669419</td>\n",
       "      <td>1.493834</td>\n",
       "    </tr>\n",
       "    <tr>\n",
       "      <th>3</th>\n",
       "      <td>-1.022786</td>\n",
       "      <td>False</td>\n",
       "      <td>-3.304443</td>\n",
       "      <td>0.856541</td>\n",
       "      <td>1.167486</td>\n",
       "    </tr>\n",
       "    <tr>\n",
       "      <th>4</th>\n",
       "      <td>0.541459</td>\n",
       "      <td>False</td>\n",
       "      <td>1.429673</td>\n",
       "      <td>0.268558</td>\n",
       "      <td>3.723594</td>\n",
       "    </tr>\n",
       "    <tr>\n",
       "      <th>...</th>\n",
       "      <td>...</td>\n",
       "      <td>...</td>\n",
       "      <td>...</td>\n",
       "      <td>...</td>\n",
       "      <td>...</td>\n",
       "    </tr>\n",
       "    <tr>\n",
       "      <th>995</th>\n",
       "      <td>-0.873678</td>\n",
       "      <td>False</td>\n",
       "      <td>0.280653</td>\n",
       "      <td>0.820688</td>\n",
       "      <td>1.218489</td>\n",
       "    </tr>\n",
       "    <tr>\n",
       "      <th>996</th>\n",
       "      <td>0.933586</td>\n",
       "      <td>False</td>\n",
       "      <td>2.296218</td>\n",
       "      <td>0.154328</td>\n",
       "      <td>6.479718</td>\n",
       "    </tr>\n",
       "    <tr>\n",
       "      <th>997</th>\n",
       "      <td>-0.961088</td>\n",
       "      <td>False</td>\n",
       "      <td>-1.653206</td>\n",
       "      <td>0.842488</td>\n",
       "      <td>1.186961</td>\n",
       "    </tr>\n",
       "    <tr>\n",
       "      <th>998</th>\n",
       "      <td>-0.057126</td>\n",
       "      <td>False</td>\n",
       "      <td>0.769879</td>\n",
       "      <td>0.516302</td>\n",
       "      <td>1.936850</td>\n",
       "    </tr>\n",
       "    <tr>\n",
       "      <th>999</th>\n",
       "      <td>-0.328091</td>\n",
       "      <td>False</td>\n",
       "      <td>0.223023</td>\n",
       "      <td>0.633746</td>\n",
       "      <td>1.577919</td>\n",
       "    </tr>\n",
       "  </tbody>\n",
       "</table>\n",
       "<p>1000 rows × 5 columns</p>\n",
       "</div>"
      ],
      "text/plain": [
       "           W0     v0         y  propensity_score    weight\n",
       "0   -0.713942  False -0.832839          0.774908  1.290476\n",
       "1    0.378506  False  1.757012          0.329282  3.036907\n",
       "2   -0.416285  False -1.897409          0.669419  1.493834\n",
       "3   -1.022786  False -3.304443          0.856541  1.167486\n",
       "4    0.541459  False  1.429673          0.268558  3.723594\n",
       "..        ...    ...       ...               ...       ...\n",
       "995 -0.873678  False  0.280653          0.820688  1.218489\n",
       "996  0.933586  False  2.296218          0.154328  6.479718\n",
       "997 -0.961088  False -1.653206          0.842488  1.186961\n",
       "998 -0.057126  False  0.769879          0.516302  1.936850\n",
       "999 -0.328091  False  0.223023          0.633746  1.577919\n",
       "\n",
       "[1000 rows x 5 columns]"
      ]
     },
     "execution_count": 6,
     "metadata": {},
     "output_type": "execute_result"
    }
   ],
   "source": [
    "cdf_0"
   ]
  },
  {
   "cell_type": "code",
   "execution_count": 7,
   "metadata": {
    "execution": {
     "iopub.execute_input": "2024-11-24T18:03:51.979866Z",
     "iopub.status.busy": "2024-11-24T18:03:51.979515Z",
     "iopub.status.idle": "2024-11-24T18:03:51.987777Z",
     "shell.execute_reply": "2024-11-24T18:03:51.987210Z"
    }
   },
   "outputs": [
    {
     "data": {
      "text/html": [
       "<div>\n",
       "<style scoped>\n",
       "    .dataframe tbody tr th:only-of-type {\n",
       "        vertical-align: middle;\n",
       "    }\n",
       "\n",
       "    .dataframe tbody tr th {\n",
       "        vertical-align: top;\n",
       "    }\n",
       "\n",
       "    .dataframe thead th {\n",
       "        text-align: right;\n",
       "    }\n",
       "</style>\n",
       "<table border=\"1\" class=\"dataframe\">\n",
       "  <thead>\n",
       "    <tr style=\"text-align: right;\">\n",
       "      <th></th>\n",
       "      <th>W0</th>\n",
       "      <th>v0</th>\n",
       "      <th>y</th>\n",
       "      <th>propensity_score</th>\n",
       "      <th>weight</th>\n",
       "    </tr>\n",
       "  </thead>\n",
       "  <tbody>\n",
       "    <tr>\n",
       "      <th>0</th>\n",
       "      <td>-0.752117</td>\n",
       "      <td>True</td>\n",
       "      <td>3.312724</td>\n",
       "      <td>0.213443</td>\n",
       "      <td>4.685087</td>\n",
       "    </tr>\n",
       "    <tr>\n",
       "      <th>1</th>\n",
       "      <td>-0.568538</td>\n",
       "      <td>True</td>\n",
       "      <td>4.378100</td>\n",
       "      <td>0.273487</td>\n",
       "      <td>3.656476</td>\n",
       "    </tr>\n",
       "    <tr>\n",
       "      <th>2</th>\n",
       "      <td>1.378671</td>\n",
       "      <td>True</td>\n",
       "      <td>7.617855</td>\n",
       "      <td>0.923760</td>\n",
       "      <td>1.082532</td>\n",
       "    </tr>\n",
       "    <tr>\n",
       "      <th>3</th>\n",
       "      <td>0.917073</td>\n",
       "      <td>True</td>\n",
       "      <td>6.610054</td>\n",
       "      <td>0.841791</td>\n",
       "      <td>1.187943</td>\n",
       "    </tr>\n",
       "    <tr>\n",
       "      <th>4</th>\n",
       "      <td>-0.871327</td>\n",
       "      <td>True</td>\n",
       "      <td>2.153620</td>\n",
       "      <td>0.179929</td>\n",
       "      <td>5.557742</td>\n",
       "    </tr>\n",
       "    <tr>\n",
       "      <th>...</th>\n",
       "      <td>...</td>\n",
       "      <td>...</td>\n",
       "      <td>...</td>\n",
       "      <td>...</td>\n",
       "      <td>...</td>\n",
       "    </tr>\n",
       "    <tr>\n",
       "      <th>995</th>\n",
       "      <td>0.260021</td>\n",
       "      <td>True</td>\n",
       "      <td>5.172035</td>\n",
       "      <td>0.622504</td>\n",
       "      <td>1.606415</td>\n",
       "    </tr>\n",
       "    <tr>\n",
       "      <th>996</th>\n",
       "      <td>3.495361</td>\n",
       "      <td>True</td>\n",
       "      <td>14.133175</td>\n",
       "      <td>0.998108</td>\n",
       "      <td>1.001895</td>\n",
       "    </tr>\n",
       "    <tr>\n",
       "      <th>997</th>\n",
       "      <td>-1.526145</td>\n",
       "      <td>True</td>\n",
       "      <td>1.050194</td>\n",
       "      <td>0.063908</td>\n",
       "      <td>15.647445</td>\n",
       "    </tr>\n",
       "    <tr>\n",
       "      <th>998</th>\n",
       "      <td>-0.324753</td>\n",
       "      <td>True</td>\n",
       "      <td>4.160558</td>\n",
       "      <td>0.367636</td>\n",
       "      <td>2.720078</td>\n",
       "    </tr>\n",
       "    <tr>\n",
       "      <th>999</th>\n",
       "      <td>1.709055</td>\n",
       "      <td>True</td>\n",
       "      <td>6.392574</td>\n",
       "      <td>0.956211</td>\n",
       "      <td>1.045794</td>\n",
       "    </tr>\n",
       "  </tbody>\n",
       "</table>\n",
       "<p>1000 rows × 5 columns</p>\n",
       "</div>"
      ],
      "text/plain": [
       "           W0    v0          y  propensity_score     weight\n",
       "0   -0.752117  True   3.312724          0.213443   4.685087\n",
       "1   -0.568538  True   4.378100          0.273487   3.656476\n",
       "2    1.378671  True   7.617855          0.923760   1.082532\n",
       "3    0.917073  True   6.610054          0.841791   1.187943\n",
       "4   -0.871327  True   2.153620          0.179929   5.557742\n",
       "..        ...   ...        ...               ...        ...\n",
       "995  0.260021  True   5.172035          0.622504   1.606415\n",
       "996  3.495361  True  14.133175          0.998108   1.001895\n",
       "997 -1.526145  True   1.050194          0.063908  15.647445\n",
       "998 -0.324753  True   4.160558          0.367636   2.720078\n",
       "999  1.709055  True   6.392574          0.956211   1.045794\n",
       "\n",
       "[1000 rows x 5 columns]"
      ]
     },
     "execution_count": 7,
     "metadata": {},
     "output_type": "execute_result"
    }
   ],
   "source": [
    "cdf_1"
   ]
  },
  {
   "cell_type": "markdown",
   "metadata": {},
   "source": [
    "## Comparing the estimate to Linear Regression\n",
    "First, estimating the effect using the causal data frame, and the 95% confidence interval."
   ]
  },
  {
   "cell_type": "code",
   "execution_count": 8,
   "metadata": {
    "execution": {
     "iopub.execute_input": "2024-11-24T18:03:51.989670Z",
     "iopub.status.busy": "2024-11-24T18:03:51.989270Z",
     "iopub.status.idle": "2024-11-24T18:03:52.034773Z",
     "shell.execute_reply": "2024-11-24T18:03:52.034203Z"
    }
   },
   "outputs": [
    {
     "data": {
      "image/png": "[encoded data removed]",
      "text/latex": [
       "$\\displaystyle 5.40925954703069$"
      ],
      "text/plain": [
       "5.409259547030693"
      ]
     },
     "execution_count": 8,
     "metadata": {},
     "output_type": "execute_result"
    }
   ],
   "source": [
    "(cdf_1['y'] - cdf_0['y']).mean()"
   ]
  },
  {
   "cell_type": "code",
   "execution_count": 9,
   "metadata": {
    "execution": {
     "iopub.execute_input": "2024-11-24T18:03:52.036579Z",
     "iopub.status.busy": "2024-11-24T18:03:52.036294Z",
     "iopub.status.idle": "2024-11-24T18:03:52.051470Z",
     "shell.execute_reply": "2024-11-24T18:03:52.050916Z"
    }
   },
   "outputs": [
    {
     "data": {
      "image/png": "[encoded data removed]",
      "text/latex": [
       "$\\displaystyle 0.191657653401046$"
      ],
      "text/plain": [
       "0.19165765340104562"
      ]
     },
     "execution_count": 9,
     "metadata": {},
     "output_type": "execute_result"
    }
   ],
   "source": [
    "1.96*(cdf_1['y'] - cdf_0['y']).std() / np.sqrt(len(df))"
   ]
  },
  {
   "cell_type": "markdown",
   "metadata": {},
   "source": [
    "Comparing to the estimate from OLS."
   ]
  },
  {
   "cell_type": "code",
   "execution_count": 10,
   "metadata": {
    "execution": {
     "iopub.execute_input": "2024-11-24T18:03:52.053294Z",
     "iopub.status.busy": "2024-11-24T18:03:52.052963Z",
     "iopub.status.idle": "2024-11-24T18:03:52.070355Z",
     "shell.execute_reply": "2024-11-24T18:03:52.069881Z"
    }
   },
   "outputs": [
    {
     "data": {
      "text/html": [
       "<table class=\"simpletable\">\n",
       "<caption>OLS Regression Results</caption>\n",
       "<tr>\n",
       "  <th>Dep. Variable:</th>            <td>y</td>        <th>  R-squared (uncentered):</th>      <td>   0.957</td> \n",
       "</tr>\n",
       "<tr>\n",
       "  <th>Model:</th>                   <td>OLS</td>       <th>  Adj. R-squared (uncentered):</th> <td>   0.957</td> \n",
       "</tr>\n",
       "<tr>\n",
       "  <th>Method:</th>             <td>Least Squares</td>  <th>  F-statistic:       </th>          <td>1.102e+04</td>\n",
       "</tr>\n",
       "<tr>\n",
       "  <th>Date:</th>             <td>Sun, 24 Nov 2024</td> <th>  Prob (F-statistic):</th>           <td>  0.00</td>  \n",
       "</tr>\n",
       "<tr>\n",
       "  <th>Time:</th>                 <td>18:03:52</td>     <th>  Log-Likelihood:    </th>          <td> -1410.0</td> \n",
       "</tr>\n",
       "<tr>\n",
       "  <th>No. Observations:</th>      <td>  1000</td>      <th>  AIC:               </th>          <td>   2824.</td> \n",
       "</tr>\n",
       "<tr>\n",
       "  <th>Df Residuals:</th>          <td>   998</td>      <th>  BIC:               </th>          <td>   2834.</td> \n",
       "</tr>\n",
       "<tr>\n",
       "  <th>Df Model:</th>              <td>     2</td>      <th>                     </th>              <td> </td>    \n",
       "</tr>\n",
       "<tr>\n",
       "  <th>Covariance Type:</th>      <td>nonrobust</td>    <th>                     </th>              <td> </td>    \n",
       "</tr>\n",
       "</table>\n",
       "<table class=\"simpletable\">\n",
       "<tr>\n",
       "   <td></td>     <th>coef</th>     <th>std err</th>      <th>t</th>      <th>P>|t|</th>  <th>[0.025</th>    <th>0.975]</th>  \n",
       "</tr>\n",
       "<tr>\n",
       "  <th>x1</th> <td>    2.1425</td> <td>    0.034</td> <td>   63.535</td> <td> 0.000</td> <td>    2.076</td> <td>    2.209</td>\n",
       "</tr>\n",
       "<tr>\n",
       "  <th>x2</th> <td>    4.9804</td> <td>    0.048</td> <td>  103.470</td> <td> 0.000</td> <td>    4.886</td> <td>    5.075</td>\n",
       "</tr>\n",
       "</table>\n",
       "<table class=\"simpletable\">\n",
       "<tr>\n",
       "  <th>Omnibus:</th>       <td> 0.734</td> <th>  Durbin-Watson:     </th> <td>   1.928</td>\n",
       "</tr>\n",
       "<tr>\n",
       "  <th>Prob(Omnibus):</th> <td> 0.693</td> <th>  Jarque-Bera (JB):  </th> <td>   0.658</td>\n",
       "</tr>\n",
       "<tr>\n",
       "  <th>Skew:</th>          <td> 0.060</td> <th>  Prob(JB):          </th> <td>   0.720</td>\n",
       "</tr>\n",
       "<tr>\n",
       "  <th>Kurtosis:</th>      <td> 3.038</td> <th>  Cond. No.          </th> <td>    1.67</td>\n",
       "</tr>\n",
       "</table><br/><br/>Notes:<br/>[1] R² is computed without centering (uncentered) since the model does not contain a constant.<br/>[2] Standard Errors assume that the covariance matrix of the errors is correctly specified."
      ],
      "text/latex": [
       "\\begin{center}\n",
       "\\begin{tabular}{lclc}\n",
       "\\toprule\n",
       "\\textbf{Dep. Variable:}    &        y         & \\textbf{  R-squared (uncentered):}      &     0.957   \\\\\n",
       "\\textbf{Model:}            &       OLS        & \\textbf{  Adj. R-squared (uncentered):} &     0.957   \\\\\n",
       "\\textbf{Method:}           &  Least Squares   & \\textbf{  F-statistic:       }          & 1.102e+04   \\\\\n",
       "\\textbf{Date:}             & Sun, 24 Nov 2024 & \\textbf{  Prob (F-statistic):}          &     0.00    \\\\\n",
       "\\textbf{Time:}             &     18:03:52     & \\textbf{  Log-Likelihood:    }          &   -1410.0   \\\\\n",
       "\\textbf{No. Observations:} &        1000      & \\textbf{  AIC:               }          &     2824.   \\\\\n",
       "\\textbf{Df Residuals:}     &         998      & \\textbf{  BIC:               }          &     2834.   \\\\\n",
       "\\textbf{Df Model:}         &           2      & \\textbf{                     }          &             \\\\\n",
       "\\textbf{Covariance Type:}  &    nonrobust     & \\textbf{                     }          &             \\\\\n",
       "\\bottomrule\n",
       "\\end{tabular}\n",
       "\\begin{tabular}{lcccccc}\n",
       "            & \\textbf{coef} & \\textbf{std err} & \\textbf{t} & \\textbf{P$> |$t$|$} & \\textbf{[0.025} & \\textbf{0.975]}  \\\\\n",
       "\\midrule\n",
       "\\textbf{x1} &       2.1425  &        0.034     &    63.535  &         0.000        &        2.076    &        2.209     \\\\\n",
       "\\textbf{x2} &       4.9804  &        0.048     &   103.470  &         0.000        &        4.886    &        5.075     \\\\\n",
       "\\bottomrule\n",
       "\\end{tabular}\n",
       "\\begin{tabular}{lclc}\n",
       "\\textbf{Omnibus:}       &  0.734 & \\textbf{  Durbin-Watson:     } &    1.928  \\\\\n",
       "\\textbf{Prob(Omnibus):} &  0.693 & \\textbf{  Jarque-Bera (JB):  } &    0.658  \\\\\n",
       "\\textbf{Skew:}          &  0.060 & \\textbf{  Prob(JB):          } &    0.720  \\\\\n",
       "\\textbf{Kurtosis:}      &  3.038 & \\textbf{  Cond. No.          } &     1.67  \\\\\n",
       "\\bottomrule\n",
       "\\end{tabular}\n",
       "%\\caption{OLS Regression Results}\n",
       "\\end{center}\n",
       "\n",
       "Notes: \\newline\n",
       " [1] R² is computed without centering (uncentered) since the model does not contain a constant. \\newline\n",
       " [2] Standard Errors assume that the covariance matrix of the errors is correctly specified."
      ],
      "text/plain": [
       "<class 'statsmodels.iolib.summary.Summary'>\n",
       "\"\"\"\n",
       "                                 OLS Regression Results                                \n",
       "=======================================================================================\n",
       "Dep. Variable:                      y   R-squared (uncentered):                   0.957\n",
       "Model:                            OLS   Adj. R-squared (uncentered):              0.957\n",
       "Method:                 Least Squares   F-statistic:                          1.102e+04\n",
       "Date:                Sun, 24 Nov 2024   Prob (F-statistic):                        0.00\n",
       "Time:                        18:03:52   Log-Likelihood:                         -1410.0\n",
       "No. Observations:                1000   AIC:                                      2824.\n",
       "Df Residuals:                     998   BIC:                                      2834.\n",
       "Df Model:                           2                                                  \n",
       "Covariance Type:            nonrobust                                                  \n",
       "==============================================================================\n",
       "                 coef    std err          t      P>|t|      [0.025      0.975]\n",
       "------------------------------------------------------------------------------\n",
       "x1             2.1425      0.034     63.535      0.000       2.076       2.209\n",
       "x2             4.9804      0.048    103.470      0.000       4.886       5.075\n",
       "==============================================================================\n",
       "Omnibus:                        0.734   Durbin-Watson:                   1.928\n",
       "Prob(Omnibus):                  0.693   Jarque-Bera (JB):                0.658\n",
       "Skew:                           0.060   Prob(JB):                        0.720\n",
       "Kurtosis:                       3.038   Cond. No.                         1.67\n",
       "==============================================================================\n",
       "\n",
       "Notes:\n",
       "[1] R² is computed without centering (uncentered) since the model does not contain a constant.\n",
       "[2] Standard Errors assume that the covariance matrix of the errors is correctly specified.\n",
       "\"\"\""
      ]
     },
     "execution_count": 10,
     "metadata": {},
     "output_type": "execute_result"
    }
   ],
   "source": [
    "model = OLS(np.asarray(df[outcome]), np.asarray(df[[common_cause, treatment]], dtype=np.float64))\n",
    "result = model.fit()\n",
    "result.summary()"
   ]
  }
 ],
 "metadata": {
  "kernelspec": {
   "display_name": "Python 3 (ipykernel)",
   "language": "python",
   "name": "python3"
  },
  "language_info": {
   "codemirror_mode": {
    "name": "ipython",
    "version": 3
   },
   "file_extension": ".py",
   "mimetype": "text/x-python",
   "name": "python",
   "nbconvert_exporter": "python",
   "pygments_lexer": "ipython3",
   "version": "3.8.10"
  },
  "toc": {
   "base_numbering": 1,
   "nav_menu": {},
   "number_sections": false,
   "sideBar": true,
   "skip_h1_title": true,
   "title_cell": "Table of Contents",
   "title_sidebar": "Contents",
   "toc_cell": false,
   "toc_position": {},
   "toc_section_display": true,
   "toc_window_display": false
  }
 },
 "nbformat": 4,
 "nbformat_minor": 4
}
